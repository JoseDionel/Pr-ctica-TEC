{
 "cells": [
  {
   "attachments": {},
   "cell_type": "markdown",
   "metadata": {},
   "source": [
    "# Solución Ejercicios 06 Funciones"
   ]
  },
  {
   "cell_type": "code",
   "execution_count": 5,
   "metadata": {},
   "outputs": [
    {
     "name": "stdout",
     "output_type": "stream",
     "text": [
      "False\n"
     ]
    }
   ],
   "source": [
    "\"\"\" 1) Crear una función que reciba un número como parámetro y \n",
    "devuelva si True si es primo y False si no lo es\n",
    "\"\"\" \n",
    "def esPrimo(x):\n",
    "    primo = True\n",
    "    for i in range(2,x):\n",
    "        if (x % i == 0):\n",
    "            primo = False\n",
    "        \n",
    "    return primo\n",
    "\n",
    "print(esPrimo(51))"
   ]
  },
  {
   "cell_type": "code",
   "execution_count": 8,
   "metadata": {},
   "outputs": [
    {
     "name": "stdout",
     "output_type": "stream",
     "text": [
      "[1, 2, 3, 5, 7, 11, 13]\n"
     ]
    }
   ],
   "source": [
    "\"\"\" 2) Utilizando la función del punto 1, realizar otra función \n",
    "que reciba de parámetro una lista de números y \n",
    "devuelva sólo aquellos que son primos en otra lista\n",
    "\"\"\" \n",
    "milista = [1,2,3,4,5,6,7,8,9,10,11,12,13,14,15]\n",
    "\n",
    "def devolverPrimos(listado):\n",
    "    primos = []\n",
    "\n",
    "    for e,i in enumerate(milista):\n",
    "        if (esPrimo(i) == True):\n",
    "            primos.append(i)\n",
    "    \n",
    "    return primos\n",
    "\n",
    "print(devolverPrimos(milista))\n"
   ]
  },
  {
   "cell_type": "code",
   "execution_count": 9,
   "metadata": {},
   "outputs": [
    {
     "name": "stdout",
     "output_type": "stream",
     "text": [
      "10\n"
     ]
    }
   ],
   "source": [
    "\"\"\" 3) Crear una función que al recibir una lista de números,\n",
    " devuelva el que más se repite y cuántas veces lo hace. \n",
    " Si hay más de un \"más repetido\", que devuelva cualquiera\n",
    "\"\"\" \n",
    "milista = [4,2,3,4,5,10,7,8,9,10,11,10,13,14,10]\n",
    "\n",
    "def devolverRepetido(listado):\n",
    "    repetido = 0\n",
    "    veces   = 0\n",
    "\n",
    "    for i in milista:\n",
    "        if (milista.count(i) >= veces):\n",
    "            repetido = i\n",
    "    \n",
    "    return repetido\n",
    "\n",
    "print(devolverRepetido(milista))\n"
   ]
  },
  {
   "cell_type": "code",
   "execution_count": 1,
   "metadata": {},
   "outputs": [
    {
     "name": "stdout",
     "output_type": "stream",
     "text": [
      "2\n"
     ]
    }
   ],
   "source": [
    "\"\"\" 4) A la función del punto 3, agregar un parámetro más, \n",
    "que permita elegir si se requiere el menor o el mayor de los mas repetidos.\n",
    "\"\"\" \n",
    "milista = [2,2,3,4,5,10,2,8,9,10,11,10,13,2,10]\n",
    "\n",
    "def devolverRepetido(milista, tipo = 1):\n",
    "    \"\"\" Funcionq ue devuelve el menor o mayor nro repetido en un array de numeros.\n",
    "        Listado: es el array de nros. \n",
    "        Tipo: vale 1 o 2, 1 indica que devuelve el menor nro repetido\n",
    "        y 2 devuelve el mayor numero repetido.- \"\"\" \n",
    "\n",
    "    repetido = 0\n",
    "    veces   = 0\n",
    "\n",
    "    for i in milista:\n",
    "        if (milista.count(i) >= veces):\n",
    "            if (milista.count(i) == veces):\n",
    "                if (tipo == 1 and i < repetido):\n",
    "                    repetido = i\n",
    "                    break\n",
    "                elif(tipo == 2 and i > repetido):\n",
    "                    repetido = i\n",
    "                    break\n",
    "            else: \n",
    "                repetido = i\n",
    "                veces = milista.count(i)\n",
    "    \n",
    "    return repetido\n",
    "\n",
    "print(devolverRepetido(milista))"
   ]
  },
  {
   "cell_type": "code",
   "execution_count": 6,
   "metadata": {},
   "outputs": [
    {
     "name": "stdout",
     "output_type": "stream",
     "text": [
      "1 grado Celsius a Celsius: 1\n",
      "1 grado Celsius a Kelvin: 274.15\n",
      "1 grado Celsius a Farenheit: 33.8\n",
      "1 grado Kelvin a Celsius: -272.15\n",
      "1 grado Kelvin a Kelvin: 1\n",
      "1 grado Kelvin a Farenheit: -457.87\n",
      "1 grado Farenheit a Celsius: -17.22222222222222\n",
      "1 grado Farenheit a Kelvin: 255.92777777777775\n",
      "1 grado Farenheit a Farenheit: 1\n"
     ]
    }
   ],
   "source": [
    "\"\"\" \n",
    "5) Crear una función que convierta entre grados Celsius, Farenheit y Kelvin<br>\n",
    "Fórmula 1\t: (°C × 9/5) + 32 = °F<br>\n",
    "Fórmula 2\t: °C + 273.15 = °K<br>\n",
    "Debe recibir 3 parámetros: el valor, la medida de orígen y la medida de destino\n",
    "\"\"\" \n",
    "\n",
    "def resolverGrados(valor, origen, destino):\n",
    "    \"\"\" Función que convierta entre grados Celsius, Farenheit y Kelvin. \n",
    "        Debe recibir 3 parámetros: el valor, la medida de orígen y la medida de destino\n",
    "        origen y destino pueden valer 'F', 'C' o 'K'\n",
    "    \"\"\" \n",
    "    resultado = 0\n",
    "    if (destino != 'F' or destino !='C' or destino != 'K'):\n",
    "        if not(origen != 'F' or origen !='C' or origen != 'K'):\n",
    "            print('El parametro del origen es inválido.')\n",
    "            return 0\n",
    "        \n",
    "        if (origen == 'F'):\n",
    "\n",
    "            if (destino == 'F'):\n",
    "                return valor\n",
    "            elif(destino == 'C'):\n",
    "                return (valor - 32) * 5 / 9\n",
    "            else: # entonces destino = 'K'\n",
    "                return ((valor - 32) * 5 / 9) + 273.15\n",
    "\n",
    "        elif(origen == 'C'):\n",
    "            if (destino == 'C'):\n",
    "                return valor\n",
    "            elif(destino == 'F'):\n",
    "                return (valor * 9 / 5) + 32 \n",
    "            else: # entonces destino = 'K'\n",
    "                return valor + 273.15\n",
    "\n",
    "        else: #entocnes origen = 'K'\n",
    "\n",
    "            if (destino == 'K'):\n",
    "                return valor\n",
    "            elif(destino == 'F'):\n",
    "                return ((valor - 273.15) * 9 / 5) + 32 \n",
    "            else: # entonces destino = 'C'\n",
    "                return (valor - 273.15)\n",
    "    else:\n",
    "        print('El parametro del destino es inválido.')\n",
    "        return 0\n",
    "\n",
    "print('1 grado Celsius a Celsius:', resolverGrados(1, 'C', 'C'))\n",
    "print('1 grado Celsius a Kelvin:', resolverGrados(1, 'C', 'K'))\n",
    "print('1 grado Celsius a Farenheit:', resolverGrados(1, 'C', 'F'))\n",
    "print('1 grado Kelvin a Celsius:', resolverGrados(1, 'K', 'C'))\n",
    "print('1 grado Kelvin a Kelvin:', resolverGrados(1, 'K', 'K'))\n",
    "print('1 grado Kelvin a Farenheit:', resolverGrados(1, 'K', 'F'))\n",
    "print('1 grado Farenheit a Celsius:', resolverGrados(1, 'F', 'C'))\n",
    "print('1 grado Farenheit a Kelvin:', resolverGrados(1, 'F', 'K'))\n",
    "print('1 grado Farenheit a Farenheit:', resolverGrados(1, 'F', 'F'))"
   ]
  },
  {
   "cell_type": "code",
   "execution_count": 7,
   "metadata": {},
   "outputs": [
    {
     "name": "stdout",
     "output_type": "stream",
     "text": [
      "iterando 1 origen: C y destino: C, el resultado es 1\n",
      "iterando 1 origen: C y destino: K, el resultado es 274.15\n",
      "iterando 1 origen: C y destino: F, el resultado es 33.8\n",
      "iterando 1 origen: K y destino: C, el resultado es -272.15\n",
      "iterando 1 origen: K y destino: K, el resultado es 1\n",
      "iterando 1 origen: K y destino: F, el resultado es -457.87\n",
      "iterando 1 origen: F y destino: C, el resultado es -17.22222222222222\n",
      "iterando 1 origen: F y destino: K, el resultado es 255.92777777777775\n",
      "iterando 1 origen: F y destino: F, el resultado es 1\n"
     ]
    }
   ],
   "source": [
    "\"\"\" 6) Iterando una lista con los tres valores posibles de temperatura\n",
    " que recibe la función del punto 5, hacer un print para cada combinación de los mismos:\n",
    "\"\"\" \n",
    "medidas = ['C', 'K', 'F']\n",
    "\n",
    "for i in medidas:\n",
    "    for j in medidas:\n",
    "        print(f'iterando 1 origen: {i} y destino: {j}, el resultado es {resolverGrados(1,i,j)}')\n",
    "\n"
   ]
  },
  {
   "cell_type": "code",
   "execution_count": 4,
   "metadata": {},
   "outputs": [
    {
     "name": "stdout",
     "output_type": "stream",
     "text": [
      "120\n",
      "No se acepta un número no entero o negativo \n"
     ]
    }
   ],
   "source": [
    "\"\"\" 7) Armar una función que devuelva el factorial de un número.\n",
    " Tener en cuenta que el usuario puede equivocarse y enviar de parámetro\n",
    "  un número no entero o negativo\n",
    "\"\"\"\n",
    "\n",
    "def factorial(n):\n",
    "\n",
    "    if (n < 1 or type(n) != int):\n",
    "        return(\"No se acepta un número no entero o negativo \")\n",
    "        \n",
    "    if (n == 1):\n",
    "        return 1\n",
    "    else:\n",
    "        return n * factorial(n-1)\n",
    "\n",
    "\n",
    "print(factorial(5))\n",
    "print(factorial(-5))\n"
   ]
  }
 ],
 "metadata": {
  "kernelspec": {
   "display_name": "Python 3",
   "language": "python",
   "name": "python3"
  },
  "language_info": {
   "codemirror_mode": {
    "name": "ipython",
    "version": 3
   },
   "file_extension": ".py",
   "mimetype": "text/x-python",
   "name": "python",
   "nbconvert_exporter": "python",
   "pygments_lexer": "ipython3",
   "version": "3.10.2"
  },
  "orig_nbformat": 4,
  "vscode": {
   "interpreter": {
    "hash": "a9cff5a362bc38ef45d817ae74b1af54d6a076e3d773891282bce078b815ba34"
   }
  }
 },
 "nbformat": 4,
 "nbformat_minor": 2
}
