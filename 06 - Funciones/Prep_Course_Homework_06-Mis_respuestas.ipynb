{
 "cells": [
  {
   "cell_type": "markdown",
   "metadata": {},
   "source": [
    "## Funciones\n"
   ]
  },
  {
   "cell_type": "markdown",
   "metadata": {},
   "source": [
    "\n",
    "1) Crear una función que reciba un número como parámetro y devuelva si True si es primo y False si no lo es\n"
   ]
  },
  {
   "cell_type": "code",
   "execution_count": 38,
   "metadata": {},
   "outputs": [
    {
     "name": "stdout",
     "output_type": "stream",
     "text": [
      "0 es primo? False\n",
      "1 es primo? False\n",
      "2 es primo? True\n",
      "3 es primo? True\n",
      "4 es primo? False\n",
      "5 es primo? True\n",
      "6 es primo? False\n",
      "7 es primo? True\n",
      "8 es primo? False\n",
      "9 es primo? False\n",
      "10 es primo? False\n",
      "11 es primo? True\n",
      "12 es primo? False\n",
      "13 es primo? True\n",
      "14 es primo? False\n",
      "15 es primo? False\n",
      "16 es primo? False\n",
      "17 es primo? True\n",
      "18 es primo? False\n",
      "19 es primo? True\n",
      "20 es primo? False\n",
      "21 es primo? False\n",
      "22 es primo? False\n",
      "23 es primo? True\n",
      "24 es primo? False\n",
      "25 es primo? False\n",
      "26 es primo? False\n",
      "27 es primo? False\n",
      "28 es primo? False\n",
      "29 es primo? True\n",
      "30 es primo? False\n",
      "31 es primo? True\n",
      "32 es primo? False\n",
      "33 es primo? False\n",
      "34 es primo? False\n",
      "35 es primo? False\n",
      "36 es primo? False\n",
      "37 es primo? True\n",
      "38 es primo? False\n",
      "39 es primo? False\n",
      "40 es primo? False\n",
      "41 es primo? True\n",
      "42 es primo? False\n",
      "43 es primo? True\n",
      "44 es primo? False\n",
      "45 es primo? False\n",
      "46 es primo? False\n",
      "47 es primo? True\n",
      "48 es primo? False\n",
      "49 es primo? False\n",
      "50 es primo? False\n",
      "51 es primo? False\n",
      "52 es primo? False\n",
      "53 es primo? True\n",
      "54 es primo? False\n",
      "55 es primo? False\n",
      "56 es primo? False\n",
      "57 es primo? False\n",
      "58 es primo? False\n",
      "59 es primo? True\n",
      "60 es primo? False\n",
      "61 es primo? True\n",
      "62 es primo? False\n",
      "63 es primo? False\n",
      "64 es primo? False\n",
      "65 es primo? False\n",
      "66 es primo? False\n",
      "67 es primo? True\n",
      "68 es primo? False\n",
      "69 es primo? False\n",
      "70 es primo? False\n",
      "71 es primo? True\n",
      "72 es primo? False\n",
      "73 es primo? True\n",
      "74 es primo? False\n",
      "75 es primo? False\n",
      "76 es primo? False\n",
      "77 es primo? False\n",
      "78 es primo? False\n",
      "79 es primo? True\n",
      "80 es primo? False\n",
      "81 es primo? False\n",
      "82 es primo? False\n",
      "83 es primo? True\n",
      "84 es primo? False\n",
      "85 es primo? False\n",
      "86 es primo? False\n",
      "87 es primo? False\n",
      "88 es primo? False\n",
      "89 es primo? True\n",
      "90 es primo? False\n",
      "91 es primo? False\n",
      "92 es primo? False\n",
      "93 es primo? False\n",
      "94 es primo? False\n",
      "95 es primo? False\n",
      "96 es primo? False\n",
      "97 es primo? True\n",
      "98 es primo? False\n",
      "99 es primo? False\n"
     ]
    }
   ],
   "source": [
    "def es_primo(x):\n",
    "    if x == 1 or x == 0:\n",
    "        return False\n",
    "    primo = True\n",
    "    j = 2\n",
    "    while j < x:\n",
    "        if x % j == 0:\n",
    "            return False\n",
    "        j += 1\n",
    "    return primo\n",
    "\n",
    "for x in range(0,100):\n",
    "    print(x, \"es primo?\", es_primo(x))\n"
   ]
  },
  {
   "cell_type": "markdown",
   "metadata": {},
   "source": [
    "\n",
    "2) Utilizando la función del punto 1, realizar otra función que reciba de parámetro una lista de números y devuelva sólo aquellos que son primos en otra lista\n"
   ]
  },
  {
   "cell_type": "code",
   "execution_count": 50,
   "metadata": {},
   "outputs": [
    {
     "name": "stdout",
     "output_type": "stream",
     "text": [
      "Lista=\n",
      " [0, 1, 2, 3, 4, 5, 6, 7, 8, 9, 10, 11, 12, 13, 14, 15, 16, 17, 18, 19, 20, 21, 22, 23, 24, 25, 26, 27, 28, 29, 30, 31, 32, 33, 34, 35, 36, 37, 38, 39, 40, 41, 42, 43, 44, 45, 46, 47, 48, 49, 50, 51, 52, 53, 54, 55, 56, 57, 58, 59, 60, 61, 62, 63, 64, 65, 66, 67, 68, 69, 70, 71, 72, 73, 74, 75, 76, 77, 78, 79, 80, 81, 82, 83, 84, 85, 86, 87, 88, 89, 90, 91, 92, 93, 94, 95, 96, 97, 98, 99]\n",
      "Son primos=\n",
      " [2, 3, 5, 7, 11, 13, 17, 19, 23, 29, 31, 37, 41, 43, 47, 53, 59, 61, 67, 71, 73, 79, 83, 89, 97]\n"
     ]
    }
   ],
   "source": [
    "def lista_primos(lista):\n",
    "    primos_lista = []\n",
    "    for x in lista:\n",
    "        if es_primo(x):\n",
    "            primos_lista.append(x)\n",
    "    return primos_lista\n",
    "\n",
    "lista = [x for x in range(0,100)]\n",
    "\n",
    "print(\"Lista=\\n\",lista)\n",
    "\n",
    "print(\"Son primos=\\n\",lista_primos(lista))"
   ]
  },
  {
   "cell_type": "markdown",
   "metadata": {},
   "source": [
    "\n",
    "3) Crear una función que al recibir una lista de números, devuelva el que más se repite y cuántas veces lo hace. Si hay más de un \"más repetido\", que devuelva cualquiera\n"
   ]
  },
  {
   "cell_type": "code",
   "execution_count": 105,
   "metadata": {},
   "outputs": [
    {
     "name": "stdout",
     "output_type": "stream",
     "text": [
      "El maximo de los mas repetidos\n",
      "(3, 5)\n"
     ]
    }
   ],
   "source": [
    "def repetidos(lista):\n",
    "    lista_cont = {}\n",
    "    for x in lista:\n",
    "        n = 0\n",
    "        for y in lista:\n",
    "            if y == x:\n",
    "                n+=1\n",
    "            lista_cont[x] = n\n",
    "    \n",
    "    \n",
    "    for x in lista:\n",
    "        if lista_cont[x] == 1:\n",
    "            del lista_cont[x]\n",
    "   \n",
    "    return ((max(lista_cont, key=lista_cont.get),max(lista_cont.values())))\n",
    "    \n",
    "\n",
    "print('El mas repetido')\n",
    "print(repetidos([1,1,1,2,2,3,4,5,6,7,8,9,0,11,1,3,3,3,3]))\n"
   ]
  },
  {
   "cell_type": "markdown",
   "metadata": {},
   "source": [
    "\n",
    "4) A la función del punto 3, agregar un parámetro más, que permita elegir si se requiere el menor o el mayor de los mas repetidos.\n"
   ]
  },
  {
   "cell_type": "code",
   "execution_count": 108,
   "metadata": {},
   "outputs": [
    {
     "name": "stdout",
     "output_type": "stream",
     "text": [
      "El minimo de los mas repetidos\n",
      "(2, 2)\n",
      "El maximo de los mas repetidos\n",
      "(3, 5)\n"
     ]
    }
   ],
   "source": [
    "def repetidos(lista,max_rep = True):\n",
    "    lista_cont = {}\n",
    "    for x in lista:\n",
    "        n = 0\n",
    "        for y in lista:\n",
    "            if y == x:\n",
    "                n+=1\n",
    "            lista_cont[x] = n\n",
    "    \n",
    "    \n",
    "    for x in lista:\n",
    "        if lista_cont[x] == 1:\n",
    "            del lista_cont[x]\n",
    "\n",
    "    maximo = max(lista_cont.values())\n",
    "    minimo = min(lista_cont.values())\n",
    "\n",
    "    \n",
    "    if max_rep:\n",
    "        return ((max(lista_cont, key=lista_cont.get),max(lista_cont.values())))\n",
    "    else:\n",
    "        return ((min(lista_cont, key=lista_cont.get),min(lista_cont.values())))\n",
    "\n",
    "print('El minimo de los mas repetidos')\n",
    "print(repetidos([1,1,1,2,2,3,4,5,6,7,8,9,0,11,1,3,3,3,3],False))\n",
    "print('El maximo de los mas repetidos')\n",
    "print(repetidos([1,1,1,2,2,3,4,5,6,7,8,9,0,11,1,3,3,3,3]))"
   ]
  },
  {
   "cell_type": "markdown",
   "metadata": {},
   "source": [
    "\n",
    "5) Crear una función que convierta entre grados Celsius, Farenheit y Kelvin<br>\n",
    "Fórmula 1\t: (°C × 9/5) + 32 = °F<br>\n",
    "Fórmula 2\t: °C + 273.15 = °K<br>\n",
    "Debe recibir 3 parámetros: el valor, la medida de orígen y la medida de destino"
   ]
  },
  {
   "cell_type": "code",
   "execution_count": 138,
   "metadata": {},
   "outputs": [
    {
     "name": "stdout",
     "output_type": "stream",
     "text": [
      "10 ° K = -441.66999999999996 ° F\n"
     ]
    }
   ],
   "source": [
    "def temp_converter(valor,origen,destino):\n",
    "    if origen == destino:\n",
    "        return None\n",
    "    if origen == \"Celcius\":\n",
    "        if destino == \"Farenheit\":\n",
    "            temp = (valor * 9/5) + 32\n",
    "        if destino == \"Kelvin\":\n",
    "            temp = valor + 273.15\n",
    "    if origen == \"Farenheit\":\n",
    "        if destino == \"Celcius\":\n",
    "            temp = (valor - 32) * 5/9\n",
    "        if destino == \"Kelvin\":\n",
    "            temp = (valor - 32) * 5/9 + 273.15\n",
    "    if origen == \"Kelvin\":\n",
    "        if destino == \"Celcius\":\n",
    "            temp = valor - 273.15\n",
    "        if destino == \"Farenheit\":\n",
    "            temp = (valor - 273.15) * 9/5 + 32\n",
    "\n",
    "    print (valor,\"°\",origen[0],\"=\",temp,\"°\",destino[0])\n",
    "\n",
    "\n",
    "temp_converter(10,\"Kelvin\",\"Farenheit\")\n"
   ]
  },
  {
   "cell_type": "markdown",
   "metadata": {},
   "source": [
    "\n",
    "\n",
    "6) Iterando una lista con los tres valores posibles de temperatura que recibe la función del punto 5, hacer un print para cada combinación de los mismos:\n"
   ]
  },
  {
   "cell_type": "code",
   "execution_count": 139,
   "metadata": {},
   "outputs": [
    {
     "name": "stdout",
     "output_type": "stream",
     "text": [
      "10 ° C = 283.15 ° K\n",
      "10 ° C = 50.0 ° F\n",
      "10 ° K = -263.15 ° C\n",
      "10 ° K = -441.66999999999996 ° F\n",
      "10 ° F = -12.222222222222221 ° C\n",
      "10 ° F = 260.92777777777775 ° K\n"
     ]
    }
   ],
   "source": [
    "lista = [\"Celcius\",\"Kelvin\",\"Farenheit\"]\n",
    "\n",
    "for origen in lista:\n",
    "    for destino in lista:\n",
    "        temp_converter(10,origen,destino)"
   ]
  },
  {
   "cell_type": "markdown",
   "metadata": {},
   "source": [
    "\n",
    "7) Armar una función que devuelva el factorial de un número. Tener en cuenta que el usuario puede equivocarse y enviar de parámetro un número no entero o negativo\n"
   ]
  },
  {
   "cell_type": "code",
   "execution_count": 1,
   "metadata": {},
   "outputs": [
    {
     "data": {
      "text/plain": [
       "120"
      ]
     },
     "execution_count": 1,
     "metadata": {},
     "output_type": "execute_result"
    }
   ],
   "source": [
    "def factorial(n):\n",
    "    if n < 0 or type(n) is not int:\n",
    "        return print(\"Valor incorrecto\")\n",
    "    if n == 1:\n",
    "        return 1\n",
    "    else:\n",
    "        fact = n * factorial(n-1)\n",
    "    return fact\n",
    "\n",
    "factorial(5)\n"
   ]
  },
  {
   "cell_type": "markdown",
   "metadata": {},
   "source": []
  },
  {
   "cell_type": "markdown",
   "metadata": {},
   "source": []
  }
 ],
 "metadata": {
  "interpreter": {
   "hash": "6be21bdd46b231b5665ae554d2c2553df5ac1c0d0938c98b93784dfbbaf0eb10"
  },
  "kernelspec": {
   "display_name": "Python 3.9.10 64-bit (windows store)",
   "language": "python",
   "name": "python3"
  },
  "language_info": {
   "codemirror_mode": {
    "name": "ipython",
    "version": 3
   },
   "file_extension": ".py",
   "mimetype": "text/x-python",
   "name": "python",
   "nbconvert_exporter": "python",
   "pygments_lexer": "ipython3",
   "version": "3.9.10"
  },
  "orig_nbformat": 4
 },
 "nbformat": 4,
 "nbformat_minor": 2
}
