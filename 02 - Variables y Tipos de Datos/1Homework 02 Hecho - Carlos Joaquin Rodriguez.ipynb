{
 "cells": [
  {
   "cell_type": "markdown",
   "id": "39e2a27c",
   "metadata": {},
   "source": [
    "### **Carlos Joaquin Rodriguez**"
   ]
  },
  {
   "cell_type": "markdown",
   "id": "b6925708",
   "metadata": {},
   "source": [
    "1) Crear una variable que contenga un elemento del conjunto de números enteros y luego imprimir por pantalla"
   ]
  },
  {
   "cell_type": "code",
   "execution_count": 38,
   "id": "8e728c60",
   "metadata": {},
   "outputs": [
    {
     "name": "stdout",
     "output_type": "stream",
     "text": [
      "1\n"
     ]
    }
   ],
   "source": [
    "punto_uno = 1\n",
    "print(punto_uno)"
   ]
  },
  {
   "cell_type": "markdown",
   "id": "ec8157c8",
   "metadata": {},
   "source": [
    "2) Imprimir el tipo de dato de la constante 8.5"
   ]
  },
  {
   "cell_type": "code",
   "execution_count": 41,
   "id": "768a91c3",
   "metadata": {},
   "outputs": [
    {
     "name": "stdout",
     "output_type": "stream",
     "text": [
      "<class 'float'>\n"
     ]
    }
   ],
   "source": [
    "print(type(8.5))"
   ]
  },
  {
   "cell_type": "markdown",
   "id": "f0a9d4c3",
   "metadata": {},
   "source": [
    "3) Imprimir el tipo de dato de la variable creada en el punto 1"
   ]
  },
  {
   "cell_type": "code",
   "execution_count": 42,
   "id": "86cc2bc9",
   "metadata": {},
   "outputs": [
    {
     "name": "stdout",
     "output_type": "stream",
     "text": [
      "<class 'int'>\n"
     ]
    }
   ],
   "source": [
    "print(type(punto_uno))"
   ]
  },
  {
   "cell_type": "markdown",
   "id": "4151125b",
   "metadata": {},
   "source": [
    "4) Crear una variable que contenga tu nombre"
   ]
  },
  {
   "cell_type": "code",
   "execution_count": 43,
   "id": "4be6893e",
   "metadata": {},
   "outputs": [],
   "source": [
    "nombre = \"Joaquin\""
   ]
  },
  {
   "cell_type": "markdown",
   "id": "bec92ae1",
   "metadata": {},
   "source": [
    "5) Crear una variable que contenga un número complejo"
   ]
  },
  {
   "cell_type": "code",
   "execution_count": 59,
   "id": "86ca4837",
   "metadata": {},
   "outputs": [],
   "source": [
    "num_complejo = 1j"
   ]
  },
  {
   "cell_type": "markdown",
   "id": "b846510c",
   "metadata": {},
   "source": [
    "6) Mostrar el tipo de dato de la variable crada en el punto 5"
   ]
  },
  {
   "cell_type": "code",
   "execution_count": 60,
   "id": "0236fd13",
   "metadata": {},
   "outputs": [
    {
     "name": "stdout",
     "output_type": "stream",
     "text": [
      "<class 'complex'>\n"
     ]
    }
   ],
   "source": [
    "print(type(num_complejo))"
   ]
  },
  {
   "cell_type": "markdown",
   "id": "5f0adc6b",
   "metadata": {},
   "source": [
    "7) Crear una variable que contenga el valor del número Pi redondeado a 4 decimales"
   ]
  },
  {
   "cell_type": "code",
   "execution_count": 49,
   "id": "ddc20823",
   "metadata": {},
   "outputs": [],
   "source": [
    "pi = 3.1416"
   ]
  },
  {
   "cell_type": "code",
   "execution_count": 50,
   "id": "200a7ddd",
   "metadata": {},
   "outputs": [
    {
     "name": "stdout",
     "output_type": "stream",
     "text": [
      "3.14\n"
     ]
    }
   ],
   "source": [
    "print(round(pi,2))"
   ]
  },
  {
   "cell_type": "markdown",
   "id": "3ab7452b",
   "metadata": {},
   "source": [
    "8) Crear una variable que contenga el valor 'True' y otra que contenga el valor True. ¿Se trata de lo mismo?"
   ]
  },
  {
   "cell_type": "code",
   "execution_count": 51,
   "id": "6a0653a8",
   "metadata": {},
   "outputs": [],
   "source": [
    "string_true = 'True'\n",
    "bool_true = True"
   ]
  },
  {
   "cell_type": "markdown",
   "id": "5eb86b24",
   "metadata": {},
   "source": [
    "--- \n",
    "No es lo mismo, son tipos de datos distintos. Uno es String y el otro es Booleano\n",
    "\n",
    "---"
   ]
  },
  {
   "cell_type": "markdown",
   "id": "02ba877f",
   "metadata": {},
   "source": [
    "9) Imprimir el tipo de dato correspondientes a las variables creadas en el punto 9"
   ]
  },
  {
   "cell_type": "code",
   "execution_count": 55,
   "id": "6a5f8552",
   "metadata": {},
   "outputs": [
    {
     "name": "stdout",
     "output_type": "stream",
     "text": [
      "'string_true' es de tipo  <class 'str'>\n",
      "'bool_true' es de tipo  <class 'bool'>\n"
     ]
    }
   ],
   "source": [
    "print(\"'string_true' es de tipo \", type(string_true))\n",
    "print(\"'bool_true' es de tipo \",type(bool_true))"
   ]
  },
  {
   "cell_type": "markdown",
   "id": "b9c9457b",
   "metadata": {},
   "source": [
    "10) Asignar a una variable, la suma de un número entero y otro decimal"
   ]
  },
  {
   "cell_type": "code",
   "execution_count": 64,
   "id": "20a823cd",
   "metadata": {},
   "outputs": [
    {
     "name": "stdout",
     "output_type": "stream",
     "text": [
      "2.9\n"
     ]
    }
   ],
   "source": [
    "suma_int_float = 1 + 1.9\n",
    "print(suma_int_float)"
   ]
  },
  {
   "cell_type": "markdown",
   "id": "6120b0ea",
   "metadata": {},
   "source": [
    "11) Realizar una operación de suma de números complejos"
   ]
  },
  {
   "cell_type": "code",
   "execution_count": 79,
   "id": "092dd610",
   "metadata": {},
   "outputs": [
    {
     "name": "stdout",
     "output_type": "stream",
     "text": [
      "(3+3j)\n"
     ]
    }
   ],
   "source": [
    "complex0 = 1 + 2j\n",
    "complex1 = 2 + 1j\n",
    "print(complex0 + complex1)"
   ]
  },
  {
   "cell_type": "markdown",
   "id": "b26dee98",
   "metadata": {},
   "source": [
    "12) Realizar una operación de suma de un número real y otro complejo"
   ]
  },
  {
   "cell_type": "code",
   "execution_count": 86,
   "id": "6d22dcf1",
   "metadata": {},
   "outputs": [
    {
     "name": "stdout",
     "output_type": "stream",
     "text": [
      "(2.1+2j)\n"
     ]
    }
   ],
   "source": [
    "real_mas_complex = 1.1 + complex0\n",
    "print(real_mas_complex)"
   ]
  },
  {
   "cell_type": "markdown",
   "id": "3f97517e",
   "metadata": {},
   "source": [
    "13) Realizar una operación de multiplicación"
   ]
  },
  {
   "cell_type": "code",
   "execution_count": 67,
   "id": "802f9223",
   "metadata": {},
   "outputs": [
    {
     "name": "stdout",
     "output_type": "stream",
     "text": [
      "6\n"
     ]
    }
   ],
   "source": [
    "multiplicacion = 2 * 3\n",
    "print(multiplicacion)"
   ]
  },
  {
   "cell_type": "markdown",
   "id": "d5da2834",
   "metadata": {},
   "source": [
    "14) Mostrar el resultado de elevar 2 a la octava potencia"
   ]
  },
  {
   "cell_type": "code",
   "execution_count": 68,
   "id": "51e3f103",
   "metadata": {},
   "outputs": [
    {
     "name": "stdout",
     "output_type": "stream",
     "text": [
      "256\n"
     ]
    }
   ],
   "source": [
    "print(2 ** 8)"
   ]
  },
  {
   "cell_type": "markdown",
   "id": "8b94c586",
   "metadata": {},
   "source": [
    "15) Obtener el cociente de la división de 27 entre 4 en una variable y luego mostrarla"
   ]
  },
  {
   "cell_type": "code",
   "execution_count": 71,
   "id": "1d67c38d",
   "metadata": {},
   "outputs": [
    {
     "name": "stdout",
     "output_type": "stream",
     "text": [
      "6.75\n"
     ]
    }
   ],
   "source": [
    "cociente_27y4 = 27 / 4\n",
    "print(cociente_27y4)"
   ]
  },
  {
   "cell_type": "markdown",
   "id": "d28a7267",
   "metadata": {},
   "source": [
    "16) De la división anterior solamente mostrar la parte entera"
   ]
  },
  {
   "cell_type": "code",
   "execution_count": 105,
   "id": "27035a92",
   "metadata": {},
   "outputs": [
    {
     "name": "stdout",
     "output_type": "stream",
     "text": [
      "6\n"
     ]
    }
   ],
   "source": [
    "\n",
    "print(27 // 4)"
   ]
  },
  {
   "cell_type": "markdown",
   "id": "5dba2bf4",
   "metadata": {},
   "source": [
    "17) De la división de 27 entre 4 mostrar solamente el resto"
   ]
  },
  {
   "cell_type": "code",
   "execution_count": 74,
   "id": "973b2081",
   "metadata": {},
   "outputs": [
    {
     "name": "stdout",
     "output_type": "stream",
     "text": [
      "3\n"
     ]
    }
   ],
   "source": [
    "print(27 % 4)"
   ]
  },
  {
   "cell_type": "markdown",
   "id": "7e1c550d",
   "metadata": {},
   "source": [
    "18) Utilizando como operandos el número 4 y los resultados obtenidos en los puntos 16 y 17. Obtener 27 como resultado"
   ]
  },
  {
   "cell_type": "code",
   "execution_count": 75,
   "id": "b9913e05",
   "metadata": {},
   "outputs": [
    {
     "name": "stdout",
     "output_type": "stream",
     "text": [
      "27\n"
     ]
    }
   ],
   "source": [
    "print(4 * 6 + 3)"
   ]
  },
  {
   "cell_type": "markdown",
   "id": "707a185a",
   "metadata": {},
   "source": [
    "19) Utilizar el operador \"+\" en una operación donde intervengan solo variables alfanuméricas"
   ]
  },
  {
   "cell_type": "code",
   "execution_count": 87,
   "id": "ae16a5c4",
   "metadata": {},
   "outputs": [
    {
     "name": "stdout",
     "output_type": "stream",
     "text": [
      "Hola Mundo!\n"
     ]
    }
   ],
   "source": [
    "hola = \"Hola \"\n",
    "mundo = \"Mundo!\"\n",
    "print(hola+mundo)"
   ]
  },
  {
   "cell_type": "markdown",
   "id": "be4fadad",
   "metadata": {},
   "source": [
    "20) Evaluar si \"2\" es igual a 2. ¿Por qué ocurre eso?"
   ]
  },
  {
   "cell_type": "code",
   "execution_count": 90,
   "id": "2af38890",
   "metadata": {},
   "outputs": [
    {
     "name": "stdout",
     "output_type": "stream",
     "text": [
      "False\n"
     ]
    }
   ],
   "source": [
    "print(\"2\" == 2)"
   ]
  },
  {
   "cell_type": "markdown",
   "id": "73b9981d",
   "metadata": {},
   "source": [
    "Esto sucede porque son tipos distintos de datos, entonces no pueden compararse"
   ]
  },
  {
   "cell_type": "markdown",
   "id": "2a19b4db",
   "metadata": {},
   "source": [
    "21) Utilizar las funciones de cambio de tipo de dato, para que la validación del punto 20 resulte verdadera"
   ]
  },
  {
   "cell_type": "code",
   "execution_count": 92,
   "id": "6c03a318",
   "metadata": {},
   "outputs": [
    {
     "name": "stdout",
     "output_type": "stream",
     "text": [
      "True\n"
     ]
    }
   ],
   "source": [
    "print(int(\"2\") == 2)"
   ]
  },
  {
   "cell_type": "markdown",
   "id": "cf90b103",
   "metadata": {},
   "source": [
    "22) ¿Por qué arroja error el siguiente cambio de tipo de datos? a = float('3,8')"
   ]
  },
  {
   "cell_type": "code",
   "execution_count": 93,
   "id": "0a409ef8",
   "metadata": {},
   "outputs": [
    {
     "ename": "ValueError",
     "evalue": "could not convert string to float: '3,8'",
     "output_type": "error",
     "traceback": [
      "\u001b[1;31m---------------------------------------------------------------------------\u001b[0m",
      "\u001b[1;31mValueError\u001b[0m                                Traceback (most recent call last)",
      "\u001b[1;32m<ipython-input-93-7c2d37593b3b>\u001b[0m in \u001b[0;36m<module>\u001b[1;34m\u001b[0m\n\u001b[1;32m----> 1\u001b[1;33m \u001b[0ma\u001b[0m \u001b[1;33m=\u001b[0m \u001b[0mfloat\u001b[0m\u001b[1;33m(\u001b[0m\u001b[1;34m\"3,8\"\u001b[0m\u001b[1;33m)\u001b[0m\u001b[1;33m\u001b[0m\u001b[1;33m\u001b[0m\u001b[0m\n\u001b[0m",
      "\u001b[1;31mValueError\u001b[0m: could not convert string to float: '3,8'"
     ]
    }
   ],
   "source": [
    "a = float(\"3,8\")"
   ]
  },
  {
   "cell_type": "markdown",
   "id": "ea9538b1",
   "metadata": {},
   "source": [
    "Da error porque la sintaxis correcta para valores float es con punto \".\" no con coma \",\""
   ]
  },
  {
   "cell_type": "markdown",
   "id": "dadb3b3c",
   "metadata": {},
   "source": [
    "23) Crear una variable con el valor 3, y utilizar el operador '-=' para modificar su contenido"
   ]
  },
  {
   "cell_type": "code",
   "execution_count": 95,
   "id": "bd6a3c94",
   "metadata": {},
   "outputs": [
    {
     "name": "stdout",
     "output_type": "stream",
     "text": [
      "1\n"
     ]
    }
   ],
   "source": [
    "variable3 = 3\n",
    "variable3 -= 2\n",
    "print(variable3)"
   ]
  },
  {
   "cell_type": "markdown",
   "id": "0149cd94",
   "metadata": {},
   "source": [
    "24) Realizar la operacion 1 << 2 ¿Por qué da ese resultado? ¿Qué es el sistema de numeración binario?"
   ]
  },
  {
   "cell_type": "code",
   "execution_count": 96,
   "id": "164f49d3",
   "metadata": {},
   "outputs": [
    {
     "data": {
      "text/plain": [
       "4"
      ]
     },
     "execution_count": 96,
     "metadata": {},
     "output_type": "execute_result"
    }
   ],
   "source": [
    "1 << 2"
   ]
  },
  {
   "cell_type": "markdown",
   "id": "83f43980",
   "metadata": {},
   "source": [
    "25) Realizar la operación 2 + '2' ¿Por qué no está permitido? ¿Si los dos operandos serían del mismo tipo, siempre arrojaría el mismo resultado?"
   ]
  },
  {
   "cell_type": "code",
   "execution_count": 98,
   "id": "b4bca556",
   "metadata": {},
   "outputs": [
    {
     "ename": "TypeError",
     "evalue": "unsupported operand type(s) for +: 'int' and 'str'",
     "output_type": "error",
     "traceback": [
      "\u001b[1;31m---------------------------------------------------------------------------\u001b[0m",
      "\u001b[1;31mTypeError\u001b[0m                                 Traceback (most recent call last)",
      "\u001b[1;32m<ipython-input-98-64ad5ef69bc4>\u001b[0m in \u001b[0;36m<module>\u001b[1;34m\u001b[0m\n\u001b[1;32m----> 1\u001b[1;33m \u001b[0mprint\u001b[0m\u001b[1;33m(\u001b[0m\u001b[1;36m2\u001b[0m \u001b[1;33m+\u001b[0m \u001b[1;34m'2'\u001b[0m\u001b[1;33m)\u001b[0m\u001b[1;33m\u001b[0m\u001b[1;33m\u001b[0m\u001b[0m\n\u001b[0m",
      "\u001b[1;31mTypeError\u001b[0m: unsupported operand type(s) for +: 'int' and 'str'"
     ]
    }
   ],
   "source": [
    "print(2 + '2')"
   ]
  },
  {
   "cell_type": "code",
   "execution_count": 101,
   "id": "b40aebbe",
   "metadata": {},
   "outputs": [
    {
     "data": {
      "text/plain": [
       "4"
      ]
     },
     "execution_count": 101,
     "metadata": {},
     "output_type": "execute_result"
    }
   ],
   "source": [
    "2 + int(\"2\")"
   ]
  },
  {
   "cell_type": "code",
   "execution_count": 102,
   "id": "d3bac970",
   "metadata": {},
   "outputs": [
    {
     "data": {
      "text/plain": [
       "'22'"
      ]
     },
     "execution_count": 102,
     "metadata": {},
     "output_type": "execute_result"
    }
   ],
   "source": [
    "str(2) + \"2\""
   ]
  },
  {
   "cell_type": "markdown",
   "id": "9af21d86",
   "metadata": {},
   "source": [
    "26) Realizar una operación válida entre valores de tipo entero y string"
   ]
  },
  {
   "cell_type": "code",
   "execution_count": 104,
   "id": "fe8fd269",
   "metadata": {},
   "outputs": [
    {
     "name": "stdout",
     "output_type": "stream",
     "text": [
      "primero segundoprimero segundo\n"
     ]
    }
   ],
   "source": [
    "palabras = \"primero segundo\"\n",
    "numero = 2\n",
    "print(palabras * numero)"
   ]
  },
  {
   "cell_type": "code",
   "execution_count": null,
   "id": "75ca6eaa",
   "metadata": {},
   "outputs": [],
   "source": []
  }
 ],
 "metadata": {
  "kernelspec": {
   "display_name": "Python 3",
   "language": "python",
   "name": "python3"
  },
  "language_info": {
   "codemirror_mode": {
    "name": "ipython",
    "version": 3
   },
   "file_extension": ".py",
   "mimetype": "text/x-python",
   "name": "python",
   "nbconvert_exporter": "python",
   "pygments_lexer": "ipython3",
   "version": "3.8.8"
  }
 },
 "nbformat": 4,
 "nbformat_minor": 5
}
