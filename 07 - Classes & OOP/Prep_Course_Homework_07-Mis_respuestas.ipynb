{
 "cells": [
  {
   "cell_type": "markdown",
   "metadata": {},
   "source": [
    "## Clases y Programación Orientada a Objetos\n"
   ]
  },
  {
   "cell_type": "markdown",
   "metadata": {},
   "source": [
    "\n",
    "1) Crear la clase vehículo que contenga los atributos:<br>\n",
    "Color<br>\n",
    "Si es moto, auto, camioneta ó camión<br>\n",
    "Cilindrada del motor\n"
   ]
  },
  {
   "cell_type": "code",
   "execution_count": 7,
   "metadata": {},
   "outputs": [
    {
     "name": "stdout",
     "output_type": "stream",
     "text": [
      "Soy un auto de color Rojo y mi cilindrada es 2000 cc\n"
     ]
    }
   ],
   "source": [
    "class Vehiculo:\n",
    "    '''\n",
    "    Esta clase es un vehiculo, con su color, si es moto, auto, camioneta o camión y su cilindrada\n",
    "    '''\n",
    "    def __init__(self, color, tipo, cilindrada):\n",
    "        self.color = color\n",
    "        self.tipo = tipo\n",
    "        self.cilindrada = cilindrada\n",
    "    def imprimir(self):\n",
    "        print(\"Soy un\",self.tipo,\"de color\", self.color, \"y mi cilindrada es\",self.cilindrada,\"cc\")\n",
    "\n",
    "auto = Vehiculo(\"Rojo\",\"auto\",2000)\n",
    "\n",
    "auto.imprimir()\n",
    "\n",
    "    \n"
   ]
  },
  {
   "cell_type": "markdown",
   "metadata": {},
   "source": [
    "\n",
    "2) A la clase Vehiculo creada en el punto 1, agregar los siguientes métodos:<br>\n",
    "Acelerar<br>\n",
    "Frenar<br>\n",
    "Doblar<br>\n"
   ]
  },
  {
   "cell_type": "code",
   "execution_count": 14,
   "metadata": {},
   "outputs": [
    {
     "name": "stdout",
     "output_type": "stream",
     "text": [
      "Soy un auto de color Rojo y mi cilindrada es 2000 cc\n",
      "4\n",
      "1\n",
      "0\n"
     ]
    }
   ],
   "source": [
    "class Vehiculo:\n",
    "    '''\n",
    "    Esta clase es un vehiculo, con su color, si es moto, auto, camioneta o camión y su cilindrada\n",
    "    '''\n",
    "    def __init__(self, color, tipo, cilindrada):\n",
    "        self.color = color\n",
    "        self.tipo = tipo\n",
    "        self.cilindrada = cilindrada\n",
    "        self.velocidad = 0\n",
    "        self.direccion = 0\n",
    "\n",
    "    def imprimir(self):\n",
    "        print(\"Soy un\",self.tipo,\"de color\", self.color, \"y mi cilindrada es\",self.cilindrada,\"cc\")\n",
    "    def acelerar(self, vel):\n",
    "        self.velocidad += vel\n",
    "    def frenar(self):\n",
    "        self.velocidad = 0\n",
    "    def doblar(self, grados):\n",
    "        '''\n",
    "        Suma el parametro grados que se le pase\n",
    "        '''\n",
    "        self.direccion += grados\n",
    "\n",
    "auto = Vehiculo(\"Rojo\",\"auto\",2000)\n",
    "\n",
    "auto.imprimir()\n",
    "\n"
   ]
  },
  {
   "cell_type": "markdown",
   "metadata": {},
   "source": [
    "\n",
    "3) Instanciar 3 objetos de la clase vehículo y ejecutar sus métodos, probar luego el resultado\n"
   ]
  },
  {
   "cell_type": "code",
   "execution_count": 26,
   "metadata": {},
   "outputs": [
    {
     "name": "stdout",
     "output_type": "stream",
     "text": [
      "Soy un auto de color Blanco y mi cilindrada es 2000 cc\n",
      "Soy un moto de color Negra y mi cilindrada es 125 cc\n",
      "Soy un camioneta de color Roja y mi cilindrada es 3400 cc\n",
      "4\n",
      "180\n",
      "260\n",
      "1\n",
      "140\n",
      "160\n",
      "0\n",
      "0\n",
      "0\n",
      "200\n",
      "120\n",
      "80\n",
      "0\n",
      "0\n",
      "0\n"
     ]
    }
   ],
   "source": [
    "auto = Vehiculo(\"Blanco\",\"auto\",2000)\n",
    "moto = Vehiculo(\"Negra\",\"moto\",125)\n",
    "camioneta = Vehiculo(\"Roja\", \"camioneta\", 3400)\n",
    "\n",
    "\n",
    "auto.imprimir()\n",
    "moto.imprimir()\n",
    "camioneta.imprimir()\n",
    "\n",
    "auto.doblar(4)\n",
    "moto.doblar(180)\n",
    "camioneta.doblar(260)\n",
    "\n",
    "print(auto.direccion)\n",
    "print(moto.direccion)\n",
    "print(camioneta.direccion)\n",
    "\n",
    "auto.doblar(-3)\n",
    "moto.doblar(-40)\n",
    "camioneta.doblar(-100)\n",
    "print(auto.direccion)\n",
    "print(moto.direccion)\n",
    "print(camioneta.direccion)\n",
    "\n",
    "\n",
    "print(auto.velocidad)\n",
    "print(moto.velocidad)\n",
    "print(camioneta.velocidad)\n",
    "\n",
    "auto.acelerar(200)\n",
    "moto.acelerar(120)\n",
    "camioneta.acelerar(80)\n",
    "\n",
    "print(auto.velocidad)\n",
    "print(moto.velocidad)\n",
    "print(camioneta.velocidad)\n",
    "\n",
    "auto.frenar()\n",
    "moto.frenar()\n",
    "camioneta.frenar()\n",
    "\n",
    "print(auto.velocidad)\n",
    "print(moto.velocidad)\n",
    "print(camioneta.velocidad)\n"
   ]
  },
  {
   "cell_type": "markdown",
   "metadata": {},
   "source": [
    "\n",
    "4) Agregar a la clase Vehiculo, un método que muestre su estado, es decir, a que velocidad se encuentra y su dirección. Y otro método que muestre color, tipo y cilindrada\n"
   ]
  },
  {
   "cell_type": "code",
   "execution_count": 27,
   "metadata": {},
   "outputs": [],
   "source": [
    "class Vehiculo:\n",
    "    '''\n",
    "    Esta clase es un vehiculo, con su color, si es moto, auto, camioneta o camión y su cilindrada\n",
    "    '''\n",
    "    def __init__(self, color, tipo, cilindrada):\n",
    "        self.color = color\n",
    "        self.tipo = tipo\n",
    "        self.cilindrada = cilindrada\n",
    "        self.velocidad = 0\n",
    "        self.direccion = 0\n",
    "\n",
    "    def imprimir(self):\n",
    "        print(\"Soy un\",self.tipo,\"de color\", self.color, \"y mi cilindrada es\",self.cilindrada,\"cc\")\n",
    "    def acelerar(self, vel):\n",
    "        self.velocidad += vel\n",
    "    def frenar(self):\n",
    "        self.velocidad = 0\n",
    "    def doblar(self, grados):\n",
    "        '''\n",
    "        Suma el parametro grados que se le pase\n",
    "        '''\n",
    "        self.direccion += grados\n",
    "    def estado(self):\n",
    "        print(\"mi velocidad es\", self.velocidad,\"mi direccion es\", self.direccion)\n"
   ]
  },
  {
   "cell_type": "code",
   "execution_count": 28,
   "metadata": {},
   "outputs": [
    {
     "name": "stdout",
     "output_type": "stream",
     "text": [
      "Soy un auto de color Blanco y mi cilindrada es 2000 cc\n",
      "mi velocidad es 0 mi direccion es 1\n"
     ]
    }
   ],
   "source": [
    "\n",
    "\n",
    "auto.imprimir()\n",
    "auto.estado()\n"
   ]
  },
  {
   "cell_type": "markdown",
   "metadata": {},
   "source": [
    "\n",
    "5) Crear una clase que permita utilizar las funciones creadas en la práctica del módulo 6<br>\n",
    "Verificar Primo<br>\n",
    "Valor modal<br>\n",
    "Conversión grados<br>\n",
    "Factorial<br>\n"
   ]
  },
  {
   "cell_type": "code",
   "execution_count": 55,
   "metadata": {},
   "outputs": [],
   "source": [
    "class calculador:\n",
    "    '''\n",
    "    Esta clase toma las funciones de ejercicios anteriores para utilizarlas en metodos, toma un int\n",
    "    '''\n",
    "    def __init__(self) -> None:\n",
    "        pass\n",
    "    def es_primo(self, x):\n",
    "        self.x = x\n",
    "        if x == 1 or x == 0:\n",
    "            return False\n",
    "        primo = True\n",
    "        j = 2\n",
    "        while j < x:\n",
    "            if x % j == 0:\n",
    "                return False\n",
    "            j += 1\n",
    "        return print(primo)\n",
    "\n",
    "    def moda(self, lista):\n",
    "        self.lista = lista\n",
    "        lista_cont = {}\n",
    "        for x in lista:\n",
    "            n = 0\n",
    "            for y in lista:\n",
    "                if y == x:\n",
    "                    n+=1\n",
    "                lista_cont[x] = n\n",
    "        return ((max(lista_cont, key=lista_cont.get),max(lista_cont.values())))\n",
    "\n",
    "    def tempconv(self,valor,origen,destino):\n",
    "        self.valor = valor\n",
    "        self.origen = origen\n",
    "        self.destino = destino\n",
    "        if origen == destino:\n",
    "            return None\n",
    "        if origen == \"Celcius\":\n",
    "            if destino == \"Farenheit\":\n",
    "                temp = (valor * 9/5) + 32\n",
    "            if destino == \"Kelvin\":\n",
    "                temp = valor + 273.15\n",
    "        if origen == \"Farenheit\":\n",
    "            if destino == \"Celcius\":\n",
    "                temp = (valor - 32) * 5/9\n",
    "            if destino == \"Kelvin\":\n",
    "                temp = (valor - 32) * 5/9 + 273.15\n",
    "        if origen == \"Kelvin\":\n",
    "            if destino == \"Celcius\":\n",
    "                temp = valor - 273.15\n",
    "            if destino == \"Farenheit\":\n",
    "                temp = (valor - 273.15) * 9/5 + 32\n",
    "\n",
    "        print (valor,\"°\",origen[0],\"=\",temp,\"°\",destino[0])\n",
    "\n",
    "    def factorial(self, n):\n",
    "        self.n = n\n",
    "        if n < 0 or type(n) is not int:\n",
    "            return print(\"Valor incorrecto\")\n",
    "        if n == 1:\n",
    "            return 1\n",
    "        else:\n",
    "            fact = n\n",
    "            for x in range(0,n):\n",
    "                fact = n * self.factorial(n-1)\n",
    "            return fact\n"
   ]
  },
  {
   "cell_type": "markdown",
   "metadata": {},
   "source": [
    "6) Probar las funciones incorporadas en la clase del punto 5"
   ]
  },
  {
   "cell_type": "code",
   "execution_count": 56,
   "metadata": {},
   "outputs": [],
   "source": [
    "\n",
    "prueba = calculador()"
   ]
  },
  {
   "cell_type": "code",
   "execution_count": 47,
   "metadata": {},
   "outputs": [
    {
     "name": "stdout",
     "output_type": "stream",
     "text": [
      "True\n"
     ]
    },
    {
     "data": {
      "text/plain": [
       "False"
      ]
     },
     "execution_count": 47,
     "metadata": {},
     "output_type": "execute_result"
    }
   ],
   "source": [
    "prueba.es_primo(11)\n",
    "prueba.es_primo(12)"
   ]
  },
  {
   "cell_type": "code",
   "execution_count": 48,
   "metadata": {},
   "outputs": [
    {
     "data": {
      "text/plain": [
       "(3, 5)"
      ]
     },
     "execution_count": 48,
     "metadata": {},
     "output_type": "execute_result"
    }
   ],
   "source": [
    "prueba.moda([1,1,1,2,2,3,4,5,6,7,8,9,0,11,1,3,3,3,3])"
   ]
  },
  {
   "cell_type": "code",
   "execution_count": 49,
   "metadata": {},
   "outputs": [
    {
     "name": "stdout",
     "output_type": "stream",
     "text": [
      "20 ° C = 293.15 ° K\n"
     ]
    }
   ],
   "source": [
    "prueba.tempconv(20,\"Celcius\",\"Kelvin\")"
   ]
  },
  {
   "cell_type": "code",
   "execution_count": 57,
   "metadata": {},
   "outputs": [
    {
     "data": {
      "text/plain": [
       "120"
      ]
     },
     "execution_count": 57,
     "metadata": {},
     "output_type": "execute_result"
    }
   ],
   "source": [
    "prueba.factorial(5)"
   ]
  },
  {
   "cell_type": "markdown",
   "metadata": {},
   "source": [
    "\n",
    "7) Es necesario que la clase creada en el punto 5 contenga una lista, sobre la cual se apliquen las funciones incorporadas\n"
   ]
  },
  {
   "cell_type": "code",
   "execution_count": 111,
   "metadata": {},
   "outputs": [],
   "source": [
    "class calculador:\n",
    "    '''\n",
    "    Esta clase toma las funciones de ejercicios anteriores para utilizarlas en metodos, toma una lista\n",
    "    '''\n",
    "    def __init__(self, lista):\n",
    "        self.lista = lista\n",
    "    \n",
    "    def es_primo(self):\n",
    "        for x in self.lista:\n",
    "            if self.__es_primo(x):\n",
    "                print(x, \"Es primo\")\n",
    "            else:\n",
    "                print(x, \"No es primo\")\n",
    "\n",
    "    def __es_primo(self, x):\n",
    "        self.x = x\n",
    "        if x == 1 or x == 0:\n",
    "            return False\n",
    "        primo = True\n",
    "        j = 2\n",
    "        while j < x:\n",
    "            if x % j == 0:\n",
    "                return False\n",
    "            j += 1\n",
    "        return primo\n",
    "\n",
    "    def moda(self, max_rep):\n",
    "        if max_rep == 'maximo':\n",
    "            max_rep = True\n",
    "        elif(max_rep == 'minimo'):\n",
    "            max_rep = False\n",
    "        lista_cont = {}\n",
    "        for x in self.lista:\n",
    "            n = 0\n",
    "            for y in self.lista:\n",
    "                if y == x:\n",
    "                    n+=1\n",
    "                lista_cont[x] = n\n",
    "\n",
    "        for x in self.lista:\n",
    "            if lista_cont[x] == 1:\n",
    "                del lista_cont[x]\n",
    "    \n",
    "        if max_rep:\n",
    "            return ((max(lista_cont, key=lista_cont.get),max(lista_cont.values())))\n",
    "        else:\n",
    "            return ((min(lista_cont, key=lista_cont.get),min(lista_cont.values())))\n",
    "    \n",
    "    def tempconv(self,o,d):\n",
    "        for x in self.lista:\n",
    "            self.__tempconv(x,o,d)\n",
    "\n",
    "    def __tempconv(self,valor,origen,destino):\n",
    "        self.valor = valor\n",
    "        self.origen = origen\n",
    "        self.destino = destino\n",
    "        if origen == destino:\n",
    "            return None\n",
    "        if origen == \"Celcius\":\n",
    "            if destino == \"Farenheit\":\n",
    "                temp = (valor * 9/5) + 32\n",
    "            if destino == \"Kelvin\":\n",
    "                temp = valor + 273.15\n",
    "        if origen == \"Farenheit\":\n",
    "            if destino == \"Celcius\":\n",
    "                temp = (valor - 32) * 5/9\n",
    "            if destino == \"Kelvin\":\n",
    "                temp = (valor - 32) * 5/9 + 273.15\n",
    "        if origen == \"Kelvin\":\n",
    "            if destino == \"Celcius\":\n",
    "                temp = valor - 273.15\n",
    "            if destino == \"Farenheit\":\n",
    "                temp = (valor - 273.15) * 9/5 + 32\n",
    "        if not valor:\n",
    "            print(\"Parametros incorrectos\")\n",
    "        return print(valor,\"°\",origen[0],\"=\",temp,\"°\",destino[0])\n",
    "\n",
    "    def factorial(self):\n",
    "        for n in self.lista:\n",
    "            print(self.__factorial(n))\n",
    "\n",
    "    def __factorial(self, n):\n",
    "        self.n = n\n",
    "        if n < 0 or type(n) is not int:\n",
    "            return print(\"Valor incorrecto\")\n",
    "        if n == 1:\n",
    "            return 1\n",
    "        else:\n",
    "            fact = n\n",
    "            for x in range(0,n):\n",
    "                fact = n * self.__factorial(n-1)\n",
    "            return fact\n",
    "a = calculador([1,2,3,4,5,6,7,8,9,11,1,4,2,3,11,11,11])"
   ]
  },
  {
   "cell_type": "code",
   "execution_count": 112,
   "metadata": {},
   "outputs": [
    {
     "name": "stdout",
     "output_type": "stream",
     "text": [
      "1 No es primo\n",
      "2 Es primo\n",
      "3 Es primo\n",
      "4 No es primo\n",
      "5 Es primo\n",
      "6 No es primo\n",
      "7 Es primo\n",
      "8 No es primo\n",
      "9 No es primo\n",
      "11 Es primo\n",
      "1 No es primo\n",
      "4 No es primo\n",
      "2 Es primo\n",
      "3 Es primo\n",
      "11 Es primo\n",
      "11 Es primo\n",
      "11 Es primo\n"
     ]
    }
   ],
   "source": [
    "a.es_primo()"
   ]
  },
  {
   "cell_type": "code",
   "execution_count": 113,
   "metadata": {},
   "outputs": [
    {
     "data": {
      "text/plain": [
       "(11, 4)"
      ]
     },
     "execution_count": 113,
     "metadata": {},
     "output_type": "execute_result"
    }
   ],
   "source": [
    "a.moda('maximo')"
   ]
  },
  {
   "cell_type": "code",
   "execution_count": 114,
   "metadata": {},
   "outputs": [
    {
     "data": {
      "text/plain": [
       "(1, 2)"
      ]
     },
     "execution_count": 114,
     "metadata": {},
     "output_type": "execute_result"
    }
   ],
   "source": [
    "a.moda('minimo')"
   ]
  },
  {
   "cell_type": "code",
   "execution_count": 115,
   "metadata": {},
   "outputs": [
    {
     "name": "stdout",
     "output_type": "stream",
     "text": [
      "1 ° F = -17.22222222222222 ° C\n",
      "2 ° F = -16.666666666666668 ° C\n",
      "3 ° F = -16.11111111111111 ° C\n",
      "4 ° F = -15.555555555555555 ° C\n",
      "5 ° F = -15.0 ° C\n",
      "6 ° F = -14.444444444444445 ° C\n",
      "7 ° F = -13.88888888888889 ° C\n",
      "8 ° F = -13.333333333333334 ° C\n",
      "9 ° F = -12.777777777777779 ° C\n",
      "11 ° F = -11.666666666666666 ° C\n",
      "1 ° F = -17.22222222222222 ° C\n",
      "4 ° F = -15.555555555555555 ° C\n",
      "2 ° F = -16.666666666666668 ° C\n",
      "3 ° F = -16.11111111111111 ° C\n",
      "11 ° F = -11.666666666666666 ° C\n",
      "11 ° F = -11.666666666666666 ° C\n",
      "11 ° F = -11.666666666666666 ° C\n"
     ]
    }
   ],
   "source": [
    "a.tempconv('Farenheit','Celcius')"
   ]
  },
  {
   "cell_type": "code",
   "execution_count": 104,
   "metadata": {},
   "outputs": [
    {
     "name": "stdout",
     "output_type": "stream",
     "text": [
      "1\n",
      "2\n",
      "6\n",
      "24\n",
      "120\n",
      "720\n",
      "5040\n",
      "40320\n",
      "362880\n",
      "39916800\n",
      "1\n",
      "24\n",
      "2\n",
      "6\n",
      "39916800\n",
      "39916800\n",
      "39916800\n"
     ]
    }
   ],
   "source": [
    "a.factorial()"
   ]
  },
  {
   "cell_type": "markdown",
   "metadata": {},
   "source": [
    "\n",
    "8) Crear un archivo .py aparte y ubicar allí la clase generada en el punto anterior. Luego realizar la importación del módulo y probar alguna de sus funciones"
   ]
  },
  {
   "cell_type": "code",
   "execution_count": 123,
   "metadata": {},
   "outputs": [
    {
     "ename": "AttributeError",
     "evalue": "'calculador' object has no attribute 'moda'",
     "output_type": "error",
     "traceback": [
      "\u001b[1;31m---------------------------------------------------------------------------\u001b[0m",
      "\u001b[1;31mAttributeError\u001b[0m                            Traceback (most recent call last)",
      "\u001b[1;32mc:\\Users\\ren98\\Documents\\Henry\\Python-Prep\\07 - Classes & OOP\\Prep_Course_Homework_07-Mis_respuestas.ipynb Cell 27'\u001b[0m in \u001b[0;36m<module>\u001b[1;34m\u001b[0m\n\u001b[0;32m      <a href='vscode-notebook-cell:/c%3A/Users/ren98/Documents/Henry/Python-Prep/07%20-%20Classes%20%26%20OOP/Prep_Course_Homework_07-Mis_respuestas.ipynb#ch0000027?line=4'>5</a>\u001b[0m         \u001b[39mself\u001b[39m\u001b[39m.\u001b[39mlista \u001b[39m=\u001b[39m lista\n\u001b[0;32m      <a href='vscode-notebook-cell:/c%3A/Users/ren98/Documents/Henry/Python-Prep/07%20-%20Classes%20%26%20OOP/Prep_Course_Homework_07-Mis_respuestas.ipynb#ch0000027?line=6'>7</a>\u001b[0m prueba \u001b[39m=\u001b[39m calculador([\u001b[39m1\u001b[39m,\u001b[39m3\u001b[39m,\u001b[39m4\u001b[39m])\n\u001b[1;32m----> <a href='vscode-notebook-cell:/c%3A/Users/ren98/Documents/Henry/Python-Prep/07%20-%20Classes%20%26%20OOP/Prep_Course_Homework_07-Mis_respuestas.ipynb#ch0000027?line=7'>8</a>\u001b[0m prueba\u001b[39m.\u001b[39;49mmoda(\u001b[39m'\u001b[39m\u001b[39mminimo\u001b[39m\u001b[39m'\u001b[39m)\n",
      "\u001b[1;31mAttributeError\u001b[0m: 'calculador' object has no attribute 'moda'"
     ]
    }
   ],
   "source": [
    "##Esta clase la hago para borrar la anterior solamente y mostrar que la importacion se hace.\n",
    "\n",
    "class calculador:\n",
    "    def __init__(self, lista):\n",
    "        self.lista = lista\n",
    "\n",
    "prueba = calculador([1,3,4])\n",
    "prueba.moda('minimo')\n"
   ]
  },
  {
   "cell_type": "code",
   "execution_count": 126,
   "metadata": {},
   "outputs": [
    {
     "name": "stdout",
     "output_type": "stream",
     "text": [
      "1 No es primo\n",
      "3 Es primo\n",
      "4 No es primo\n",
      "4 No es primo\n"
     ]
    }
   ],
   "source": [
    "\n",
    "from clase import calculador\n",
    "prueba = calculador([1,3,4,4])\n",
    "prueba.es_primo()\n"
   ]
  }
 ],
 "metadata": {
  "interpreter": {
   "hash": "2be5faf79681da6f2a61fdfdd5405d65d042280f7fba6178067603e3a2925119"
  },
  "kernelspec": {
   "display_name": "Python 3.10.2 64-bit",
   "language": "python",
   "name": "python3"
  },
  "language_info": {
   "codemirror_mode": {
    "name": "ipython",
    "version": 3
   },
   "file_extension": ".py",
   "mimetype": "text/x-python",
   "name": "python",
   "nbconvert_exporter": "python",
   "pygments_lexer": "ipython3",
   "version": "3.10.2"
  },
  "orig_nbformat": 4
 },
 "nbformat": 4,
 "nbformat_minor": 2
}
