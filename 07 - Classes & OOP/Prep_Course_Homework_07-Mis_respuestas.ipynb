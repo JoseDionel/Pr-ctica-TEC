{
 "cells": [
  {
   "cell_type": "markdown",
   "metadata": {},
   "source": [
    "## Clases y Programación Orientada a Objetos\n"
   ]
  },
  {
   "cell_type": "markdown",
   "metadata": {},
   "source": [
    "\n",
    "1) Crear la clase vehículo que contenga los atributos:<br>\n",
    "Color<br>\n",
    "Si es moto, auto, camioneta ó camión<br>\n",
    "Cilindrada del motor\n"
   ]
  },
  {
   "cell_type": "code",
   "execution_count": 7,
   "metadata": {},
   "outputs": [
    {
     "name": "stdout",
     "output_type": "stream",
     "text": [
      "Soy un auto de color Rojo y mi cilindrada es 2000 cc\n"
     ]
    }
   ],
   "source": [
    "class Vehiculo:\n",
    "    '''\n",
    "    Esta clase es un vehiculo, con su color, si es moto, auto, camioneta o camión y su cilindrada\n",
    "    '''\n",
    "    def __init__(self, color, tipo, cilindrada):\n",
    "        self.color = color\n",
    "        self.tipo = tipo\n",
    "        self.cilindrada = cilindrada\n",
    "    def imprimir(self):\n",
    "        print(\"Soy un\",self.tipo,\"de color\", self.color, \"y mi cilindrada es\",self.cilindrada,\"cc\")\n",
    "\n",
    "auto = Vehiculo(\"Rojo\",\"auto\",2000)\n",
    "\n",
    "auto.imprimir()\n",
    "\n",
    "    \n"
   ]
  },
  {
   "cell_type": "markdown",
   "metadata": {},
   "source": [
    "\n",
    "2) A la clase Vehiculo creada en el punto 1, agregar los siguientes métodos:<br>\n",
    "Acelerar<br>\n",
    "Frenar<br>\n",
    "Doblar<br>\n"
   ]
  },
  {
   "cell_type": "code",
   "execution_count": 14,
   "metadata": {},
   "outputs": [
    {
     "name": "stdout",
     "output_type": "stream",
     "text": [
      "Soy un auto de color Rojo y mi cilindrada es 2000 cc\n",
      "4\n",
      "1\n",
      "0\n"
     ]
    }
   ],
   "source": [
    "class Vehiculo:\n",
    "    '''\n",
    "    Esta clase es un vehiculo, con su color, si es moto, auto, camioneta o camión y su cilindrada\n",
    "    '''\n",
    "    def __init__(self, color, tipo, cilindrada):\n",
    "        self.color = color\n",
    "        self.tipo = tipo\n",
    "        self.cilindrada = cilindrada\n",
    "        self.velocidad = 0\n",
    "        self.direccion = 0\n",
    "\n",
    "    def imprimir(self):\n",
    "        print(\"Soy un\",self.tipo,\"de color\", self.color, \"y mi cilindrada es\",self.cilindrada,\"cc\")\n",
    "    def acelerar(self, vel):\n",
    "        self.velocidad += vel\n",
    "    def frenar(self):\n",
    "        self.velocidad = 0\n",
    "    def doblar(self, grados):\n",
    "        '''\n",
    "        Suma el parametro grados que se le pase\n",
    "        '''\n",
    "        self.direccion += grados\n",
    "\n",
    "auto = Vehiculo(\"Rojo\",\"auto\",2000)\n",
    "\n",
    "auto.imprimir()\n",
    "\n"
   ]
  },
  {
   "cell_type": "markdown",
   "metadata": {},
   "source": [
    "\n",
    "3) Instanciar 3 objetos de la clase vehículo y ejecutar sus métodos, probar luego el resultado\n"
   ]
  },
  {
   "cell_type": "code",
   "execution_count": 26,
   "metadata": {},
   "outputs": [
    {
     "name": "stdout",
     "output_type": "stream",
     "text": [
      "Soy un auto de color Blanco y mi cilindrada es 2000 cc\n",
      "Soy un moto de color Negra y mi cilindrada es 125 cc\n",
      "Soy un camioneta de color Roja y mi cilindrada es 3400 cc\n",
      "4\n",
      "180\n",
      "260\n",
      "1\n",
      "140\n",
      "160\n",
      "0\n",
      "0\n",
      "0\n",
      "200\n",
      "120\n",
      "80\n",
      "0\n",
      "0\n",
      "0\n"
     ]
    }
   ],
   "source": [
    "auto = Vehiculo(\"Blanco\",\"auto\",2000)\n",
    "moto = Vehiculo(\"Negra\",\"moto\",125)\n",
    "camioneta = Vehiculo(\"Roja\", \"camioneta\", 3400)\n",
    "\n",
    "\n",
    "auto.imprimir()\n",
    "moto.imprimir()\n",
    "camioneta.imprimir()\n",
    "\n",
    "auto.doblar(4)\n",
    "moto.doblar(180)\n",
    "camioneta.doblar(260)\n",
    "\n",
    "print(auto.direccion)\n",
    "print(moto.direccion)\n",
    "print(camioneta.direccion)\n",
    "\n",
    "auto.doblar(-3)\n",
    "moto.doblar(-40)\n",
    "camioneta.doblar(-100)\n",
    "print(auto.direccion)\n",
    "print(moto.direccion)\n",
    "print(camioneta.direccion)\n",
    "\n",
    "\n",
    "print(auto.velocidad)\n",
    "print(moto.velocidad)\n",
    "print(camioneta.velocidad)\n",
    "\n",
    "auto.acelerar(200)\n",
    "moto.acelerar(120)\n",
    "camioneta.acelerar(80)\n",
    "\n",
    "print(auto.velocidad)\n",
    "print(moto.velocidad)\n",
    "print(camioneta.velocidad)\n",
    "\n",
    "auto.frenar()\n",
    "moto.frenar()\n",
    "camioneta.frenar()\n",
    "\n",
    "print(auto.velocidad)\n",
    "print(moto.velocidad)\n",
    "print(camioneta.velocidad)\n"
   ]
  },
  {
   "cell_type": "markdown",
   "metadata": {},
   "source": [
    "\n",
    "4) Agregar a la clase Vehiculo, un método que muestre su estado, es decir, a que velocidad se encuentra y su dirección. Y otro método que muestre color, tipo y cilindrada\n"
   ]
  },
  {
   "cell_type": "code",
   "execution_count": 27,
   "metadata": {},
   "outputs": [],
   "source": [
    "class Vehiculo:\n",
    "    '''\n",
    "    Esta clase es un vehiculo, con su color, si es moto, auto, camioneta o camión y su cilindrada\n",
    "    '''\n",
    "    def __init__(self, color, tipo, cilindrada):\n",
    "        self.color = color\n",
    "        self.tipo = tipo\n",
    "        self.cilindrada = cilindrada\n",
    "        self.velocidad = 0\n",
    "        self.direccion = 0\n",
    "\n",
    "    def imprimir(self):\n",
    "        print(\"Soy un\",self.tipo,\"de color\", self.color, \"y mi cilindrada es\",self.cilindrada,\"cc\")\n",
    "    def acelerar(self, vel):\n",
    "        self.velocidad += vel\n",
    "    def frenar(self):\n",
    "        self.velocidad = 0\n",
    "    def doblar(self, grados):\n",
    "        '''\n",
    "        Suma el parametro grados que se le pase\n",
    "        '''\n",
    "        self.direccion += grados\n",
    "    def estado(self):\n",
    "        print(\"mi velocidad es\", self.velocidad,\"mi direccion es\", self.direccion)\n"
   ]
  },
  {
   "cell_type": "code",
   "execution_count": 28,
   "metadata": {},
   "outputs": [
    {
     "name": "stdout",
     "output_type": "stream",
     "text": [
      "Soy un auto de color Blanco y mi cilindrada es 2000 cc\n",
      "mi velocidad es 0 mi direccion es 1\n"
     ]
    }
   ],
   "source": [
    "\n",
    "\n",
    "auto.imprimir()\n",
    "auto.estado()\n"
   ]
  },
  {
   "cell_type": "markdown",
   "metadata": {},
   "source": [
    "\n",
    "5) Crear una clase que permita utilizar las funciones creadas en la práctica del módulo 6<br>\n",
    "Verificar Primo<br>\n",
    "Valor modal<br>\n",
    "Conversión grados<br>\n",
    "Factorial<br>\n"
   ]
  },
  {
   "cell_type": "code",
   "execution_count": 55,
   "metadata": {},
   "outputs": [],
   "source": [
    "class calculador:\n",
    "    '''\n",
    "    Esta clase toma las funciones de ejercicios anteriores para utilizarlas en metodos, toma un int\n",
    "    '''\n",
    "    def __init__(self) -> None:\n",
    "        pass\n",
    "    def es_primo(self, x):\n",
    "        self.x = x\n",
    "        if x == 1 or x == 0:\n",
    "            return False\n",
    "        primo = True\n",
    "        j = 2\n",
    "        while j < x:\n",
    "            if x % j == 0:\n",
    "                return False\n",
    "            j += 1\n",
    "        return print(primo)\n",
    "\n",
    "    def moda(self, lista):\n",
    "        self.lista = lista\n",
    "        lista_cont = {}\n",
    "        for x in lista:\n",
    "            n = 0\n",
    "            for y in lista:\n",
    "                if y == x:\n",
    "                    n+=1\n",
    "                lista_cont[x] = n\n",
    "        return ((max(lista_cont, key=lista_cont.get),max(lista_cont.values())))\n",
    "\n",
    "    def tempconv(self,valor,origen,destino):\n",
    "        self.valor = valor\n",
    "        self.origen = origen\n",
    "        self.destino = destino\n",
    "        if origen == destino:\n",
    "            return None\n",
    "        if origen == \"Celcius\":\n",
    "            if destino == \"Farenheit\":\n",
    "                temp = (valor * 9/5) + 32\n",
    "            if destino == \"Kelvin\":\n",
    "                temp = valor + 273.15\n",
    "        if origen == \"Farenheit\":\n",
    "            if destino == \"Celcius\":\n",
    "                temp = (valor - 32) * 5/9\n",
    "            if destino == \"Kelvin\":\n",
    "                temp = (valor - 32) * 5/9 + 273.15\n",
    "        if origen == \"Kelvin\":\n",
    "            if destino == \"Celcius\":\n",
    "                temp = valor - 273.15\n",
    "            if destino == \"Farenheit\":\n",
    "                temp = (valor - 273.15) * 9/5 + 32\n",
    "\n",
    "        print (valor,\"°\",origen[0],\"=\",temp,\"°\",destino[0])\n",
    "\n",
    "    def factorial(self, n):\n",
    "        self.n = n\n",
    "        if n < 0 or type(n) is not int:\n",
    "            return print(\"Valor incorrecto\")\n",
    "        if n == 1:\n",
    "            return 1\n",
    "        else:\n",
    "            fact = n\n",
    "            for x in range(0,n):\n",
    "                fact = n * self.factorial(n-1)\n",
    "            return fact\n"
   ]
  },
  {
   "cell_type": "markdown",
   "metadata": {},
   "source": [
    "6) Probar las funciones incorporadas en la clase del punto 5"
   ]
  },
  {
   "cell_type": "code",
   "execution_count": 56,
   "metadata": {},
   "outputs": [],
   "source": [
    "\n",
    "prueba = calculador()"
   ]
  },
  {
   "cell_type": "code",
   "execution_count": 47,
   "metadata": {},
   "outputs": [
    {
     "name": "stdout",
     "output_type": "stream",
     "text": [
      "True\n"
     ]
    },
    {
     "data": {
      "text/plain": [
       "False"
      ]
     },
     "execution_count": 47,
     "metadata": {},
     "output_type": "execute_result"
    }
   ],
   "source": [
    "prueba.es_primo(11)\n",
    "prueba.es_primo(12)"
   ]
  },
  {
   "cell_type": "code",
   "execution_count": 48,
   "metadata": {},
   "outputs": [
    {
     "data": {
      "text/plain": [
       "(3, 5)"
      ]
     },
     "execution_count": 48,
     "metadata": {},
     "output_type": "execute_result"
    }
   ],
   "source": [
    "prueba.moda([1,1,1,2,2,3,4,5,6,7,8,9,0,11,1,3,3,3,3])"
   ]
  },
  {
   "cell_type": "code",
   "execution_count": 49,
   "metadata": {},
   "outputs": [
    {
     "name": "stdout",
     "output_type": "stream",
     "text": [
      "20 ° C = 293.15 ° K\n"
     ]
    }
   ],
   "source": [
    "prueba.tempconv(20,\"Celcius\",\"Kelvin\")"
   ]
  },
  {
   "cell_type": "code",
   "execution_count": 57,
   "metadata": {},
   "outputs": [
    {
     "data": {
      "text/plain": [
       "120"
      ]
     },
     "execution_count": 57,
     "metadata": {},
     "output_type": "execute_result"
    }
   ],
   "source": [
    "prueba.factorial(5)"
   ]
  },
  {
   "cell_type": "markdown",
   "metadata": {},
   "source": [
    "\n",
    "7) Es necesario que la clase creada en el punto 5 contenga una lista, sobre la cual se apliquen las funciones incorporadas\n"
   ]
  },
  {
   "cell_type": "code",
   "execution_count": null,
   "metadata": {},
   "outputs": [],
   "source": [
    "class calculador:\n",
    "    '''\n",
    "    Esta clase toma las funciones de ejercicios anteriores para utilizarlas en metodos, toma una lista\n",
    "    '''\n",
    "    def __init__(self, lista_numeros):\n",
    "        self.lista = lista_numeros\n",
    "    \n",
    "    def es_primo(self, x):\n",
    "        self.x = x\n",
    "        if x == 1 or x == 0:\n",
    "            return False\n",
    "        primo = True\n",
    "        j = 2\n",
    "        while j < x:\n",
    "            if x % j == 0:\n",
    "                return False\n",
    "            j += 1\n",
    "        return print(primo)\n",
    "\n",
    "    def moda(self, lista):\n",
    "        self.lista = lista\n",
    "        lista_cont = {}\n",
    "        for x in lista:\n",
    "            n = 0\n",
    "            for y in lista:\n",
    "                if y == x:\n",
    "                    n+=1\n",
    "                lista_cont[x] = n\n",
    "        return ((max(lista_cont, key=lista_cont.get),max(lista_cont.values())))\n",
    "\n",
    "    def tempconv(self,valor,origen,destino):\n",
    "        self.valor = valor\n",
    "        self.origen = origen\n",
    "        self.destino = destino\n",
    "        if origen == destino:\n",
    "            return None\n",
    "        if origen == \"Celcius\":\n",
    "            if destino == \"Farenheit\":\n",
    "                temp = (valor * 9/5) + 32\n",
    "            if destino == \"Kelvin\":\n",
    "                temp = valor + 273.15\n",
    "        if origen == \"Farenheit\":\n",
    "            if destino == \"Celcius\":\n",
    "                temp = (valor - 32) * 5/9\n",
    "            if destino == \"Kelvin\":\n",
    "                temp = (valor - 32) * 5/9 + 273.15\n",
    "        if origen == \"Kelvin\":\n",
    "            if destino == \"Celcius\":\n",
    "                temp = valor - 273.15\n",
    "            if destino == \"Farenheit\":\n",
    "                temp = (valor - 273.15) * 9/5 + 32\n",
    "\n",
    "        print (valor,\"°\",origen[0],\"=\",temp,\"°\",destino[0])\n",
    "\n",
    "    def factorial(self, n):\n",
    "        self.n = n\n",
    "        if n < 0 or type(n) is not int:\n",
    "            return print(\"Valor incorrecto\")\n",
    "        if n == 1:\n",
    "            return 1\n",
    "        else:\n",
    "            fact = n\n",
    "            for x in range(0,n):\n",
    "                fact = n * self.factorial(n-1)\n",
    "            return fact"
   ]
  },
  {
   "cell_type": "markdown",
   "metadata": {},
   "source": [
    "\n",
    "8) Crear un archivo .py aparte y ubicar allí la clase generada en el punto anterior. Luego realizar la importación del módulo y probar alguna de sus funciones"
   ]
  }
 ],
 "metadata": {
  "interpreter": {
   "hash": "2be5faf79681da6f2a61fdfdd5405d65d042280f7fba6178067603e3a2925119"
  },
  "kernelspec": {
   "display_name": "Python 3.10.2 64-bit",
   "language": "python",
   "name": "python3"
  },
  "language_info": {
   "codemirror_mode": {
    "name": "ipython",
    "version": 3
   },
   "file_extension": ".py",
   "mimetype": "text/x-python",
   "name": "python",
   "nbconvert_exporter": "python",
   "pygments_lexer": "ipython3",
   "version": "3.10.2"
  },
  "orig_nbformat": 4
 },
 "nbformat": 4,
 "nbformat_minor": 2
}
