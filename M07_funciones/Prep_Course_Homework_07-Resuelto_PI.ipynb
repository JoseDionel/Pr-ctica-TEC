{
 "cells": [
  {
   "attachments": {},
   "cell_type": "markdown",
   "metadata": {},
   "source": [
    "## Funciones"
   ]
  },
  {
   "attachments": {},
   "cell_type": "markdown",
   "metadata": {},
   "source": [
    "1) Crear una función que reciba un número como parámetro y devuelva True si es primo y False si no lo es"
   ]
  },
  {
   "cell_type": "code",
   "execution_count": 16,
   "metadata": {},
   "outputs": [],
   "source": [
    "def Primo(numero):\n",
    "    primo = True\n",
    "    numero = int(numero)\n",
    "    for i in range(3,numero):\n",
    "        if numero % i == 0:\n",
    "            primo= False\n",
    "    return(primo)"
   ]
  },
  {
   "cell_type": "code",
   "execution_count": 23,
   "metadata": {},
   "outputs": [
    {
     "data": {
      "text/plain": [
       "True"
      ]
     },
     "execution_count": 23,
     "metadata": {},
     "output_type": "execute_result"
    }
   ],
   "source": [
    "Primo(-6)"
   ]
  },
  {
   "attachments": {},
   "cell_type": "markdown",
   "metadata": {},
   "source": [
    "2) Utilizando la función del punto 1, realizar otra función que reciba de parámetro una lista de números y devuelva sólo aquellos que son primos en otra lista"
   ]
  },
  {
   "cell_type": "code",
   "execution_count": 39,
   "metadata": {},
   "outputs": [],
   "source": [
    "def Primo(lista):\n",
    "    resultados=[]\n",
    "    for j in lista:\n",
    "        j=int(j)\n",
    "        primo = True\n",
    "        for k in range(3,j):\n",
    "            if j % k == 0:\n",
    "                primo= False\n",
    "        resultados.append(primo)\n",
    "                        \n",
    "    return(resultados)"
   ]
  },
  {
   "cell_type": "code",
   "execution_count": 40,
   "metadata": {},
   "outputs": [
    {
     "data": {
      "text/plain": [
       "[False, False, False, True, True, False, False]"
      ]
     },
     "execution_count": 40,
     "metadata": {},
     "output_type": "execute_result"
    }
   ],
   "source": [
    "numers =[56,24,87,23,17,69,54]\n",
    "\n",
    "Primo(numers)"
   ]
  },
  {
   "attachments": {},
   "cell_type": "markdown",
   "metadata": {},
   "source": [
    "3) Crear una función que al recibir una lista de números, devuelva el que más se repite y cuántas veces lo hace. Si hay más de un \"más repetido\", que devuelva cualquiera"
   ]
  },
  {
   "cell_type": "code",
   "execution_count": 80,
   "metadata": {},
   "outputs": [],
   "source": [
    "def Modal(lista_de_numeros):\n",
    "    conteo = dict()\n",
    "    for i in lista_de_numeros:\n",
    "        if i not in conteo:\n",
    "            conteo[i] = 1\n",
    "        else:\n",
    "            conteo[i] += 1\n",
    "\n",
    "    mayor = 0\n",
    "    for j in conteo:\n",
    "        if conteo[j] > mayor:\n",
    "            mayor = conteo[j]\n",
    "            numero = j\n",
    "                \n",
    "    return('El', numero ,'se repite', mayor, 'veces')"
   ]
  },
  {
   "cell_type": "code",
   "execution_count": 73,
   "metadata": {},
   "outputs": [],
   "source": [
    "num=[64,66,\t89,\t85,\t61,\t76,\t80,\t71,\t69,\t71,\t79,\t62,\t65,\t76,\t65,\t89,\t58,\t87,\t59,\t85,\t83,\t62,\t73,\t59,\t81,\t89,\t79,\t88,\t63,\t61,\t88,\t85,\t64,\t64,\t81,\t89,\t63,\t73,\t87,\t86,\t63,\t65,\t74,\t66,\t58,\t82,\t80,\t60,\t70,\t66,\t72,\t62,\t76,\t80,\t70,\t67,\t74,\t78,\t78,\t64,\t62,\t77,\t72,\t64,\t87,\t79,\t85,\t59,\t87,\t88,\t56,\t68,\t73,\t70,\t78,\t57,\t61,\t85,\t57,\t78,\t62,\t66,\t87,\t67,\t78,\t82,\t72,\t56,\t59,\t76,\t56,\t58,\t85,\t68,\t66,\t86,\t67,\t85,\t74,\t83,\t70,\t57,\t68,\t83,\t82,\t63,\t88,\t76,\t81,\t84,\t58,\t79,\t89,\t78,\t67,\t67,\t61,\t62,\t75,\t77,\t81,\t58,\t57,\t77,\t80,\t70,\t71,\t84,\t69,\t89,\t74,\t71,\t66,\t65,\t63,\t58,\t68,\t73,\t64,\t56,\t67,\t66,\t68,\t88,\t57,\t75,\t87,\t61,\t89,\t85,\t74,\t83,\t89,\t87,\t85,\t79,\t82,\t84,\t83,\t69,\t74,\t74,\t69,\t68,\t84,\t84,\t70,\t72,\t84,\t81,\t84,\t85,\t81,\t66,\t67,\t86,\t63,\t70,\t76,\t68,\t56,\t68,\t78,\t78,\t59]"
   ]
  },
  {
   "cell_type": "code",
   "execution_count": 83,
   "metadata": {},
   "outputs": [
    {
     "data": {
      "text/plain": [
       "('El', 1, 'se repite', 7, 'veces')"
      ]
     },
     "execution_count": 83,
     "metadata": {},
     "output_type": "execute_result"
    }
   ],
   "source": [
    "b=[1,1,1,2,3,4,5,6,1,2,3,1,4,5,6,1,7,1]\n",
    "Modal(b)"
   ]
  },
  {
   "cell_type": "code",
   "execution_count": 84,
   "metadata": {},
   "outputs": [
    {
     "data": {
      "text/plain": [
       "('El', 85, 'se repite', 10, 'veces')"
      ]
     },
     "execution_count": 84,
     "metadata": {},
     "output_type": "execute_result"
    }
   ],
   "source": [
    "Modal(num)"
   ]
  },
  {
   "attachments": {},
   "cell_type": "markdown",
   "metadata": {},
   "source": [
    "4) Crear una función que convierta entre grados Celsius, Farenheit y Kelvin<br>\n",
    "Fórmula 1\t: (°C × 9/5) + 32 = °F<br>\n",
    "Fórmula 2\t: °C + 273.15 = °K<br>\n",
    "Debe recibir 3 parámetros: el valor, la medida de orígen y la medida de destino\n"
   ]
  },
  {
   "cell_type": "code",
   "execution_count": 3,
   "metadata": {},
   "outputs": [],
   "source": [
    "def Grados(valor, origen, destino):\n",
    "    c = 'Celsius'\n",
    "    f = 'Farenheit'\n",
    "    k = 'Kelvin'\n",
    "    if origen == c:\n",
    "        if destino == c:\n",
    "            valor_final = valor\n",
    "            unidad = '°C'\n",
    "        elif destino == f:\n",
    "            valor_final = (valor*9/5) + 32\n",
    "            unidad = '°F'\n",
    "        elif destino == k:\n",
    "            valor_final = valor + 273\n",
    "            unidad = '°K'\n",
    "        else:\n",
    "            print('Hay un error en la unidad de destino')\n",
    "    elif origen == f:\n",
    "        if destino == c:\n",
    "            valor_final = (valor - 32)*5/9 \n",
    "            unidad = '°C'\n",
    "        elif destino == f:\n",
    "            valor_final = valor\n",
    "            unidad = '°F'\n",
    "        elif destino == k:\n",
    "            valor_final = (valor + 459.67) * 5/9\n",
    "            unidad = '°K'\n",
    "        else:\n",
    "            print('Hay un error en la unidad de destino')\n",
    "    elif origen == k:\n",
    "        if destino == c:\n",
    "            valor_final = valor -273\n",
    "            unidad = '°C'\n",
    "        elif destino == f:\n",
    "            valor_final = valor*9/5 - 459.67\n",
    "            unidad = '°F'\n",
    "        elif destino == k:\n",
    "            valor_final = valor\n",
    "            unidad = '°K'   \n",
    "        else:\n",
    "            print('Hay un error en la unidad de destino')\n",
    "    else:\n",
    "        print('Hay un error en la unidad de origen')\n",
    "\n",
    "    return( valor, 'en ', origen, 'son', valor_final, unidad)"
   ]
  },
  {
   "cell_type": "code",
   "execution_count": 11,
   "metadata": {},
   "outputs": [
    {
     "data": {
      "text/plain": [
       "(273, 'en ', 'Kelvin', 'son', 0, '°C')"
      ]
     },
     "execution_count": 11,
     "metadata": {},
     "output_type": "execute_result"
    }
   ],
   "source": [
    "Grados(273, 'Kelvin' ,'Celsius')"
   ]
  },
  {
   "attachments": {},
   "cell_type": "markdown",
   "metadata": {},
   "source": [
    "5) Iterando una lista con los tres valores posibles de temperatura que recibe la función del punto 5, hacer un print para cada combinación de los mismos:"
   ]
  },
  {
   "cell_type": "code",
   "execution_count": 4,
   "metadata": {},
   "outputs": [
    {
     "name": "stdout",
     "output_type": "stream",
     "text": [
      "1 grado Celsius a Celsius : (1, 'en ', 'Celsius', 'son', 1, '°C')\n",
      "1 grado Celsius a Kelvin : (1, 'en ', 'Celsius', 'son', 274, '°K')\n",
      "1 grado Celsius a Farenheit : (1, 'en ', 'Celsius', 'son', 33.8, '°F')\n",
      "1 grado Kelvin a Celsius : (1, 'en ', 'Kelvin', 'son', -272, '°C')\n",
      "1 grado Kelvin a Kelvin : (1, 'en ', 'Kelvin', 'son', 1, '°K')\n",
      "1 grado Kelvin a Farenheit : (1, 'en ', 'Kelvin', 'son', -457.87, '°F')\n",
      "1 grado Farenheit a Celsius : (1, 'en ', 'Farenheit', 'son', -17.22222222222222, '°C')\n",
      "1 grado Farenheit a Kelvin : (1, 'en ', 'Farenheit', 'son', 255.92777777777778, '°K')\n",
      "1 grado Farenheit a Farenheit : (1, 'en ', 'Farenheit', 'son', 1, '°F')\n"
     ]
    }
   ],
   "source": [
    "metricas = ['Celsius', 'Kelvin', 'Farenheit']  # Lista de las unidades métricas\n",
    "\n",
    "for i in range(0, 3):  # Bucle exterior que itera sobre los índices de la lista de metricas\n",
    "    for j in range(0, 3):  # Bucle interior que itera sobre los índices de la lista de metricas\n",
    "        # Se imprime la conversión de 1 grado desde la unidad métrica en el índice i a la unidad métrica en el índice j\n",
    "        # utilizando la función de conversión_grados\n",
    "        print('1 grado', metricas[i], 'a', metricas[j], ':', Grados(1, metricas[i], metricas[j]))"
   ]
  },
  {
   "attachments": {},
   "cell_type": "markdown",
   "metadata": {},
   "source": [
    "6) Armar una función que devuelva el factorial de un número. Tener en cuenta que el usuario puede equivocarse y enviar de parámetro un número no entero o negativo"
   ]
  },
  {
   "cell_type": "code",
   "execution_count": 40,
   "metadata": {},
   "outputs": [],
   "source": [
    "def Factorial(nro):\n",
    "    fact = 1\n",
    "\n",
    "    if type(nro) == int:\n",
    "        if nro >= 0:\n",
    "            for i in range(1,nro+1):\n",
    "                fact *= i \n",
    "            print('el resultado es', fact)   \n",
    "        else:\n",
    "            print('se debe ingresar un positivo')         \n",
    "    else:\n",
    "        print('se debe ingresar un entero')"
   ]
  },
  {
   "cell_type": "code",
   "execution_count": 46,
   "metadata": {},
   "outputs": [
    {
     "name": "stdout",
     "output_type": "stream",
     "text": [
      "el resultado es 3628800\n"
     ]
    }
   ],
   "source": [
    "Factorial(10)"
   ]
  },
  {
   "cell_type": "code",
   "execution_count": 42,
   "metadata": {},
   "outputs": [
    {
     "name": "stdout",
     "output_type": "stream",
     "text": [
      "se debe ingresar un positivo\n"
     ]
    }
   ],
   "source": [
    "Factorial(-5)"
   ]
  },
  {
   "cell_type": "code",
   "execution_count": 43,
   "metadata": {},
   "outputs": [
    {
     "name": "stdout",
     "output_type": "stream",
     "text": [
      "el resultado es 1\n"
     ]
    }
   ],
   "source": [
    "Factorial(0)"
   ]
  },
  {
   "cell_type": "code",
   "execution_count": 44,
   "metadata": {},
   "outputs": [
    {
     "name": "stdout",
     "output_type": "stream",
     "text": [
      "se debe ingresar un entero\n"
     ]
    }
   ],
   "source": [
    "Factorial(1.56)"
   ]
  }
 ],
 "metadata": {
  "interpreter": {
   "hash": "c85384e4cb51c8b72350f3a8712cc8351fdc3955e32a27f9b60c6242ab125f01"
  },
  "kernelspec": {
   "display_name": "Python 3 (ipykernel)",
   "language": "python",
   "name": "python3"
  },
  "language_info": {
   "codemirror_mode": {
    "name": "ipython",
    "version": 3
   },
   "file_extension": ".py",
   "mimetype": "text/x-python",
   "name": "python",
   "nbconvert_exporter": "python",
   "pygments_lexer": "ipython3",
   "version": "3.10.5"
  }
 },
 "nbformat": 4,
 "nbformat_minor": 4
}
