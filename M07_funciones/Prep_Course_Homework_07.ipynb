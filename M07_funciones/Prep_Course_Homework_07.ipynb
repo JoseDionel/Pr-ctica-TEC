{
 "cells": [
  {
   "attachments": {},
   "cell_type": "markdown",
   "metadata": {},
   "source": [
    "## Funciones"
   ]
  },
  {
   "attachments": {},
   "cell_type": "markdown",
   "metadata": {},
   "source": [
    "1) Crear una función que reciba un número como parámetro y devuelva True si es primo y False si no lo es"
   ]
  },
  {
   "cell_type": "code",
   "execution_count": 2,
   "metadata": {},
   "outputs": [],
   "source": [
    "def verificar_primo(numero):\n",
    "    es_primo = True\n",
    "    for divisor in range (2, numero):\n",
    "        if numero % divisor == 0:\n",
    "            es_primo = False\n",
    "            break \n",
    "    return es_primo        "
   ]
  },
  {
   "cell_type": "code",
   "execution_count": 9,
   "metadata": {},
   "outputs": [
    {
     "data": {
      "text/plain": [
       "True"
      ]
     },
     "execution_count": 9,
     "metadata": {},
     "output_type": "execute_result"
    }
   ],
   "source": [
    "verificar_primo(11)"
   ]
  },
  {
   "attachments": {},
   "cell_type": "markdown",
   "metadata": {},
   "source": [
    "2) Utilizando la función del punto 1, realizar otra función que reciba de parámetro una lista de números y devuelva sólo aquellos que son primos en otra lista"
   ]
  },
  {
   "cell_type": "code",
   "execution_count": 13,
   "metadata": {},
   "outputs": [],
   "source": [
    "def extraer_primos(lista):\n",
    "    lista_primos = []\n",
    "    for elemento in lista:\n",
    "        if verificar_primo(elemento) == True:\n",
    "            lista_primos.append(elemento)\n",
    "    return lista_primos    \n"
   ]
  },
  {
   "cell_type": "code",
   "execution_count": 16,
   "metadata": {},
   "outputs": [
    {
     "name": "stdout",
     "output_type": "stream",
     "text": [
      "[1, 2, 3, 4, 5, 6, 7, 8, 9, 10, 11, 12, 13, 14, 15, 16, 17, 18, 19, 20, 21, 22, 23, 24, 25]\n"
     ]
    }
   ],
   "source": [
    "lista_numeros = list (range (1, 26))\n",
    "print(lista_numeros)"
   ]
  },
  {
   "cell_type": "code",
   "execution_count": 17,
   "metadata": {},
   "outputs": [
    {
     "data": {
      "text/plain": [
       "[1, 2, 3, 5, 7, 11, 13, 17, 19, 23]"
      ]
     },
     "execution_count": 17,
     "metadata": {},
     "output_type": "execute_result"
    }
   ],
   "source": [
    "extraer_primos(lista_numeros)"
   ]
  },
  {
   "attachments": {},
   "cell_type": "markdown",
   "metadata": {},
   "source": [
    "3) Crear una función que al recibir una lista de números, devuelva el que más se repite y cuántas veces lo hace. Si hay más de un \"más repetido\", que devuelva cualquiera"
   ]
  },
  {
   "cell_type": "code",
   "execution_count": 22,
   "metadata": {},
   "outputs": [
    {
     "data": {
      "text/plain": [
       "Counter({'a': 3, 'b': 1, 'c': 1})"
      ]
     },
     "execution_count": 22,
     "metadata": {},
     "output_type": "execute_result"
    }
   ],
   "source": [
    "from collections import Counter             #Utilizando el modulo Counter \n",
    "lista_prueba = [\"a\", \"a\", \"a\", \"b\", \"c\"]\n",
    "diccionario_prueba = Counter(lista_prueba)  #Devuelve un diccionario con la cantidad de veces que se repiten los elementos\n",
    "diccionario_prueba"
   ]
  },
  {
   "cell_type": "code",
   "execution_count": 24,
   "metadata": {},
   "outputs": [
    {
     "data": {
      "text/plain": [
       "3"
      ]
     },
     "execution_count": 24,
     "metadata": {},
     "output_type": "execute_result"
    }
   ],
   "source": [
    "diccionario_prueba.get(\"a\")     #la función get nos devuelve el valor asociado a una clave / llave"
   ]
  },
  {
   "cell_type": "code",
   "execution_count": 51,
   "metadata": {},
   "outputs": [],
   "source": [
    "def calcular_moda(lista):       ## La función devuelve una tupla con la llave y la cantida de veces que se repite\n",
    "    conteo = Counter(lista)     # Genera un diccionario con los elementos y su numero de repeticiones\n",
    "    llave = max(conteo, key = conteo.get) # Itera entre los elementos de conteo, devulve la llave de asociada a la mayor cantidad de repeticiones(.get) \n",
    "    valor = conteo[llave] # utilizamos la llave obtenida para acceder al valor\n",
    "\n",
    "    return llave, valor"
   ]
  },
  {
   "cell_type": "code",
   "execution_count": 52,
   "metadata": {},
   "outputs": [
    {
     "name": "stdout",
     "output_type": "stream",
     "text": [
      "El número 1 es el que más se repite, 3 veces\n"
     ]
    }
   ],
   "source": [
    "lista_numeros = [1, 1, 1, 4, 7, 4, 9, 10]\n",
    "numero, repeticiones = calcular_moda(lista_numeros) # Desempaquetado de la tupla\n",
    "print(f\"El número {numero} es el que más se repite, {repeticiones} veces\")"
   ]
  },
  {
   "attachments": {},
   "cell_type": "markdown",
   "metadata": {},
   "source": [
    "4) Crear una función que convierta entre grados Celsius, Farenheit y Kelvin<br>\n",
    "Fórmula 1\t: (°C × 9/5) + 32 = °F<br>\n",
    "Fórmula 2\t: °C + 273.15 = °K<br>\n",
    "Debe recibir 3 parámetros: el valor, la medida de orígen y la medida de destino\n"
   ]
  },
  {
   "cell_type": "code",
   "execution_count": 18,
   "metadata": {},
   "outputs": [],
   "source": [
    "def convertir_grados( valor, origen, destino):\n",
    "    \n",
    "    if origen == \"Celsius\":\n",
    "        if destino  == \"Celsius\":\n",
    "            valor_destino = valor\n",
    "        elif destino == \"Farenheit\":\n",
    "            valor_destino = (valor * 9/5) + 32\n",
    "        elif destino == \"Kelvin\":\n",
    "            valor_destino = valor + 273.15\n",
    "        else:\n",
    "            print(\"Debe ingresar un destino correcto\")\n",
    "    \n",
    "    if origen == \"Farenheit\":\n",
    "        if destino == \"Celsius\":\n",
    "            valor_destino = (valor -32) * 5/9\n",
    "        elif destino == \"Farenheit\":\n",
    "            valor_destino = valor_destino       \n",
    "        elif destino == \"Kelvin\":\n",
    "            valor_destino = ((valor - 32 )* 5/9) + 273.15\n",
    "        else:\n",
    "            print(\"Debe ingresar un destino correcto\")    \n",
    "    \n",
    "    if origen == \"Kelvin\":\n",
    "        if destino == \"Celsius\":\n",
    "            valor_destino = valor - 273.15 \n",
    "        elif destino == \"Farenheit\":\n",
    "            valor_destino = ((valor - 273.15) * 9/5) + 32\n",
    "        elif destino == \"Kelvin\":\n",
    "            valor_destino = valor\n",
    "        else:\n",
    "            print(\"Debe ingresar un destino correcto\")\n",
    "\n",
    "    return valor_destino"
   ]
  },
  {
   "cell_type": "code",
   "execution_count": 16,
   "metadata": {},
   "outputs": [
    {
     "data": {
      "text/plain": [
       "50.0"
      ]
     },
     "execution_count": 16,
     "metadata": {},
     "output_type": "execute_result"
    }
   ],
   "source": [
    "convertir_grados(10, \"Celsius\", \"Farenheit\")"
   ]
  },
  {
   "attachments": {},
   "cell_type": "markdown",
   "metadata": {},
   "source": [
    "5) Iterando una lista con los tres valores posibles de temperatura que recibe la función del punto 5, hacer un print para cada combinación de los mismos:"
   ]
  },
  {
   "cell_type": "code",
   "execution_count": 21,
   "metadata": {},
   "outputs": [
    {
     "name": "stdout",
     "output_type": "stream",
     "text": [
      " 1 grado de Celsius a Celsius es igul a 2\n",
      " 1 grado de Celsius a Kelvin es igul a 275.15\n",
      " 1 grado de Celsius a Farenheit es igul a 35.6\n",
      " 1 grado de Kelvin a Celsius es igul a -271.15\n",
      " 1 grado de Kelvin a Kelvin es igul a 2\n",
      " 1 grado de Kelvin a Farenheit es igul a -456.07\n",
      " 1 grado de Farenheit a Celsius es igul a -16.666666666666668\n",
      " 1 grado de Farenheit a Kelvin es igul a 256.4833333333333\n"
     ]
    },
    {
     "ename": "UnboundLocalError",
     "evalue": "cannot access local variable 'valor_destino' where it is not associated with a value",
     "output_type": "error",
     "traceback": [
      "\u001b[1;31m---------------------------------------------------------------------------\u001b[0m",
      "\u001b[1;31mUnboundLocalError\u001b[0m                         Traceback (most recent call last)",
      "Cell \u001b[1;32mIn[21], line 4\u001b[0m\n\u001b[0;32m      2\u001b[0m \u001b[38;5;28;01mfor\u001b[39;00m indice_origen \u001b[38;5;129;01min\u001b[39;00m \u001b[38;5;28mrange\u001b[39m(\u001b[38;5;241m0\u001b[39m, \u001b[38;5;241m3\u001b[39m):\n\u001b[0;32m      3\u001b[0m     \u001b[38;5;28;01mfor\u001b[39;00m indice_destino \u001b[38;5;129;01min\u001b[39;00m \u001b[38;5;28mrange\u001b[39m (\u001b[38;5;241m0\u001b[39m, \u001b[38;5;241m3\u001b[39m):\n\u001b[1;32m----> 4\u001b[0m         valor_funcion \u001b[38;5;241m=\u001b[39m \u001b[43mconvertir_grados\u001b[49m\u001b[43m(\u001b[49m\u001b[38;5;241;43m2\u001b[39;49m\u001b[43m,\u001b[49m\u001b[43m \u001b[49m\u001b[43mmagnitudes\u001b[49m\u001b[43m[\u001b[49m\u001b[43mindice_origen\u001b[49m\u001b[43m]\u001b[49m\u001b[43m,\u001b[49m\u001b[43m \u001b[49m\u001b[43mmagnitudes\u001b[49m\u001b[43m[\u001b[49m\u001b[43mindice_destino\u001b[49m\u001b[43m]\u001b[49m\u001b[43m \u001b[49m\u001b[43m)\u001b[49m\n\u001b[0;32m      5\u001b[0m         \u001b[38;5;28mprint\u001b[39m(\u001b[38;5;124mf\u001b[39m\u001b[38;5;124m\"\u001b[39m\u001b[38;5;124m 1 grado de \u001b[39m\u001b[38;5;132;01m{\u001b[39;00mmagnitudes[indice_origen]\u001b[38;5;132;01m}\u001b[39;00m\u001b[38;5;124m a \u001b[39m\u001b[38;5;132;01m{\u001b[39;00mmagnitudes[indice_destino]\u001b[38;5;132;01m}\u001b[39;00m\u001b[38;5;124m es igul a \u001b[39m\u001b[38;5;132;01m{\u001b[39;00mvalor_funcion\u001b[38;5;132;01m}\u001b[39;00m\u001b[38;5;124m\"\u001b[39m)\n",
      "Cell \u001b[1;32mIn[18], line 17\u001b[0m, in \u001b[0;36mconvertir_grados\u001b[1;34m(valor, origen, destino)\u001b[0m\n\u001b[0;32m     15\u001b[0m     valor_destino \u001b[38;5;241m=\u001b[39m (valor \u001b[38;5;241m-\u001b[39m\u001b[38;5;241m32\u001b[39m) \u001b[38;5;241m*\u001b[39m \u001b[38;5;241m5\u001b[39m\u001b[38;5;241m/\u001b[39m\u001b[38;5;241m9\u001b[39m\n\u001b[0;32m     16\u001b[0m \u001b[38;5;28;01melif\u001b[39;00m destino \u001b[38;5;241m==\u001b[39m \u001b[38;5;124m\"\u001b[39m\u001b[38;5;124mFarenheit\u001b[39m\u001b[38;5;124m\"\u001b[39m:\n\u001b[1;32m---> 17\u001b[0m     valor_destino \u001b[38;5;241m=\u001b[39m \u001b[43mvalor_destino\u001b[49m       \n\u001b[0;32m     18\u001b[0m \u001b[38;5;28;01melif\u001b[39;00m destino \u001b[38;5;241m==\u001b[39m \u001b[38;5;124m\"\u001b[39m\u001b[38;5;124mKelvin\u001b[39m\u001b[38;5;124m\"\u001b[39m:\n\u001b[0;32m     19\u001b[0m     valor_destino \u001b[38;5;241m=\u001b[39m ((valor \u001b[38;5;241m-\u001b[39m \u001b[38;5;241m32\u001b[39m )\u001b[38;5;241m*\u001b[39m \u001b[38;5;241m5\u001b[39m\u001b[38;5;241m/\u001b[39m\u001b[38;5;241m9\u001b[39m) \u001b[38;5;241m+\u001b[39m \u001b[38;5;241m273.15\u001b[39m\n",
      "\u001b[1;31mUnboundLocalError\u001b[0m: cannot access local variable 'valor_destino' where it is not associated with a value"
     ]
    }
   ],
   "source": [
    "magnitudes = [\"Celsius\", \"Kelvin\", \"Farenheit\"]\n",
    "for indice_origen in range(0, 3):\n",
    "    for indice_destino in range (0, 3):\n",
    "        valor_funcion = convertir_grados(2, magnitudes[indice_origen], magnitudes[indice_destino] )\n",
    "        print(f\" 1 grado de {magnitudes[indice_origen]} a {magnitudes[indice_destino]} es igul a {valor_funcion}\")"
   ]
  },
  {
   "attachments": {},
   "cell_type": "markdown",
   "metadata": {},
   "source": [
    "6) Armar una función que devuelva el factorial de un número. Tener en cuenta que el usuario puede equivocarse y enviar de parámetro un número no entero o negativo"
   ]
  },
  {
   "cell_type": "code",
   "execution_count": 27,
   "metadata": {},
   "outputs": [],
   "source": [
    "def calcular_factorial (numero):\n",
    "    if type(numero) != int:\n",
    "        return \"La entrada debe ser in entero\"\n",
    "    if numero <= 0:\n",
    "        return \"La entrada debe ser un positivo\"\n",
    "    if numero == 1:\n",
    "        return 1\n",
    "    numero = numero * calcular_factorial(numero - 1)\n",
    "\n",
    "    return numero"
   ]
  },
  {
   "cell_type": "code",
   "execution_count": 28,
   "metadata": {},
   "outputs": [
    {
     "data": {
      "text/plain": [
       "120"
      ]
     },
     "execution_count": 28,
     "metadata": {},
     "output_type": "execute_result"
    }
   ],
   "source": [
    "calcular_factorial(5)"
   ]
  }
 ],
 "metadata": {
  "interpreter": {
   "hash": "c85384e4cb51c8b72350f3a8712cc8351fdc3955e32a27f9b60c6242ab125f01"
  },
  "kernelspec": {
   "display_name": "Python 3 (ipykernel)",
   "language": "python",
   "name": "python3"
  },
  "language_info": {
   "codemirror_mode": {
    "name": "ipython",
    "version": 3
   },
   "file_extension": ".py",
   "mimetype": "text/x-python",
   "name": "python",
   "nbconvert_exporter": "python",
   "pygments_lexer": "ipython3",
   "version": "3.12.0"
  }
 },
 "nbformat": 4,
 "nbformat_minor": 4
}
