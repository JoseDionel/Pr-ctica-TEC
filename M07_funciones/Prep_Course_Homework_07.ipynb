{
 "cells": [
  {
   "attachments": {},
   "cell_type": "markdown",
   "metadata": {},
   "source": [
    "## Funciones"
   ]
  },
  {
   "attachments": {},
   "cell_type": "markdown",
   "metadata": {},
   "source": [
    "1) Crear una función que reciba un número como parámetro y devuelva True si es primo y False si no lo es"
   ]
  },
  {
   "cell_type": "code",
   "execution_count": 17,
   "metadata": {},
   "outputs": [
    {
     "data": {
      "text/plain": [
       "True"
      ]
     },
     "execution_count": 17,
     "metadata": {},
     "output_type": "execute_result"
    }
   ],
   "source": [
    "def ValidarPrimo(Numero):\n",
    "    EsPrimo = True\n",
    "    for div in range(2, Numero):\n",
    "        if (Numero % div == 0):\n",
    "            EsPrimo = False\n",
    "            break\n",
    "    return EsPrimo\n",
    "EsPrimo(17)"
   ]
  },
  {
   "attachments": {},
   "cell_type": "markdown",
   "metadata": {},
   "source": [
    "2) Utilizando la función del punto 1, realizar otra función que reciba de parámetro una lista de números y devuelva sólo aquellos que son primos en otra lista"
   ]
  },
  {
   "cell_type": "code",
   "execution_count": 25,
   "metadata": {},
   "outputs": [],
   "source": [
    "def EvaluaNumeros(Listado):\n",
    "    ListaPrimos = []\n",
    "    for i in Listado:\n",
    "        if (ValidarPrimo(int(i))):\n",
    "            ListaPrimos.append(i)\n",
    "    return ListaPrimos\n"
   ]
  },
  {
   "attachments": {},
   "cell_type": "markdown",
   "metadata": {},
   "source": [
    "3) Crear una función que al recibir una lista de números, devuelva el que más se repite y cuántas veces lo hace. Si hay más de un \"más repetido\", que devuelva cualquiera"
   ]
  },
  {
   "cell_type": "code",
   "execution_count": 106,
   "metadata": {},
   "outputs": [
    {
     "name": "stdout",
     "output_type": "stream",
     "text": [
      "(11, 1)\n"
     ]
    }
   ],
   "source": [
    "Lista3 = [11,2,233,1]\n",
    "def ContarDuplicados(ListaDeEvaluacion):\n",
    "    i = 0\n",
    "    TotalRepeticiones = 0\n",
    "    MasRepetido = 0\n",
    "    for Elemento in ListaDeEvaluacion:\n",
    "        Repeticiones = 0\n",
    "        j = 0   \n",
    "        for Elemento in Lista3:\n",
    "            if (ListaDeEvaluacion[i] == ListaDeEvaluacion[j]):\n",
    "                Repeticiones+=1\n",
    "            j+=1\n",
    "        if(TotalRepeticiones < Repeticiones):\n",
    "            TotalRepeticiones = Repeticiones\n",
    "            MasRepetido = ListaDeEvaluacion[i]\n",
    "        i+=1\n",
    "    return MasRepetido,TotalRepeticiones\n",
    "\n",
    "print(ContarDuplicados(Lista3))\n"
   ]
  },
  {
   "attachments": {},
   "cell_type": "markdown",
   "metadata": {},
   "source": [
    "4) Crear una función que convierta entre grados Celsius, Farenheit y Kelvin<br>\n",
    "Fórmula 1\t: (°C × 9/5) + 32 = °F<br>\n",
    "Fórmula 2\t: °C + 273.15 = °K<br>\n",
    "Debe recibir 3 parámetros: el valor, la medida de orígen y la medida de destino\n"
   ]
  },
  {
   "cell_type": "code",
   "execution_count": 140,
   "metadata": {},
   "outputs": [],
   "source": [
    "def ConvertirGrados(Grados,Origen,Destino):\n",
    "    if(Origen == \"Celsius\" and Destino == \"Farenheit\"):\n",
    "        Resultado = (Grados * 1.8) + 32\n",
    "    elif (Origen == \"Celsius\" and Destino == \"Kelvin\"):\n",
    "        Resultado = Grados + 273.15\n",
    "    elif (Origen == \"Celsius\" and Destino == \"Celsius\"):\n",
    "        Resultado = Grados\n",
    "    elif (Origen == \"Farenheit\" and Destino == \"Celsius\"):\n",
    "        Resultado = (Grados - 32) * (5/9)\n",
    "    elif (Origen == \"Farenheit\" and Destino == \"Kelvin\"):\n",
    "        Resultado = (Grados - 32) * (5/9) + 273.15\n",
    "    elif (Origen == \"Farenheit\" and Destino == \"Farenheit\"):\n",
    "        Resultado = Grados\n",
    "    elif (Origen == \"Kelvin\" and Destino == \"Celsius\"):\n",
    "        Resultado = (Grados - 273.15)\n",
    "    elif (Origen == \"Kelvin\" and Destino == \"Farenheit\"):\n",
    "        Resultado = (Grados - 273.15) * (9/5) + 32\n",
    "    elif (Origen == \"Kelvin\" and Destino == \"Kelvin\"):\n",
    "        Resultado = Grados\n",
    "    else:\n",
    "        print(\"Parámetros incorrectos\")\n",
    "    \n",
    "    return Resultado"
   ]
  },
  {
   "cell_type": "code",
   "execution_count": 149,
   "metadata": {},
   "outputs": [
    {
     "name": "stdout",
     "output_type": "stream",
     "text": [
      "1 grado Celsius a Celsius: 1\n",
      "1 grado Celsius a Kelvin: 274.15\n",
      "1 grado Celsius a Farenheit: 33.8\n",
      "1 grado Kelvin a Celsius: -272.15\n",
      "1 grado Kelvin a Kelvin: 1\n",
      "1 grado Kelvin a Farenheit: -457.86999999999995\n",
      "1 grado Farenheit a Celsius: -17.22222222222222\n",
      "1 grado Farenheit a Kelvin: 255.92777777777775\n",
      "1 grado Farenheit a Farenheit: 1\n"
     ]
    }
   ],
   "source": [
    "print('1 grado Celsius a Celsius:', ConvertirGrados(1, 'Celsius', 'Celsius'))\n",
    "print('1 grado Celsius a Kelvin:', ConvertirGrados(1, 'Celsius', 'Kelvin'))\n",
    "print('1 grado Celsius a Farenheit:', ConvertirGrados(1, 'Celsius', 'Farenheit'))\n",
    "print('1 grado Kelvin a Celsius:', ConvertirGrados(1, 'Kelvin', 'Celsius'))\n",
    "print('1 grado Kelvin a Kelvin:', ConvertirGrados(1, 'Kelvin', 'Kelvin'))\n",
    "print('1 grado Kelvin a Farenheit:', ConvertirGrados(1, 'Kelvin', 'Farenheit'))\n",
    "print('1 grado Farenheit a Celsius:', ConvertirGrados(1, 'Farenheit', 'Celsius'))\n",
    "print('1 grado Farenheit a Kelvin:', ConvertirGrados(1, 'Farenheit', 'Kelvin'))\n",
    "print('1 grado Farenheit a Farenheit:', ConvertirGrados(1, 'Farenheit', 'Farenheit'))"
   ]
  },
  {
   "attachments": {},
   "cell_type": "markdown",
   "metadata": {},
   "source": [
    "5) Iterando una lista con los tres valores posibles de temperatura que recibe la función del punto 5, hacer un print para cada combinación de los mismos:"
   ]
  },
  {
   "cell_type": "code",
   "execution_count": 159,
   "metadata": {},
   "outputs": [
    {
     "name": "stdout",
     "output_type": "stream",
     "text": [
      "1 Grado en:  Celsius convertido a  Celsius Es:  1\n",
      "1 Grado en:  Celsius convertido a  Farenheit Es:  33.8\n",
      "1 Grado en:  Celsius convertido a  Kelvin Es:  274.15\n",
      "1 Grado en:  Farenheit convertido a  Celsius Es:  -17.22222222222222\n",
      "1 Grado en:  Farenheit convertido a  Farenheit Es:  1\n",
      "1 Grado en:  Farenheit convertido a  Kelvin Es:  255.92777777777775\n",
      "1 Grado en:  Kelvin convertido a  Celsius Es:  -272.15\n",
      "1 Grado en:  Kelvin convertido a  Farenheit Es:  -457.86999999999995\n",
      "1 Grado en:  Kelvin convertido a  Kelvin Es:  1\n"
     ]
    }
   ],
   "source": [
    "Temperaturas = [\"Celsius\",\"Farenheit\",\"Kelvin\"]\n",
    "for i in range(0,3):\n",
    "    for j in range(0,3):\n",
    "        print(\"1 Grado en: \", Temperaturas[i] + \" convertido a \" , Temperaturas[j] + \" Es: \" , ConvertirGrados(1,Temperaturas[i],Temperaturas[j]))\n"
   ]
  },
  {
   "attachments": {},
   "cell_type": "markdown",
   "metadata": {},
   "source": [
    "6) Armar una función que devuelva el factorial de un número. Tener en cuenta que el usuario puede equivocarse y enviar de parámetro un número no entero o negativo"
   ]
  },
  {
   "cell_type": "code",
   "execution_count": 164,
   "metadata": {},
   "outputs": [],
   "source": [
    "def Factorial(Numero):\n",
    "    if(type(Numero) != int):\n",
    "        return \"EL número debe de ser entero\"\n",
    "    \n",
    "    if(Numero < 0):\n",
    "        return \"El número debe de ser positivo\"\n",
    "    \n",
    "    if(Numero <= 1):\n",
    "        return 1\n",
    "    \n",
    "    Numero = Numero * Factorial(Numero -1)\n",
    "    return Numero"
   ]
  },
  {
   "cell_type": "code",
   "execution_count": 166,
   "metadata": {},
   "outputs": [
    {
     "name": "stdout",
     "output_type": "stream",
     "text": [
      "120\n",
      "El número debe de ser positivo\n",
      "EL número debe de ser entero\n",
      "EL número debe de ser entero\n"
     ]
    }
   ],
   "source": [
    "print(Factorial(5))\n",
    "print(Factorial(-5))\n",
    "print(Factorial(5.5))\n",
    "print(Factorial(\"String\"))"
   ]
  }
 ],
 "metadata": {
  "interpreter": {
   "hash": "c85384e4cb51c8b72350f3a8712cc8351fdc3955e32a27f9b60c6242ab125f01"
  },
  "kernelspec": {
   "display_name": "Python 3 (ipykernel)",
   "language": "python",
   "name": "python3"
  },
  "language_info": {
   "codemirror_mode": {
    "name": "ipython",
    "version": 3
   },
   "file_extension": ".py",
   "mimetype": "text/x-python",
   "name": "python",
   "nbconvert_exporter": "python",
   "pygments_lexer": "ipython3",
   "version": "3.9.7"
  }
 },
 "nbformat": 4,
 "nbformat_minor": 4
}
