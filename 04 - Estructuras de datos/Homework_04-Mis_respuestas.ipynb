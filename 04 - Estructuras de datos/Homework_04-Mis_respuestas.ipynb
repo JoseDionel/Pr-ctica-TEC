{
 "cells": [
  {
   "cell_type": "markdown",
   "metadata": {},
   "source": [
    "## Estructuras de Datos\n"
   ]
  },
  {
   "cell_type": "markdown",
   "metadata": {},
   "source": [
    "1) Crear una lista que contenga nombres de ciudades del mundo que contenga más de 5 elementos e imprimir por pantalla\n"
   ]
  },
  {
   "cell_type": "code",
   "execution_count": 1,
   "metadata": {},
   "outputs": [],
   "source": [
    "lista = ['Buenos Aires', 'Rio de Janeiro', 'New York', 'Paris', 'Montevideo','La Paz']"
   ]
  },
  {
   "cell_type": "markdown",
   "metadata": {},
   "source": [
    "2) Imprimir por pantalla el segundo elemento de la lista\n"
   ]
  },
  {
   "cell_type": "code",
   "execution_count": 2,
   "metadata": {},
   "outputs": [
    {
     "name": "stdout",
     "output_type": "stream",
     "text": [
      "Rio de Janeiro\n"
     ]
    }
   ],
   "source": [
    "print(lista[1])"
   ]
  },
  {
   "cell_type": "markdown",
   "metadata": {},
   "source": [
    "3) Imprimir por pantalla del segundo al cuarto elemento\n"
   ]
  },
  {
   "cell_type": "code",
   "execution_count": 3,
   "metadata": {},
   "outputs": [
    {
     "name": "stdout",
     "output_type": "stream",
     "text": [
      "Rio de Janeiro\n",
      "New York\n",
      "Paris\n"
     ]
    }
   ],
   "source": [
    "for x in lista[1:4]:\n",
    "    print(x)"
   ]
  },
  {
   "cell_type": "markdown",
   "metadata": {},
   "source": [
    "4) Visualizar el tipo de dato de la lista\n"
   ]
  },
  {
   "cell_type": "code",
   "execution_count": 4,
   "metadata": {},
   "outputs": [
    {
     "name": "stdout",
     "output_type": "stream",
     "text": [
      "<class 'list'>\n"
     ]
    }
   ],
   "source": [
    "print(type(lista))"
   ]
  },
  {
   "cell_type": "markdown",
   "metadata": {},
   "source": [
    "5) Visualizar todos los elementos de la lista a partir del tercero de manera genérica, es decir, sin explicitar la posición del último elemento\n"
   ]
  },
  {
   "cell_type": "code",
   "execution_count": 5,
   "metadata": {},
   "outputs": [
    {
     "data": {
      "text/plain": [
       "['New York', 'Paris', 'Montevideo', 'La Paz']"
      ]
     },
     "execution_count": 5,
     "metadata": {},
     "output_type": "execute_result"
    }
   ],
   "source": [
    "lista[2:]"
   ]
  },
  {
   "cell_type": "markdown",
   "metadata": {},
   "source": [
    "6) Visualizar los primeros 4 elementos de la lista\n"
   ]
  },
  {
   "cell_type": "code",
   "execution_count": 6,
   "metadata": {},
   "outputs": [
    {
     "data": {
      "text/plain": [
       "['Buenos Aires', 'Rio de Janeiro', 'New York', 'Paris']"
      ]
     },
     "execution_count": 6,
     "metadata": {},
     "output_type": "execute_result"
    }
   ],
   "source": [
    "lista[:4]"
   ]
  },
  {
   "cell_type": "markdown",
   "metadata": {},
   "source": [
    "7) Agregar una ciudad más a la lista que ya exista y otra que no ¿Arroja algún tipo de error?\n"
   ]
  },
  {
   "cell_type": "code",
   "execution_count": 8,
   "metadata": {},
   "outputs": [
    {
     "name": "stdout",
     "output_type": "stream",
     "text": [
      "['Buenos Aires', 'Rio de Janeiro', 'New York', 'Paris', 'Montevideo', 'La Paz', 'Rosario', 'Paris', 'Rosario', 'Paris']\n"
     ]
    }
   ],
   "source": [
    "lista.append('Rosario')\n",
    "lista.append('Paris')\n",
    "print(lista)"
   ]
  },
  {
   "cell_type": "markdown",
   "metadata": {},
   "source": [
    "8) Agregar otra ciudad, pero en la cuarta posición\n"
   ]
  },
  {
   "cell_type": "code",
   "execution_count": 33,
   "metadata": {},
   "outputs": [
    {
     "name": "stdout",
     "output_type": "stream",
     "text": [
      "['Buenos Aires', 'Rio de Janeiro', 'New York', 'Cordoba', 'Paris', 'Montevideo', 'La Paz', 'Rosario', 'Paris']\n"
     ]
    }
   ],
   "source": [
    "lista.insert(3,'Cordoba')\n",
    "print(lista)"
   ]
  },
  {
   "cell_type": "markdown",
   "metadata": {},
   "source": [
    "9) Concatenar otra lista a la ya creada\n"
   ]
  },
  {
   "cell_type": "code",
   "execution_count": 9,
   "metadata": {},
   "outputs": [
    {
     "name": "stdout",
     "output_type": "stream",
     "text": [
      "['Buenos Aires', 'Rio de Janeiro', 'New York', 'Paris', 'Montevideo', 'La Paz', 'Rosario', 'Paris', 'Rosario', 'Paris', 'Misiones', 'Mendoza']\n"
     ]
    }
   ],
   "source": [
    "list2 = ['Misiones','Mendoza']\n",
    "\n",
    "lista += list2\n",
    "\n",
    "print(lista)"
   ]
  },
  {
   "cell_type": "markdown",
   "metadata": {},
   "source": [
    "10) Encontrar el índice de la ciudad que en el punto 7 agregamos duplicada. ¿Se nota alguna particularidad?\n"
   ]
  },
  {
   "cell_type": "code",
   "execution_count": 10,
   "metadata": {},
   "outputs": [
    {
     "name": "stdout",
     "output_type": "stream",
     "text": [
      "['Buenos Aires', 'Rio de Janeiro', 'New York', 'Paris', 'Montevideo', 'La Paz', 'Rosario', 'Paris', 'Rosario', 'Paris', 'Misiones', 'Mendoza']\n",
      "3\n"
     ]
    },
    {
     "data": {
      "text/plain": [
       "'Devuelve la posicion de la primera que encuentra'"
      ]
     },
     "execution_count": 10,
     "metadata": {},
     "output_type": "execute_result"
    }
   ],
   "source": [
    "print(lista)\n",
    "\n",
    "print(lista.index('Paris'))\n",
    "\n",
    "'Devuelve la posicion de la primera que encuentra'"
   ]
  },
  {
   "cell_type": "markdown",
   "metadata": {},
   "source": [
    "11) ¿Qué pasa si se busca un elemento que no existe?\n"
   ]
  },
  {
   "cell_type": "code",
   "execution_count": 11,
   "metadata": {},
   "outputs": [
    {
     "ename": "ValueError",
     "evalue": "'Rennes' is not in list",
     "output_type": "error",
     "traceback": [
      "\u001b[1;31m---------------------------------------------------------------------------\u001b[0m",
      "\u001b[1;31mValueError\u001b[0m                                Traceback (most recent call last)",
      "\u001b[1;32mc:\\Users\\ren98\\Documents\\Henry\\Python-Prep\\04 - Estructuras de datos\\Homework_04-Mis_respuestas.ipynb Cell 23'\u001b[0m in \u001b[0;36m<module>\u001b[1;34m\u001b[0m\n\u001b[1;32m----> <a href='vscode-notebook-cell:/c%3A/Users/ren98/Documents/Henry/Python-Prep/04%20-%20Estructuras%20de%20datos/Homework_04-Mis_respuestas.ipynb#ch0000022?line=0'>1</a>\u001b[0m \u001b[39mprint\u001b[39m(lista\u001b[39m.\u001b[39;49mindex(\u001b[39m'\u001b[39;49m\u001b[39mRennes\u001b[39;49m\u001b[39m'\u001b[39;49m))\n",
      "\u001b[1;31mValueError\u001b[0m: 'Rennes' is not in list"
     ]
    }
   ],
   "source": [
    "print(lista.index('Rennes'))"
   ]
  },
  {
   "cell_type": "markdown",
   "metadata": {},
   "source": [
    "12) Eliminar un elemento de la lista\n"
   ]
  },
  {
   "cell_type": "code",
   "execution_count": 12,
   "metadata": {},
   "outputs": [
    {
     "name": "stdout",
     "output_type": "stream",
     "text": [
      "['Buenos Aires', 'Rio de Janeiro', 'New York', 'Paris', 'Montevideo', 'La Paz', 'Rosario', 'Paris', 'Rosario', 'Paris', 'Misiones', 'Mendoza']\n",
      "['Buenos Aires', 'Rio de Janeiro', 'Paris', 'Montevideo', 'La Paz', 'Rosario', 'Paris', 'Rosario', 'Paris', 'Misiones', 'Mendoza']\n"
     ]
    }
   ],
   "source": [
    "print(lista)\n",
    "lista.remove('New York')\n",
    "print(lista)"
   ]
  },
  {
   "cell_type": "markdown",
   "metadata": {},
   "source": [
    "13) ¿Qué pasa si el elemento a eliminar no existe?\n"
   ]
  },
  {
   "cell_type": "code",
   "execution_count": 13,
   "metadata": {},
   "outputs": [
    {
     "ename": "TypeError",
     "evalue": "descriptor 'remove' for 'list' objects doesn't apply to a 'str' object",
     "output_type": "error",
     "traceback": [
      "\u001b[1;31m---------------------------------------------------------------------------\u001b[0m",
      "\u001b[1;31mTypeError\u001b[0m                                 Traceback (most recent call last)",
      "\u001b[1;32mc:\\Users\\ren98\\Documents\\Henry\\Python-Prep\\04 - Estructuras de datos\\Homework_04-Mis_respuestas.ipynb Cell 27'\u001b[0m in \u001b[0;36m<module>\u001b[1;34m\u001b[0m\n\u001b[1;32m----> <a href='vscode-notebook-cell:/c%3A/Users/ren98/Documents/Henry/Python-Prep/04%20-%20Estructuras%20de%20datos/Homework_04-Mis_respuestas.ipynb#ch0000026?line=0'>1</a>\u001b[0m \u001b[39mlist\u001b[39;49m\u001b[39m.\u001b[39;49mremove(\u001b[39m'\u001b[39;49m\u001b[39mNew York\u001b[39;49m\u001b[39m'\u001b[39;49m)\n",
      "\u001b[1;31mTypeError\u001b[0m: descriptor 'remove' for 'list' objects doesn't apply to a 'str' object"
     ]
    }
   ],
   "source": [
    "list.remove('New York')\n"
   ]
  },
  {
   "cell_type": "markdown",
   "metadata": {},
   "source": [
    "14) Extraer el úlimo elemento de la lista, guardarlo en una variable e imprimirlo\n"
   ]
  },
  {
   "cell_type": "code",
   "execution_count": 14,
   "metadata": {},
   "outputs": [
    {
     "name": "stdout",
     "output_type": "stream",
     "text": [
      "Mendoza\n"
     ]
    }
   ],
   "source": [
    "last = lista.pop()\n",
    "print(last)"
   ]
  },
  {
   "cell_type": "code",
   "execution_count": 15,
   "metadata": {},
   "outputs": [
    {
     "name": "stdout",
     "output_type": "stream",
     "text": [
      "['Buenos Aires', 'Rio de Janeiro', 'Paris', 'Montevideo', 'La Paz', 'Rosario', 'Paris', 'Rosario', 'Paris', 'Misiones']\n"
     ]
    }
   ],
   "source": [
    "print(lista)"
   ]
  },
  {
   "cell_type": "markdown",
   "metadata": {},
   "source": [
    "15) Mostrar la lista multiplicada por 4\n"
   ]
  },
  {
   "cell_type": "code",
   "execution_count": 16,
   "metadata": {},
   "outputs": [
    {
     "name": "stdout",
     "output_type": "stream",
     "text": [
      "['Buenos Aires', 'Rio de Janeiro', 'Paris', 'Montevideo', 'La Paz', 'Rosario', 'Paris', 'Rosario', 'Paris', 'Misiones', 'Buenos Aires', 'Rio de Janeiro', 'Paris', 'Montevideo', 'La Paz', 'Rosario', 'Paris', 'Rosario', 'Paris', 'Misiones', 'Buenos Aires', 'Rio de Janeiro', 'Paris', 'Montevideo', 'La Paz', 'Rosario', 'Paris', 'Rosario', 'Paris', 'Misiones', 'Buenos Aires', 'Rio de Janeiro', 'Paris', 'Montevideo', 'La Paz', 'Rosario', 'Paris', 'Rosario', 'Paris', 'Misiones']\n"
     ]
    }
   ],
   "source": [
    "print(lista*4)"
   ]
  },
  {
   "cell_type": "markdown",
   "metadata": {},
   "source": [
    "16) Crear una tupla que contenga los números enteros del 1 al 20\n"
   ]
  },
  {
   "cell_type": "code",
   "execution_count": 26,
   "metadata": {},
   "outputs": [
    {
     "name": "stdout",
     "output_type": "stream",
     "text": [
      "(1, 2, 3, 4, 5, 6, 7, 8, 9, 10, 11, 12, 13, 14, 15, 16, 17, 18, 19, 20)\n",
      "<class 'tuple'>\n"
     ]
    }
   ],
   "source": [
    "t = []\n",
    "for x in range(1,21):\n",
    "    t.append(x)\n",
    "t = tuple(t)\n",
    "\n",
    "print(t)\n",
    "print(type(t))"
   ]
  },
  {
   "cell_type": "markdown",
   "metadata": {},
   "source": [
    "17) Imprimir desde el índice 10 al 15 de la tupla\n"
   ]
  },
  {
   "cell_type": "code",
   "execution_count": 58,
   "metadata": {},
   "outputs": [
    {
     "name": "stdout",
     "output_type": "stream",
     "text": [
      "(11, 12, 13, 14, 15, 16)\n"
     ]
    }
   ],
   "source": [
    "print(t[10:16])"
   ]
  },
  {
   "cell_type": "markdown",
   "metadata": {},
   "source": [
    "18) Evaluar si los números 20 y 30 están dentro de la tupla\n"
   ]
  },
  {
   "cell_type": "code",
   "execution_count": 62,
   "metadata": {},
   "outputs": [
    {
     "name": "stdout",
     "output_type": "stream",
     "text": [
      "True\n",
      "False\n"
     ]
    }
   ],
   "source": [
    "print(20 in t)\n",
    "print(30 in t)"
   ]
  },
  {
   "cell_type": "markdown",
   "metadata": {},
   "source": [
    "19) Con la lista creada en el punto 1, validar la existencia del elemento 'París' y si no existe, agregarlo. Utilizar una variable e informar lo sucedido.\n"
   ]
  },
  {
   "cell_type": "code",
   "execution_count": 20,
   "metadata": {},
   "outputs": [
    {
     "name": "stdout",
     "output_type": "stream",
     "text": [
      "Se agregó París a la lista\n"
     ]
    }
   ],
   "source": [
    "ciud = \"París\"\n",
    "if ciud not in lista:\n",
    "    lista.append('París')\n",
    "    print('Se agregó',ciud, 'a la lista')\n",
    "else:\n",
    "    print(ciud ,'Ya está en la lista')\n",
    "    "
   ]
  },
  {
   "cell_type": "code",
   "execution_count": 21,
   "metadata": {},
   "outputs": [
    {
     "name": "stdout",
     "output_type": "stream",
     "text": [
      "['Buenos Aires', 'Rio de Janeiro', 'Paris', 'Montevideo', 'La Paz', 'Rosario', 'Paris', 'Rosario', 'Paris', 'Misiones', 'París']\n"
     ]
    }
   ],
   "source": [
    "print(lista)"
   ]
  },
  {
   "cell_type": "markdown",
   "metadata": {},
   "source": [
    "20) Mostrar la cantidad de veces que se encuentra un elemento específico dentro de la tupla y de la lista\n"
   ]
  },
  {
   "cell_type": "code",
   "execution_count": 22,
   "metadata": {},
   "outputs": [
    {
     "name": "stdout",
     "output_type": "stream",
     "text": [
      "buscar elemento\n",
      "El elemento se encuentra 1 veces\n"
     ]
    }
   ],
   "source": [
    "print('buscar elemento')\n",
    "x = input()\n",
    "count = 0\n",
    "for c in lista:\n",
    "    if x == c:\n",
    "        count += 1\n",
    "print(\"El elemento se encuentra\", count,\"veces\")"
   ]
  },
  {
   "cell_type": "markdown",
   "metadata": {},
   "source": [
    "21) Convertir la tupla en una lista\n"
   ]
  },
  {
   "cell_type": "code",
   "execution_count": 29,
   "metadata": {},
   "outputs": [
    {
     "name": "stdout",
     "output_type": "stream",
     "text": [
      "(1, 2, 3, 4, 5, 6, 7, 8, 9, 10, 11, 12, 13, 14, 15, 16, 17, 18, 19, 20)\n"
     ]
    }
   ],
   "source": [
    "tlist = list(t)\n",
    "type(tlist)\n"
   ]
  },
  {
   "cell_type": "markdown",
   "metadata": {},
   "source": [
    "22) Desempaquetar solo los primeros 3 elementos de la tupla en 3 variables\n"
   ]
  },
  {
   "cell_type": "code",
   "execution_count": 31,
   "metadata": {},
   "outputs": [
    {
     "name": "stdout",
     "output_type": "stream",
     "text": [
      "1 2 3\n"
     ]
    }
   ],
   "source": [
    "a,b,c = t[0:3]\n",
    "\n",
    "print(a,b,c)"
   ]
  },
  {
   "cell_type": "markdown",
   "metadata": {},
   "source": [
    "23) Crear un diccionario utilizando la lista crada en el punto 1, asignandole la clave \"ciudad\". Agregar tambien otras claves, como puede ser \"Pais\" y \"Continente\".\n"
   ]
  },
  {
   "cell_type": "code",
   "execution_count": 33,
   "metadata": {},
   "outputs": [
    {
     "name": "stdout",
     "output_type": "stream",
     "text": [
      "['Buenos Aires', 'Rio de Janeiro', 'Paris', 'Montevideo', 'La Paz', 'Rosario', 'Paris', 'Rosario', 'Paris', 'Misiones', 'París']\n",
      "{'Ciudad': ['Buenos Aires', 'Rio de Janeiro', 'Paris', 'Montevideo', 'La Paz', 'Rosario', 'Paris', 'Rosario', 'Paris', 'Misiones', 'París'], 'Pais': ['Argentina', 'Brasil', 'Francia', 'Uruguay', 'Bolivia', 'Argentina', 'Francia', 'Argentina', 'Francia', 'Argentina', 'Francia'], 'Continente': ['America', 'America', 'Europa', 'America', 'America', 'America', 'Europa', 'America', 'Europa', 'America', 'Europa', 'America', 'Europa']}\n"
     ]
    }
   ],
   "source": [
    "print(lista)\n",
    "dic = {\"Ciudad\": lista, \"Pais\":[\"Argentina\",\"Brasil\",\"Francia\",\"Uruguay\",\"Bolivia\",\"Argentina\",\"Francia\",\"Argentina\",\"Francia\",\"Argentina\",\"Francia\"],\"Continente\": [\"America\",\"America\",\"Europa\",\"America\",\"America\",\"America\",\"Europa\",\"America\",\"Europa\",\"America\",\"Europa\",\"America\",\"Europa\"]}\n",
    "print(dic)"
   ]
  },
  {
   "cell_type": "markdown",
   "metadata": {},
   "source": [
    "24) Imprimir las claves del diccionario\n"
   ]
  },
  {
   "cell_type": "code",
   "execution_count": 36,
   "metadata": {},
   "outputs": [
    {
     "name": "stdout",
     "output_type": "stream",
     "text": [
      "dict_keys(['Ciudad', 'Pais', 'Continente'])\n"
     ]
    }
   ],
   "source": [
    "print(dic.keys())"
   ]
  },
  {
   "cell_type": "markdown",
   "metadata": {},
   "source": [
    "25) Imprimir las ciudades a través de su clave"
   ]
  },
  {
   "cell_type": "code",
   "execution_count": 37,
   "metadata": {},
   "outputs": [
    {
     "name": "stdout",
     "output_type": "stream",
     "text": [
      "['Buenos Aires', 'Rio de Janeiro', 'Paris', 'Montevideo', 'La Paz', 'Rosario', 'Paris', 'Rosario', 'Paris', 'Misiones', 'París']\n"
     ]
    }
   ],
   "source": [
    "print(dic['Ciudad'])"
   ]
  }
 ],
 "metadata": {
  "interpreter": {
   "hash": "6be21bdd46b231b5665ae554d2c2553df5ac1c0d0938c98b93784dfbbaf0eb10"
  },
  "kernelspec": {
   "display_name": "Python 3.9.10 64-bit (windows store)",
   "language": "python",
   "name": "python3"
  },
  "language_info": {
   "codemirror_mode": {
    "name": "ipython",
    "version": 3
   },
   "file_extension": ".py",
   "mimetype": "text/x-python",
   "name": "python",
   "nbconvert_exporter": "python",
   "pygments_lexer": "ipython3",
   "version": "3.9.10"
  },
  "orig_nbformat": 4
 },
 "nbformat": 4,
 "nbformat_minor": 2
}
