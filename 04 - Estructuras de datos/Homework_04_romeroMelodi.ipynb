{
 "cells": [
  {
   "cell_type": "code",
   "execution_count": null,
   "metadata": {},
   "outputs": [],
   "source": [
    "## Solución Ejercicios 04 Estructuras de Datos"
   ]
  },
  {
   "cell_type": "code",
   "execution_count": 45,
   "metadata": {},
   "outputs": [
    {
     "name": "stdout",
     "output_type": "stream",
     "text": [
      "['Formosa', 'Colorado', 'El Chorro', 'Herradura', 'Clorinda', 'Las Lomitas']\n"
     ]
    }
   ],
   "source": [
    "# 1) Crear una lista que contenga nombres de ciudades del mundo que contenga más de 5 elementos e imprimir por pantalla\n",
    "milista = ['Formosa', 'Colorado','El Chorro','Herradura','Clorinda','Las Lomitas']\n",
    "print(milista)"
   ]
  },
  {
   "cell_type": "code",
   "execution_count": 46,
   "metadata": {},
   "outputs": [
    {
     "name": "stdout",
     "output_type": "stream",
     "text": [
      "Colorado\n"
     ]
    }
   ],
   "source": [
    "# 2) Imprimir por pantalla el segundo elemento de la lista\n",
    "print(milista[1])"
   ]
  },
  {
   "cell_type": "code",
   "execution_count": 47,
   "metadata": {},
   "outputs": [
    {
     "name": "stdout",
     "output_type": "stream",
     "text": [
      "['Colorado', 'El Chorro', 'Herradura']\n"
     ]
    }
   ],
   "source": [
    "# 3) Imprimir por pantalla del segundo al cuarto elemento\n",
    "print(milista[1:4])"
   ]
  },
  {
   "cell_type": "code",
   "execution_count": 48,
   "metadata": {},
   "outputs": [
    {
     "name": "stdout",
     "output_type": "stream",
     "text": [
      "<class 'list'>\n"
     ]
    }
   ],
   "source": [
    "# 4) Visualizar el tipo de dato de la lista\n",
    "print(type(milista))"
   ]
  },
  {
   "cell_type": "code",
   "execution_count": 49,
   "metadata": {},
   "outputs": [
    {
     "name": "stdout",
     "output_type": "stream",
     "text": [
      "['El Chorro', 'Herradura', 'Clorinda', 'Las Lomitas']\n"
     ]
    }
   ],
   "source": [
    "\"\"\" # 5) Visualizar todos los elementos de la lista a partir del tercero de manera genérica,\n",
    " es decir, sin explicitar la posición del último elemento\n",
    "\"\"\" \n",
    "print(milista[2:])"
   ]
  },
  {
   "cell_type": "code",
   "execution_count": 50,
   "metadata": {},
   "outputs": [
    {
     "name": "stdout",
     "output_type": "stream",
     "text": [
      "['Formosa', 'Colorado', 'El Chorro', 'Herradura']\n"
     ]
    }
   ],
   "source": [
    "# 6) Visualizar los primeros 4 elementos de la lista\n",
    "print(milista[:4])"
   ]
  },
  {
   "cell_type": "code",
   "execution_count": 51,
   "metadata": {},
   "outputs": [
    {
     "name": "stdout",
     "output_type": "stream",
     "text": [
      "['Formosa', 'Colorado', 'El Chorro', 'Herradura', 'Clorinda', 'Las Lomitas', 'Laguna Blanca', 'Laguna Yema']\n"
     ]
    }
   ],
   "source": [
    "# 7) Agregar una ciudad más a la lista que ya exista y otra que no ¿Arroja algún tipo de error?\n",
    "milista.append('Laguna Blanca')\n",
    "milista.append('Laguna Yema')\n",
    "print(milista)\n",
    "#No arroja error solo que el valor duplicado se posiciona en otro indice o lugar dentro de la lista."
   ]
  },
  {
   "cell_type": "code",
   "execution_count": 52,
   "metadata": {},
   "outputs": [
    {
     "name": "stdout",
     "output_type": "stream",
     "text": [
      "['Formosa', 'Colorado', 'El Chorro', 'Brasilia', 'Herradura', 'Clorinda', 'Las Lomitas', 'Laguna Blanca', 'Laguna Yema']\n"
     ]
    }
   ],
   "source": [
    "# 8) Agregar otra ciudad, pero en la cuarta posición\n",
    "milista.insert(3,'Brasilia')\n",
    "print(milista)"
   ]
  },
  {
   "cell_type": "code",
   "execution_count": 53,
   "metadata": {},
   "outputs": [
    {
     "name": "stdout",
     "output_type": "stream",
     "text": [
      "['Formosa', 'Colorado', 'El Chorro', 'Brasilia', 'Herradura', 'Clorinda', 'Las Lomitas', 'Laguna Blanca', 'Laguna Yema', 'El Olvido', 'Misión Laishi']\n"
     ]
    }
   ],
   "source": [
    "# 9) Concatenar otra lista a la ya creada\n",
    "milista.extend(['El Olvido','Misión Laishi'])\n",
    "print(milista)"
   ]
  },
  {
   "cell_type": "code",
   "execution_count": 54,
   "metadata": {},
   "outputs": [
    {
     "name": "stdout",
     "output_type": "stream",
     "text": [
      "1\n"
     ]
    }
   ],
   "source": [
    "# 10) Encontrar el índice de la ciudad que en el punto 7 agregamos duplicada. ¿Se nota alguna particularidad?\n",
    "print(milista.index('Colorado'))\n",
    "# Imprime el indice del primero que halla, no asi el otro indice."
   ]
  },
  {
   "cell_type": "code",
   "execution_count": 55,
   "metadata": {},
   "outputs": [
    {
     "ename": "ValueError",
     "evalue": "'uca' is not in list",
     "output_type": "error",
     "traceback": [
      "\u001b[1;31m---------------------------------------------------------------------------\u001b[0m",
      "\u001b[1;31mValueError\u001b[0m                                Traceback (most recent call last)",
      "\u001b[1;32mc:\\xampp\\htdocs\\CarpetaHenry Python-Prep - Data Science\\04 - Estructuras de datos\\Homework_04_romeroMelodi.ipynb Cell 12\u001b[0m in \u001b[0;36m<cell line: 2>\u001b[1;34m()\u001b[0m\n\u001b[0;32m      <a href='vscode-notebook-cell:/c%3A/xampp/htdocs/CarpetaHenry%20Python-Prep%20-%20Data%20Science/04%20-%20Estructuras%20de%20datos/Homework_04_romeroMelodi.ipynb#X15sZmlsZQ%3D%3D?line=0'>1</a>\u001b[0m \u001b[39m# 11) ¿Qué pasa si se busca un elemento que no existe?\u001b[39;00m\n\u001b[1;32m----> <a href='vscode-notebook-cell:/c%3A/xampp/htdocs/CarpetaHenry%20Python-Prep%20-%20Data%20Science/04%20-%20Estructuras%20de%20datos/Homework_04_romeroMelodi.ipynb#X15sZmlsZQ%3D%3D?line=1'>2</a>\u001b[0m \u001b[39mprint\u001b[39m(milista\u001b[39m.\u001b[39;49mindex(\u001b[39m'\u001b[39;49m\u001b[39muca\u001b[39;49m\u001b[39m'\u001b[39;49m))\n",
      "\u001b[1;31mValueError\u001b[0m: 'uca' is not in list"
     ]
    }
   ],
   "source": [
    "# 11) ¿Qué pasa si se busca un elemento que no existe?\n",
    "print(milista.index('uca'))\n",
    "# imprime un error: 'uca' is not in list"
   ]
  },
  {
   "cell_type": "code",
   "execution_count": 56,
   "metadata": {},
   "outputs": [
    {
     "name": "stdout",
     "output_type": "stream",
     "text": [
      "['Formosa', 'Colorado', 'El Chorro', 'Brasilia', 'Clorinda', 'Las Lomitas', 'Laguna Blanca', 'Laguna Yema', 'El Olvido', 'Misión Laishi']\n"
     ]
    }
   ],
   "source": [
    "# 12) Eliminar un elemento de la lista\n",
    "del milista[4]\n",
    "print(milista)"
   ]
  },
  {
   "cell_type": "code",
   "execution_count": 57,
   "metadata": {},
   "outputs": [
    {
     "ename": "ValueError",
     "evalue": "list.remove(x): x not in list",
     "output_type": "error",
     "traceback": [
      "\u001b[1;31m---------------------------------------------------------------------------\u001b[0m",
      "\u001b[1;31mValueError\u001b[0m                                Traceback (most recent call last)",
      "\u001b[1;32mc:\\xampp\\htdocs\\CarpetaHenry Python-Prep - Data Science\\04 - Estructuras de datos\\Homework_04_romeroMelodi.ipynb Cell 14\u001b[0m in \u001b[0;36m<cell line: 2>\u001b[1;34m()\u001b[0m\n\u001b[0;32m      <a href='vscode-notebook-cell:/c%3A/xampp/htdocs/CarpetaHenry%20Python-Prep%20-%20Data%20Science/04%20-%20Estructuras%20de%20datos/Homework_04_romeroMelodi.ipynb#X16sZmlsZQ%3D%3D?line=0'>1</a>\u001b[0m \u001b[39m# 13) ¿Qué pasa si el elemento a eliminar no existe?\u001b[39;00m\n\u001b[1;32m----> <a href='vscode-notebook-cell:/c%3A/xampp/htdocs/CarpetaHenry%20Python-Prep%20-%20Data%20Science/04%20-%20Estructuras%20de%20datos/Homework_04_romeroMelodi.ipynb#X16sZmlsZQ%3D%3D?line=1'>2</a>\u001b[0m milista\u001b[39m.\u001b[39;49mremove(\u001b[39m'\u001b[39;49m\u001b[39mÁfrica\u001b[39;49m\u001b[39m'\u001b[39;49m)\n\u001b[0;32m      <a href='vscode-notebook-cell:/c%3A/xampp/htdocs/CarpetaHenry%20Python-Prep%20-%20Data%20Science/04%20-%20Estructuras%20de%20datos/Homework_04_romeroMelodi.ipynb#X16sZmlsZQ%3D%3D?line=2'>3</a>\u001b[0m \u001b[39mprint\u001b[39m(milista)\n",
      "\u001b[1;31mValueError\u001b[0m: list.remove(x): x not in list"
     ]
    }
   ],
   "source": [
    "# 13) ¿Qué pasa si el elemento a eliminar no existe?\n",
    "milista.remove('África')\n",
    "print(milista)\n",
    "# Arroja un error:  list.remove(x): x not in list"
   ]
  },
  {
   "cell_type": "code",
   "execution_count": 58,
   "metadata": {},
   "outputs": [
    {
     "name": "stdout",
     "output_type": "stream",
     "text": [
      "Misión Laishi\n"
     ]
    }
   ],
   "source": [
    "# 14) Extraer el úlimo elemento de la lista, guardarlo en una variable e imprimirlo\n",
    "ultimo = milista.pop()\n",
    "print(ultimo)"
   ]
  },
  {
   "cell_type": "code",
   "execution_count": 21,
   "metadata": {},
   "outputs": [
    {
     "name": "stdout",
     "output_type": "stream",
     "text": [
      "['Argentina', 'Alemania', 'Turquia', 'Brasil', 'Perú', 'Francia', 'Argentina', 'Argentina', 'Alemania', 'Turquia', 'Brasil', 'Perú', 'Francia', 'Argentina', 'Argentina', 'Alemania', 'Turquia', 'Brasil', 'Perú', 'Francia', 'Argentina', 'Argentina', 'Alemania', 'Turquia', 'Brasil', 'Perú', 'Francia', 'Argentina']\n"
     ]
    }
   ],
   "source": [
    "# 15) Mostrar la lista multiplicada por 4\n",
    "print(milista * 4)"
   ]
  },
  {
   "cell_type": "code",
   "execution_count": 25,
   "metadata": {},
   "outputs": [
    {
     "name": "stdout",
     "output_type": "stream",
     "text": [
      "(1, 2, 3, 4, 5, 6, 7, 8, 9, 10, 11, 12, 13, 14, 15, 16, 17, 18, 19, 20)\n"
     ]
    }
   ],
   "source": [
    "# 16) Crear una tupla que contenga los números enteros del 1 al 20\n",
    "mitupla = (1,2,3,4,5,6,7,8,9,10,11,12,13,14,15,16,17,18,19,20)\n",
    "print(mitupla)"
   ]
  },
  {
   "cell_type": "code",
   "execution_count": 27,
   "metadata": {},
   "outputs": [
    {
     "name": "stdout",
     "output_type": "stream",
     "text": [
      "(11, 12, 13, 14, 15, 16)\n"
     ]
    }
   ],
   "source": [
    "# 17) Imprimir desde el índice 10 al 15 de la tupla\n",
    "print(mitupla[10:16])\n"
   ]
  },
  {
   "cell_type": "code",
   "execution_count": 32,
   "metadata": {},
   "outputs": [
    {
     "name": "stdout",
     "output_type": "stream",
     "text": [
      "True\n",
      "False\n"
     ]
    }
   ],
   "source": [
    "# 18) Evaluar si los números 20 y 30 están dentro de la tupla\n",
    "print(20 in mitupla)\n",
    "print(30 in mitupla)\n",
    "# 20 si esta y 30 no."
   ]
  },
  {
   "cell_type": "code",
   "execution_count": 36,
   "metadata": {},
   "outputs": [
    {
     "name": "stdout",
     "output_type": "stream",
     "text": [
      "Ya existia el pais París en la lista\n"
     ]
    }
   ],
   "source": [
    "\"\"\" 19) Con la lista creada en el punto 1, validar la existencia del elemento 'París'\n",
    " y si no existe, agregarlo. Utilizar una variable e informar lo sucedido.\n",
    "\"\"\" \n",
    "existe = 'París' in milista\n",
    "if (existe == False):\n",
    "    milista.append('París')\n",
    "    print('Se insertó el pais París en la lista')\n",
    "else:\n",
    "    print('Ya existia el pais París en la lista')\n",
    "\n"
   ]
  },
  {
   "cell_type": "code",
   "execution_count": 59,
   "metadata": {},
   "outputs": [
    {
     "name": "stdout",
     "output_type": "stream",
     "text": [
      "1\n",
      "1\n"
     ]
    }
   ],
   "source": [
    "# 20) Mostrar la cantidad de veces que se encuentra un elemento específico dentro de la tupla y de la lista\n",
    "print(milista.count('Clorinda'))\n",
    "print(mitupla.count(2))\n",
    "# 21) Convertir la tupla en una lista\n"
   ]
  },
  {
   "cell_type": "code",
   "execution_count": 40,
   "metadata": {},
   "outputs": [
    {
     "name": "stdout",
     "output_type": "stream",
     "text": [
      "[1, 2, 3, 4, 5, 6, 7, 8, 9, 10, 11, 12, 13, 14, 15, 16, 17, 18, 19, 20]\n"
     ]
    }
   ],
   "source": [
    "# 21) Convertir la tupla en una lista\n",
    "milista2 = list(mitupla)\n",
    "print(milista2)"
   ]
  },
  {
   "cell_type": "code",
   "execution_count": 44,
   "metadata": {},
   "outputs": [
    {
     "name": "stdout",
     "output_type": "stream",
     "text": [
      "1\n",
      "2\n",
      "3\n"
     ]
    }
   ],
   "source": [
    "# 22) Desempaquetar solo los primeros 3 elementos de la tupla en 3 variables\n",
    "len(mitupla)\n",
    "var1, var2, var3, _, _, _, _, _, _, _, _, _, _, _, _, _, _, _, _, _= mitupla\n",
    "\n",
    "print(var1)\n",
    "print(var2)\n",
    "print(var3)"
   ]
  },
  {
   "cell_type": "code",
   "execution_count": 61,
   "metadata": {},
   "outputs": [
    {
     "name": "stdout",
     "output_type": "stream",
     "text": [
      "{'ciudad': ['Formosa', 'Colorado', 'El Chorro', 'Brasilia', 'Clorinda', 'Las Lomitas', 'Laguna Blanca', 'Laguna Yema', 'El Olvido']}\n",
      "{'ciudad': ['Formosa', 'Colorado', 'El Chorro', 'Brasilia', 'Clorinda', 'Las Lomitas', 'Laguna Blanca', 'Laguna Yema', 'El Olvido'], 'Pais': ['Argentina', 'Brasil']}\n"
     ]
    }
   ],
   "source": [
    "# 23) Crear un diccionario utilizando la lista crada en el punto 1, asignandole la clave \"ciudad\".\n",
    "# Agregar tambien otras claves, como puede ser \"Pais\" y \"Continente\".\n",
    "midiccionario = {\"ciudad\":milista}\n",
    "print(midiccionario)\n",
    "midiccionario[\"Pais\"] = [\"Argentina\", \"Brasil\"]\n",
    "print(midiccionario)\n"
   ]
  },
  {
   "cell_type": "code",
   "execution_count": 63,
   "metadata": {},
   "outputs": [
    {
     "name": "stdout",
     "output_type": "stream",
     "text": [
      "dict_keys(['ciudad', 'Pais'])\n"
     ]
    }
   ],
   "source": [
    "# 24) Imprimir las claves del diccionario\n",
    "print(midiccionario.keys())"
   ]
  },
  {
   "cell_type": "code",
   "execution_count": 64,
   "metadata": {},
   "outputs": [
    {
     "name": "stdout",
     "output_type": "stream",
     "text": [
      "['Formosa', 'Colorado', 'El Chorro', 'Brasilia', 'Clorinda', 'Las Lomitas', 'Laguna Blanca', 'Laguna Yema', 'El Olvido']\n"
     ]
    }
   ],
   "source": [
    "# 25) Imprimir las ciudades a través de su clave\n",
    "print(midiccionario[\"ciudad\"])"
   ]
  }
 ],
 "metadata": {
  "kernelspec": {
   "display_name": "Python 3",
   "language": "python",
   "name": "python3"
  },
  "language_info": {
   "codemirror_mode": {
    "name": "ipython",
    "version": 3
   },
   "file_extension": ".py",
   "mimetype": "text/x-python",
   "name": "python",
   "nbconvert_exporter": "python",
   "pygments_lexer": "ipython3",
   "version": "3.10.2 (tags/v3.10.2:a58ebcc, Jan 17 2022, 14:12:15) [MSC v.1929 64 bit (AMD64)]"
  },
  "orig_nbformat": 4,
  "vscode": {
   "interpreter": {
    "hash": "a9cff5a362bc38ef45d817ae74b1af54d6a076e3d773891282bce078b815ba34"
   }
  }
 },
 "nbformat": 4,
 "nbformat_minor": 2
}
