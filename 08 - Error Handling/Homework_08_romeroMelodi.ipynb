{
 "cells": [
  {
   "attachments": {},
   "cell_type": "markdown",
   "metadata": {},
   "source": [
    "# Solución Ejercicio 08 Error Handling"
   ]
  },
  {
   "cell_type": "code",
   "execution_count": 7,
   "metadata": {},
   "outputs": [
    {
     "name": "stdout",
     "output_type": "stream",
     "text": [
      "Se ha creado una lista vacía. Se esperaba una lista de números enteros.\n"
     ]
    }
   ],
   "source": [
    "\"\"\" 1) Con la clase creada en el módulo 7, tener en cuenta diferentes casos en que el código pudiera arrojar error.\n",
    " Por ejemplo, en la creación del objeto recibimos una lista de números enteros pero ¿qué pasa si se envía otro tipo de dato?\n",
    "\"\"\"  \n",
    "import misHerramientas as m\n",
    "\n",
    "try:\n",
    "    a = m.modulo_7(5)\n",
    "except ValueError:\n",
    "    print('Se ha creado una lista vacía. Se esperaba una lista de números enteros.')\n",
    "\n",
    "\n"
   ]
  },
  {
   "cell_type": "code",
   "execution_count": 70,
   "metadata": {},
   "outputs": [
    {
     "name": "stdout",
     "output_type": "stream",
     "text": [
      "El parametro del origen es inválido. Como valor esperado se espera: \"F\", \"C\" o \"K\"\n"
     ]
    }
   ],
   "source": [
    "\"\"\" 2) En la función que hace la conversión de grados, validar que los parámetros enviados sean los esperados, \n",
    "de no serlo, informar cuáles son los valores esperados.\n",
    "\"\"\" \n",
    "\n",
    "import importlib\n",
    "importlib.reload(m)\n",
    "\n",
    "try:\n",
    "    b = m.modulo_7([4,56,7,5,8,4])\n",
    "    print(b.resolverGrados(1,'p','F'))\n",
    "except ValueError as e:\n",
    "    print(e)   "
   ]
  },
  {
   "cell_type": "code",
   "execution_count": 75,
   "metadata": {},
   "outputs": [
    {
     "name": "stderr",
     "output_type": "stream",
     "text": [
      "test_crear_objeto_correcto (__main__.pruebaModulo) ... ok\n",
      "test_crear_objeto_incorrecto (__main__.pruebaModulo) ... ok\n",
      "test_valor_repetido (__main__.pruebaModulo) ... ERROR\n",
      "\n",
      "======================================================================\n",
      "ERROR: test_valor_repetido (__main__.pruebaModulo)\n",
      "----------------------------------------------------------------------\n",
      "Traceback (most recent call last):\n",
      "  File \"C:\\Users\\HP\\AppData\\Local\\Temp\\ipykernel_72272\\3143928771.py\", line 24, in test_valor_repetido\n",
      "    self.assertEqual(d.devolverRepetido(2), 55)\n",
      "  File \"c:\\xampp\\htdocs\\CarpetaHenry Python-Prep - Data Science\\08 - Error Handling\\misHerramientas.py\", line 48, in devolverRepetido\n",
      "    if (tipo == 1 and i < repetido):\n",
      "AttributeError: 'modulo_7' object has no attribute 'tipo'\n",
      "\n",
      "----------------------------------------------------------------------\n",
      "Ran 3 tests in 0.021s\n",
      "\n",
      "FAILED (errors=1)\n"
     ]
    },
    {
     "data": {
      "text/plain": [
       "<unittest.main.TestProgram at 0x217ccbb8820>"
      ]
     },
     "execution_count": 75,
     "metadata": {},
     "output_type": "execute_result"
    }
   ],
   "source": [
    "\"\"\" \n",
    "3) Importar el modulo \"unittest\" y crear los siguientes casos de pruebas sobre la clase utilizada en el punto 2<br>\n",
    "Creacion del objeto incorrecta<br>\n",
    "Creacion correcta del objeto<br>\n",
    "Metodo valor_modal()<br>\n",
    "\"\"\"\n",
    "\n",
    "import unittest as u\n",
    "\n",
    "class pruebaModulo(u.TestCase):\n",
    "    def test_crear_objeto_incorrecto(self):\n",
    "        param = 9\n",
    "        self.assertRaises(ValueError, m.modulo_7, param)\n",
    "\n",
    "    def test_crear_objeto_correcto(self):\n",
    "        param = [11,2,11,3,5,55,69,3,55,55]\n",
    "        c =  m.modulo_7(param)\n",
    "        self.assertEqual(c.lista, param)\n",
    "\n",
    "    def test_valor_repetido(self):\n",
    "        param = [11,2,11,3,5,55,69,3,55,55]\n",
    "        d =  m.modulo_7(param)\n",
    "        # A devolverRepetido paso el parametro 1 para que me traiga el menor valor de los mas repetidos\n",
    "        self.assertEqual(d.devolverRepetido(2), 55)\n",
    "\n",
    "u.main(argv=[''], verbosity=2, exit=False)"
   ]
  },
  {
   "cell_type": "code",
   "execution_count": 20,
   "metadata": {},
   "outputs": [
    {
     "name": "stdout",
     "output_type": "stream",
     "text": [
      "Se ha creado una lista vacía. Se esperaba una lista de números enteros.\n"
     ]
    }
   ],
   "source": [
    "# 4) Probar una creación incorrecta y visualizar la salida del \"raise\"\n",
    "import importlib\n",
    "importlib.reload(m)\n",
    "\n",
    "try:\n",
    "    h = m.modulo_7(0)\n",
    "  \n",
    "except ValueError as e:\n",
    "    print(e)   "
   ]
  },
  {
   "cell_type": "code",
   "execution_count": 28,
   "metadata": {},
   "outputs": [
    {
     "name": "stderr",
     "output_type": "stream",
     "text": [
      "test_verificar_primos (__main__.pruebaModulo) ... ok\n",
      "\n",
      "----------------------------------------------------------------------\n",
      "Ran 1 test in 0.004s\n",
      "\n",
      "OK\n"
     ]
    },
    {
     "data": {
      "text/plain": [
       "<unittest.main.TestProgram at 0x217cc0a5090>"
      ]
     },
     "execution_count": 28,
     "metadata": {},
     "output_type": "execute_result"
    }
   ],
   "source": [
    "\"\"\" 6) Agregar casos de pruebas para el método verifica_primos() realizando el cambio en la clase, \n",
    "para que devuelva una lista de True o False en función de que el elemento en la posisicón sea o no primo \"\"\" \n",
    "\n",
    "\n",
    "import unittest as u\n",
    "\n",
    "class pruebaModulo(u.TestCase):\n",
    "    def test_verificar_primos(self):\n",
    "        param = [4,7,8,45,5,6,9,9,7,4]\n",
    "        p =  m.modulo_7(param)\n",
    "        listaprimos, listabolleana = p.devolverPrimos()\n",
    "        esperado = [False,True,False,False,True,False,False,False,True,False]\n",
    "        self.assertEqual(listabolleana, esperado)\n",
    "\n",
    "u.main(argv=[''], verbosity=2, exit=False)"
   ]
  },
  {
   "cell_type": "code",
   "execution_count": 60,
   "metadata": {},
   "outputs": [
    {
     "name": "stderr",
     "output_type": "stream",
     "text": [
      "test_conversion_grados (__main__.pruebaModulo) ... ok\n",
      "test_conversion_grados2 (__main__.pruebaModulo) ... ok\n",
      "test_conversion_grados3 (__main__.pruebaModulo) ... ok\n",
      "\n",
      "----------------------------------------------------------------------\n",
      "Ran 3 tests in 0.036s\n",
      "\n",
      "OK\n"
     ]
    },
    {
     "data": {
      "text/plain": [
       "<unittest.main.TestProgram at 0x217caee66e0>"
      ]
     },
     "execution_count": 60,
     "metadata": {},
     "output_type": "execute_result"
    }
   ],
   "source": [
    "# 7) Agregar casos de pruebas para el método conversion_grados()\n",
    "\n",
    "import unittest as u\n",
    "\n",
    "class pruebaModulo(u.TestCase):\n",
    "    def test_conversion_grados(self):\n",
    "        param = [4,7,8,45,5,6,9,9,7,4]\n",
    "        p =  m.modulo_7(param)\n",
    "        resultado = p.resolverGrados(-9,'F','C')\n",
    "        esperado = -22.77777777777778\n",
    "        self.assertEqual(resultado, esperado)\n",
    "\n",
    "    def test_conversion_grados2(self):\n",
    "        param = [4,7,8,45,5,6,9,9,7,4]\n",
    "        p =  m.modulo_7(param)\n",
    "        resultado = p.resolverGrados(-9,'F','F')\n",
    "        esperado = -9\n",
    "        self.assertEqual(resultado, esperado)\n",
    "\n",
    "    def test_conversion_grados3(self):\n",
    "        param = [4,7,8,45,5,6,9,9,7,4]\n",
    "        p =  m.modulo_7(param)\n",
    "        resultado = p.resolverGrados(-9,'F','K')\n",
    "        esperado = 250.3722222222222\n",
    "        self.assertEqual(resultado, esperado)\n",
    "\n",
    "u.main(argv=[''], verbosity=2, exit=False)"
   ]
  },
  {
   "cell_type": "code",
   "execution_count": 49,
   "metadata": {},
   "outputs": [
    {
     "name": "stderr",
     "output_type": "stream",
     "text": [
      "test_factorial (__main__.pruebaModulo) ... ok\n",
      "\n",
      "----------------------------------------------------------------------\n",
      "Ran 1 test in 0.004s\n",
      "\n",
      "OK\n"
     ]
    },
    {
     "data": {
      "text/plain": [
       "<unittest.main.TestProgram at 0x217caedde10>"
      ]
     },
     "execution_count": 49,
     "metadata": {},
     "output_type": "execute_result"
    }
   ],
   "source": [
    "# 8) Agregar casos de pruebas para el método factorial()\n",
    "\n",
    "import unittest as u\n",
    "\n",
    "class pruebaModulo(u.TestCase):\n",
    "    def test_factorial(self):\n",
    "        param = [4,7,8,4,5,6,9,9,7,4]\n",
    "        i =  m.modulo_7(param)\n",
    "        resultado = i.devolverFactorial()\n",
    "        esperado = [24, 5040, 40320, 24, 120, 720, 362880, 362880, 5040, 24]\n",
    "        self.assertEqual(resultado, esperado)\n",
    "\n",
    "u.main(argv=[''], verbosity=2, exit=False)"
   ]
  },
  {
   "cell_type": "code",
   "execution_count": null,
   "metadata": {},
   "outputs": [],
   "source": [
    "# 9) Completar el código en las funciones del archivo \"checkpoint.py\" y probarlo a partir de la ejecución del script \"tests.py\""
   ]
  },
  {
   "cell_type": "code",
   "execution_count": 68,
   "metadata": {},
   "outputs": [
    {
     "name": "stdout",
     "output_type": "stream",
     "text": [
      "55\n"
     ]
    }
   ],
   "source": [
    "def devolverRepetido(tipo = 1):\n",
    "\n",
    "\n",
    "    lista =   [11,2,11,3,5,55,69,3,55,55]\n",
    "\n",
    "    if  (tipo != 1 and tipo !=2):\n",
    "        raise ValueError('Tipo solo puede vale 1 o 2.')\n",
    "    repetido = 0\n",
    "    veces   = 0\n",
    "\n",
    "    for i in lista:\n",
    "        if (lista.count(i) >= veces):\n",
    "            if (lista.count(i) == veces):\n",
    "                if (tipo == 1 and i <= repetido):\n",
    "                    repetido = i\n",
    "                       \n",
    "                elif(tipo == 2 and i >= repetido):\n",
    "                    repetido = i\n",
    "                      \n",
    "            else: \n",
    "                repetido = i\n",
    "                veces = lista.count(i)\n",
    "        \n",
    "    return repetido\n",
    "\n",
    "\n",
    "print(devolverRepetido(1)) "
   ]
  }
 ],
 "metadata": {
  "kernelspec": {
   "display_name": "Python 3",
   "language": "python",
   "name": "python3"
  },
  "language_info": {
   "codemirror_mode": {
    "name": "ipython",
    "version": 3
   },
   "file_extension": ".py",
   "mimetype": "text/x-python",
   "name": "python",
   "nbconvert_exporter": "python",
   "pygments_lexer": "ipython3",
   "version": "3.10.2 (tags/v3.10.2:a58ebcc, Jan 17 2022, 14:12:15) [MSC v.1929 64 bit (AMD64)]"
  },
  "orig_nbformat": 4,
  "vscode": {
   "interpreter": {
    "hash": "a9cff5a362bc38ef45d817ae74b1af54d6a076e3d773891282bce078b815ba34"
   }
  }
 },
 "nbformat": 4,
 "nbformat_minor": 2
}
