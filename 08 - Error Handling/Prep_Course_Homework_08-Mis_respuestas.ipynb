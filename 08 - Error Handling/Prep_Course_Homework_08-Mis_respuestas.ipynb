{
 "cells": [
  {
   "cell_type": "markdown",
   "metadata": {},
   "source": [
    "## Manejo de errores"
   ]
  },
  {
   "cell_type": "markdown",
   "metadata": {},
   "source": [
    "\n",
    "1) Con la clase creada en el módulo 7, tener en cuenta diferentes casos en que el código pudiera arrojar error. Por ejemplo, en la creación del objeto recibimos una lista de números enteros pero ¿qué pasa si se envía otro tipo de dato?"
   ]
  },
  {
   "cell_type": "code",
   "execution_count": 2,
   "metadata": {},
   "outputs": [],
   "source": [
    "import importlib\n",
    "import herramientas_mias as c"
   ]
  },
  {
   "cell_type": "code",
   "execution_count": 3,
   "metadata": {},
   "outputs": [
    {
     "ename": "ValueError",
     "evalue": "El objeto solo se puede crear con una lista como parametro",
     "output_type": "error",
     "traceback": [
      "\u001b[1;31m---------------------------------------------------------------------------\u001b[0m",
      "\u001b[1;31mValueError\u001b[0m                                Traceback (most recent call last)",
      "\u001b[1;32mc:\\Users\\ren98\\Documents\\Henry\\Python-Prep\\08 - Error Handling\\Prep_Course_Homework_08-Mis_respuestas.ipynb Cell 4'\u001b[0m in \u001b[0;36m<module>\u001b[1;34m\u001b[0m\n\u001b[1;32m----> <a href='vscode-notebook-cell:/c%3A/Users/ren98/Documents/Henry/Python-Prep/08%20-%20Error%20Handling/Prep_Course_Homework_08-Mis_respuestas.ipynb#ch0000003?line=0'>1</a>\u001b[0m a \u001b[39m=\u001b[39m c\u001b[39m.\u001b[39;49mcalculador(\u001b[39m\"\u001b[39;49m\u001b[39mhola\u001b[39;49m\u001b[39m\"\u001b[39;49m)\n",
      "File \u001b[1;32mc:\\Users\\ren98\\Documents\\Henry\\Python-Prep\\08 - Error Handling\\herramientas_mias.py:7\u001b[0m, in \u001b[0;36mcalculador.__init__\u001b[1;34m(self, lista)\u001b[0m\n\u001b[0;32m      <a href='file:///c%3A/Users/ren98/Documents/Henry/Python-Prep/08%20-%20Error%20Handling/herramientas_mias.py?line=4'>5</a>\u001b[0m \u001b[39mdef\u001b[39;00m \u001b[39m__init__\u001b[39m(\u001b[39mself\u001b[39m, lista):\n\u001b[0;32m      <a href='file:///c%3A/Users/ren98/Documents/Henry/Python-Prep/08%20-%20Error%20Handling/herramientas_mias.py?line=5'>6</a>\u001b[0m     \u001b[39mif\u001b[39;00m \u001b[39mtype\u001b[39m(lista) \u001b[39m!=\u001b[39m \u001b[39mlist\u001b[39m:\n\u001b[1;32m----> <a href='file:///c%3A/Users/ren98/Documents/Henry/Python-Prep/08%20-%20Error%20Handling/herramientas_mias.py?line=6'>7</a>\u001b[0m             \u001b[39mraise\u001b[39;00m \u001b[39mValueError\u001b[39;00m(\u001b[39m'\u001b[39m\u001b[39mEl objeto solo se puede crear con una lista como parametro\u001b[39m\u001b[39m'\u001b[39m)\n\u001b[0;32m      <a href='file:///c%3A/Users/ren98/Documents/Henry/Python-Prep/08%20-%20Error%20Handling/herramientas_mias.py?line=7'>8</a>\u001b[0m     \u001b[39melse\u001b[39;00m:\n\u001b[0;32m      <a href='file:///c%3A/Users/ren98/Documents/Henry/Python-Prep/08%20-%20Error%20Handling/herramientas_mias.py?line=8'>9</a>\u001b[0m         \u001b[39mfor\u001b[39;00m a \u001b[39min\u001b[39;00m lista:\n",
      "\u001b[1;31mValueError\u001b[0m: El objeto solo se puede crear con una lista como parametro"
     ]
    }
   ],
   "source": [
    "a = c.calculador(\"hola\")"
   ]
  },
  {
   "cell_type": "markdown",
   "metadata": {},
   "source": [
    "\n",
    "2) En la función que hace la conversión de grados, validar que los parámetros enviados sean los esperados, de no serlo, informar cuáles son los valores esperados."
   ]
  },
  {
   "cell_type": "code",
   "execution_count": 53,
   "metadata": {},
   "outputs": [
    {
     "ename": "ValueError",
     "evalue": "Los parametros admitidos para convertir grados son ['celcius','farenheit','kelvin']",
     "output_type": "error",
     "traceback": [
      "\u001b[1;31m---------------------------------------------------------------------------\u001b[0m",
      "\u001b[1;31mValueError\u001b[0m                                Traceback (most recent call last)",
      "\u001b[1;32mc:\\Users\\ren98\\Documents\\Henry\\Python-Prep\\08 - Error Handling\\Prep_Course_Homework_08-Mis_respuestas.ipynb Cell 6'\u001b[0m in \u001b[0;36m<module>\u001b[1;34m\u001b[0m\n\u001b[0;32m      <a href='vscode-notebook-cell:/c%3A/Users/ren98/Documents/Henry/Python-Prep/08%20-%20Error%20Handling/Prep_Course_Homework_08-Mis_respuestas.ipynb#ch0000005?line=0'>1</a>\u001b[0m importlib\u001b[39m.\u001b[39mreload(c)\n\u001b[0;32m      <a href='vscode-notebook-cell:/c%3A/Users/ren98/Documents/Henry/Python-Prep/08%20-%20Error%20Handling/Prep_Course_Homework_08-Mis_respuestas.ipynb#ch0000005?line=2'>3</a>\u001b[0m a \u001b[39m=\u001b[39m c\u001b[39m.\u001b[39mcalculador([\u001b[39m2\u001b[39m,\u001b[39m3\u001b[39m,\u001b[39m4\u001b[39m,\u001b[39m5\u001b[39m])\n\u001b[1;32m----> <a href='vscode-notebook-cell:/c%3A/Users/ren98/Documents/Henry/Python-Prep/08%20-%20Error%20Handling/Prep_Course_Homework_08-Mis_respuestas.ipynb#ch0000005?line=3'>4</a>\u001b[0m a\u001b[39m.\u001b[39;49mtempconv(\u001b[39m'\u001b[39;49m\u001b[39mhola\u001b[39;49m\u001b[39m'\u001b[39;49m, \u001b[39m'\u001b[39;49m\u001b[39mkelvin\u001b[39;49m\u001b[39m'\u001b[39;49m)\n\u001b[0;32m      <a href='vscode-notebook-cell:/c%3A/Users/ren98/Documents/Henry/Python-Prep/08%20-%20Error%20Handling/Prep_Course_Homework_08-Mis_respuestas.ipynb#ch0000005?line=4'>5</a>\u001b[0m a\u001b[39m.\u001b[39mtempconv(\u001b[39m'\u001b[39m\u001b[39mkelvin\u001b[39m\u001b[39m'\u001b[39m, \u001b[39m'\u001b[39m\u001b[39mkelvin\u001b[39m\u001b[39m'\u001b[39m)\n",
      "File \u001b[1;32mc:\\Users\\ren98\\Documents\\Henry\\Python-Prep\\08 - Error Handling\\herramientas_mias.py:56\u001b[0m, in \u001b[0;36mcalculador.tempconv\u001b[1;34m(self, o, d)\u001b[0m\n\u001b[0;32m     <a href='file:///c%3A/Users/ren98/Documents/Henry/Python-Prep/08%20-%20Error%20Handling/herramientas_mias.py?line=53'>54</a>\u001b[0m \u001b[39mdef\u001b[39;00m \u001b[39mtempconv\u001b[39m(\u001b[39mself\u001b[39m,o,d):\n\u001b[0;32m     <a href='file:///c%3A/Users/ren98/Documents/Henry/Python-Prep/08%20-%20Error%20Handling/herramientas_mias.py?line=54'>55</a>\u001b[0m     \u001b[39mif\u001b[39;00m o \u001b[39mnot\u001b[39;00m \u001b[39min\u001b[39;00m [\u001b[39m'\u001b[39m\u001b[39mcelcius\u001b[39m\u001b[39m'\u001b[39m,\u001b[39m'\u001b[39m\u001b[39mfarenheit\u001b[39m\u001b[39m'\u001b[39m,\u001b[39m'\u001b[39m\u001b[39mkelvin\u001b[39m\u001b[39m'\u001b[39m] \u001b[39mor\u001b[39;00m d \u001b[39mnot\u001b[39;00m \u001b[39min\u001b[39;00m [\u001b[39m'\u001b[39m\u001b[39mcelcius\u001b[39m\u001b[39m'\u001b[39m,\u001b[39m'\u001b[39m\u001b[39mfarenheit\u001b[39m\u001b[39m'\u001b[39m,\u001b[39m'\u001b[39m\u001b[39mkelvin\u001b[39m\u001b[39m'\u001b[39m]:\n\u001b[1;32m---> <a href='file:///c%3A/Users/ren98/Documents/Henry/Python-Prep/08%20-%20Error%20Handling/herramientas_mias.py?line=55'>56</a>\u001b[0m             \u001b[39mraise\u001b[39;00m \u001b[39mValueError\u001b[39;00m(\u001b[39m\"\u001b[39m\u001b[39mLos parametros admitidos para convertir grados son [\u001b[39m\u001b[39m'\u001b[39m\u001b[39mcelcius\u001b[39m\u001b[39m'\u001b[39m\u001b[39m,\u001b[39m\u001b[39m'\u001b[39m\u001b[39mfarenheit\u001b[39m\u001b[39m'\u001b[39m\u001b[39m,\u001b[39m\u001b[39m'\u001b[39m\u001b[39mkelvin\u001b[39m\u001b[39m'\u001b[39m\u001b[39m]\u001b[39m\u001b[39m\"\u001b[39m)\n\u001b[0;32m     <a href='file:///c%3A/Users/ren98/Documents/Henry/Python-Prep/08%20-%20Error%20Handling/herramientas_mias.py?line=56'>57</a>\u001b[0m     \u001b[39melse\u001b[39;00m:\n\u001b[0;32m     <a href='file:///c%3A/Users/ren98/Documents/Henry/Python-Prep/08%20-%20Error%20Handling/herramientas_mias.py?line=57'>58</a>\u001b[0m         \u001b[39mfor\u001b[39;00m x \u001b[39min\u001b[39;00m \u001b[39mself\u001b[39m\u001b[39m.\u001b[39mlista:          \n",
      "\u001b[1;31mValueError\u001b[0m: Los parametros admitidos para convertir grados son ['celcius','farenheit','kelvin']"
     ]
    }
   ],
   "source": [
    "importlib.reload(c)\n",
    "\n",
    "a = c.calculador([2,3,4,5])\n",
    "a.tempconv('hola', 'kelvin')\n",
    "a.tempconv('kelvin', 'kelvin')"
   ]
  },
  {
   "cell_type": "code",
   "execution_count": 54,
   "metadata": {},
   "outputs": [
    {
     "ename": "ValueError",
     "evalue": "La unidad de origen  y destino es la misma",
     "output_type": "error",
     "traceback": [
      "\u001b[1;31m---------------------------------------------------------------------------\u001b[0m",
      "\u001b[1;31mValueError\u001b[0m                                Traceback (most recent call last)",
      "\u001b[1;32mc:\\Users\\ren98\\Documents\\Henry\\Python-Prep\\08 - Error Handling\\Prep_Course_Homework_08-Mis_respuestas.ipynb Cell 7'\u001b[0m in \u001b[0;36m<module>\u001b[1;34m\u001b[0m\n\u001b[1;32m----> <a href='vscode-notebook-cell:/c%3A/Users/ren98/Documents/Henry/Python-Prep/08%20-%20Error%20Handling/Prep_Course_Homework_08-Mis_respuestas.ipynb#ch0000026?line=0'>1</a>\u001b[0m a\u001b[39m.\u001b[39;49mtempconv(\u001b[39m'\u001b[39;49m\u001b[39mkelvin\u001b[39;49m\u001b[39m'\u001b[39;49m, \u001b[39m'\u001b[39;49m\u001b[39mkelvin\u001b[39;49m\u001b[39m'\u001b[39;49m)\n",
      "File \u001b[1;32mc:\\Users\\ren98\\Documents\\Henry\\Python-Prep\\08 - Error Handling\\herramientas_mias.py:59\u001b[0m, in \u001b[0;36mcalculador.tempconv\u001b[1;34m(self, o, d)\u001b[0m\n\u001b[0;32m     <a href='file:///c%3A/Users/ren98/Documents/Henry/Python-Prep/08%20-%20Error%20Handling/herramientas_mias.py?line=56'>57</a>\u001b[0m \u001b[39melse\u001b[39;00m:\n\u001b[0;32m     <a href='file:///c%3A/Users/ren98/Documents/Henry/Python-Prep/08%20-%20Error%20Handling/herramientas_mias.py?line=57'>58</a>\u001b[0m     \u001b[39mfor\u001b[39;00m x \u001b[39min\u001b[39;00m \u001b[39mself\u001b[39m\u001b[39m.\u001b[39mlista:          \n\u001b[1;32m---> <a href='file:///c%3A/Users/ren98/Documents/Henry/Python-Prep/08%20-%20Error%20Handling/herramientas_mias.py?line=58'>59</a>\u001b[0m         \u001b[39mself\u001b[39;49m\u001b[39m.\u001b[39;49m__tempconv(x,o,d)\n",
      "File \u001b[1;32mc:\\Users\\ren98\\Documents\\Henry\\Python-Prep\\08 - Error Handling\\herramientas_mias.py:68\u001b[0m, in \u001b[0;36mcalculador.__tempconv\u001b[1;34m(self, valor, origen, destino)\u001b[0m\n\u001b[0;32m     <a href='file:///c%3A/Users/ren98/Documents/Henry/Python-Prep/08%20-%20Error%20Handling/herramientas_mias.py?line=65'>66</a>\u001b[0m     \u001b[39mprint\u001b[39m(\u001b[39m\"\u001b[39m\u001b[39mParametros incorrectos\u001b[39m\u001b[39m\"\u001b[39m)\n\u001b[0;32m     <a href='file:///c%3A/Users/ren98/Documents/Henry/Python-Prep/08%20-%20Error%20Handling/herramientas_mias.py?line=66'>67</a>\u001b[0m \u001b[39mif\u001b[39;00m origen \u001b[39m==\u001b[39m destino:\n\u001b[1;32m---> <a href='file:///c%3A/Users/ren98/Documents/Henry/Python-Prep/08%20-%20Error%20Handling/herramientas_mias.py?line=67'>68</a>\u001b[0m     \u001b[39mraise\u001b[39;00m \u001b[39mValueError\u001b[39;00m(\u001b[39m'\u001b[39m\u001b[39mLa unidad de origen  y destino es la misma\u001b[39m\u001b[39m'\u001b[39m)\n\u001b[0;32m     <a href='file:///c%3A/Users/ren98/Documents/Henry/Python-Prep/08%20-%20Error%20Handling/herramientas_mias.py?line=68'>69</a>\u001b[0m \u001b[39mif\u001b[39;00m origen \u001b[39m==\u001b[39m \u001b[39m\"\u001b[39m\u001b[39mCelcius\u001b[39m\u001b[39m\"\u001b[39m:\n\u001b[0;32m     <a href='file:///c%3A/Users/ren98/Documents/Henry/Python-Prep/08%20-%20Error%20Handling/herramientas_mias.py?line=69'>70</a>\u001b[0m     \u001b[39mif\u001b[39;00m destino \u001b[39m==\u001b[39m \u001b[39m\"\u001b[39m\u001b[39mFarenheit\u001b[39m\u001b[39m\"\u001b[39m:\n",
      "\u001b[1;31mValueError\u001b[0m: La unidad de origen  y destino es la misma"
     ]
    }
   ],
   "source": [
    "a.tempconv('kelvin', 'kelvin')"
   ]
  },
  {
   "cell_type": "markdown",
   "metadata": {},
   "source": [
    "\n",
    "3) Importar el modulo \"unittest\" y crear los siguientes casos de pruebas sobre la clase utilizada en el punto 2<br>\n",
    "Creacion del objeto incorrecta<br>\n",
    "Creacion correcta del objeto<br>\n",
    "Metodo valor_modal()<br>\n",
    "\n",
    "Se puede usar \"raise ValueError()\" en la creación de la clase para verificar el error. Investigar sobre esta funcionalidad."
   ]
  },
  {
   "cell_type": "code",
   "execution_count": 8,
   "metadata": {},
   "outputs": [],
   "source": [
    "import unittest"
   ]
  },
  {
   "cell_type": "code",
   "execution_count": 84,
   "metadata": {},
   "outputs": [],
   "source": [
    "class clasetest(unittest.TestCase):\n",
    "    \n",
    "    def test_crear_objeto_mal(self):\n",
    "        param = 'hola'\n",
    "        self.assertRaises(ValueError, c.calculador, param)\n",
    "\n",
    "    def test_crear_objeto(self):\n",
    "        param = [1,2,2,5]\n",
    "        a = c.calculador(param)\n",
    "        self.assertEqual(a.lista, param)\n",
    "\n",
    "    def test_moda(self):\n",
    "        h1 = c.calculador([1,2,1,3])\n",
    "        moda, veces = h1.moda(False)\n",
    "        moda = [moda]\n",
    "        moda.append(veces)\n",
    "        resultado = [1, 2]\n",
    "        self.assertEqual(moda, resultado)"
   ]
  },
  {
   "cell_type": "code",
   "execution_count": 85,
   "metadata": {},
   "outputs": [
    {
     "name": "stderr",
     "output_type": "stream",
     "text": [
      "test_crear_objeto (__main__.clasetest) ... ok\n",
      "test_crear_objeto_mal (__main__.clasetest) ... ok\n",
      "test_moda (__main__.clasetest) ... ok\n",
      "test_tempconv (__main__.clasetest_3) ... ok\n",
      "\n",
      "----------------------------------------------------------------------\n",
      "Ran 4 tests in 0.004s\n",
      "\n",
      "OK\n"
     ]
    },
    {
     "data": {
      "text/plain": [
       "<unittest.main.TestProgram at 0x1cd2f6de800>"
      ]
     },
     "execution_count": 85,
     "metadata": {},
     "output_type": "execute_result"
    }
   ],
   "source": [
    "unittest.main(argv=[''], verbosity=2, exit=False)"
   ]
  },
  {
   "cell_type": "markdown",
   "metadata": {},
   "source": [
    "\n",
    "4) Probar una creación incorrecta y visualizar la salida del \"raise\"\n"
   ]
  },
  {
   "cell_type": "code",
   "execution_count": 86,
   "metadata": {},
   "outputs": [
    {
     "ename": "ValueError",
     "evalue": "La lista solo puede tener enteros",
     "output_type": "error",
     "traceback": [
      "\u001b[1;31m---------------------------------------------------------------------------\u001b[0m",
      "\u001b[1;31mValueError\u001b[0m                                Traceback (most recent call last)",
      "\u001b[1;32mc:\\Users\\ren98\\Documents\\Henry\\Python-Prep\\08 - Error Handling\\Prep_Course_Homework_08-Mis_respuestas.ipynb Cell 13'\u001b[0m in \u001b[0;36m<module>\u001b[1;34m\u001b[0m\n\u001b[1;32m----> <a href='vscode-notebook-cell:/c%3A/Users/ren98/Documents/Henry/Python-Prep/08%20-%20Error%20Handling/Prep_Course_Homework_08-Mis_respuestas.ipynb#ch0000021?line=0'>1</a>\u001b[0m prueba \u001b[39m=\u001b[39m c\u001b[39m.\u001b[39;49mcalculador([\u001b[39m1\u001b[39;49m,\u001b[39m2\u001b[39;49m,\u001b[39m3\u001b[39;49m,\u001b[39m4\u001b[39;49m,\u001b[39m5\u001b[39;49m,\u001b[39m'\u001b[39;49m\u001b[39mincorrecto\u001b[39;49m\u001b[39m'\u001b[39;49m])\n",
      "File \u001b[1;32mc:\\Users\\ren98\\Documents\\Henry\\Python-Prep\\08 - Error Handling\\herramientas_mias.py:11\u001b[0m, in \u001b[0;36mcalculador.__init__\u001b[1;34m(self, lista)\u001b[0m\n\u001b[0;32m      <a href='file:///c%3A/Users/ren98/Documents/Henry/Python-Prep/08%20-%20Error%20Handling/herramientas_mias.py?line=8'>9</a>\u001b[0m     \u001b[39mfor\u001b[39;00m a \u001b[39min\u001b[39;00m lista:\n\u001b[0;32m     <a href='file:///c%3A/Users/ren98/Documents/Henry/Python-Prep/08%20-%20Error%20Handling/herramientas_mias.py?line=9'>10</a>\u001b[0m         \u001b[39mif\u001b[39;00m \u001b[39mtype\u001b[39m(a) \u001b[39m!=\u001b[39m \u001b[39mint\u001b[39m:\n\u001b[1;32m---> <a href='file:///c%3A/Users/ren98/Documents/Henry/Python-Prep/08%20-%20Error%20Handling/herramientas_mias.py?line=10'>11</a>\u001b[0m             \u001b[39mraise\u001b[39;00m \u001b[39mValueError\u001b[39;00m(\u001b[39m'\u001b[39m\u001b[39mLa lista solo puede tener enteros\u001b[39m\u001b[39m'\u001b[39m)    \n\u001b[0;32m     <a href='file:///c%3A/Users/ren98/Documents/Henry/Python-Prep/08%20-%20Error%20Handling/herramientas_mias.py?line=11'>12</a>\u001b[0m \u001b[39mself\u001b[39m\u001b[39m.\u001b[39mlista \u001b[39m=\u001b[39m lista\n",
      "\u001b[1;31mValueError\u001b[0m: La lista solo puede tener enteros"
     ]
    }
   ],
   "source": [
    "prueba = c.calculador([1,2,3,4,5,'incorrecto'])"
   ]
  },
  {
   "cell_type": "markdown",
   "metadata": {},
   "source": [
    "\n",
    "6) Agregar casos de pruebas para el método verifica_primos() realizando el cambio en la clase, para que devuelva una lista de True o False en función de que el elemento en la posisicón sea o no primo\n"
   ]
  },
  {
   "cell_type": "code",
   "execution_count": 87,
   "metadata": {},
   "outputs": [],
   "source": [
    "class clasetest_2(unittest.TestCase):\n",
    "    def test_primo(self):\n",
    "        prueba = c.calculador([2,3,8,10,13])\n",
    "        funcion_test = prueba.es_primo()\n",
    "        resultado = [True,True,False,False,True]\n",
    "        self.assertEqual(funcion_test,resultado)\n",
    "\n"
   ]
  },
  {
   "cell_type": "code",
   "execution_count": 88,
   "metadata": {},
   "outputs": [
    {
     "name": "stderr",
     "output_type": "stream",
     "text": [
      "test_crear_objeto (__main__.clasetest) ... ok\n",
      "test_crear_objeto_mal (__main__.clasetest) ... ok\n",
      "test_moda (__main__.clasetest) ... ok\n",
      "test_primo (__main__.clasetest_2) ... ok\n",
      "test_tempconv (__main__.clasetest_3) ... ok\n",
      "\n",
      "----------------------------------------------------------------------\n",
      "Ran 5 tests in 0.005s\n",
      "\n",
      "OK\n"
     ]
    },
    {
     "data": {
      "text/plain": [
       "<unittest.main.TestProgram at 0x1cd2f915d50>"
      ]
     },
     "execution_count": 88,
     "metadata": {},
     "output_type": "execute_result"
    }
   ],
   "source": [
    "unittest.main(argv=[''], verbosity=2, exit=False)"
   ]
  },
  {
   "cell_type": "markdown",
   "metadata": {},
   "source": [
    "\n",
    "7) Agregar casos de pruebas para el método conversion_grados()"
   ]
  },
  {
   "cell_type": "code",
   "execution_count": 89,
   "metadata": {},
   "outputs": [],
   "source": [
    "class clasetest_3(unittest.TestCase):\n",
    "    def test_tempconv(self):\n",
    "        prueba = c.calculador([2,3,8,10,13])\n",
    "        funcion_test = prueba.tempconv('Celsius','Farenheit')\n",
    "        resultado = [35.6, 37.4, 46.4, 50.0, 55.4]\n",
    "        self.assertEqual(funcion_test,resultado)"
   ]
  },
  {
   "cell_type": "code",
   "execution_count": 90,
   "metadata": {},
   "outputs": [
    {
     "name": "stderr",
     "output_type": "stream",
     "text": [
      "test_crear_objeto (__main__.clasetest) ... ok\n",
      "test_crear_objeto_mal (__main__.clasetest) ... ok\n",
      "test_moda (__main__.clasetest) ... ok\n",
      "test_primo (__main__.clasetest_2) ... ok\n",
      "test_tempconv (__main__.clasetest_3) ... ok\n",
      "\n",
      "----------------------------------------------------------------------\n",
      "Ran 5 tests in 0.005s\n",
      "\n",
      "OK\n"
     ]
    },
    {
     "data": {
      "text/plain": [
       "<unittest.main.TestProgram at 0x1cd2f917610>"
      ]
     },
     "execution_count": 90,
     "metadata": {},
     "output_type": "execute_result"
    }
   ],
   "source": [
    "unittest.main(argv=[''], verbosity=2, exit=False)"
   ]
  },
  {
   "cell_type": "markdown",
   "metadata": {},
   "source": [
    "\n",
    "8) Agregar casos de pruebas para el método factorial()\n"
   ]
  },
  {
   "cell_type": "code",
   "execution_count": 122,
   "metadata": {},
   "outputs": [],
   "source": [
    "class clasetest_4(unittest.TestCase):\n",
    "    def test_factorial(self):\n",
    "        prueba = c.calculador([2,3,8,10,13])\n",
    "        funcion_test = prueba.factorial()\n",
    "        resultado = [2, 6, 40320, 3628800, 6227020800]\n",
    "        self.assertEqual(funcion_test,resultado)"
   ]
  },
  {
   "cell_type": "code",
   "execution_count": 123,
   "metadata": {},
   "outputs": [
    {
     "name": "stderr",
     "output_type": "stream",
     "text": [
      "test_crear_objeto (__main__.clasetest) ... ok\n",
      "test_crear_objeto_mal (__main__.clasetest) ... ok\n",
      "test_moda (__main__.clasetest) ... ok\n",
      "test_primo (__main__.clasetest_2) ... ok\n",
      "test_tempconv (__main__.clasetest_3) ... ok\n",
      "test_factorial (__main__.clasetest_4) ... ok\n",
      "\n",
      "----------------------------------------------------------------------\n",
      "Ran 6 tests in 0.007s\n",
      "\n",
      "OK\n"
     ]
    },
    {
     "data": {
      "text/plain": [
       "<unittest.main.TestProgram at 0x1cd2fb6cca0>"
      ]
     },
     "execution_count": 123,
     "metadata": {},
     "output_type": "execute_result"
    }
   ],
   "source": [
    "importlib.reload(c)\n",
    "unittest.main(argv=[''], verbosity=2, exit=False)\n"
   ]
  }
 ],
 "metadata": {
  "interpreter": {
   "hash": "6be21bdd46b231b5665ae554d2c2553df5ac1c0d0938c98b93784dfbbaf0eb10"
  },
  "kernelspec": {
   "display_name": "Python 3.9.10 64-bit (windows store)",
   "language": "python",
   "name": "python3"
  },
  "language_info": {
   "codemirror_mode": {
    "name": "ipython",
    "version": 3
   },
   "file_extension": ".py",
   "mimetype": "text/x-python",
   "name": "python",
   "nbconvert_exporter": "python",
   "pygments_lexer": "ipython3",
   "version": "3.10.2"
  },
  "orig_nbformat": 4
 },
 "nbformat": 4,
 "nbformat_minor": 2
}
