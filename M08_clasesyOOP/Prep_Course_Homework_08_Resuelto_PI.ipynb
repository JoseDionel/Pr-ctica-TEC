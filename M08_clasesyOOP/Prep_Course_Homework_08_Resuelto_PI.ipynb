{
 "cells": [
  {
   "attachments": {},
   "cell_type": "markdown",
   "metadata": {},
   "source": [
    "## Clases y Programación Orientada a Objetos"
   ]
  },
  {
   "attachments": {},
   "cell_type": "markdown",
   "metadata": {},
   "source": [
    "1) Crear la clase vehículo que contenga los atributos:<br>\n",
    "Color<br>\n",
    "Si es moto, auto, camioneta ó camión<br>\n",
    "Cilindrada del motor"
   ]
  },
  {
   "cell_type": "code",
   "execution_count": null,
   "metadata": {},
   "outputs": [],
   "source": [
    "class Vehículo:\n",
    "    def __init__(self, color, tipo, cilindrada):\n",
    "        self.color = color\n",
    "        self.tipo = tipo\n",
    "        self.cilindrada = cilindrada"
   ]
  },
  {
   "cell_type": "code",
   "execution_count": null,
   "metadata": {},
   "outputs": [],
   "source": [
    "moto1 = Vehículo('Roja', 'Moto', 150)\n",
    "\n",
    "print(moto1)\n",
    "print(moto1.color)\n",
    "print(moto1.tipo)\n",
    "print(moto1.cilindrada)\n"
   ]
  },
  {
   "attachments": {},
   "cell_type": "markdown",
   "metadata": {},
   "source": [
    "2) A la clase Vehiculo creada en el punto 1, agregar los siguientes métodos:<br>\n",
    "Acelerar<br>\n",
    "Frenar<br>\n",
    "Doblar<br>"
   ]
  },
  {
   "cell_type": "code",
   "execution_count": null,
   "metadata": {},
   "outputs": [],
   "source": [
    "class Vehiculo:\n",
    "    def __init__(self, color, tipo, cilindrada):\n",
    "        self.color = color\n",
    "        self.tipo = tipo\n",
    "        self.cilindrada = cilindrada\n",
    "        self.velocidad = 0\n",
    "        self.direccion = 0\n",
    "\n",
    "    def acelerar(self, velocidad):\n",
    "        self.velocidad += velocidad\n",
    "\n",
    "    def frenar(self, velocidad):\n",
    "        self.velocidad -= velocidad\n",
    "    \n",
    "    def doblar(self, grados):\n",
    "        self.direccion += grados\n"
   ]
  },
  {
   "attachments": {},
   "cell_type": "markdown",
   "metadata": {},
   "source": [
    "3) Instanciar 3 objetos de la clase vehículo y ejecutar sus métodos, probar luego el resultado"
   ]
  },
  {
   "cell_type": "code",
   "execution_count": null,
   "metadata": {},
   "outputs": [],
   "source": [
    "a1 = Vehiculo('rojo', 'auto', 2)  # Creación de un objeto \"Vehiculo\" con color rojo, tipo auto y cilindrada 2.\n",
    "a2 = Vehiculo('blanco', 'camioneta', 3.6)  # Creación de un objeto \"Vehiculo\" con color blanco, tipo camioneta y cilindrada 3.6.\n",
    "a3 = Vehiculo('negro', 'moto', 1)  # Creación de un objeto \"Vehiculo\" con color negro, tipo moto y cilindrada 1."
   ]
  },
  {
   "cell_type": "code",
   "execution_count": null,
   "metadata": {},
   "outputs": [],
   "source": [
    "a1.acelerar(10)\n",
    "a2.acelerar(20)\n",
    "a3.acelerar(30)\n",
    "\n",
    "a1.frenar(30)\n",
    "a2.frenar(40)\n",
    "a3.frenar(50)\n",
    "\n",
    "a1.doblar(20)\n",
    "a2.doblar(30)\n",
    "a3.doblar(40)\n"
   ]
  },
  {
   "attachments": {},
   "cell_type": "markdown",
   "metadata": {},
   "source": [
    "4) Agregar a la clase Vehiculo, un método que muestre su estado, es decir, a que velocidad se encuentra y su dirección. Y otro método que muestre color, tipo y cilindrada"
   ]
  },
  {
   "cell_type": "code",
   "execution_count": null,
   "metadata": {},
   "outputs": [],
   "source": [
    "class Vehiculo:\n",
    "    def __init__(self, color, tipo, cilindrada):\n",
    "        self.color = color\n",
    "        self.tipo = tipo\n",
    "        self.cilindrada = cilindrada\n",
    "        self.velocidad = 0\n",
    "        self.direccion = 0\n",
    "\n",
    "    def acelerar(self, velocidad):\n",
    "        self.velocidad += velocidad\n",
    "\n",
    "    def frenar(self, velocidad):\n",
    "        self.velocidad -= velocidad\n",
    "    \n",
    "    def doblar(self, grados):\n",
    "        self.direccion += grados\n",
    "\n",
    "    def estado(self):\n",
    "        print('El vehículo va a', self.velocidad,'en direccion', self.direccion)\n",
    "\n",
    "    def caracteristicas(self):\n",
    "        print('El vehículo es de color', self.color,'del tipo', self.tipo, 'con una cilindrada de', self.cilindrada)\n",
    "        \n"
   ]
  },
  {
   "cell_type": "code",
   "execution_count": null,
   "metadata": {},
   "outputs": [],
   "source": [
    "a1.estado()\n",
    "a1.caracteristicas()"
   ]
  },
  {
   "cell_type": "code",
   "execution_count": null,
   "metadata": {},
   "outputs": [],
   "source": [
    "a2.estado()\n",
    "a2.caracteristicas()"
   ]
  },
  {
   "cell_type": "code",
   "execution_count": null,
   "metadata": {},
   "outputs": [],
   "source": [
    "a3.estado()\n",
    "a3.caracteristicas()"
   ]
  },
  {
   "attachments": {},
   "cell_type": "markdown",
   "metadata": {},
   "source": [
    "5) Crear una clase que permita utilizar las funciones creadas en la práctica del módulo 7<br>\n",
    "Verificar Primo<br>\n",
    "Valor modal<br>\n",
    "Conversión grados<br>\n",
    "Factorial<br>"
   ]
  },
  {
   "cell_type": "code",
   "execution_count": null,
   "metadata": {},
   "outputs": [],
   "source": [
    "class Funciones:\n",
    "\n",
    "    def __init__(self) -> None:\n",
    "        pass\n",
    "\n",
    "\n",
    "    def primo(numero):\n",
    "        es_primo = True\n",
    "        numero = int(numero)\n",
    "        for i in range(2,numero):\n",
    "            if numero % i == 0:\n",
    "                es_primo= False\n",
    "                break\n",
    "        return(es_primo)\n",
    "    \n",
    "    def modal(lista_de_numeros):\n",
    "        conteo = dict()\n",
    "        for i in lista_de_numeros:\n",
    "            if i not in conteo:\n",
    "                conteo[i] = 1\n",
    "            else:\n",
    "                conteo[i] += 1\n",
    "\n",
    "        mayor = 0\n",
    "        for j in conteo:\n",
    "            if conteo[j] > mayor:\n",
    "                mayor = conteo[j]\n",
    "                numero = j\n",
    "                \n",
    "        print('El', numero ,'se repite', mayor, 'veces')\n",
    "    \n",
    "    def grados(valor, origen, destino):\n",
    "        c = 'Celsius'\n",
    "        f = 'Farenheit'\n",
    "        k = 'Kelvin'\n",
    "        if origen == c:\n",
    "            if destino == c:\n",
    "                valor_final = valor\n",
    "                unidad = '°C'\n",
    "            elif destino == f:\n",
    "                valor_final = (valor*9/5) + 32\n",
    "                unidad = '°F'\n",
    "            elif destino == k:\n",
    "                valor_final = valor + 273\n",
    "                unidad = '°K'\n",
    "            else:\n",
    "                print('Hay un error en la unidad de destino')\n",
    "        elif origen == f:\n",
    "            if destino == c:\n",
    "                valor_final = (valor - 32)*5/9 \n",
    "                unidad = '°C'\n",
    "            elif destino == f:\n",
    "                valor_final = valor\n",
    "                unidad = '°F'\n",
    "            elif destino == k:\n",
    "                valor_final = (valor + 459.67) * 5/9\n",
    "                unidad = '°K'\n",
    "            else:\n",
    "                print('Hay un error en la unidad de destino')\n",
    "        elif origen == k:\n",
    "            if destino == c:\n",
    "                valor_final = valor -273\n",
    "                unidad = '°C'\n",
    "            elif destino == f:\n",
    "                valor_final = valor*9/5 - 459.67\n",
    "                unidad = '°F'\n",
    "            elif destino == k:\n",
    "                valor_final = valor\n",
    "                unidad = '°K'   \n",
    "            else:\n",
    "                print('Hay un error en la unidad de destino')\n",
    "        else:\n",
    "            print('Hay un error en la unidad de origen')\n",
    "\n",
    "        print( valor, 'en ', origen, 'son', valor_final, unidad)\n",
    "    \n",
    "    def factorial(nro):\n",
    "        fact = 1\n",
    "\n",
    "        if type(nro) == int:\n",
    "            if nro >= 0:\n",
    "                for i in range(1,nro+1):\n",
    "                    fact *= i \n",
    "                print('el resultado es', fact)   \n",
    "            else:\n",
    "                print('se debe ingresar un positivo')         \n",
    "        else:\n",
    "            print('se debe ingresar un entero')"
   ]
  },
  {
   "cell_type": "code",
   "execution_count": null,
   "metadata": {},
   "outputs": [],
   "source": [
    "f = Funciones"
   ]
  },
  {
   "attachments": {},
   "cell_type": "markdown",
   "metadata": {},
   "source": [
    "6) Probar las funciones incorporadas en la clase del punto 5"
   ]
  },
  {
   "cell_type": "code",
   "execution_count": null,
   "metadata": {},
   "outputs": [],
   "source": [
    "f.primo(7)"
   ]
  },
  {
   "cell_type": "code",
   "execution_count": null,
   "metadata": {},
   "outputs": [],
   "source": [
    "listado = [1,8,2,5,4,8,10,7]\n",
    "f.modal(listado)\n"
   ]
  },
  {
   "cell_type": "code",
   "execution_count": null,
   "metadata": {},
   "outputs": [],
   "source": [
    "f.grados(10,'Celsius','Kelvin')"
   ]
  },
  {
   "cell_type": "code",
   "execution_count": null,
   "metadata": {},
   "outputs": [],
   "source": [
    "f.factorial(6)"
   ]
  },
  {
   "attachments": {},
   "cell_type": "markdown",
   "metadata": {},
   "source": [
    "7) Es necesario que la clase creada en el punto 5 contenga una lista, sobre la cual se apliquen las funciones incorporadas"
   ]
  },
  {
   "cell_type": "code",
   "execution_count": 82,
   "metadata": {},
   "outputs": [],
   "source": [
    "class Herramientas:\n",
    "\n",
    "    def __init__(self, lista_numeros):\n",
    "        self.lista = lista_numeros\n",
    "\n",
    "    def primo(self):\n",
    "        for i in self.lista:\n",
    "            if self.__primo(i):\n",
    "                print(i, 'es primo')\n",
    "            else:\n",
    "                print (i, 'no es primo')\n",
    "\n",
    "    def __primo(self,nro):\n",
    "        es_primo = True\n",
    "        for i in range(2,nro):\n",
    "            i = int(i)\n",
    "            if nro % i == 0:\n",
    "                es_primo= False\n",
    "                break\n",
    "        return(es_primo)\n",
    "    \n",
    "    def modal(self):\n",
    "        conteo = dict()\n",
    "        for i in self.lista:\n",
    "            if i not in conteo:\n",
    "                conteo[i] = 1\n",
    "            else:\n",
    "                conteo[i] += 1\n",
    "\n",
    "        mayor = 0\n",
    "        for j in conteo:\n",
    "            if conteo[j] > mayor:\n",
    "                mayor = conteo[j]\n",
    "                numero = j\n",
    "                \n",
    "        print('El', numero ,'se repite', mayor, 'veces')\n",
    "\n",
    "    def grados(self, origen, destino):\n",
    "        for i in self.lista:\n",
    "            print(i, \"en\", origen, 'son', self.__grados(i,origen,destino), destino)\n",
    "\n",
    "    \n",
    "    def __grados(self, valor, origen, destino):\n",
    "        c = 'Celsius'\n",
    "        f = 'Farenheit'\n",
    "        k = 'Kelvin'\n",
    "        if origen == c:\n",
    "            if destino == c:\n",
    "                valor_final = valor\n",
    "                unidad = '°C'\n",
    "            elif destino == f:\n",
    "                valor_final = (valor*9/5) + 32\n",
    "                unidad = '°F'\n",
    "            elif destino == k:\n",
    "                valor_final = valor + 273\n",
    "                unidad = '°K'\n",
    "            else:\n",
    "                print('Hay un error en la unidad de destino')\n",
    "        elif origen == f:\n",
    "            if destino == c:\n",
    "                valor_final = (valor - 32)*5/9 \n",
    "                unidad = '°C'\n",
    "            elif destino == f:\n",
    "                valor_final = valor\n",
    "                unidad = '°F'\n",
    "            elif destino == k:\n",
    "                valor_final = (valor + 459.67) * 5/9\n",
    "                unidad = '°K'\n",
    "            else:\n",
    "                print('Hay un error en la unidad de destino')\n",
    "        elif origen == k:\n",
    "            if destino == c:\n",
    "                valor_final = valor -273\n",
    "                unidad = '°C'\n",
    "            elif destino == f:\n",
    "                valor_final = valor*9/5 - 459.67\n",
    "                unidad = '°F'\n",
    "            elif destino == k:\n",
    "                valor_final = valor\n",
    "                unidad = '°K'   \n",
    "            else:\n",
    "                print('Hay un error en la unidad de destino')\n",
    "        else:\n",
    "            print('Hay un error en la unidad de origen')\n",
    "\n",
    "        return (valor_final)\n",
    "    \n",
    "    def factorial(self):\n",
    "        for i in self.lista:\n",
    "            print('el factorial de', i, 'es', self.__factorial(i))\n",
    "\n",
    "    \n",
    "    def __factorial(self, nro):\n",
    "        fact = 1\n",
    "        if type(nro) == int:\n",
    "            if nro >= 0:\n",
    "                for i in range(1,nro+1):\n",
    "                    fact *= i \n",
    "                return fact\n",
    "            else:\n",
    "                print('se debe ingresar un positivo')         \n",
    "        else:\n",
    "            print('se debe ingresar un entero')\n",
    "\n"
   ]
  },
  {
   "cell_type": "code",
   "execution_count": 83,
   "metadata": {},
   "outputs": [],
   "source": [
    "nros= [1,1,2,5,8,8,9,11,15,16,16,16,18,20]"
   ]
  },
  {
   "cell_type": "code",
   "execution_count": 84,
   "metadata": {},
   "outputs": [],
   "source": [
    "h = Herramientas(nros)"
   ]
  },
  {
   "cell_type": "code",
   "execution_count": 79,
   "metadata": {},
   "outputs": [
    {
     "name": "stdout",
     "output_type": "stream",
     "text": [
      "1 es primo\n",
      "1 es primo\n",
      "2 es primo\n",
      "5 es primo\n",
      "8 no es primo\n",
      "8 no es primo\n",
      "9 no es primo\n",
      "11 es primo\n",
      "15 no es primo\n",
      "16 no es primo\n",
      "16 no es primo\n",
      "16 no es primo\n",
      "18 no es primo\n",
      "20 no es primo\n"
     ]
    }
   ],
   "source": [
    "h.primo()"
   ]
  },
  {
   "cell_type": "code",
   "execution_count": 80,
   "metadata": {},
   "outputs": [
    {
     "name": "stdout",
     "output_type": "stream",
     "text": [
      "1 en Celsius son 274 Kelvin\n",
      "1 en Celsius son 274 Kelvin\n",
      "2 en Celsius son 275 Kelvin\n",
      "5 en Celsius son 278 Kelvin\n",
      "8 en Celsius son 281 Kelvin\n",
      "8 en Celsius son 281 Kelvin\n",
      "9 en Celsius son 282 Kelvin\n",
      "11 en Celsius son 284 Kelvin\n",
      "15 en Celsius son 288 Kelvin\n",
      "16 en Celsius son 289 Kelvin\n",
      "16 en Celsius son 289 Kelvin\n",
      "16 en Celsius son 289 Kelvin\n",
      "18 en Celsius son 291 Kelvin\n",
      "20 en Celsius son 293 Kelvin\n"
     ]
    }
   ],
   "source": [
    "h.grados('Celsius', 'Kelvin')"
   ]
  },
  {
   "cell_type": "code",
   "execution_count": 85,
   "metadata": {},
   "outputs": [
    {
     "name": "stdout",
     "output_type": "stream",
     "text": [
      "el factorial de 1 es 1\n",
      "el factorial de 1 es 1\n",
      "el factorial de 2 es 2\n",
      "el factorial de 5 es 120\n",
      "el factorial de 8 es 40320\n",
      "el factorial de 8 es 40320\n",
      "el factorial de 9 es 362880\n",
      "el factorial de 11 es 39916800\n",
      "el factorial de 15 es 1307674368000\n",
      "el factorial de 16 es 20922789888000\n",
      "el factorial de 16 es 20922789888000\n",
      "el factorial de 16 es 20922789888000\n",
      "el factorial de 18 es 6402373705728000\n",
      "el factorial de 20 es 2432902008176640000\n"
     ]
    }
   ],
   "source": [
    "h.factorial()"
   ]
  },
  {
   "cell_type": "code",
   "execution_count": 86,
   "metadata": {},
   "outputs": [
    {
     "name": "stdout",
     "output_type": "stream",
     "text": [
      "El 16 se repite 3 veces\n"
     ]
    }
   ],
   "source": [
    "h.modal()"
   ]
  },
  {
   "attachments": {},
   "cell_type": "markdown",
   "metadata": {},
   "source": [
    "8) Crear un archivo .py aparte y ubicar allí la clase generada en el punto anterior. Luego realizar la importación del módulo y probar alguna de sus funciones"
   ]
  },
  {
   "cell_type": "code",
   "execution_count": null,
   "metadata": {},
   "outputs": [],
   "source": [
    "import modulo\n",
    "\n",
    "h = H"
   ]
  }
 ],
 "metadata": {
  "interpreter": {
   "hash": "c85384e4cb51c8b72350f3a8712cc8351fdc3955e32a27f9b60c6242ab125f01"
  },
  "kernelspec": {
   "display_name": "Python 3 (ipykernel)",
   "language": "python",
   "name": "python3"
  },
  "language_info": {
   "codemirror_mode": {
    "name": "ipython",
    "version": 3
   },
   "file_extension": ".py",
   "mimetype": "text/x-python",
   "name": "python",
   "nbconvert_exporter": "python",
   "pygments_lexer": "ipython3",
   "version": "3.10.5"
  }
 },
 "nbformat": 4,
 "nbformat_minor": 4
}
