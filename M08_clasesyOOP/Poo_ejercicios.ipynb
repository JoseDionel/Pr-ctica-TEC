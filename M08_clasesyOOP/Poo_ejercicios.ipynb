{
 "cells": [
  {
   "cell_type": "code",
   "execution_count": 1,
   "metadata": {},
   "outputs": [],
   "source": [
    "class Gato:\n",
    "\n",
    "    def __init__(self, nombre, edad, raza, sexo):\n",
    "        self.nombre = nombre\n",
    "        self.edad = edad\n",
    "        self.raza = raza\n",
    "        self.sexo = sexo \n",
    "\n",
    "#Metodo presentar\n",
    "\n",
    "    def presentar(self):\n",
    "        return print(\"Nombre:\", self.nombre, \"Edad:\", self.edad, \"Raza:\", self.raza, \"Sexo:\", self.sexo)"
   ]
  },
  {
   "cell_type": "code",
   "execution_count": 2,
   "metadata": {},
   "outputs": [],
   "source": [
    "gato1 =  Gato(\"Pompón\", 2, \"Siames\", \"Macho\")  "
   ]
  },
  {
   "cell_type": "code",
   "execution_count": 3,
   "metadata": {},
   "outputs": [
    {
     "name": "stdout",
     "output_type": "stream",
     "text": [
      "Nombre: Pompón Edad: 2 Raza: Siames Sexo: Macho\n"
     ]
    }
   ],
   "source": [
    "gato1.presentar()"
   ]
  },
  {
   "cell_type": "markdown",
   "metadata": {},
   "source": [
    "Pilares POO\n"
   ]
  },
  {
   "cell_type": "code",
   "execution_count": 4,
   "metadata": {},
   "outputs": [],
   "source": [
    "#Encapsulamiento\n",
    "\n",
    "class CuentaBancaria:\n",
    "    def __init__(self, saldo):\n",
    "        self.__saldo # El atributo está encapsulado con el __\n",
    "    \n",
    "    def depositar(self, monto):\n",
    "        self.__saldo += monto\n",
    "\n",
    "    def retirar (self, monto):\n",
    "        if self.__saldo >= monto:\n",
    "            self.__saldo -= monto\n",
    "        else:\n",
    "            print(\"Saldo insuficiente\")\n",
    "\n",
    "    def obtener_saldo (self):\n",
    "        return self.__saldo\n",
    "                "
   ]
  },
  {
   "cell_type": "code",
   "execution_count": 5,
   "metadata": {},
   "outputs": [],
   "source": [
    "#Herencia\n",
    "\n",
    "gato2 = Gato (\"Nina\", 3, \"Mezcla\",\"Hembra\")"
   ]
  },
  {
   "cell_type": "code",
   "execution_count": 6,
   "metadata": {},
   "outputs": [
    {
     "name": "stdout",
     "output_type": "stream",
     "text": [
      "Nombre: Nina Edad: 3 Raza: Mezcla Sexo: Hembra\n"
     ]
    }
   ],
   "source": [
    "gato2.presentar()"
   ]
  },
  {
   "cell_type": "code",
   "execution_count": 7,
   "metadata": {},
   "outputs": [],
   "source": [
    "#Polimorfismo\n",
    "\n",
    "class Animal:\n",
    "    def __init__(self, especie, edad, color): \n",
    "        self.especie = especie\n",
    "        self.edad = edad\n",
    "        self.color = color\n",
    "\n",
    "    def mePresento (self):\n",
    "        print(\"Hola, soy\", self.especie, \"de color\", self.color, \"y tengo\", self.edad, \"años\")\n",
    "\n",
    "    def cumplirAños (self):\n",
    "        self.edad = self.edad + 1"
   ]
  },
  {
   "cell_type": "code",
   "execution_count": 8,
   "metadata": {},
   "outputs": [],
   "source": [
    "a1 = Animal (\"Raton\", 2, \"Marrón\")\n",
    "a2 = Animal (\"Liebre\", 3, \"Gris\")\n",
    "  "
   ]
  },
  {
   "cell_type": "code",
   "execution_count": 9,
   "metadata": {},
   "outputs": [
    {
     "name": "stdout",
     "output_type": "stream",
     "text": [
      "Raton\n",
      "2\n",
      "Liebre\n",
      "3\n"
     ]
    }
   ],
   "source": [
    "print(a1.especie)\n",
    "print(a1.edad)\n",
    "print(a2.especie)\n",
    "print(a2.edad)"
   ]
  },
  {
   "cell_type": "code",
   "execution_count": 10,
   "metadata": {},
   "outputs": [
    {
     "name": "stdout",
     "output_type": "stream",
     "text": [
      "Hola, soy Raton de color Marrón y tengo 2 años\n"
     ]
    }
   ],
   "source": [
    "a1.mePresento()"
   ]
  },
  {
   "cell_type": "code",
   "execution_count": 11,
   "metadata": {},
   "outputs": [
    {
     "name": "stdout",
     "output_type": "stream",
     "text": [
      "Hola, soy Liebre de color Gris y tengo 3 años\n"
     ]
    }
   ],
   "source": [
    "a2.mePresento()"
   ]
  },
  {
   "cell_type": "code",
   "execution_count": 12,
   "metadata": {},
   "outputs": [],
   "source": [
    "a1.cumplirAños()\n",
    "a2.cumplirAños()"
   ]
  },
  {
   "cell_type": "code",
   "execution_count": 13,
   "metadata": {},
   "outputs": [
    {
     "name": "stdout",
     "output_type": "stream",
     "text": [
      "Hola, soy Raton de color Marrón y tengo 3 años\n"
     ]
    }
   ],
   "source": [
    "a1.mePresento()"
   ]
  },
  {
   "cell_type": "code",
   "execution_count": 14,
   "metadata": {},
   "outputs": [
    {
     "name": "stdout",
     "output_type": "stream",
     "text": [
      "Hola, soy Liebre de color Gris y tengo 4 años\n"
     ]
    }
   ],
   "source": [
    "a2.mePresento()"
   ]
  },
  {
   "cell_type": "markdown",
   "metadata": {},
   "source": [
    "Herencia POO"
   ]
  },
  {
   "cell_type": "code",
   "execution_count": 30,
   "metadata": {},
   "outputs": [],
   "source": [
    "class Animal:       #Clase base\n",
    "    def __init__(self, especie, edad): \n",
    "        self.especie = especie\n",
    "        self.edad = edad\n",
    "    # Metodo generico con implementación particular\n",
    "\n",
    "    def hablar (self):\n",
    "        #Metodo vacio\n",
    "        pass\n",
    "    # Metodo generico con implementación particular\n",
    "    \n",
    "    def moverse(self):\n",
    "        #Metodo vacio\n",
    "        pass\n",
    "    # Metodo generico con la misma implementación\n",
    "    def describeme(self):\n",
    "        print(\"Soy un animal del tipo\", type(self).__name__)\n"
   ]
  },
  {
   "cell_type": "code",
   "execution_count": 17,
   "metadata": {},
   "outputs": [],
   "source": [
    "# Perro hereda de animal\n",
    "\n",
    "class Perro(Animal):\n",
    "    pass"
   ]
  },
  {
   "cell_type": "code",
   "execution_count": 18,
   "metadata": {},
   "outputs": [
    {
     "name": "stdout",
     "output_type": "stream",
     "text": [
      "Soy un animal del tipo Perro\n"
     ]
    }
   ],
   "source": [
    "mi_perro = Perro (\"Mamifero\", 10)\n",
    "mi_perro.describeme()"
   ]
  },
  {
   "cell_type": "code",
   "execution_count": 23,
   "metadata": {},
   "outputs": [],
   "source": [
    "class Perro(Animal):\n",
    "    def hablar(self):\n",
    "        print(\"Guau!\")\n",
    "    def moverse (self):\n",
    "        print(\"Caminar con cuatro patas\")    "
   ]
  },
  {
   "cell_type": "code",
   "execution_count": 24,
   "metadata": {},
   "outputs": [],
   "source": [
    "class Vaca(Animal):\n",
    "    def hablar(self):\n",
    "        print(\"Muuuu!\")\n",
    "    def moverse (self):\n",
    "        print(\"Caminar con cuatro patas\")    "
   ]
  },
  {
   "cell_type": "code",
   "execution_count": 25,
   "metadata": {},
   "outputs": [],
   "source": [
    "class Abeja(Animal):\n",
    "    def hablar(self):\n",
    "        print(\"Bzzzz!\")\n",
    "    def moverse (self):\n",
    "        print(\"Volando\")\n",
    "    # Nuevo método\n",
    "\n",
    "    def picar(self):\n",
    "        print(\"Picar\")    "
   ]
  },
  {
   "cell_type": "code",
   "execution_count": 32,
   "metadata": {},
   "outputs": [],
   "source": [
    "mi_perro = Perro(\"Mamifero\", 10)  #Instanciamos tres objetos\n",
    "mi_vaca = Vaca (\"Mamifero\", 23)\n",
    "mi_abeja = Abeja(\"Insecto\", 1)"
   ]
  },
  {
   "cell_type": "code",
   "execution_count": 33,
   "metadata": {},
   "outputs": [
    {
     "name": "stdout",
     "output_type": "stream",
     "text": [
      "Muuuu!\n"
     ]
    }
   ],
   "source": [
    "mi_vaca.hablar()"
   ]
  },
  {
   "cell_type": "code",
   "execution_count": 34,
   "metadata": {},
   "outputs": [
    {
     "name": "stdout",
     "output_type": "stream",
     "text": [
      "Soy un animal del tipo Abeja\n"
     ]
    }
   ],
   "source": [
    "mi_abeja.describeme()"
   ]
  },
  {
   "cell_type": "code",
   "execution_count": 35,
   "metadata": {},
   "outputs": [
    {
     "name": "stdout",
     "output_type": "stream",
     "text": [
      "Picar\n"
     ]
    }
   ],
   "source": [
    "mi_abeja.picar()"
   ]
  },
  {
   "cell_type": "markdown",
   "metadata": {},
   "source": [
    "Función super()"
   ]
  },
  {
   "cell_type": "code",
   "execution_count": 36,
   "metadata": {},
   "outputs": [],
   "source": [
    "class Animal:       #Clase base\n",
    "    def __init__(self, especie, edad): \n",
    "        self.especie = especie\n",
    "        self.edad = edad\n",
    "    # Metodo generico con implementación particular\n",
    "\n",
    "    def hablar (self):\n",
    "        #Metodo vacio\n",
    "        pass\n",
    "    # Metodo generico con implementación particular\n",
    "    \n",
    "    def moverse(self):\n",
    "        #Metodo vacio\n",
    "        pass\n",
    "    # Metodo generico con la misma implementación\n",
    "    def describeme(self):\n",
    "        print(\"Soy un animal del tipo\", type(self).__name__)"
   ]
  },
  {
   "cell_type": "code",
   "execution_count": 37,
   "metadata": {},
   "outputs": [],
   "source": [
    "class Perro:\n",
    "    def __init__(self, especie, edad, dueño):   #Añadimos atributo en el constructor \n",
    "        self.especie = especie\n",
    "        self.edad = edad\n",
    "        self.dueño = dueño"
   ]
  },
  {
   "cell_type": "code",
   "execution_count": 39,
   "metadata": {},
   "outputs": [],
   "source": [
    "#Añadimos atributo con la funsión super\n",
    "\n",
    "class Perro(Animal):\n",
    "    def __init__(self, especie, edad, dueño):\n",
    "        super().__init__(especie,edad)      #Llamamos al contructor de la clase base y luego agragar el atributo dueño\n",
    "        self.dueño = dueño  #Agrega el atributo nuevo"
   ]
  },
  {
   "cell_type": "code",
   "execution_count": 40,
   "metadata": {},
   "outputs": [],
   "source": [
    "nuevo_perro = Perro (\"Mamifero\", 7 , \"Luis\")\n"
   ]
  },
  {
   "cell_type": "code",
   "execution_count": 41,
   "metadata": {},
   "outputs": [
    {
     "name": "stdout",
     "output_type": "stream",
     "text": [
      "Mamifero\n",
      "7\n",
      "Luis\n"
     ]
    }
   ],
   "source": [
    "print(nuevo_perro.especie) #Accedemos a los atributos de la instacia de la clase perro recién creada\n",
    "print(nuevo_perro.edad)\n",
    "print(nuevo_perro.dueño)"
   ]
  },
  {
   "cell_type": "markdown",
   "metadata": {},
   "source": [
    "LIBRERIAS Y MODULOS"
   ]
  },
  {
   "cell_type": "code",
   "execution_count": 44,
   "metadata": {},
   "outputs": [
    {
     "name": "stdout",
     "output_type": "stream",
     "text": [
      "4.0\n"
     ]
    }
   ],
   "source": [
    "# Libreria math\n",
    "\n",
    "import math\n",
    "\n",
    "x = 16\n",
    "raiz_cuarada = math.sqrt(x)\n",
    "\n",
    "print(raiz_cuarada)"
   ]
  },
  {
   "cell_type": "code",
   "execution_count": 47,
   "metadata": {},
   "outputs": [
    {
     "name": "stdout",
     "output_type": "stream",
     "text": [
      "7\n",
      "1\n"
     ]
    }
   ],
   "source": [
    "#utilizo mi modulo.py importando todo su contenido \n",
    "\n",
    "import mi_modulo\n",
    "\n",
    "print(mi_modulo.suma(4,3))\n",
    "print(mi_modulo.resta(10,9))"
   ]
  },
  {
   "cell_type": "code",
   "execution_count": 48,
   "metadata": {},
   "outputs": [
    {
     "name": "stdout",
     "output_type": "stream",
     "text": [
      "14\n"
     ]
    }
   ],
   "source": [
    "#importarmos solo los elementos que nos interesan\n",
    "\n",
    "from mi_modulo import suma\n",
    "\n",
    "print(suma(8,6))"
   ]
  },
  {
   "cell_type": "code",
   "execution_count": 49,
   "metadata": {},
   "outputs": [
    {
     "name": "stdout",
     "output_type": "stream",
     "text": [
      "12\n"
     ]
    }
   ],
   "source": [
    "#Podemos importar todo el modulo haciendo uso del asterisco\n",
    "\n",
    "from mi_modulo import *\n",
    "\n",
    "print(resta(22, 10))"
   ]
  },
  {
   "cell_type": "markdown",
   "metadata": {},
   "source": [
    "RUTAS Y USO DE SYS.PATH"
   ]
  },
  {
   "cell_type": "code",
   "execution_count": 3,
   "metadata": {},
   "outputs": [
    {
     "name": "stdout",
     "output_type": "stream",
     "text": [
      "Hola\n",
      "None\n"
     ]
    }
   ],
   "source": [
    "from mi_modulo  import *\n",
    "print (hola())"
   ]
  },
  {
   "cell_type": "code",
   "execution_count": 4,
   "metadata": {},
   "outputs": [
    {
     "name": "stdout",
     "output_type": "stream",
     "text": [
      "['c:\\\\Users\\\\Julian\\\\Desktop\\\\Python-Prep\\\\M08_clasesyOOP', 'c:\\\\Users\\\\Julian\\\\AppData\\\\Local\\\\Programs\\\\Python\\\\Python312\\\\python312.zip', 'c:\\\\Users\\\\Julian\\\\AppData\\\\Local\\\\Programs\\\\Python\\\\Python312\\\\DLLs', 'c:\\\\Users\\\\Julian\\\\AppData\\\\Local\\\\Programs\\\\Python\\\\Python312\\\\Lib', 'c:\\\\Users\\\\Julian\\\\AppData\\\\Local\\\\Programs\\\\Python\\\\Python312', '', 'C:\\\\Users\\\\Julian\\\\AppData\\\\Roaming\\\\Python\\\\Python312\\\\site-packages', 'C:\\\\Users\\\\Julian\\\\AppData\\\\Roaming\\\\Python\\\\Python312\\\\site-packages\\\\win32', 'C:\\\\Users\\\\Julian\\\\AppData\\\\Roaming\\\\Python\\\\Python312\\\\site-packages\\\\win32\\\\lib', 'C:\\\\Users\\\\Julian\\\\AppData\\\\Roaming\\\\Python\\\\Python312\\\\site-packages\\\\Pythonwin', 'c:\\\\Users\\\\Julian\\\\AppData\\\\Local\\\\Programs\\\\Python\\\\Python312\\\\Lib\\\\site-packages']\n"
     ]
    }
   ],
   "source": [
    "import sys\n",
    "print(sys.path) "
   ]
  },
  {
   "cell_type": "code",
   "execution_count": 5,
   "metadata": {},
   "outputs": [],
   "source": [
    "import mi_modulo as m\n"
   ]
  },
  {
   "cell_type": "code",
   "execution_count": 7,
   "metadata": {},
   "outputs": [
    {
     "name": "stdout",
     "output_type": "stream",
     "text": [
      "Hola\n",
      "None\n"
     ]
    }
   ],
   "source": [
    "print(m.hola())"
   ]
  },
  {
   "cell_type": "code",
   "execution_count": 13,
   "metadata": {},
   "outputs": [
    {
     "name": "stdout",
     "output_type": "stream",
     "text": [
      "['In', 'Out', '_', '__', '___', '__builtin__', '__builtins__', '__doc__', '__loader__', '__name__', '__package__', '__spec__', '__vsc_ipynb_file__', '_dh', '_i', '_i1', '_i10', '_i11', '_i12', '_i13', '_i2', '_i3', '_i4', '_i5', '_i6', '_i7', '_i8', '_i9', '_ih', '_ii', '_iii', '_oh', 'exit', 'get_ipython', 'hola', 'm', 'open', 'quit', 'resta', 'suma', 'sys']\n"
     ]
    }
   ],
   "source": [
    "print(dir())"
   ]
  },
  {
   "cell_type": "code",
   "execution_count": 12,
   "metadata": {},
   "outputs": [
    {
     "name": "stdout",
     "output_type": "stream",
     "text": [
      "c:\\Users\\Julian\\Desktop\\Python-Prep\\M08_clasesyOOP\\mi_modulo.py\n"
     ]
    }
   ],
   "source": [
    "print(m.__file__)"
   ]
  },
  {
   "cell_type": "code",
   "execution_count": 14,
   "metadata": {},
   "outputs": [
    {
     "name": "stdout",
     "output_type": "stream",
     "text": [
      "['__builtins__', '__cached__', '__doc__', '__file__', '__loader__', '__name__', '__package__', '__spec__', 'hola', 'resta', 'suma']\n"
     ]
    }
   ],
   "source": [
    "import mi_modulo\n",
    "print(dir(mi_modulo))"
   ]
  },
  {
   "cell_type": "code",
   "execution_count": 15,
   "metadata": {},
   "outputs": [
    {
     "name": "stdout",
     "output_type": "stream",
     "text": [
      "mi_modulo\n"
     ]
    }
   ],
   "source": [
    "print(mi_modulo.__name__)"
   ]
  },
  {
   "cell_type": "code",
   "execution_count": 16,
   "metadata": {},
   "outputs": [
    {
     "name": "stdout",
     "output_type": "stream",
     "text": [
      "c:\\Users\\Julian\\Desktop\\Python-Prep\\M08_clasesyOOP\\mi_modulo.py\n"
     ]
    }
   ],
   "source": [
    "print(mi_modulo.__file__)"
   ]
  },
  {
   "cell_type": "code",
   "execution_count": 17,
   "metadata": {},
   "outputs": [
    {
     "ename": "ModuleNotFoundError",
     "evalue": "No module named 'moduloquenoexiste'",
     "output_type": "error",
     "traceback": [
      "\u001b[1;31m---------------------------------------------------------------------------\u001b[0m",
      "\u001b[1;31mModuleNotFoundError\u001b[0m                       Traceback (most recent call last)",
      "Cell \u001b[1;32mIn[17], line 1\u001b[0m\n\u001b[1;32m----> 1\u001b[0m \u001b[38;5;28;01mimport\u001b[39;00m \u001b[38;5;21;01mmoduloquenoexiste\u001b[39;00m\n",
      "\u001b[1;31mModuleNotFoundError\u001b[0m: No module named 'moduloquenoexiste'"
     ]
    }
   ],
   "source": [
    "import moduloquenoexiste"
   ]
  },
  {
   "cell_type": "code",
   "execution_count": 20,
   "metadata": {},
   "outputs": [
    {
     "name": "stdout",
     "output_type": "stream",
     "text": [
      "La suma es : 3\n"
     ]
    }
   ],
   "source": [
    "import modulo"
   ]
  },
  {
   "cell_type": "code",
   "execution_count": 21,
   "metadata": {},
   "outputs": [],
   "source": [
    "import modulo"
   ]
  },
  {
   "cell_type": "code",
   "execution_count": 22,
   "metadata": {},
   "outputs": [
    {
     "data": {
      "text/plain": [
       "<module 'mi_modulo' from 'c:\\\\Users\\\\Julian\\\\Desktop\\\\Python-Prep\\\\M08_clasesyOOP\\\\mi_modulo.py'>"
      ]
     },
     "execution_count": 22,
     "metadata": {},
     "output_type": "execute_result"
    }
   ],
   "source": [
    "import mi_modulo\n",
    "import importlib\n",
    "\n",
    "importlib.reload(mi_modulo)\n",
    "importlib.reload(mi_modulo)"
   ]
  }
 ],
 "metadata": {
  "kernelspec": {
   "display_name": "Python 3",
   "language": "python",
   "name": "python3"
  },
  "language_info": {
   "codemirror_mode": {
    "name": "ipython",
    "version": 3
   },
   "file_extension": ".py",
   "mimetype": "text/x-python",
   "name": "python",
   "nbconvert_exporter": "python",
   "pygments_lexer": "ipython3",
   "version": "3.12.0"
  }
 },
 "nbformat": 4,
 "nbformat_minor": 2
}
