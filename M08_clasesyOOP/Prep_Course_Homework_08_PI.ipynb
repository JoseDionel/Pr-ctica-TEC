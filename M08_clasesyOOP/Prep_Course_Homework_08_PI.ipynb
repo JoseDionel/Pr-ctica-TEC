{
 "cells": [
  {
   "attachments": {},
   "cell_type": "markdown",
   "metadata": {},
   "source": [
    "## Clases y Programación Orientada a Objetos"
   ]
  },
  {
   "attachments": {},
   "cell_type": "markdown",
   "metadata": {},
   "source": [
    "1) Crear la clase vehículo que contenga los atributos:<br>\n",
    "Color<br>\n",
    "Si es moto, auto, camioneta ó camión<br>\n",
    "Cilindrada del motor"
   ]
  },
  {
   "cell_type": "code",
   "execution_count": 1,
   "metadata": {},
   "outputs": [],
   "source": [
    "class Vehiculo:\n",
    "    def __init__(self, color, tipo, cilindrada):\n",
    "        self.color = color\n",
    "        self.tipo = tipo\n",
    "        self.cilindrada = cilindrada\n"
   ]
  },
  {
   "attachments": {},
   "cell_type": "markdown",
   "metadata": {},
   "source": [
    "2) A la clase Vehiculo creada en el punto 1, agregar los siguientes métodos:<br>\n",
    "Acelerar<br>\n",
    "Frenar<br>\n",
    "Doblar<br>"
   ]
  },
  {
   "cell_type": "code",
   "execution_count": 3,
   "metadata": {},
   "outputs": [],
   "source": [
    "class Vehiculo:\n",
    "    def __init__(self, color, tipo, cilindrada):\n",
    "        self.color=color\n",
    "        self.tipo=tipo\n",
    "        self.cilindrada=cilindrada\n",
    "        self.velocidad=0\n",
    "        self.direccion=0\n",
    "\n",
    "    def Acelerar(self,vel):\n",
    "        self.velocidad+=vel\n",
    "    \n",
    "    def Frenar(self,vel):\n",
    "        self.velocidad-=vel\n",
    "\n",
    "    def Doblar(self,grados):\n",
    "        self.direccion=grados"
   ]
  },
  {
   "attachments": {},
   "cell_type": "markdown",
   "metadata": {},
   "source": [
    "3) Instanciar 3 objetos de la clase vehículo y ejecutar sus métodos, probar luego el resultado"
   ]
  },
  {
   "cell_type": "code",
   "execution_count": 18,
   "metadata": {},
   "outputs": [],
   "source": [
    "a1=Vehiculo('rojo','moto',1.0)\n",
    "a2=Vehiculo('azul','camioneta',2.5)\n",
    "a3=Vehiculo('gris','auto',1.6)"
   ]
  },
  {
   "cell_type": "code",
   "execution_count": 19,
   "metadata": {},
   "outputs": [],
   "source": [
    "a1.Acelerar(40)  # Llamada al método \"Acelerar\" del objeto \"a1\" para aumentar la velocidad en 40.\n",
    "a2.Acelerar(60)  # Llamada al método \"Acelerar\" del objeto \"a2\" para aumentar la velocidad en 60.\n",
    "a3.Acelerar(30)  # Llamada al método \"Acelerar\" del objeto \"a3\" para aumentar la velocidad en 30.\n",
    "\n",
    "a1.Doblar(30)  # Llamada al método \"Doblar\" del objeto \"a1\" para girar la dirección en 30 grados.\n",
    "a3.Doblar(-30)  # Llamada al método \"Doblar\" del objeto \"a3\" para girar la dirección en -30 grados.\n",
    "\n",
    "a2.Frenar(-50)  # Llamada al método \"Frenar\" del objeto \"a2\" para disminuir la velocidad en -50."
   ]
  },
  {
   "attachments": {},
   "cell_type": "markdown",
   "metadata": {},
   "source": [
    "4) Agregar a la clase Vehiculo, un método que muestre su estado, es decir, a que velocidad se encuentra y su dirección. Y otro método que muestre color, tipo y cilindrada"
   ]
  },
  {
   "cell_type": "code",
   "execution_count": 17,
   "metadata": {},
   "outputs": [],
   "source": [
    "class Vehiculo:\n",
    "    def __init__(self, color, tipo, cilindrada):\n",
    "        self.color=color\n",
    "        self.tipo=tipo\n",
    "        self.cilindrada=cilindrada\n",
    "        self.velocidad=0\n",
    "        self.direccion=0\n",
    "\n",
    "    def Acelerar(self,vel):\n",
    "        self.velocidad+=vel\n",
    "    \n",
    "    def Frenar(self,vel):\n",
    "        self.velocidad-=vel\n",
    "\n",
    "    def Doblar(self,grados):\n",
    "        self.direccion=grados\n",
    "\n",
    "    def Estado(self):\n",
    "        print ('El vehículo va a una velocidad de', self.velocidad, 'km/h, en una dirección de', self.direccion, 'grados.')\n",
    "    def Caracteristicas(self):\n",
    "        print( 'El vehículo es un/a', self.tipo,', de color', self.color, 'y con una cilindrada de', self.cilindrada)"
   ]
  },
  {
   "cell_type": "code",
   "execution_count": 20,
   "metadata": {},
   "outputs": [
    {
     "name": "stdout",
     "output_type": "stream",
     "text": [
      "El vehículo va a una velocidad de 40 km/h, en una dirección de 30 grados.\n",
      "El vehículo es un/a moto , de color rojo y con una cilindrada de 1.0\n",
      "El vehículo va a una velocidad de 110 km/h, en una dirección de 0 grados.\n",
      "El vehículo es un/a camioneta , de color azul y con una cilindrada de 2.5\n",
      "El vehículo va a una velocidad de 30 km/h, en una dirección de -30 grados.\n",
      "El vehículo es un/a auto , de color gris y con una cilindrada de 1.6\n"
     ]
    }
   ],
   "source": [
    "a1.Estado()\n",
    "a1.Caracteristicas()\n",
    "\n",
    "a2.Estado()\n",
    "a2.Caracteristicas()\n",
    "\n",
    "a3.Estado()\n",
    "a3.Caracteristicas()"
   ]
  },
  {
   "attachments": {},
   "cell_type": "markdown",
   "metadata": {},
   "source": [
    "5) Crear una clase que permita utilizar las funciones creadas en la práctica del módulo 7<br>\n",
    "Verificar Primo<br>\n",
    "Valor modal<br>\n",
    "Conversión grados<br>\n",
    "Factorial<br>"
   ]
  },
  {
   "cell_type": "code",
   "execution_count": 98,
   "metadata": {},
   "outputs": [],
   "source": [
    "class Numeros:\n",
    "    def __init__(self) -> None:\n",
    "        pass\n",
    "\n",
    "    def Numero_primo(self, nro):\n",
    "        primo=True\n",
    "        for i in range(2,nro):\n",
    "            if nro%i==0:\n",
    "                primo=False\n",
    "        return(primo)\n",
    "    \n",
    "    def Numero_modal(self, lista):\n",
    "        if type(lista)!=list or len(lista)<2:\n",
    "            return 'Se necesita una lista de números'\n",
    "        else:\n",
    "            temporal=0\n",
    "            popular_temporal=0\n",
    "            for i in lista:\n",
    "                conteo=lista.count(i)\n",
    "                if conteo>temporal:\n",
    "                    temporal=conteo\n",
    "                    popular_temporal=i\n",
    "            return print('la moda es', popular_temporal, 'que se repite', temporal, 'veces')\n",
    "    \n",
    "    def Convertir_grados(self,valor,origen,destino):\n",
    "        if origen=='C':\n",
    "            unidad_origen='°C'\n",
    "            if destino=='F':\n",
    "                grados=round(((valor*9/5)+32),2)\n",
    "                unidad_destino='°F'\n",
    "            elif destino=='K':\n",
    "                grados= round((valor+273.15),2)\n",
    "                unidad_destino='°K'\n",
    "            elif destino=='C':\n",
    "                grados= round((valor),2)\n",
    "                unidad_destino='°C'\n",
    "            else:\n",
    "                grados='el valor de destino no es válido'\n",
    "        elif origen=='F':\n",
    "            unidad_origen='°F'\n",
    "            if destino=='C':\n",
    "                grados=round(((valor-32)*5/9),2)\n",
    "                unidad_destino='°C'\n",
    "            elif destino=='K':\n",
    "                grados= round((((valor-32)*5/9)+273.15),2)\n",
    "                unidad_destino='°K'\n",
    "            elif destino=='F':\n",
    "                grados= round((valor),2)\n",
    "                unidad_destino='°F'            \n",
    "            else:\n",
    "                grados='el valor de destino no es válido'\n",
    "        elif origen=='K':\n",
    "            unidad_origen='°K'\n",
    "            if destino=='F':\n",
    "                grados=round((((valor-273.15)*9/5)+32),2)\n",
    "                unidad_destino='°F'\n",
    "            elif destino=='C':\n",
    "                grados= round((valor-273.15),2)\n",
    "                unidad_destino='°C'\n",
    "            elif destino=='K':\n",
    "                grados= round((valor),2)\n",
    "                unidad_destino='°K'\n",
    "            else:\n",
    "                grados='el valor de destino no es válido'\n",
    "        else:\n",
    "            grados='la unidad de origen no es válida'\n",
    "        return print(valor,unidad_origen,'equivalen a', grados,unidad_destino)\n",
    "    def Factorial(self,numer):\n",
    "        if type(numer)!=int:\n",
    "            return 'el número tiene que ser un entero positivo'\n",
    "        elif numer<0:\n",
    "            return 'el número tiene que ser positivo'\n",
    "        elif numer==1:\n",
    "            return 1\n",
    "        elif numer>=2:\n",
    "            numer=numer * self.Factorial(numer-1)\n",
    "            return numer \n"
   ]
  },
  {
   "cell_type": "code",
   "execution_count": 74,
   "metadata": {},
   "outputs": [],
   "source": [
    "value1=18\n",
    "value2=[5,10,15,20,12,0]\n",
    "value3=[1,2,3,4,5,6,7,8,9,1,5,9,1,4,7,8,1,2,6,1,3,2,4,1,5,8,1,47,1,6,9,1]"
   ]
  },
  {
   "cell_type": "code",
   "execution_count": 75,
   "metadata": {},
   "outputs": [],
   "source": [
    "n=Numeros()"
   ]
  },
  {
   "cell_type": "code",
   "execution_count": 76,
   "metadata": {},
   "outputs": [
    {
     "data": {
      "text/plain": [
       "'Se necesita una lista de números'"
      ]
     },
     "execution_count": 76,
     "metadata": {},
     "output_type": "execute_result"
    }
   ],
   "source": [
    "n.Numero_modal(value1)"
   ]
  },
  {
   "cell_type": "code",
   "execution_count": 77,
   "metadata": {},
   "outputs": [
    {
     "name": "stdout",
     "output_type": "stream",
     "text": [
      "32 °C equivalen a 89.6 °F\n"
     ]
    }
   ],
   "source": [
    "n.Convertir_grados(32,'C','F')"
   ]
  },
  {
   "cell_type": "code",
   "execution_count": 78,
   "metadata": {},
   "outputs": [
    {
     "data": {
      "text/plain": [
       "120"
      ]
     },
     "execution_count": 78,
     "metadata": {},
     "output_type": "execute_result"
    }
   ],
   "source": [
    "n.Factorial(5)"
   ]
  },
  {
   "cell_type": "code",
   "execution_count": null,
   "metadata": {},
   "outputs": [],
   "source": []
  },
  {
   "attachments": {},
   "cell_type": "markdown",
   "metadata": {},
   "source": [
    "6) Probar las funciones incorporadas en la clase del punto 5"
   ]
  },
  {
   "cell_type": "code",
   "execution_count": null,
   "metadata": {},
   "outputs": [],
   "source": []
  },
  {
   "attachments": {},
   "cell_type": "markdown",
   "metadata": {},
   "source": [
    "7) Es necesario que la clase creada en el punto 5 contenga una lista, sobre la cual se apliquen las funciones incorporadas"
   ]
  },
  {
   "cell_type": "code",
   "execution_count": 23,
   "metadata": {},
   "outputs": [],
   "source": [
    "class Numeros_lista:\n",
    "    def __init__(self, lista):\n",
    "        self.lista=lista\n",
    "\n",
    "    def Numero_primo(self):\n",
    "        for i in self.lista:\n",
    "            if self.__Numero_primo(i):\n",
    "                print(i, 'es un número primo')\n",
    "            else:\n",
    "                print(i, 'no es un número primo')\n",
    "\n",
    "    def Convertir_grados(self,origen,destino):\n",
    "        for i in self.lista:\n",
    "            print(i,'°',origen,'son',self.__Convertir_grados(i,origen,destino),'°',destino)\n",
    "\n",
    "    def Factorial(self):\n",
    "        for i in self.lista:\n",
    "            print('el factorial de',i, 'es', self.__Factorial(i))\n",
    "    \n",
    "\n",
    "    def __Numero_primo(self, nro):\n",
    "        primo=True\n",
    "        for i in range(2,nro):\n",
    "            if nro%i==0:\n",
    "                primo=False\n",
    "        return(primo)\n",
    "    \n",
    "    def Numero_modal(self):\n",
    "        temporal=0\n",
    "        popular_temporal=0\n",
    "        for i in self.lista:\n",
    "            conteo=self.lista.count(i)\n",
    "            if conteo>temporal:\n",
    "                temporal=conteo\n",
    "                popular_temporal=i\n",
    "        return print('el numero modal es',popular_temporal, 'que ser repite',temporal)\n",
    "    \n",
    "    def __Convertir_grados(self,valor,origen,destino):\n",
    "        if origen=='C':\n",
    "            if destino=='F':\n",
    "                grados=round(((valor*9/5)+32),2)\n",
    "            elif destino=='K':\n",
    "                grados= round((valor+273.15),2)\n",
    "            elif destino=='C':\n",
    "                grados= round((valor),2)\n",
    "            else:\n",
    "                grados='la unidad de destino no es válido'\n",
    "        elif origen=='F':\n",
    "            if destino=='C':\n",
    "                grados=round(((valor-32)*5/9),2)\n",
    "            elif destino=='K':\n",
    "                grados= round((((valor-32)*5/9)+273.15),2)\n",
    "            elif destino=='F':\n",
    "                grados= round((valor),2)\n",
    "            else:\n",
    "                grados='la unidad de destino no es válido'\n",
    "        elif origen=='K':\n",
    "            if destino=='F':\n",
    "                grados=round((((valor-273.15)*9/5)+32),2)\n",
    "            elif destino=='C':\n",
    "                grados= round((valor-273.15),2)\n",
    "            elif destino=='K':\n",
    "                grados= round((valor),2)\n",
    "            else:\n",
    "                grados='la unidad de destino no es válido'\n",
    "        else:\n",
    "            grados='la unidad de origen no es válida'\n",
    "        return grados\n",
    "    \n",
    "    def __Factorial(self, numero):\n",
    "        if(type(numero) != int):\n",
    "            return 'El numero debe ser un entero'\n",
    "        if(numero < 0):\n",
    "            return 'El numero debe ser pisitivo'\n",
    "        if (numero > 1):\n",
    "            numero = numero * self.__Factorial(numero - 1)\n",
    "        return numero"
   ]
  },
  {
   "cell_type": "code",
   "execution_count": 21,
   "metadata": {},
   "outputs": [],
   "source": [
    "lista1=[1,1,2,5,8,8,9,11,15,16,16,16,18,20]\n",
    "prueba=Numeros_lista(lista1)"
   ]
  },
  {
   "cell_type": "code",
   "execution_count": 22,
   "metadata": {},
   "outputs": [
    {
     "name": "stdout",
     "output_type": "stream",
     "text": [
      "el numero modal es 16 que ser repite 3\n"
     ]
    }
   ],
   "source": [
    "prueba.Numero_modal()"
   ]
  },
  {
   "cell_type": "code",
   "execution_count": 108,
   "metadata": {},
   "outputs": [
    {
     "name": "stdout",
     "output_type": "stream",
     "text": [
      "1 es un número primo\n",
      "1 es un número primo\n",
      "2 es un número primo\n",
      "5 es un número primo\n",
      "8 no es un número primo\n",
      "8 no es un número primo\n",
      "9 no es un número primo\n",
      "11 es un número primo\n",
      "15 no es un número primo\n",
      "16 no es un número primo\n",
      "16 no es un número primo\n",
      "16 no es un número primo\n",
      "18 no es un número primo\n",
      "20 no es un número primo\n"
     ]
    }
   ],
   "source": [
    "prueba.Numero_primo()"
   ]
  },
  {
   "cell_type": "code",
   "execution_count": 131,
   "metadata": {},
   "outputs": [
    {
     "name": "stdout",
     "output_type": "stream",
     "text": [
      "1 ° F son 255.93 ° K\n",
      "1 ° F son 255.93 ° K\n",
      "2 ° F son 256.48 ° K\n",
      "5 ° F son 258.15 ° K\n",
      "8 ° F son 259.82 ° K\n",
      "8 ° F son 259.82 ° K\n",
      "9 ° F son 260.37 ° K\n",
      "11 ° F son 261.48 ° K\n",
      "15 ° F son 263.71 ° K\n",
      "16 ° F son 264.26 ° K\n",
      "16 ° F son 264.26 ° K\n",
      "16 ° F son 264.26 ° K\n",
      "18 ° F son 265.37 ° K\n",
      "20 ° F son 266.48 ° K\n"
     ]
    }
   ],
   "source": [
    "prueba.Convertir_grados('F','K')"
   ]
  },
  {
   "cell_type": "code",
   "execution_count": 130,
   "metadata": {},
   "outputs": [
    {
     "name": "stdout",
     "output_type": "stream",
     "text": [
      "el factorial de 1 es 1\n",
      "el factorial de 1 es 1\n",
      "el factorial de 2 es 2\n",
      "el factorial de 5 es 120\n",
      "el factorial de 8 es 40320\n",
      "el factorial de 8 es 40320\n",
      "el factorial de 9 es 362880\n",
      "el factorial de 11 es 39916800\n",
      "el factorial de 15 es 1307674368000\n",
      "el factorial de 16 es 20922789888000\n",
      "el factorial de 16 es 20922789888000\n",
      "el factorial de 16 es 20922789888000\n",
      "el factorial de 18 es 6402373705728000\n",
      "el factorial de 20 es 2432902008176640000\n"
     ]
    }
   ],
   "source": [
    "prueba.Factorial()"
   ]
  },
  {
   "attachments": {},
   "cell_type": "markdown",
   "metadata": {},
   "source": [
    "8) Crear un archivo .py aparte y ubicar allí la clase generada en el punto anterior. Luego realizar la importación del módulo y probar alguna de sus funciones"
   ]
  },
  {
   "cell_type": "code",
   "execution_count": null,
   "metadata": {},
   "outputs": [],
   "source": [
    "\n",
    "\n"
   ]
  }
 ],
 "metadata": {
  "interpreter": {
   "hash": "c85384e4cb51c8b72350f3a8712cc8351fdc3955e32a27f9b60c6242ab125f01"
  },
  "kernelspec": {
   "display_name": "Python 3 (ipykernel)",
   "language": "python",
   "name": "python3"
  },
  "language_info": {
   "codemirror_mode": {
    "name": "ipython",
    "version": 3
   },
   "file_extension": ".py",
   "mimetype": "text/x-python",
   "name": "python",
   "nbconvert_exporter": "python",
   "pygments_lexer": "ipython3",
   "version": "3.10.5"
  }
 },
 "nbformat": 4,
 "nbformat_minor": 4
}
