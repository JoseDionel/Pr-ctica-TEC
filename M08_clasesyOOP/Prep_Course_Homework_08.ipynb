{
 "cells": [
  {
   "attachments": {},
   "cell_type": "markdown",
   "metadata": {},
   "source": [
    "## Clases y Programación Orientada a Objetos"
   ]
  },
  {
   "attachments": {},
   "cell_type": "markdown",
   "metadata": {},
   "source": [
    "1) Crear la clase vehículo que contenga los atributos:<br>\n",
    "Color<br>\n",
    "Si es moto, auto, camioneta ó camión<br>\n",
    "Cilindrada del motor"
   ]
  },
  {
   "cell_type": "code",
   "execution_count": 3,
   "metadata": {},
   "outputs": [],
   "source": [
    "class Vehiculo:\n",
    "    def __init__(self, Color,Tipo,Cilindros):\n",
    "        self.Color = Color\n",
    "        self.Tipo = Tipo\n",
    "        self.Cilindros = Cilindros\n",
    "    \n",
    "    pass"
   ]
  },
  {
   "attachments": {},
   "cell_type": "markdown",
   "metadata": {},
   "source": [
    "2) A la clase Vehiculo creada en el punto 1, agregar los siguientes métodos:<br>\n",
    "Acelerar<br>\n",
    "Frenar<br>\n",
    "Doblar<br>"
   ]
  },
  {
   "cell_type": "code",
   "execution_count": 11,
   "metadata": {},
   "outputs": [],
   "source": [
    "class Vehiculo:\n",
    "    def __init__(self, Color, Tipo,Cilindros):\n",
    "        self.Color = Color\n",
    "        self.Tipo = Tipo\n",
    "        self.Cilindros = Cilindros\n",
    "        self.Velocidad = 0\n",
    "        self.Direccion = 0\n",
    "\n",
    "    def Acelerar(self, Aceleracion):\n",
    "        self.Velocidad += Aceleracion\n",
    "\n",
    "    def Frenar(self, Frenado):\n",
    "        if(self.Velocidad > 0):\n",
    "            self.Velocidad -= Frenado\n",
    "    \n",
    "    def Doblar(self, Sentido):\n",
    "        self.Direccion += Sentido\n"
   ]
  },
  {
   "attachments": {},
   "cell_type": "markdown",
   "metadata": {},
   "source": [
    "3) Instanciar 3 objetos de la clase vehículo y ejecutar sus métodos, probar luego el resultado"
   ]
  },
  {
   "cell_type": "code",
   "execution_count": 12,
   "metadata": {},
   "outputs": [],
   "source": [
    "Lamborghini = Vehiculo(\"Rojo\",\"Carro\",6)\n",
    "Ducati = Vehiculo(\"Negra\",\"Moto\",2)\n",
    "Ford = Vehiculo(\"Blanca\",\"Camioneta\",8)"
   ]
  },
  {
   "cell_type": "code",
   "execution_count": 14,
   "metadata": {},
   "outputs": [],
   "source": [
    "Lamborghini.Acelerar(100)\n",
    "Lamborghini.Frenar(30)\n",
    "Lamborghini.Doblar(45)\n",
    "Ducati.Acelerar(40)\n",
    "Ducati.Frenar(40)\n",
    "Ducati.Doblar(20)\n",
    "Ford.Frenar(20)\n",
    "Ford.Doblar(-35)"
   ]
  },
  {
   "attachments": {},
   "cell_type": "markdown",
   "metadata": {},
   "source": [
    "4) Agregar a la clase Vehiculo, un método que muestre su estado, es decir, a que velocidad se encuentra y su dirección. Y otro método que muestre color, tipo y cilindrada"
   ]
  },
  {
   "cell_type": "code",
   "execution_count": 17,
   "metadata": {},
   "outputs": [],
   "source": [
    "class Vehiculo:\n",
    "    def __init__(self, Color, Tipo,Cilindros):\n",
    "        self.Color = Color\n",
    "        self.Tipo = Tipo\n",
    "        self.Cilindros = Cilindros\n",
    "        self.Velocidad = 0\n",
    "        self.Direccion = 0\n",
    "\n",
    "    def Acelerar(self, Aceleracion):\n",
    "        self.Velocidad += Aceleracion\n",
    "\n",
    "    def Frenar(self, Frenado):\n",
    "        if(self.Velocidad > 0):\n",
    "            self.Velocidad -= Frenado\n",
    "    \n",
    "    def Doblar(self, Sentido):\n",
    "        self.Direccion += Sentido\n",
    "\n",
    "    def Estado(self):\n",
    "        print(\"La velocidad es: \", self.Velocidad, \" y la dirección es: \", self.Direccion)\n",
    "\n",
    "    def MostrarAtributos(self):\n",
    "        print(\"El color es: \", self.Color, \" el tipo es: \", self.Tipo, \" Los cilindros son: \", self.Cilindros)"
   ]
  },
  {
   "cell_type": "code",
   "execution_count": 21,
   "metadata": {},
   "outputs": [
    {
     "name": "stdout",
     "output_type": "stream",
     "text": [
      "La velocidad es:  30  y la dirección es:  -2\n",
      "El color es:  Rojo  el tipo es:  Carro  Los cilindros son:  6\n"
     ]
    }
   ],
   "source": [
    "Lamborghini = Vehiculo(\"Rojo\",\"Carro\",6)\n",
    "Lamborghini.Acelerar(50)\n",
    "Lamborghini.Frenar(20)\n",
    "Lamborghini.Doblar(-2)\n",
    "Lamborghini.Estado()\n",
    "Lamborghini.MostrarAtributos()"
   ]
  },
  {
   "attachments": {},
   "cell_type": "markdown",
   "metadata": {},
   "source": [
    "5) Crear una clase que permita utilizar las funciones creadas en la práctica del módulo 7<br>\n",
    "Verificar Primo<br>\n",
    "Valor modal<br>\n",
    "Conversión grados<br>\n",
    "Factorial<br>"
   ]
  },
  {
   "cell_type": "code",
   "execution_count": 45,
   "metadata": {},
   "outputs": [],
   "source": [
    "class Funciones7:\n",
    "    def __init__(self) -> None:\n",
    "        pass\n",
    "\n",
    "    def ValidarPrimo(self, Numero):\n",
    "        EsPrimo = True\n",
    "        for div in range(2, Numero):\n",
    "            if (Numero % div == 0):\n",
    "                EsPrimo = False\n",
    "                break\n",
    "        return EsPrimo\n",
    "    \n",
    "    def ContarDuplicados(self, ListaDeEvaluacion):\n",
    "        i = 0\n",
    "        TotalRepeticiones = 0\n",
    "        MasRepetido = 0\n",
    "        for Elemento in ListaDeEvaluacion:\n",
    "            Repeticiones = 0\n",
    "            j = 0   \n",
    "            for Elemento in ListaDeEvaluacion:\n",
    "                if (ListaDeEvaluacion[i] == ListaDeEvaluacion[j]):\n",
    "                    Repeticiones+=1\n",
    "                j+=1\n",
    "            if(TotalRepeticiones < Repeticiones):\n",
    "                TotalRepeticiones = Repeticiones\n",
    "                MasRepetido = ListaDeEvaluacion[i]\n",
    "            i+=1\n",
    "        return MasRepetido,TotalRepeticiones\n",
    "    \n",
    "    def ConvertirGrados(self, Grados,Origen,Destino):\n",
    "        if(Origen == \"Celsius\" and Destino == \"Farenheit\"):\n",
    "            Resultado = (Grados * 1.8) + 32\n",
    "        elif (Origen == \"Celsius\" and Destino == \"Kelvin\"):\n",
    "            Resultado = Grados + 273.15\n",
    "        elif (Origen == \"Celsius\" and Destino == \"Celsius\"):\n",
    "            Resultado = Grados\n",
    "        elif (Origen == \"Farenheit\" and Destino == \"Celsius\"):\n",
    "            Resultado = (Grados - 32) * (5/9)\n",
    "        elif (Origen == \"Farenheit\" and Destino == \"Kelvin\"):\n",
    "            Resultado = (Grados - 32) * (5/9) + 273.15\n",
    "        elif (Origen == \"Farenheit\" and Destino == \"Farenheit\"):\n",
    "            Resultado = Grados\n",
    "        elif (Origen == \"Kelvin\" and Destino == \"Celsius\"):\n",
    "            Resultado = (Grados - 273.15)\n",
    "        elif (Origen == \"Kelvin\" and Destino == \"Farenheit\"):\n",
    "            Resultado = (Grados - 273.15) * (9/5) + 32\n",
    "        elif (Origen == \"Kelvin\" and Destino == \"Kelvin\"):\n",
    "            Resultado = Grados\n",
    "        else:\n",
    "            print(\"Parámetros incorrectos\")\n",
    "    \n",
    "    def Factorial(self, Numero):\n",
    "        if(type(Numero) != int):\n",
    "            return \"EL número debe de ser entero\"\n",
    "    \n",
    "        if(Numero < 0):\n",
    "            return \"El número debe de ser positivo\"\n",
    "    \n",
    "        if(Numero <= 1):\n",
    "            return 1\n",
    "    \n",
    "        Numero = Numero * self.Factorial(Numero -1)\n",
    "        return Numero\n",
    "\n",
    "Herramientas = Funciones7()"
   ]
  },
  {
   "attachments": {},
   "cell_type": "markdown",
   "metadata": {},
   "source": [
    "6) Probar las funciones incorporadas en la clase del punto 5"
   ]
  },
  {
   "cell_type": "code",
   "execution_count": 46,
   "metadata": {},
   "outputs": [
    {
     "name": "stdout",
     "output_type": "stream",
     "text": [
      "Validar Primo:  True\n",
      "Duplicados: (2, 7)\n",
      "Convertir Grados:  None\n",
      "Factorial:  120\n"
     ]
    }
   ],
   "source": [
    "print(\"Validar Primo: \", Herramientas.ValidarPrimo(13))\n",
    "Mi_Lista = [1,2,3,3,2,1,2,331,2,3111,23,21,12,3,1,2,24,1,34,2,1,2,31,12,23,11,22,1231,1]\n",
    "print(\"Duplicados:\", Herramientas.ContarDuplicados(Mi_Lista))\n",
    "print(\"Convertir Grados: \", Herramientas.ConvertirGrados(50,\"Celsius\",\"Farenheit\"))\n",
    "print(\"Factorial: \", Herramientas.Factorial(5))"
   ]
  },
  {
   "attachments": {},
   "cell_type": "markdown",
   "metadata": {},
   "source": [
    "7) Es necesario que la clase creada en el punto 5 contenga una lista, sobre la cual se apliquen las funciones incorporadas"
   ]
  },
  {
   "cell_type": "code",
   "execution_count": 92,
   "metadata": {},
   "outputs": [],
   "source": [
    "class Funciones7:\n",
    "    def __init__(self, ListaEvaluada):\n",
    "        self.Lista = ListaEvaluada\n",
    "\n",
    "    def ValidarPrimo(self):\n",
    "        for i in self.Lista:\n",
    "            if(self.__ValidarPrimo(i)):\n",
    "                print(\"El número: \", i, \"es primo\")\n",
    "            else:\n",
    "                print(\"El número: \", i, \"no es primo\")\n",
    "\n",
    "    def ConvertirGrados(self, Origen, Destino):\n",
    "        for i in self.Lista:\n",
    "            print(i,\"Grados \", Origen, \" son: \" , self.__ConvertirGrados(i, Origen, Destino), \" en \", Destino)\n",
    "    \n",
    "    def Factorial(self):\n",
    "        for i in self.Lista:\n",
    "            print(\"El factorial de: \", i, \" es: \", self.__Factorial(i))\n",
    "    \n",
    "    def __ValidarPrimo(self, Numero):\n",
    "        EsPrimo = True\n",
    "        for div in range(2, Numero):\n",
    "            if (Numero % div == 0):\n",
    "                EsPrimo = False\n",
    "                break\n",
    "        return EsPrimo\n",
    "    \n",
    "    def ContarDuplicados(self, ListaDeEvaluacion):\n",
    "        i = 0\n",
    "        TotalRepeticiones = 0\n",
    "        MasRepetido = 0\n",
    "        for Elemento in ListaDeEvaluacion:\n",
    "            Repeticiones = 0\n",
    "            j = 0   \n",
    "            for Elemento in ListaDeEvaluacion:\n",
    "                if (ListaDeEvaluacion[i] == ListaDeEvaluacion[j]):\n",
    "                    Repeticiones+=1\n",
    "                j+=1\n",
    "            if(TotalRepeticiones < Repeticiones):\n",
    "                TotalRepeticiones = Repeticiones\n",
    "                MasRepetido = ListaDeEvaluacion[i]\n",
    "            i+=1\n",
    "        return MasRepetido,TotalRepeticiones\n",
    "    \n",
    "    def __ConvertirGrados(self, Grados, Origen, Destino):\n",
    "        if(Origen == \"Celsius\" and Destino == \"Farenheit\"):\n",
    "            Resultado = (Grados * 1.8) + 32\n",
    "        elif (Origen == \"Celsius\" and Destino == \"Kelvin\"):\n",
    "            Resultado = Grados + 273.15\n",
    "        elif (Origen == \"Celsius\" and Destino == \"Celsius\"):\n",
    "            Resultado = Grados\n",
    "        elif (Origen == \"Farenheit\" and Destino == \"Celsius\"):\n",
    "            Resultado = (Grados - 32) * (5/9)\n",
    "        elif (Origen == \"Farenheit\" and Destino == \"Kelvin\"):\n",
    "            Resultado = (Grados - 32) * (5/9) + 273.15\n",
    "        elif (Origen == \"Farenheit\" and Destino == \"Farenheit\"):\n",
    "            Resultado = Grados\n",
    "        elif (Origen == \"Kelvin\" and Destino == \"Celsius\"):\n",
    "            Resultado = (Grados - 273.15)\n",
    "        elif (Origen == \"Kelvin\" and Destino == \"Farenheit\"):\n",
    "            Resultado = (Grados - 273.15) * (9/5) + 32\n",
    "        elif (Origen == \"Kelvin\" and Destino == \"Kelvin\"):\n",
    "            Resultado = Grados\n",
    "        else:\n",
    "            print(\"Parámetros incorrectos\")\n",
    "\n",
    "        return Resultado\n",
    "    \n",
    "    def __Factorial(self, Numero):\n",
    "        if(type(Numero) != int):\n",
    "            return \"EL número debe de ser entero\"\n",
    "    \n",
    "        if(Numero < 0):\n",
    "            return \"El número debe de ser positivo\"\n",
    "    \n",
    "        if(Numero <= 1):\n",
    "            return 1\n",
    "    \n",
    "        Numero = Numero * self.__Factorial(Numero -1)\n",
    "        return Numero"
   ]
  },
  {
   "cell_type": "code",
   "execution_count": 96,
   "metadata": {},
   "outputs": [
    {
     "name": "stdout",
     "output_type": "stream",
     "text": [
      "El número:  28 no es primo\n",
      "El número:  31 es primo\n",
      "El número:  27 no es primo\n",
      "28 Grados  Celsius  son:  82.4  en  Farenheit\n",
      "31 Grados  Celsius  son:  87.80000000000001  en  Farenheit\n",
      "27 Grados  Celsius  son:  80.6  en  Farenheit\n",
      "El factorial de:  28  es:  304888344611713860501504000000\n",
      "El factorial de:  31  es:  8222838654177922817725562880000000\n",
      "El factorial de:  27  es:  10888869450418352160768000000\n",
      "El más repetido es:  28  con:  1\n"
     ]
    }
   ],
   "source": [
    "Mi_Lista2 = [28,31,27]\n",
    "Herramientas = Funciones7(Mi_Lista2)\n",
    "Herramientas.ValidarPrimo()\n",
    "Herramientas.ConvertirGrados(\"Celsius\",\"Farenheit\")\n",
    "Herramientas.Factorial()\n",
    "MasRepetido, Repeticiones = Herramientas.ContarDuplicados(Mi_Lista2)\n",
    "print(\"El más repetido es: \", MasRepetido, \" con: \", Repeticiones)"
   ]
  },
  {
   "attachments": {},
   "cell_type": "markdown",
   "metadata": {},
   "source": [
    "8) Crear un archivo .py aparte y ubicar allí la clase generada en el punto anterior. Luego realizar la importación del módulo y probar alguna de sus funciones"
   ]
  },
  {
   "cell_type": "code",
   "execution_count": 107,
   "metadata": {},
   "outputs": [
    {
     "name": "stdout",
     "output_type": "stream",
     "text": [
      "El factorial de:  27  es:  10888869450418352160768000000\n",
      "El factorial de:  28  es:  304888344611713860501504000000\n",
      "El factorial de:  27  es:  10888869450418352160768000000\n",
      "El factorial de:  30  es:  265252859812191058636308480000000\n",
      "El factorial de:  31  es:  8222838654177922817725562880000000\n"
     ]
    }
   ],
   "source": [
    "from LibreriaFunciones import *\n",
    "\n",
    "Instancia = Funciones7([27,28,27,30,31])\n",
    "Instancia.Factorial()"
   ]
  }
 ],
 "metadata": {
  "interpreter": {
   "hash": "c85384e4cb51c8b72350f3a8712cc8351fdc3955e32a27f9b60c6242ab125f01"
  },
  "kernelspec": {
   "display_name": "Python 3 (ipykernel)",
   "language": "python",
   "name": "python3"
  },
  "language_info": {
   "codemirror_mode": {
    "name": "ipython",
    "version": 3
   },
   "file_extension": ".py",
   "mimetype": "text/x-python",
   "name": "python",
   "nbconvert_exporter": "python",
   "pygments_lexer": "ipython3",
   "version": "3.11.4"
  }
 },
 "nbformat": 4,
 "nbformat_minor": 4
}
