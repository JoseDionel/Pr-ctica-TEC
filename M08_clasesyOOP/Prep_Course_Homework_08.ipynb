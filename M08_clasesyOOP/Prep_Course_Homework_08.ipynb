{
 "cells": [
  {
   "attachments": {},
   "cell_type": "markdown",
   "metadata": {},
   "source": [
    "## Clases y Programación Orientada a Objetos"
   ]
  },
  {
   "attachments": {},
   "cell_type": "markdown",
   "metadata": {},
   "source": [
    "1) Crear la clase vehículo que contenga los atributos:<br>\n",
    "Color<br>\n",
    "Si es moto, auto, camioneta ó camión<br>\n",
    "Cilindrada del motor"
   ]
  },
  {
   "cell_type": "code",
   "execution_count": 11,
   "metadata": {},
   "outputs": [],
   "source": [
    "class Vehículo:\n",
    "\n",
    "    def __init__(self, color, tipo, cilindrada):\n",
    "        self.color = color\n",
    "        self.tipo = tipo\n",
    "        self.cilindrada = cilindrada"
   ]
  },
  {
   "attachments": {},
   "cell_type": "markdown",
   "metadata": {},
   "source": [
    "2) A la clase Vehiculo creada en el punto 1, agregar los siguientes métodos:<br>\n",
    "Acelerar<br>\n",
    "Frenar<br>\n",
    "Doblar<br>"
   ]
  },
  {
   "cell_type": "code",
   "execution_count": 13,
   "metadata": {},
   "outputs": [],
   "source": [
    "class Vehículo:\n",
    "\n",
    "    def __init__(self, color, tipo, cilindrada):\n",
    "        self.color = color\n",
    "        self.tipo = tipo\n",
    "        self.cilindrada = cilindrada\n",
    "    \n",
    "    def acelerar(self, velocidad):\n",
    "        print(f\"Acelerando a {velocidad}\")\n",
    "    def frenar(self):\n",
    "        print(\"Frenando\")\n",
    "    def doblar(self,direccción):\n",
    "        print(f\"Doblando hacia la {direccción}\")\n",
    "    "
   ]
  },
  {
   "attachments": {},
   "cell_type": "markdown",
   "metadata": {},
   "source": [
    "3) Instanciar 3 objetos de la clase vehículo y ejecutar sus métodos, probar luego el resultado"
   ]
  },
  {
   "cell_type": "code",
   "execution_count": 8,
   "metadata": {},
   "outputs": [],
   "source": [
    "Auto = Vehículo(\"Rojo\", \"Automovil\", \"1000 cm3\")\n",
    "Moto = Vehículo(\"Azul\", \"Motocicleta\", \"125 cm3\")\n",
    "Camioneta = Vehículo(\"Negro\", \"Camioneta\", \"3000 cm3\")"
   ]
  },
  {
   "cell_type": "code",
   "execution_count": 14,
   "metadata": {},
   "outputs": [
    {
     "name": "stdout",
     "output_type": "stream",
     "text": [
      "Acelerando a 50 km/h\n",
      "Frenando\n",
      "Doblando hacia la Izquierda\n"
     ]
    }
   ],
   "source": [
    "Auto.acelerar(\"50 km/h\")\n",
    "Moto.frenar()\n",
    "Camioneta.doblar(\"Izquierda\")"
   ]
  },
  {
   "attachments": {},
   "cell_type": "markdown",
   "metadata": {},
   "source": [
    "4) Agregar a la clase Vehiculo, un método que muestre su estado, es decir, a que velocidad se encuentra y su dirección. Y otro método que muestre color, tipo y cilindrada"
   ]
  },
  {
   "cell_type": "code",
   "execution_count": 20,
   "metadata": {},
   "outputs": [],
   "source": [
    "class Vehículo:\n",
    "\n",
    "    def __init__(self, color, tipo, cilindrada):\n",
    "        self.color = color\n",
    "        self.tipo = tipo\n",
    "        self.cilindrada = cilindrada\n",
    "    \n",
    "    def acelerar(self, velocidad):\n",
    "        print(f\"Acelerando a {velocidad}\")\n",
    "    def frenar(self):\n",
    "        print(\"Frenando\")\n",
    "    def doblar(self,direccción):\n",
    "        print(f\"Doblando hacia la {direccción}\")\n",
    "\n",
    "    def estado(self):\n",
    "        self.velocidad = 0\n",
    "        self.direccción = 0\n",
    "        \n",
    "        print(f\"El vehículo se desplaza a {self.velocidad}, el la dirección {self.direccción}\")\n",
    "        \n",
    "    def descripción(self):\n",
    "        print(f\"Vehiculo de color {self.color}, del tipo {self.tipo} y de {self.cilindrada} de cilindrada\")\n",
    "        "
   ]
  },
  {
   "cell_type": "code",
   "execution_count": 21,
   "metadata": {},
   "outputs": [],
   "source": [
    "Auto = Vehículo(\"Rojo\", \"Automovil\", \"1000 cm3\")"
   ]
  },
  {
   "cell_type": "code",
   "execution_count": 22,
   "metadata": {},
   "outputs": [
    {
     "name": "stdout",
     "output_type": "stream",
     "text": [
      "Vehiculo de color Rojo, del tipo Automovil y de 1000 cm3 de cilindrada\n"
     ]
    }
   ],
   "source": [
    "Auto.descripción()"
   ]
  },
  {
   "cell_type": "code",
   "execution_count": 6,
   "metadata": {},
   "outputs": [
    {
     "name": "stdout",
     "output_type": "stream",
     "text": [
      "Acelerando a 50 km/h\n",
      "Doblando hacia la Izquierda\n"
     ]
    }
   ],
   "source": [
    "Auto.acelerar(\"50 km/h\")\n",
    "Auto.doblar(\"Izquierda\")"
   ]
  },
  {
   "cell_type": "code",
   "execution_count": 23,
   "metadata": {},
   "outputs": [
    {
     "name": "stdout",
     "output_type": "stream",
     "text": [
      "El vehículo se desplaza a 0, el la dirección 0\n"
     ]
    }
   ],
   "source": [
    "Auto.estado()"
   ]
  },
  {
   "attachments": {},
   "cell_type": "markdown",
   "metadata": {},
   "source": [
    "5) Crear una clase que permita utilizar las funciones creadas en la práctica del módulo 7<br>\n",
    "Verificar Primo<br>\n",
    "Valor modal<br>\n",
    "Conversión grados<br>\n",
    "Factorial<br>"
   ]
  },
  {
   "cell_type": "code",
   "execution_count": 5,
   "metadata": {},
   "outputs": [],
   "source": [
    "class Funciones:\n",
    "\n",
    "      def __init__(self) -> None:\n",
    "        pass\n",
    "      \n",
    "      def verificar_primo(self, numero):\n",
    "        es_primo = True\n",
    "        for divisor in range (2, numero):\n",
    "            if numero % divisor == 0:\n",
    "             es_primo = False\n",
    "             break \n",
    "        return es_primo\n",
    "      \n",
    "\n",
    "      def calcular_moda(self, lista):\n",
    "\n",
    "        from collections import Counter  \n",
    "\n",
    "        conteo = Counter(lista)\n",
    "        llave = max(conteo, key = conteo.get)\n",
    "        valor = conteo[llave] \n",
    "\n",
    "        return llave, valor\n",
    "\n",
    "\n",
    "      def convertir_grados(self, valor, origen, destino):\n",
    "    \n",
    "        if origen == \"Celsius\":\n",
    "            if destino  == \"Celsius\":\n",
    "                valor_destino = valor\n",
    "            elif destino == \"Farenheit\":\n",
    "                valor_destino = (valor * 9/5) + 32\n",
    "            elif destino == \"Kelvin\":\n",
    "                valor_destino = valor + 273.15\n",
    "            else:\n",
    "                print(\"Debe ingresar un destino correcto\")\n",
    "    \n",
    "        if origen == \"Farenheit\":\n",
    "            if destino == \"Celsius\":\n",
    "                valor_destino = (valor -32) * 5/9\n",
    "            elif destino == \"Farenheit\":\n",
    "                valor_destino = valor_destino       \n",
    "            elif destino == \"Kelvin\":\n",
    "                valor_destino = ((valor - 32 )* 5/9) + 273.15\n",
    "            else:\n",
    "                print(\"Debe ingresar un destino correcto\")    \n",
    "    \n",
    "        if origen == \"Kelvin\":\n",
    "            if destino == \"Celsius\":\n",
    "                valor_destino = valor - 273.15 \n",
    "            elif destino == \"Farenheit\":\n",
    "                valor_destino = ((valor - 273.15) * 9/5) + 32\n",
    "            elif destino == \"Kelvin\":\n",
    "                valor_destino = valor\n",
    "            else:\n",
    "                print(\"Debe ingresar un destino correcto\")\n",
    "\n",
    "        return valor_destino\n",
    "\n",
    "      def calcular_factorial (self,numero):\n",
    "\n",
    "        if type(numero) != int:\n",
    "            return \"La entrada debe ser in entero\"\n",
    "        if numero <= 0:\n",
    "            return \"La entrada debe ser un positivo\"\n",
    "        if numero == 1:\n",
    "            return 1\n",
    "        numero = numero * self.calcular_factorial(numero - 1)\n",
    "\n",
    "        return numero       \n",
    "\n",
    "    "
   ]
  },
  {
   "cell_type": "code",
   "execution_count": 6,
   "metadata": {},
   "outputs": [],
   "source": [
    "f = Funciones()"
   ]
  },
  {
   "attachments": {},
   "cell_type": "markdown",
   "metadata": {},
   "source": [
    "6) Probar las funciones incorporadas en la clase del punto 5"
   ]
  },
  {
   "cell_type": "code",
   "execution_count": 7,
   "metadata": {},
   "outputs": [
    {
     "data": {
      "text/plain": [
       "120"
      ]
     },
     "execution_count": 7,
     "metadata": {},
     "output_type": "execute_result"
    }
   ],
   "source": [
    "f.calcular_factorial(5)"
   ]
  },
  {
   "cell_type": "code",
   "execution_count": 11,
   "metadata": {},
   "outputs": [
    {
     "data": {
      "text/plain": [
       "323.15"
      ]
     },
     "execution_count": 11,
     "metadata": {},
     "output_type": "execute_result"
    }
   ],
   "source": [
    "f.convertir_grados(50, \"Celsius\", \"Kelvin\")"
   ]
  },
  {
   "cell_type": "code",
   "execution_count": 13,
   "metadata": {},
   "outputs": [
    {
     "data": {
      "text/plain": [
       "(1, 4)"
      ]
     },
     "execution_count": 13,
     "metadata": {},
     "output_type": "execute_result"
    }
   ],
   "source": [
    "f.calcular_moda([1,2,3,4,1,1,1])"
   ]
  },
  {
   "cell_type": "code",
   "execution_count": 14,
   "metadata": {},
   "outputs": [
    {
     "data": {
      "text/plain": [
       "True"
      ]
     },
     "execution_count": 14,
     "metadata": {},
     "output_type": "execute_result"
    }
   ],
   "source": [
    "f.verificar_primo(11)"
   ]
  },
  {
   "attachments": {},
   "cell_type": "markdown",
   "metadata": {},
   "source": [
    "7) Es necesario que la clase creada en el punto 5 contenga una lista, sobre la cual se apliquen las funciones incorporadas"
   ]
  },
  {
   "cell_type": "code",
   "execution_count": 15,
   "metadata": {},
   "outputs": [],
   "source": [
    "class Funciones:\n",
    "\n",
    "    def __init__(self, lista_numeros):\n",
    "        self.lista = lista_numeros\n",
    "        \n",
    "    def verificar_primo(self, numero):\n",
    "        es_primo = True\n",
    "        for divisor in range (2, numero):\n",
    "            if numero % divisor == 0:\n",
    "             es_primo = False\n",
    "             break \n",
    "        return es_primo\n",
    "      \n",
    "\n",
    "    def calcular_moda(self, lista):\n",
    "\n",
    "        from collections import Counter  \n",
    "\n",
    "        conteo = Counter(lista)\n",
    "        llave = max(conteo, key = conteo.get)\n",
    "        valor = conteo[llave] \n",
    "\n",
    "        return llave, valor\n",
    "\n",
    "\n",
    "    def convertir_grados(self, valor, origen, destino):\n",
    "    \n",
    "        if origen == \"Celsius\":\n",
    "            if destino  == \"Celsius\":\n",
    "                valor_destino = valor\n",
    "            elif destino == \"Farenheit\":\n",
    "                valor_destino = (valor * 9/5) + 32\n",
    "            elif destino == \"Kelvin\":\n",
    "                valor_destino = valor + 273.15\n",
    "            else:\n",
    "                print(\"Debe ingresar un destino correcto\")\n",
    "    \n",
    "        if origen == \"Farenheit\":\n",
    "            if destino == \"Celsius\":\n",
    "                valor_destino = (valor -32) * 5/9\n",
    "            elif destino == \"Farenheit\":\n",
    "                valor_destino = valor_destino       \n",
    "            elif destino == \"Kelvin\":\n",
    "                valor_destino = ((valor - 32 )* 5/9) + 273.15\n",
    "            else:\n",
    "                print(\"Debe ingresar un destino correcto\")    \n",
    "    \n",
    "        if origen == \"Kelvin\":\n",
    "            if destino == \"Celsius\":\n",
    "                valor_destino = valor - 273.15 \n",
    "            elif destino == \"Farenheit\":\n",
    "                valor_destino = ((valor - 273.15) * 9/5) + 32\n",
    "            elif destino == \"Kelvin\":\n",
    "                valor_destino = valor\n",
    "            else:\n",
    "                print(\"Debe ingresar un destino correcto\")\n",
    "\n",
    "        return valor_destino\n",
    "\n",
    "    def calcular_factorial (self,numero):\n",
    "\n",
    "        if type(numero) != int:\n",
    "            return \"La entrada debe ser in entero\"\n",
    "        if numero <= 0:\n",
    "            return \"La entrada debe ser un positivo\"\n",
    "        if numero == 1:\n",
    "            return 1\n",
    "        numero = numero * self.calcular_factorial(numero - 1)\n",
    "\n",
    "        return numero    "
   ]
  },
  {
   "attachments": {},
   "cell_type": "markdown",
   "metadata": {},
   "source": [
    "8) Crear un archivo .py aparte y ubicar allí la clase generada en el punto anterior. Luego realizar la importación del módulo y probar alguna de sus funciones"
   ]
  },
  {
   "cell_type": "code",
   "execution_count": 29,
   "metadata": {},
   "outputs": [],
   "source": [
    "from modulos_punto7 import*"
   ]
  },
  {
   "cell_type": "code",
   "execution_count": 35,
   "metadata": {},
   "outputs": [],
   "source": [
    "f2 = Funciones([1,2,2,3,4,5,6,7,8,9,1,1,1,1,])"
   ]
  },
  {
   "cell_type": "code",
   "execution_count": 36,
   "metadata": {},
   "outputs": [
    {
     "data": {
      "text/plain": [
       "120"
      ]
     },
     "execution_count": 36,
     "metadata": {},
     "output_type": "execute_result"
    }
   ],
   "source": [
    "f2.calcular_factorial(5)"
   ]
  }
 ],
 "metadata": {
  "interpreter": {
   "hash": "c85384e4cb51c8b72350f3a8712cc8351fdc3955e32a27f9b60c6242ab125f01"
  },
  "kernelspec": {
   "display_name": "Python 3 (ipykernel)",
   "language": "python",
   "name": "python3"
  },
  "language_info": {
   "codemirror_mode": {
    "name": "ipython",
    "version": 3
   },
   "file_extension": ".py",
   "mimetype": "text/x-python",
   "name": "python",
   "nbconvert_exporter": "python",
   "pygments_lexer": "ipython3",
   "version": "3.11.8"
  }
 },
 "nbformat": 4,
 "nbformat_minor": 4
}
