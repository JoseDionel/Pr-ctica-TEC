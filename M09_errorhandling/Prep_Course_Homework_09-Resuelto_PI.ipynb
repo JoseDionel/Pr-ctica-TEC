{
 "cells": [
  {
   "attachments": {},
   "cell_type": "markdown",
   "metadata": {},
   "source": [
    "## Manejo de errores"
   ]
  },
  {
   "attachments": {},
   "cell_type": "markdown",
   "metadata": {},
   "source": [
    "1) Con la clase creada en el módulo 7, tener en cuenta diferentes casos en que el código pudiera arrojar error. Por ejemplo, en la creación del objeto recibimos una lista de números enteros pero ¿qué pasa si se envía otro tipo de dato?"
   ]
  },
  {
   "cell_type": "code",
   "execution_count": 1,
   "metadata": {},
   "outputs": [],
   "source": [
    "import sys\n",
    "sys.path.append(r'/C:/Users/paula/OneDrive/Curso/Henry/Python-Prep/M08_clasesyOOP')"
   ]
  },
  {
   "cell_type": "code",
   "execution_count": 2,
   "metadata": {},
   "outputs": [],
   "source": [
    "from modulo import *"
   ]
  },
  {
   "cell_type": "code",
   "execution_count": 3,
   "metadata": {},
   "outputs": [
    {
     "ename": "ValueError",
     "evalue": "Se esperaba una lista de enteros",
     "output_type": "error",
     "traceback": [
      "\u001b[1;31m---------------------------------------------------------------------------\u001b[0m",
      "\u001b[1;31mValueError\u001b[0m                                Traceback (most recent call last)",
      "Cell \u001b[1;32mIn[3], line 1\u001b[0m\n\u001b[1;32m----> 1\u001b[0m h \u001b[38;5;241m=\u001b[39m \u001b[43mHerramientas\u001b[49m\u001b[43m(\u001b[49m\u001b[38;5;124;43m'\u001b[39;49m\u001b[38;5;124;43mhola\u001b[39;49m\u001b[38;5;124;43m'\u001b[39;49m\u001b[43m)\u001b[49m\n",
      "File \u001b[1;32mc:\\Users\\paula\\OneDrive\\Curso\\Henry\\Python-Prep\\M09_errorhandling\\modulo.py:6\u001b[0m, in \u001b[0;36mHerramientas.__init__\u001b[1;34m(self, lista_numeros)\u001b[0m\n\u001b[0;32m      4\u001b[0m \u001b[38;5;28;01mif\u001b[39;00m \u001b[38;5;28mtype\u001b[39m(lista_numeros) \u001b[38;5;241m!=\u001b[39m \u001b[38;5;28mlist\u001b[39m:\n\u001b[0;32m      5\u001b[0m     \u001b[38;5;28mself\u001b[39m\u001b[38;5;241m.\u001b[39mlista\u001b[38;5;241m=\u001b[39m []\n\u001b[1;32m----> 6\u001b[0m     \u001b[38;5;28;01mraise\u001b[39;00m \u001b[38;5;167;01mValueError\u001b[39;00m(\u001b[38;5;124m'\u001b[39m\u001b[38;5;124mSe esperaba una lista de enteros\u001b[39m\u001b[38;5;124m'\u001b[39m)\n\u001b[0;32m      7\u001b[0m \u001b[38;5;28;01melse\u001b[39;00m:\n\u001b[0;32m      8\u001b[0m     \u001b[38;5;28mself\u001b[39m\u001b[38;5;241m.\u001b[39mlista \u001b[38;5;241m=\u001b[39m lista_numeros\n",
      "\u001b[1;31mValueError\u001b[0m: Se esperaba una lista de enteros"
     ]
    }
   ],
   "source": [
    "h = Herramientas('hola')"
   ]
  },
  {
   "cell_type": "code",
   "execution_count": 4,
   "metadata": {},
   "outputs": [
    {
     "ename": "NameError",
     "evalue": "name 'h' is not defined",
     "output_type": "error",
     "traceback": [
      "\u001b[1;31m---------------------------------------------------------------------------\u001b[0m",
      "\u001b[1;31mNameError\u001b[0m                                 Traceback (most recent call last)",
      "Cell \u001b[1;32mIn[4], line 1\u001b[0m\n\u001b[1;32m----> 1\u001b[0m \u001b[43mh\u001b[49m\u001b[38;5;241m.\u001b[39mprimo()\n",
      "\u001b[1;31mNameError\u001b[0m: name 'h' is not defined"
     ]
    }
   ],
   "source": [
    "h.primo()"
   ]
  },
  {
   "attachments": {},
   "cell_type": "markdown",
   "metadata": {},
   "source": [
    "2) En la función que hace la conversión de grados, validar que los parámetros enviados sean los esperados, de no serlo, informar cuáles son los valores esperados."
   ]
  },
  {
   "cell_type": "code",
   "execution_count": 5,
   "metadata": {},
   "outputs": [],
   "source": [
    "from modulo1 import *"
   ]
  },
  {
   "cell_type": "code",
   "execution_count": 6,
   "metadata": {},
   "outputs": [],
   "source": [
    "nros = [1,5,9,46,79,13,31,64,97,82,93,71,17,28,39,3,5,7,4,6,8,2,62,91,84,37,73]\n",
    "prueba = Herramienta(nros)"
   ]
  },
  {
   "cell_type": "code",
   "execution_count": 7,
   "metadata": {},
   "outputs": [
    {
     "name": "stdout",
     "output_type": "stream",
     "text": [
      "1 grados Celsius son 33.8 grados Farenheit\n",
      "5 grados Celsius son 41.0 grados Farenheit\n",
      "9 grados Celsius son 48.2 grados Farenheit\n",
      "46 grados Celsius son 114.8 grados Farenheit\n",
      "79 grados Celsius son 174.2 grados Farenheit\n",
      "13 grados Celsius son 55.4 grados Farenheit\n",
      "31 grados Celsius son 87.8 grados Farenheit\n",
      "64 grados Celsius son 147.2 grados Farenheit\n",
      "97 grados Celsius son 206.6 grados Farenheit\n",
      "82 grados Celsius son 179.6 grados Farenheit\n",
      "93 grados Celsius son 199.4 grados Farenheit\n",
      "71 grados Celsius son 159.8 grados Farenheit\n",
      "17 grados Celsius son 62.6 grados Farenheit\n",
      "28 grados Celsius son 82.4 grados Farenheit\n",
      "39 grados Celsius son 102.2 grados Farenheit\n",
      "3 grados Celsius son 37.4 grados Farenheit\n",
      "5 grados Celsius son 41.0 grados Farenheit\n",
      "7 grados Celsius son 44.6 grados Farenheit\n",
      "4 grados Celsius son 39.2 grados Farenheit\n",
      "6 grados Celsius son 42.8 grados Farenheit\n",
      "8 grados Celsius son 46.4 grados Farenheit\n",
      "2 grados Celsius son 35.6 grados Farenheit\n",
      "62 grados Celsius son 143.6 grados Farenheit\n",
      "91 grados Celsius son 195.8 grados Farenheit\n",
      "84 grados Celsius son 183.2 grados Farenheit\n",
      "37 grados Celsius son 98.6 grados Farenheit\n",
      "73 grados Celsius son 163.4 grados Farenheit\n"
     ]
    }
   ],
   "source": [
    "prueba.grados('Celsius', 'Farenheit')"
   ]
  },
  {
   "cell_type": "code",
   "execution_count": 8,
   "metadata": {},
   "outputs": [
    {
     "name": "stdout",
     "output_type": "stream",
     "text": [
      "Error en la unidad de origen. Se esperan ['Celsius', 'Farenheit', 'Kelvin']\n"
     ]
    }
   ],
   "source": [
    "prueba.grados('farenheit', 'kelvin')"
   ]
  },
  {
   "attachments": {},
   "cell_type": "markdown",
   "metadata": {},
   "source": [
    "3) Importar el modulo \"unittest\" y crear los siguientes casos de pruebas sobre la clase utilizada en el punto 2<br>\n",
    "Creacion del objeto incorrecta<br>\n",
    "Creacion correcta del objeto<br>\n",
    "Metodo valor_modal()<br>\n",
    "\n",
    "Se puede usar \"raise ValueError()\" en la creación de la clase para verificar el error. Investigar sobre esta funcionalidad."
   ]
  },
  {
   "cell_type": "code",
   "execution_count": 9,
   "metadata": {},
   "outputs": [],
   "source": [
    "from modulo1 import Herramienta"
   ]
  },
  {
   "cell_type": "code",
   "execution_count": 10,
   "metadata": {},
   "outputs": [],
   "source": [
    "import unittest"
   ]
  },
  {
   "cell_type": "code",
   "execution_count": 11,
   "metadata": {},
   "outputs": [
    {
     "name": "stderr",
     "output_type": "stream",
     "text": [
      "test_modal (__main__.CajaNegraTest) ... ok\n",
      "test_obj_correcto (__main__.CajaNegraTest) ... ok\n",
      "test_obj_incorrecto (__main__.CajaNegraTest) ... ok\n",
      "\n",
      "----------------------------------------------------------------------\n",
      "Ran 3 tests in 0.007s\n",
      "\n",
      "OK\n"
     ]
    },
    {
     "data": {
      "text/plain": [
       "<unittest.main.TestProgram at 0x21a28cf1090>"
      ]
     },
     "execution_count": 11,
     "metadata": {},
     "output_type": "execute_result"
    }
   ],
   "source": [
    "class CajaNegraTest(unittest.TestCase):\n",
    "\n",
    "    def test_obj_correcto(self):\n",
    "        obj_c = [1,56,97,84,62,59,15,37,73,31,64,97]\n",
    "        h1 = Herramienta(obj_c)\n",
    "        self.assertEqual(h1.lista, obj_c)\n",
    "\n",
    "    def test_obj_incorrecto(self):\n",
    "        obj_i = 'Viendo'\n",
    "        self.assertRaises(ValueError, Herramienta, obj_i)\n",
    "\n",
    "    def test_modal(self):\n",
    "        lista = [1,2,1,3,1,4,1,5,1,6,1,7,1,8,1,9,1]\n",
    "        prueba1 = Herramienta(lista)\n",
    "        resultado = prueba1.modal()\n",
    "        self.assertEqual(resultado, (1,9))\n",
    "\n",
    "\n",
    "unittest.main(argv=[''], verbosity=2, exit=False)"
   ]
  },
  {
   "attachments": {},
   "cell_type": "markdown",
   "metadata": {},
   "source": [
    "4) Probar una creación incorrecta y visualizar la salida del \"raise\""
   ]
  },
  {
   "cell_type": "code",
   "execution_count": 12,
   "metadata": {},
   "outputs": [
    {
     "ename": "ValueError",
     "evalue": "Se esperaba una lista de enteros",
     "output_type": "error",
     "traceback": [
      "\u001b[1;31m---------------------------------------------------------------------------\u001b[0m",
      "\u001b[1;31mValueError\u001b[0m                                Traceback (most recent call last)",
      "Cell \u001b[1;32mIn[12], line 2\u001b[0m\n\u001b[0;32m      1\u001b[0m correct \u001b[38;5;241m=\u001b[39m Herramienta([\u001b[38;5;241m1\u001b[39m,\u001b[38;5;241m2\u001b[39m,\u001b[38;5;241m5\u001b[39m,\u001b[38;5;241m4\u001b[39m,\u001b[38;5;241m8\u001b[39m,\u001b[38;5;241m7\u001b[39m,\u001b[38;5;241m9\u001b[39m,\u001b[38;5;241m6\u001b[39m,\u001b[38;5;241m3\u001b[39m,\u001b[38;5;241m1\u001b[39m,\u001b[38;5;241m2\u001b[39m,\u001b[38;5;241m1\u001b[39m,\u001b[38;5;241m4\u001b[39m,\u001b[38;5;241m1\u001b[39m,\u001b[38;5;241m5\u001b[39m,\u001b[38;5;241m1\u001b[39m,\u001b[38;5;241m6\u001b[39m,\u001b[38;5;241m1\u001b[39m,\u001b[38;5;241m7\u001b[39m,\u001b[38;5;241m1\u001b[39m,\u001b[38;5;241m8\u001b[39m,\u001b[38;5;241m1\u001b[39m,\u001b[38;5;241m9\u001b[39m,\u001b[38;5;241m1\u001b[39m])\n\u001b[1;32m----> 2\u001b[0m incorrect \u001b[38;5;241m=\u001b[39m \u001b[43mHerramienta\u001b[49m\u001b[43m(\u001b[49m\u001b[38;5;124;43m'\u001b[39;49m\u001b[38;5;124;43mHola mundo\u001b[39;49m\u001b[38;5;124;43m'\u001b[39;49m\u001b[43m)\u001b[49m\n",
      "File \u001b[1;32mc:\\Users\\paula\\OneDrive\\Curso\\Henry\\Python-Prep\\M09_errorhandling\\modulo1.py:6\u001b[0m, in \u001b[0;36mHerramienta.__init__\u001b[1;34m(self, lista_numeros)\u001b[0m\n\u001b[0;32m      4\u001b[0m \u001b[38;5;28;01mif\u001b[39;00m \u001b[38;5;28mtype\u001b[39m(lista_numeros) \u001b[38;5;241m!=\u001b[39m \u001b[38;5;28mlist\u001b[39m:\n\u001b[0;32m      5\u001b[0m     \u001b[38;5;28mself\u001b[39m\u001b[38;5;241m.\u001b[39mlista\u001b[38;5;241m=\u001b[39m []\n\u001b[1;32m----> 6\u001b[0m     \u001b[38;5;28;01mraise\u001b[39;00m \u001b[38;5;167;01mValueError\u001b[39;00m(\u001b[38;5;124m'\u001b[39m\u001b[38;5;124mSe esperaba una lista de enteros\u001b[39m\u001b[38;5;124m'\u001b[39m)\n\u001b[0;32m      7\u001b[0m \u001b[38;5;28;01melse\u001b[39;00m:\n\u001b[0;32m      8\u001b[0m     \u001b[38;5;28mself\u001b[39m\u001b[38;5;241m.\u001b[39mlista \u001b[38;5;241m=\u001b[39m lista_numeros\n",
      "\u001b[1;31mValueError\u001b[0m: Se esperaba una lista de enteros"
     ]
    }
   ],
   "source": [
    "correct = Herramienta([1,2,5,4,8,7,9,6,3,1,2,1,4,1,5,1,6,1,7,1,8,1,9,1])\n",
    "incorrect = Herramienta('Hola mundo')"
   ]
  },
  {
   "attachments": {},
   "cell_type": "markdown",
   "metadata": {},
   "source": [
    "6) Agregar casos de pruebas para el método verifica_primos() realizando el cambio en la clase, para que devuelva una lista de True o False en función de que el elemento en la posisicón sea o no primo"
   ]
  },
  {
   "cell_type": "code",
   "execution_count": 4,
   "metadata": {},
   "outputs": [],
   "source": [
    "from modulo2 import Herramienta"
   ]
  },
  {
   "cell_type": "code",
   "execution_count": 5,
   "metadata": {},
   "outputs": [
    {
     "name": "stderr",
     "output_type": "stream",
     "text": [
      "test_negativos (__main__.verificarprimos) ... ok\n",
      "test_primos (__main__.verificarprimos) ... ok\n",
      "test_vacia (__main__.verificarprimos) ... ok\n",
      "\n",
      "----------------------------------------------------------------------\n",
      "Ran 3 tests in 0.008s\n",
      "\n",
      "OK\n"
     ]
    },
    {
     "data": {
      "text/plain": [
       "<unittest.main.TestProgram at 0x1d587485b10>"
      ]
     },
     "execution_count": 5,
     "metadata": {},
     "output_type": "execute_result"
    }
   ],
   "source": [
    "import unittest\n",
    "\n",
    "\n",
    "class verificarprimos(unittest.TestCase):\n",
    "\n",
    "    def test_primos(self):\n",
    "        h = Herramienta([2,3,4,5,6,7,8,9,10])\n",
    "        resultado_esperado = [True,True,False,True,False,True,False,False,True]\n",
    "        self.assertEqual = (h.primo(),resultado_esperado)\n",
    "\n",
    "    def test_vacia(self):\n",
    "        h = Herramienta([])\n",
    "        self.assertEqual = (h.primo(),[])\n",
    "\n",
    "    def test_negativos(self):\n",
    "        h = Herramienta([-2,-3,-4,-5,-6,-7,-8,-9,-10])\n",
    "        resultado_esperado = [False,False,False,False,False,False,False,False,False]\n",
    "        self.assertEqual = (h.primo(),resultado_esperado)    \n",
    "\n",
    "\n",
    "unittest.main(argv=[''], verbosity=2, exit=False)"
   ]
  },
  {
   "attachments": {},
   "cell_type": "markdown",
   "metadata": {},
   "source": [
    "7) Agregar casos de pruebas para el método conversion_grados()"
   ]
  },
  {
   "cell_type": "markdown",
   "metadata": {},
   "source": [
    "33.8, 41.0, 48.2, 114.8, 174.2"
   ]
  },
  {
   "cell_type": "code",
   "execution_count": 1,
   "metadata": {},
   "outputs": [
    {
     "name": "stderr",
     "output_type": "stream",
     "text": [
      "test_F_C (__main__.verifica_grados) ... FAIL\n",
      "test_K_C (__main__.verifica_grados) ... ok\n",
      "\n",
      "======================================================================\n",
      "FAIL: test_F_C (__main__.verifica_grados)\n",
      "----------------------------------------------------------------------\n",
      "Traceback (most recent call last):\n",
      "  File \"C:\\Users\\paula\\AppData\\Local\\Temp\\ipykernel_7436\\812912214.py\", line 9, in test_F_C\n",
      "    self.assertEqual(h.grados('Farenheit','Celsius'), resultado_esperado)\n",
      "AssertionError: Lists differ: [0.9999999999999984, 5.0, 9.000000000000002, 46.0, 79.0] != [1, 5, 9, 46, 79]\n",
      "\n",
      "First differing element 0:\n",
      "0.9999999999999984\n",
      "1\n",
      "\n",
      "- [0.9999999999999984, 5.0, 9.000000000000002, 46.0, 79.0]\n",
      "+ [1, 5, 9, 46, 79]\n",
      "\n",
      "----------------------------------------------------------------------\n",
      "Ran 2 tests in 0.005s\n",
      "\n",
      "FAILED (failures=1)\n"
     ]
    },
    {
     "data": {
      "text/plain": [
       "<unittest.main.TestProgram at 0x2a1d16d7730>"
      ]
     },
     "execution_count": 1,
     "metadata": {},
     "output_type": "execute_result"
    }
   ],
   "source": [
    "from modulo2 import Herramienta\n",
    "import unittest\n",
    "\n",
    "class verifica_grados(unittest.TestCase):\n",
    "\n",
    "    def test_F_C(self):\n",
    "        h = Herramienta([33.8, 41.0, 48.2, 114.8, 174.2])\n",
    "        resultado_esperado = [1,5,9,46,79]\n",
    "        self.assertEqual(h.grados('Farenheit','Celsius'), resultado_esperado)\n",
    "\n",
    "    def test_K_C(self):\n",
    "        h = Herramienta([274, 278, 282, 319, 352])\n",
    "        resultado_esperado = [1,5,9,46,79]\n",
    "        self.assertEqual(h.grados('Kelvin', 'Celsius'), resultado_esperado)\n",
    "\n",
    "unittest.main(argv=[''], verbosity=2, exit=False)"
   ]
  },
  {
   "attachments": {},
   "cell_type": "markdown",
   "metadata": {},
   "source": [
    "8) Agregar casos de pruebas para el método factorial()"
   ]
  },
  {
   "cell_type": "code",
   "execution_count": 1,
   "metadata": {},
   "outputs": [
    {
     "name": "stderr",
     "output_type": "stream",
     "text": [
      "test_factorial (__main__.verifica_factorial) ... ok\n",
      "\n",
      "----------------------------------------------------------------------\n",
      "Ran 1 test in 0.002s\n",
      "\n",
      "OK\n"
     ]
    },
    {
     "data": {
      "text/plain": [
       "<unittest.main.TestProgram at 0x1c874304070>"
      ]
     },
     "execution_count": 1,
     "metadata": {},
     "output_type": "execute_result"
    }
   ],
   "source": [
    "from modulo2 import Herramienta\n",
    "import unittest\n",
    "\n",
    "class verifica_factorial(unittest.TestCase):\n",
    "    def test_factorial(self):\n",
    "        h = Herramienta([2,3,4,5,6])\n",
    "        resultados_esperado = [2,6,24,120,720]\n",
    "        self.assertEqual(h.factorial(), resultados_esperado)\n",
    "\n",
    "unittest.main(argv=[''], verbosity=2, exit=False)"
   ]
  }
 ],
 "metadata": {
  "interpreter": {
   "hash": "c85384e4cb51c8b72350f3a8712cc8351fdc3955e32a27f9b60c6242ab125f01"
  },
  "kernelspec": {
   "display_name": "Python 3 (ipykernel)",
   "language": "python",
   "name": "python3"
  },
  "language_info": {
   "codemirror_mode": {
    "name": "ipython",
    "version": 3
   },
   "file_extension": ".py",
   "mimetype": "text/x-python",
   "name": "python",
   "nbconvert_exporter": "python",
   "pygments_lexer": "ipython3",
   "version": "3.10.5"
  }
 },
 "nbformat": 4,
 "nbformat_minor": 4
}
