{
 "cells": [
  {
   "cell_type": "code",
   "execution_count": 1,
   "metadata": {},
   "outputs": [],
   "source": [
    "import unittest"
   ]
  },
  {
   "cell_type": "code",
   "execution_count": 2,
   "metadata": {},
   "outputs": [],
   "source": [
    "def es_mayor_de_edad(edad):\n",
    "    if edad >= 18:\n",
    "        return True\n",
    "    else:\n",
    "        return False"
   ]
  },
  {
   "cell_type": "code",
   "execution_count": 3,
   "metadata": {},
   "outputs": [],
   "source": [
    "class Prueba_de_cristal_test(unittest.TestCase):\n",
    "\n",
    "    def es_mayor_de_edad(self): # El metodo verifica si la función devuelve true si se le da una edad de 20\n",
    "\n",
    "        edad = 20                  # Definimos una variable con un valor de 20\n",
    "\n",
    "        resultado = es_mayor_de_edad(edad) # llamamos a la función pasando edad como argumento y se almacena el resultado en la variable resultado\n",
    "\n",
    "        self.assertEqual(resultado, True) # metodo de la clase test.case para comprobar si el resultado es True\n",
    "        \n",
    "    \n",
    "    def es_menor_de_edad(self): # El metodo verifica si la función devuelve false\n",
    "\n",
    "        edad = 15                  \n",
    "\n",
    "        resultado = es_mayor_de_edad(edad) \n",
    "\n",
    "        self.assertEqual(resultado, False)"
   ]
  },
  {
   "cell_type": "code",
   "execution_count": 4,
   "metadata": {},
   "outputs": [
    {
     "name": "stderr",
     "output_type": "stream",
     "text": [
      "\n",
      "----------------------------------------------------------------------\n",
      "Ran 0 tests in 0.000s\n",
      "\n",
      "NO TESTS RAN\n"
     ]
    },
    {
     "data": {
      "text/plain": [
       "<unittest.main.TestProgram at 0x235fa691760>"
      ]
     },
     "execution_count": 4,
     "metadata": {},
     "output_type": "execute_result"
    }
   ],
   "source": [
    "unittest.main(argv= [\"\"], verbosity=2, exit = False)\n"
   ]
  }
 ],
 "metadata": {
  "kernelspec": {
   "display_name": "Python 3",
   "language": "python",
   "name": "python3"
  },
  "language_info": {
   "codemirror_mode": {
    "name": "ipython",
    "version": 3
   },
   "file_extension": ".py",
   "mimetype": "text/x-python",
   "name": "python",
   "nbconvert_exporter": "python",
   "pygments_lexer": "ipython3",
   "version": "3.12.0"
  }
 },
 "nbformat": 4,
 "nbformat_minor": 2
}
