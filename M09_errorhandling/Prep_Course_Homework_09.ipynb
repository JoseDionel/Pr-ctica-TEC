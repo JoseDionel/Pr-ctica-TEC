{
 "cells": [
  {
   "attachments": {},
   "cell_type": "markdown",
   "metadata": {},
   "source": [
    "## Manejo de errores"
   ]
  },
  {
   "attachments": {},
   "cell_type": "markdown",
   "metadata": {},
   "source": [
    "1) Con la clase creada en el módulo 7, tener en cuenta diferentes casos en que el código pudiera arrojar error. Por ejemplo, en la creación del objeto recibimos una lista de números enteros pero ¿qué pasa si se envía otro tipo de dato?"
   ]
  },
  {
   "cell_type": "code",
   "execution_count": 1,
   "metadata": {},
   "outputs": [
    {
     "ename": "ValueError",
     "evalue": "Se ha creado una lista vacia. Se esepraba una lista de número enteros",
     "output_type": "error",
     "traceback": [
      "\u001b[1;31m---------------------------------------------------------------------------\u001b[0m",
      "\u001b[1;31mValueError\u001b[0m                                Traceback (most recent call last)",
      "Cell \u001b[1;32mIn[1], line 4\u001b[0m\n\u001b[0;32m      2\u001b[0m \u001b[39mimport\u001b[39;00m \u001b[39mimportlib\u001b[39;00m \n\u001b[0;32m      3\u001b[0m importlib\u001b[39m.\u001b[39mreload(Lib)\n\u001b[1;32m----> 4\u001b[0m H1 \u001b[39m=\u001b[39m Lib\u001b[39m.\u001b[39;49mFunciones7(\u001b[39m\"\u001b[39;49m\u001b[39mHola\u001b[39;49m\u001b[39m\"\u001b[39;49m)\n",
      "File \u001b[1;32mc:\\Users\\Windows10\\Desktop\\Python-Prep\\M09_errorhandling\\LibreriaFunciones.py:5\u001b[0m, in \u001b[0;36mFunciones7.__init__\u001b[1;34m(self, ListaEvaluada)\u001b[0m\n\u001b[0;32m      3\u001b[0m \u001b[39mif\u001b[39;00m(\u001b[39mtype\u001b[39m(ListaEvaluada) \u001b[39m!=\u001b[39m \u001b[39mlist\u001b[39m):\n\u001b[0;32m      4\u001b[0m     \u001b[39mself\u001b[39m\u001b[39m.\u001b[39mLista \u001b[39m=\u001b[39m []\n\u001b[1;32m----> 5\u001b[0m     \u001b[39mraise\u001b[39;00m \u001b[39mValueError\u001b[39;00m(\u001b[39m\"\u001b[39m\u001b[39mSe ha creado una lista vacia. Se esepraba una lista de número enteros\u001b[39m\u001b[39m\"\u001b[39m)\n\u001b[0;32m      6\u001b[0m \u001b[39melse\u001b[39;00m:\n\u001b[0;32m      7\u001b[0m     \u001b[39mself\u001b[39m\u001b[39m.\u001b[39mLista \u001b[39m=\u001b[39m ListaEvaluada\n",
      "\u001b[1;31mValueError\u001b[0m: Se ha creado una lista vacia. Se esepraba una lista de número enteros"
     ]
    }
   ],
   "source": [
    "import LibreriaFunciones as Lib\n",
    "import importlib \n",
    "importlib.reload(Lib)\n",
    "H1 = Lib.Funciones7(\"Hola\")\n"
   ]
  },
  {
   "attachments": {},
   "cell_type": "markdown",
   "metadata": {},
   "source": [
    "2) En la función que hace la conversión de grados, validar que los parámetros enviados sean los esperados, de no serlo, informar cuáles son los valores esperados."
   ]
  },
  {
   "cell_type": "code",
   "execution_count": 2,
   "metadata": {},
   "outputs": [
    {
     "name": "stdout",
     "output_type": "stream",
     "text": [
      "1 Grados  Celsius  son:  33.8  en  Farenheit\n",
      "2 Grados  Celsius  son:  35.6  en  Farenheit\n",
      "3 Grados  Celsius  son:  37.4  en  Farenheit\n",
      "4 Grados  Celsius  son:  39.2  en  Farenheit\n",
      "5 Grados  Celsius  son:  41.0  en  Farenheit\n"
     ]
    }
   ],
   "source": [
    "import importlib \n",
    "importlib.reload(Lib)\n",
    "Lista_Numeros = [1,2,3,4,5]\n",
    "H2 = Lib.Funciones7(Lista_Numeros)\n",
    "H2.ConvertirGrados(\"Celsius\",\"Farenheit\")"
   ]
  },
  {
   "attachments": {},
   "cell_type": "markdown",
   "metadata": {},
   "source": [
    "3) Importar el modulo \"unittest\" y crear los siguientes casos de pruebas sobre la clase utilizada en el punto 2<br>\n",
    "Creacion del objeto incorrecta<br>\n",
    "Creacion correcta del objeto<br>\n",
    "Metodo valor_modal()<br>\n",
    "\n",
    "Se puede usar \"raise ValueError()\" en la creación de la clase para verificar el error. Investigar sobre esta funcionalidad."
   ]
  },
  {
   "cell_type": "code",
   "execution_count": 3,
   "metadata": {},
   "outputs": [],
   "source": [
    "import unittest"
   ]
  },
  {
   "cell_type": "code",
   "execution_count": 22,
   "metadata": {},
   "outputs": [],
   "source": [
    "class PruebaFunciones(unittest.TestCase):\n",
    "    \n",
    "    def test_CrearObjeto(self):\n",
    "        Parametro = \"Texto\"\n",
    "        self.assertRaises(ValueError, Lib.Funciones7, Parametro)\n",
    "       \n",
    "    def test_CrearObjeto2(self):\n",
    "        Listado = [1,2,2,5]\n",
    "        H3 = Lib.Funciones7(Listado)\n",
    "        self.assertEqual(H3.Lista, Listado)\n",
    "        H3.Lista\n",
    "\n",
    "    def test_ContarDuplicados(self):\n",
    "        Listado = [1,2,1,3]\n",
    "        H4 = Lib.Funciones7(Listado)\n",
    "        moda, veces = H4.ContarDuplicados(Listado)\n",
    "        moda = [moda]\n",
    "        moda.append(veces)\n",
    "        resultado = [1, 2]\n",
    "        self.assertEqual(moda, resultado)\n"
   ]
  },
  {
   "cell_type": "code",
   "execution_count": 23,
   "metadata": {},
   "outputs": [
    {
     "name": "stderr",
     "output_type": "stream",
     "text": [
      "test_ContarDuplicados (__main__.PruebaFunciones.test_ContarDuplicados) ... ok\n",
      "test_CrearObjeto (__main__.PruebaFunciones.test_CrearObjeto) ... ok\n",
      "test_CrearObjeto2 (__main__.PruebaFunciones.test_CrearObjeto2) ... ok\n",
      "\n",
      "----------------------------------------------------------------------\n",
      "Ran 3 tests in 0.008s\n",
      "\n",
      "OK\n"
     ]
    },
    {
     "data": {
      "text/plain": [
       "<unittest.main.TestProgram at 0x1d4b22f48d0>"
      ]
     },
     "execution_count": 23,
     "metadata": {},
     "output_type": "execute_result"
    }
   ],
   "source": [
    "unittest.main(argv=[''], verbosity=2, exit=False)"
   ]
  },
  {
   "attachments": {},
   "cell_type": "markdown",
   "metadata": {},
   "source": [
    "4) Probar una creación incorrecta y visualizar la salida del \"raise\""
   ]
  },
  {
   "cell_type": "code",
   "execution_count": null,
   "metadata": {},
   "outputs": [],
   "source": []
  },
  {
   "cell_type": "code",
   "execution_count": 24,
   "metadata": {},
   "outputs": [
    {
     "ename": "ValueError",
     "evalue": "Se ha creado una lista vacia. Se esepraba una lista de número enteros",
     "output_type": "error",
     "traceback": [
      "\u001b[1;31m---------------------------------------------------------------------------\u001b[0m",
      "\u001b[1;31mValueError\u001b[0m                                Traceback (most recent call last)",
      "Cell \u001b[1;32mIn[24], line 1\u001b[0m\n\u001b[1;32m----> 1\u001b[0m H5 \u001b[39m=\u001b[39m Lib\u001b[39m.\u001b[39;49mFunciones7(\u001b[39m\"\u001b[39;49m\u001b[39mtexto\u001b[39;49m\u001b[39m\"\u001b[39;49m)\n",
      "File \u001b[1;32mc:\\Users\\Windows10\\Desktop\\Python-Prep\\M09_errorhandling\\LibreriaFunciones.py:5\u001b[0m, in \u001b[0;36mFunciones7.__init__\u001b[1;34m(self, ListaEvaluada)\u001b[0m\n\u001b[0;32m      3\u001b[0m \u001b[39mif\u001b[39;00m(\u001b[39mtype\u001b[39m(ListaEvaluada) \u001b[39m!=\u001b[39m \u001b[39mlist\u001b[39m):\n\u001b[0;32m      4\u001b[0m     \u001b[39mself\u001b[39m\u001b[39m.\u001b[39mLista \u001b[39m=\u001b[39m []\n\u001b[1;32m----> 5\u001b[0m     \u001b[39mraise\u001b[39;00m \u001b[39mValueError\u001b[39;00m(\u001b[39m\"\u001b[39m\u001b[39mSe ha creado una lista vacia. Se esepraba una lista de número enteros\u001b[39m\u001b[39m\"\u001b[39m)\n\u001b[0;32m      6\u001b[0m \u001b[39melse\u001b[39;00m:\n\u001b[0;32m      7\u001b[0m     \u001b[39mself\u001b[39m\u001b[39m.\u001b[39mLista \u001b[39m=\u001b[39m ListaEvaluada\n",
      "\u001b[1;31mValueError\u001b[0m: Se ha creado una lista vacia. Se esepraba una lista de número enteros"
     ]
    }
   ],
   "source": [
    "H5 = Lib.Funciones7(\"texto\")"
   ]
  },
  {
   "attachments": {},
   "cell_type": "markdown",
   "metadata": {},
   "source": [
    "6) Agregar casos de pruebas para el método verifica_primos() realizando el cambio en la clase, para que devuelva una lista de True o False en función de que el elemento en la posisicón sea o no primo"
   ]
  },
  {
   "cell_type": "code",
   "execution_count": 46,
   "metadata": {},
   "outputs": [],
   "source": [
    "class PruebaPrimos(unittest.TestCase):\n",
    "\n",
    "    def test_ValidaPrimos(self):\n",
    "        Listado = [2,3,8,10,13]\n",
    "        H6 = Lib.Funciones7(Listado)\n",
    "        primos = H6.ValidarPrimo()\n",
    "        primos_esperado = [True, True, False, False, True]\n",
    "        self.assertEqual(primos, primos_esperado)"
   ]
  },
  {
   "cell_type": "code",
   "execution_count": 45,
   "metadata": {},
   "outputs": [
    {
     "data": {
      "text/plain": [
       "<module 'LibreriaFunciones' from 'c:\\\\Users\\\\Windows10\\\\Desktop\\\\Python-Prep\\\\M09_errorhandling\\\\LibreriaFunciones.py'>"
      ]
     },
     "execution_count": 45,
     "metadata": {},
     "output_type": "execute_result"
    }
   ],
   "source": [
    "importlib.reload(Lib)"
   ]
  },
  {
   "cell_type": "code",
   "execution_count": 47,
   "metadata": {},
   "outputs": [
    {
     "name": "stderr",
     "output_type": "stream",
     "text": [
      "test_ContarDuplicados (__main__.PruebaFunciones.test_ContarDuplicados) ... ok\n",
      "test_CrearObjeto (__main__.PruebaFunciones.test_CrearObjeto) ... ok\n",
      "test_CrearObjeto2 (__main__.PruebaFunciones.test_CrearObjeto2) ... ok\n",
      "test_ValidaPrimos (__main__.PruebaPrimos.test_ValidaPrimos) ... ok\n",
      "\n",
      "----------------------------------------------------------------------\n",
      "Ran 4 tests in 0.011s\n",
      "\n",
      "OK\n"
     ]
    },
    {
     "data": {
      "text/plain": [
       "<unittest.main.TestProgram at 0x1d4b41f8d90>"
      ]
     },
     "execution_count": 47,
     "metadata": {},
     "output_type": "execute_result"
    }
   ],
   "source": [
    "unittest.main(argv=[''], verbosity=2, exit=False)"
   ]
  },
  {
   "attachments": {},
   "cell_type": "markdown",
   "metadata": {},
   "source": [
    "7) Agregar casos de pruebas para el método conversion_grados()"
   ]
  },
  {
   "cell_type": "code",
   "execution_count": 55,
   "metadata": {},
   "outputs": [],
   "source": [
    "class ProbandoConversionGrados(unittest.TestCase):\n",
    "\n",
    "    def test_CovertirGrados(self):\n",
    "        Listado = [104,86]\n",
    "        H7 = Lib.Funciones7(Listado)\n",
    "        H7.ConvertirGrados\n",
    "        Resultado = H7.ConvertirGrados('Farenheit','Celsius')\n",
    "        ValoresEsperados = [40.0,30.0]\n",
    "        self.assertEqual(Resultado, ValoresEsperados)"
   ]
  },
  {
   "cell_type": "code",
   "execution_count": 57,
   "metadata": {},
   "outputs": [
    {
     "name": "stderr",
     "output_type": "stream",
     "text": [
      "test_CovertirGrados (__main__.ProbandoConversionGrados.test_CovertirGrados) ... ok\n",
      "test_ContarDuplicados (__main__.PruebaFunciones.test_ContarDuplicados) ... ok\n",
      "test_CrearObjeto (__main__.PruebaFunciones.test_CrearObjeto) ... ok\n",
      "test_CrearObjeto2 (__main__.PruebaFunciones.test_CrearObjeto2) ... ok\n",
      "test_ValidaPrimos (__main__.PruebaPrimos.test_ValidaPrimos) ... ok\n",
      "\n",
      "----------------------------------------------------------------------\n",
      "Ran 5 tests in 0.015s\n",
      "\n",
      "OK\n"
     ]
    },
    {
     "name": "stdout",
     "output_type": "stream",
     "text": [
      "104 Grados  Farenheit  son:  40.0  en  Celsius\n",
      "86 Grados  Farenheit  son:  30.0  en  Celsius\n",
      "[40.0, 30.0]\n"
     ]
    },
    {
     "data": {
      "text/plain": [
       "<unittest.main.TestProgram at 0x1d4b420b290>"
      ]
     },
     "execution_count": 57,
     "metadata": {},
     "output_type": "execute_result"
    }
   ],
   "source": [
    "importlib.reload(Lib)\n",
    "unittest.main(argv=[''], verbosity=2, exit=False)\n"
   ]
  },
  {
   "attachments": {},
   "cell_type": "markdown",
   "metadata": {},
   "source": [
    "8) Agregar casos de pruebas para el método factorial()"
   ]
  },
  {
   "cell_type": "code",
   "execution_count": null,
   "metadata": {},
   "outputs": [],
   "source": []
  },
  {
   "cell_type": "code",
   "execution_count": 59,
   "metadata": {},
   "outputs": [],
   "source": [
    "class ProbandoFactoriales(unittest.TestCase):\n",
    "\n",
    "    def test_CalcularFactorial(self):\n",
    "        Listado = [1,2,3,4,5]\n",
    "        H8 = Lib.Funciones7(Listado)\n",
    "        Resultado = H8.Factorial()\n",
    "        ValoresEsperados = [1,2,6,24,120]\n",
    "        self.assertEqual(Resultado,ValoresEsperados)"
   ]
  },
  {
   "cell_type": "code",
   "execution_count": 60,
   "metadata": {},
   "outputs": [
    {
     "name": "stderr",
     "output_type": "stream",
     "text": [
      "test_CovertirGrados (__main__.ProbandoConversionGrados.test_CovertirGrados) ... ok\n",
      "test_CalcularFactorial (__main__.ProbandoFactoriales.test_CalcularFactorial) ... ok\n",
      "test_ContarDuplicados (__main__.PruebaFunciones.test_ContarDuplicados) ... ok\n",
      "test_CrearObjeto (__main__.PruebaFunciones.test_CrearObjeto) ... ok\n",
      "test_CrearObjeto2 (__main__.PruebaFunciones.test_CrearObjeto2) ... ok\n",
      "test_ValidaPrimos (__main__.PruebaPrimos.test_ValidaPrimos) ... ok\n",
      "\n",
      "----------------------------------------------------------------------\n",
      "Ran 6 tests in 0.019s\n",
      "\n",
      "OK\n"
     ]
    },
    {
     "name": "stdout",
     "output_type": "stream",
     "text": [
      "104 Grados  Farenheit  son:  40.0  en  Celsius\n",
      "86 Grados  Farenheit  son:  30.0  en  Celsius\n",
      "[40.0, 30.0]\n",
      "El factorial de:  1  es:  1\n",
      "El factorial de:  2  es:  2\n",
      "El factorial de:  3  es:  6\n",
      "El factorial de:  4  es:  24\n",
      "El factorial de:  5  es:  120\n"
     ]
    },
    {
     "data": {
      "text/plain": [
       "<unittest.main.TestProgram at 0x1d4b425a110>"
      ]
     },
     "execution_count": 60,
     "metadata": {},
     "output_type": "execute_result"
    }
   ],
   "source": [
    "importlib.reload(Lib)\n",
    "unittest.main(argv=[''], verbosity=2, exit=False)"
   ]
  }
 ],
 "metadata": {
  "interpreter": {
   "hash": "c85384e4cb51c8b72350f3a8712cc8351fdc3955e32a27f9b60c6242ab125f01"
  },
  "kernelspec": {
   "display_name": "Python 3 (ipykernel)",
   "language": "python",
   "name": "python3"
  },
  "language_info": {
   "codemirror_mode": {
    "name": "ipython",
    "version": 3
   },
   "file_extension": ".py",
   "mimetype": "text/x-python",
   "name": "python",
   "nbconvert_exporter": "python",
   "pygments_lexer": "ipython3",
   "version": "3.11.4"
  }
 },
 "nbformat": 4,
 "nbformat_minor": 4
}
