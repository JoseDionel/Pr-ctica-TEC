{
 "cells": [
  {
   "attachments": {},
   "cell_type": "markdown",
   "metadata": {},
   "source": [
    "## Flujos de Control"
   ]
  },
  {
   "attachments": {},
   "cell_type": "markdown",
   "metadata": {},
   "source": [
    "1) Crear una variable que contenga un elemento del conjunto de números enteros y luego imprimir por pantalla si es mayor o menor a cero"
   ]
  },
  {
   "cell_type": "code",
   "execution_count": 4,
   "metadata": {},
   "outputs": [
    {
     "name": "stdout",
     "output_type": "stream",
     "text": [
      "El número 10, es mayor que cero\n"
     ]
    }
   ],
   "source": [
    "num = 10\n",
    "if num > 0:\n",
    "    print(f\"El número {num}, es mayor que cero\")\n",
    "elif num < 0:\n",
    "    print(f\"El número {num}, es menor que cero\")\n",
    "else:\n",
    "    print(f\"El número {num}, es igual que cero\")    "
   ]
  },
  {
   "attachments": {},
   "cell_type": "markdown",
   "metadata": {},
   "source": [
    "2) Crear dos variables y un condicional que informe si son del mismo tipo de dato"
   ]
  },
  {
   "cell_type": "code",
   "execution_count": 5,
   "metadata": {},
   "outputs": [
    {
     "name": "stdout",
     "output_type": "stream",
     "text": [
      "Las variables Henry e 4 son de distinto tipo de dato\n"
     ]
    }
   ],
   "source": [
    "x = \"Henry\"\n",
    "y = 4\n",
    "if type(x) == type(y):\n",
    "    print(f\"Las variables {x} e {y} son del mismo tipo de dato\")\n",
    "else:\n",
    "    print(f\"Las variables {x} e {y} son de distinto tipo de dato\")"
   ]
  },
  {
   "attachments": {},
   "cell_type": "markdown",
   "metadata": {},
   "source": [
    "3) Para los valores enteros del 1 al 20, imprimir por pantalla si es par o impar"
   ]
  },
  {
   "cell_type": "code",
   "execution_count": 7,
   "metadata": {},
   "outputs": [
    {
     "name": "stdout",
     "output_type": "stream",
     "text": [
      "El número 1 es impar\n",
      "El número 2 es par\n",
      "El número 3 es impar\n",
      "El número 4 es par\n",
      "El número 5 es impar\n",
      "El número 6 es par\n",
      "El número 7 es impar\n",
      "El número 8 es par\n",
      "El número 9 es impar\n",
      "El número 10 es par\n",
      "El número 11 es impar\n",
      "El número 12 es par\n",
      "El número 13 es impar\n",
      "El número 14 es par\n",
      "El número 15 es impar\n",
      "El número 16 es par\n",
      "El número 17 es impar\n",
      "El número 18 es par\n",
      "El número 19 es impar\n",
      "El número 20 es par\n"
     ]
    }
   ],
   "source": [
    "for num in range (1, 21):   #resuelto con un bucle for\n",
    "    if num %2 == 0:\n",
    "        print(f\"El número {num} es par\")\n",
    "    else:\n",
    "        print(f\"El número {num} es impar\")"
   ]
  },
  {
   "cell_type": "code",
   "execution_count": 16,
   "metadata": {},
   "outputs": [
    {
     "name": "stdout",
     "output_type": "stream",
     "text": [
      "El número 1 es impar\n",
      "El número 2 es par\n",
      "El número 3 es impar\n",
      "El número 4 es par\n",
      "El número 5 es impar\n",
      "El número 6 es par\n",
      "El número 7 es impar\n",
      "El número 8 es par\n",
      "El número 9 es impar\n",
      "El número 10 es par\n",
      "El número 11 es impar\n",
      "El número 12 es par\n",
      "El número 13 es impar\n",
      "El número 14 es par\n",
      "El número 15 es impar\n",
      "El número 16 es par\n",
      "El número 17 es impar\n",
      "El número 18 es par\n",
      "El número 19 es impar\n",
      "El número 20 es par\n"
     ]
    }
   ],
   "source": [
    "num = 1                     #resuelto con un bucle while\n",
    "while num <21:\n",
    "    if num %2 == 0:\n",
    "        print(f\"El número {num} es par\")\n",
    "        num= num + 1 \n",
    "    else:\n",
    "        print(f\"El número {num} es impar\")\n",
    "        num= num + 1 \n"
   ]
  },
  {
   "attachments": {},
   "cell_type": "markdown",
   "metadata": {},
   "source": [
    "4) En un ciclo for mostrar para los valores entre 0 y 5 el resultado de elevarlo a la potencia igual a 3"
   ]
  },
  {
   "cell_type": "code",
   "execution_count": 19,
   "metadata": {},
   "outputs": [
    {
     "name": "stdout",
     "output_type": "stream",
     "text": [
      "El número 0 elevado a la 3ra potencia es 0 \n",
      "El número 1 elevado a la 3ra potencia es 1 \n",
      "El número 2 elevado a la 3ra potencia es 8 \n",
      "El número 3 elevado a la 3ra potencia es 27 \n",
      "El número 4 elevado a la 3ra potencia es 64 \n",
      "El número 5 elevado a la 3ra potencia es 125 \n"
     ]
    }
   ],
   "source": [
    "for i in range(0,6):        #resuelto con un boocle for\n",
    "    potenciación = i ** 3\n",
    "    print(f\"El número {i} elevado a la 3ra potencia es {potenciación} \")\n"
   ]
  },
  {
   "attachments": {},
   "cell_type": "markdown",
   "metadata": {},
   "source": [
    "5) Crear una variable que contenga un número entero y realizar un ciclo for la misma cantidad de ciclos"
   ]
  },
  {
   "cell_type": "code",
   "execution_count": 22,
   "metadata": {},
   "outputs": [
    {
     "name": "stdout",
     "output_type": "stream",
     "text": [
      "Ciclo for Nro 0\n",
      "Ciclo for Nro 1\n",
      "Ciclo for Nro 2\n",
      "Ciclo for Nro 3\n",
      "Ciclo for Nro 4\n"
     ]
    }
   ],
   "source": [
    "variable = 5\n",
    "for i in range(0, variable):\n",
    "    print(f\"Ciclo for Nro {i}\")\n"
   ]
  },
  {
   "attachments": {},
   "cell_type": "markdown",
   "metadata": {},
   "source": [
    "6) Utilizar un ciclo while para realizar el factorial de un número guardado en una variable, sólo si la variable contiene un número entero mayor a 0"
   ]
  },
  {
   "cell_type": "code",
   "execution_count": 50,
   "metadata": {},
   "outputs": [
    {
     "name": "stdout",
     "output_type": "stream",
     "text": [
      " El factorial de 120\n"
     ]
    }
   ],
   "source": [
    "x = 5\n",
    "if type(x) == int:\n",
    "    if x > 0 :\n",
    "        factorial = x\n",
    "        while x >= 2:\n",
    "            x = x - 1\n",
    "            factorial = factorial * x  \n",
    "        print (f\" El factorial de {factorial}\")\n",
    "    else:\n",
    "        (\"La variable no es mayor que cero\")\n",
    "else:\n",
    "    print(\" La variable no es un entero \")\n"
   ]
  },
  {
   "attachments": {},
   "cell_type": "markdown",
   "metadata": {},
   "source": [
    "7) Crear un ciclo for dentro de un ciclo while"
   ]
  },
  {
   "cell_type": "code",
   "execution_count": 4,
   "metadata": {},
   "outputs": [
    {
     "name": "stdout",
     "output_type": "stream",
     "text": [
      "ciclo for 0 en ciclo while 0\n",
      "ciclo for 1 en ciclo while 1\n",
      "ciclo for 2 en ciclo while 2\n",
      "ciclo for 3 en ciclo while 3\n",
      "ciclo for 4 en ciclo while 4\n"
     ]
    }
   ],
   "source": [
    "x = True\n",
    "while x == True:\n",
    "    for i in range(0,5):\n",
    "        print(f\"ciclo for {i} en ciclo while {i}\")\n",
    "        x = False"
   ]
  },
  {
   "attachments": {},
   "cell_type": "markdown",
   "metadata": {},
   "source": [
    "8) Crear un ciclo while dentro de un ciclo for"
   ]
  },
  {
   "cell_type": "code",
   "execution_count": 3,
   "metadata": {},
   "outputs": [
    {
     "name": "stdout",
     "output_type": "stream",
     "text": [
      "Ciclo for 0\n",
      "Ciclo While 0\n",
      "Ciclo for 1\n",
      "Ciclo While 1\n",
      "Ciclo for 2\n",
      "Ciclo While 2\n",
      "Ciclo for 3\n",
      "Ciclo While 3\n",
      "Ciclo for 4\n",
      "Ciclo While 4\n"
     ]
    }
   ],
   "source": [
    "for i in range (0, 5):\n",
    "    print(f\"Ciclo for {i}\")\n",
    "    while True:\n",
    "        print(f\"Ciclo While {i}\")\n",
    "        break\n"
   ]
  },
  {
   "attachments": {},
   "cell_type": "markdown",
   "metadata": {},
   "source": [
    "9) Imprimir los números primos existentes entre 0 y 30"
   ]
  },
  {
   "cell_type": "code",
   "execution_count": 12,
   "metadata": {},
   "outputs": [
    {
     "name": "stdout",
     "output_type": "stream",
     "text": [
      "2\n",
      "3\n",
      "5\n",
      "7\n",
      "11\n",
      "13\n",
      "17\n",
      "19\n",
      "23\n",
      "29\n"
     ]
    }
   ],
   "source": [
    "n = 2\n",
    "while n <= 30:\n",
    "    primo = True\n",
    "    for divisor in range(2, n):\n",
    "        if n % divisor == 0:\n",
    "            primo = False\n",
    "    if primo == True:\n",
    "        print(n)        \n",
    "    n += 1        \n"
   ]
  },
  {
   "attachments": {},
   "cell_type": "markdown",
   "metadata": {},
   "source": [
    "10) ¿Se puede mejorar el proceso del punto 9? Utilizar las sentencias break y/ó continue para tal fin"
   ]
  },
  {
   "cell_type": "code",
   "execution_count": 6,
   "metadata": {},
   "outputs": [
    {
     "name": "stdout",
     "output_type": "stream",
     "text": [
      "2\n",
      "3\n",
      "5\n",
      "7\n",
      "11\n",
      "13\n",
      "17\n",
      "19\n",
      "23\n",
      "29\n"
     ]
    }
   ],
   "source": [
    "n = 2\n",
    "while n <= 30:\n",
    "    primo = True\n",
    "    for divisor in range(2, n):\n",
    "        if n % divisor == 0:\n",
    "            #print(f\"El numero es {n} y el divisor es {divisor}\")\n",
    "            primo = False\n",
    "            #print(f\"El valor de primeo es {primo}\")\n",
    "            break       # Utiliando este brake detengo el for al encontrar el primer caso de exclucíon como primo. Menos iteraciones\n",
    "    if primo == True:\n",
    "        print(n)        \n",
    "    n += 1        "
   ]
  },
  {
   "attachments": {},
   "cell_type": "markdown",
   "metadata": {},
   "source": [
    "11) En los puntos 9 y 10, se diseño un código que encuentra números primos y además se lo optimizó. ¿Es posible saber en qué medida se optimizó?"
   ]
  },
  {
   "cell_type": "code",
   "execution_count": 9,
   "metadata": {},
   "outputs": [
    {
     "name": "stdout",
     "output_type": "stream",
     "text": [
      "2\n",
      "3\n",
      "5\n",
      "7\n",
      "11\n",
      "13\n",
      "17\n",
      "19\n",
      "23\n",
      "29\n",
      "Cantidad de ciclos sin brake 406\n"
     ]
    }
   ],
   "source": [
    "cantidad_de_ciclos = 0\n",
    "n = 2\n",
    "while n <= 30:\n",
    "    primo = True\n",
    "    for divisor in range(2, n):\n",
    "        cantidad_de_ciclos += 1\n",
    "        if n % divisor == 0:\n",
    "            primo = False\n",
    "    if primo == True:\n",
    "        print(n)        \n",
    "    n += 1\n",
    "print(f\"Cantidad de ciclos sin brake {cantidad_de_ciclos}\")            \n"
   ]
  },
  {
   "cell_type": "code",
   "execution_count": 30,
   "metadata": {},
   "outputs": [
    {
     "name": "stdout",
     "output_type": "stream",
     "text": [
      "2\n",
      "3\n",
      "5\n",
      "7\n",
      "11\n",
      "13\n",
      "17\n",
      "19\n",
      "23\n",
      "29\n",
      "Cantida de ciclos con brake 19\n",
      "En codigo de optimizo en un 95.32019704433498 % menos de iteraciones\n"
     ]
    }
   ],
   "source": [
    "cantidad_de_ciclos_con_brake = 0\n",
    "n = 2\n",
    "while n <= 30:\n",
    "    primo = True\n",
    "    for divisor in range(2, n):\n",
    "        if n % divisor == 0:\n",
    "            cantidad_de_ciclos_con_brake += 1\n",
    "            #print(f\"El numero es {n} y el divisor es {divisor}\")\n",
    "            primo = False\n",
    "            #print(f\"El valor de primeo es {primo}\")\n",
    "            break       # Utiliando este brake detengo el for al encontrar el primer caso de exclucíon como primo. Menos iteraciones\n",
    "    if primo == True:\n",
    "        print(n)        \n",
    "    n += 1     \n",
    "print(f\"Cantida de ciclos con brake {cantidad_de_ciclos_con_brake}\")\n",
    "print(f\"En codigo de optimizo en un {((cantidad_de_ciclos - cantidad_de_ciclos_con_brake) / cantidad_de_ciclos) *100} % menos de iteraciones\")"
   ]
  },
  {
   "attachments": {},
   "cell_type": "markdown",
   "metadata": {},
   "source": [
    "12) Aplicando continue, armar un ciclo while que solo imprima los valores divisibles por 12, dentro del rango de números de 100 a 300"
   ]
  },
  {
   "cell_type": "code",
   "execution_count": 44,
   "metadata": {},
   "outputs": [
    {
     "name": "stdout",
     "output_type": "stream",
     "text": [
      "El 108 es divisible por 12\n",
      "El 120 es divisible por 12\n",
      "El 132 es divisible por 12\n",
      "El 144 es divisible por 12\n",
      "El 156 es divisible por 12\n",
      "El 168 es divisible por 12\n",
      "El 180 es divisible por 12\n",
      "El 192 es divisible por 12\n",
      "El 204 es divisible por 12\n",
      "El 216 es divisible por 12\n",
      "El 228 es divisible por 12\n",
      "El 240 es divisible por 12\n",
      "El 252 es divisible por 12\n",
      "El 264 es divisible por 12\n",
      "El 276 es divisible por 12\n",
      "El 288 es divisible por 12\n",
      "El 300 es divisible por 12\n"
     ]
    }
   ],
   "source": [
    "numero = 99\n",
    "while (numero <= 300):\n",
    "    numero += 1\n",
    "    if numero % 12 != 0:\n",
    "        continue\n",
    "    print(f\"El {numero} es divisible por 12\")\n",
    "       \n"
   ]
  },
  {
   "attachments": {},
   "cell_type": "markdown",
   "metadata": {},
   "source": [
    "13) Utilizar la función **input()** que permite hacer ingresos por teclado, para encontrar números primos y dar la opción al usario de buscar el siguiente"
   ]
  },
  {
   "cell_type": "code",
   "execution_count": 72,
   "metadata": {},
   "outputs": [
    {
     "name": "stdout",
     "output_type": "stream",
     "text": [
      "Si desea saber si un némero es primo ingréselo\n",
      "El numero  es primo\n",
      "¿Desea encontrar el siguiente número primo?\n"
     ]
    }
   ],
   "source": [
    "n = 1\n",
    "sigue = 1\n",
    "primo = True\n",
    "while (sigue == 1):\n",
    "    for div in range(2, n):\n",
    "        if (n % div == 0):\n",
    "            primo = False\n",
    "            break\n",
    "    print(\"Si desea saber si un némero es primo ingréselo\")\n",
    "    if primo:\n",
    "        if (input() != '1'):\n",
    "            print(f\"El numero {input()} es primo\")\n",
    "            print('¿Desea encontrar el siguiente número primo?')\n",
    "            break\n",
    "    else:\n",
    "        primo = True\n",
    "    n += 1"
   ]
  },
  {
   "attachments": {},
   "cell_type": "markdown",
   "metadata": {},
   "source": [
    "14) Crear un ciclo while que encuentre dentro del rango de 100 a 300 el primer número divisible por 3 y además múltiplo de 6"
   ]
  },
  {
   "cell_type": "code",
   "execution_count": 81,
   "metadata": {},
   "outputs": [
    {
     "name": "stdout",
     "output_type": "stream",
     "text": [
      "102 es divisible por tres y ademas es multiplo de seis\n"
     ]
    }
   ],
   "source": [
    "numero = 99\n",
    "while (numero <=300):\n",
    "    numero +=1\n",
    "    if numero % 3 == 0:\n",
    "        if numero % 6 == 0:\n",
    "            print(f\"{numero} es divisible por tres y ademas es multiplo de seis\")\n",
    "            break\n"
   ]
  }
 ],
 "metadata": {
  "interpreter": {
   "hash": "c85384e4cb51c8b72350f3a8712cc8351fdc3955e32a27f9b60c6242ab125f01"
  },
  "kernelspec": {
   "display_name": "Python 3 (ipykernel)",
   "language": "python",
   "name": "python3"
  },
  "language_info": {
   "codemirror_mode": {
    "name": "ipython",
    "version": 3
   },
   "file_extension": ".py",
   "mimetype": "text/x-python",
   "name": "python",
   "nbconvert_exporter": "python",
   "pygments_lexer": "ipython3",
   "version": "3.12.0"
  }
 },
 "nbformat": 4,
 "nbformat_minor": 4
}
