{
 "cells": [
  {
   "attachments": {},
   "cell_type": "markdown",
   "metadata": {},
   "source": [
    "## Flujos de Control"
   ]
  },
  {
   "attachments": {},
   "cell_type": "markdown",
   "metadata": {},
   "source": [
    "1) Crear una variable que contenga un elemento del conjunto de números enteros y luego imprimir por pantalla si es mayor o menor a cero"
   ]
  },
  {
   "cell_type": "code",
   "execution_count": 3,
   "metadata": {},
   "outputs": [
    {
     "name": "stdout",
     "output_type": "stream",
     "text": [
      "23.234\n"
     ]
    }
   ],
   "source": [
    "x = 23.234\n",
    "if x < 0 or x > 0:\n",
    "    print(x)"
   ]
  },
  {
   "attachments": {},
   "cell_type": "markdown",
   "metadata": {},
   "source": [
    "2) Crear dos variables y un condicional que informe si son del mismo tipo de dato"
   ]
  },
  {
   "cell_type": "code",
   "execution_count": 4,
   "metadata": {},
   "outputs": [
    {
     "name": "stdout",
     "output_type": "stream",
     "text": [
      "Son diferentes tipos de datos\n"
     ]
    }
   ],
   "source": [
    "x = 2356423\n",
    "name = \"JuanCarlos\"\n",
    "if type(x) == type(name):\n",
    "    print(\"Son el mismo tipo de dato\")\n",
    "else:\n",
    "    print(\"Son diferentes tipos de datos\")"
   ]
  },
  {
   "attachments": {},
   "cell_type": "markdown",
   "metadata": {},
   "source": [
    "3) Para los valores enteros del 1 al 20, imprimir por pantalla si es par o impar"
   ]
  },
  {
   "cell_type": "code",
   "execution_count": 9,
   "metadata": {},
   "outputs": [
    {
     "name": "stdout",
     "output_type": "stream",
     "text": [
      "1 es impar\n",
      "2 es par\n",
      "3 es impar\n",
      "4 es par\n",
      "5 es impar\n",
      "6 es par\n",
      "7 es impar\n",
      "8 es par\n",
      "9 es impar\n",
      "10 es par\n",
      "11 es impar\n",
      "12 es par\n",
      "13 es impar\n",
      "14 es par\n",
      "15 es impar\n",
      "16 es par\n",
      "17 es impar\n",
      "18 es par\n",
      "19 es impar\n",
      "20 es par\n"
     ]
    }
   ],
   "source": [
    "for i in range(1,21):\n",
    "    if (i % 2) == 0:\n",
    "        print(str(i) + \" es par\")\n",
    "    else:\n",
    "        print(str(i) + \" es impar\")"
   ]
  },
  {
   "attachments": {},
   "cell_type": "markdown",
   "metadata": {},
   "source": [
    "4) En un ciclo for mostrar para los valores entre 0 y 5 el resultado de elevarlo a la potencia igual a 3"
   ]
  },
  {
   "cell_type": "code",
   "execution_count": 15,
   "metadata": {},
   "outputs": [
    {
     "name": "stdout",
     "output_type": "stream",
     "text": [
      "0^3 = 0\n",
      "1^3 = 1\n",
      "2^3 = 8\n",
      "3^3 = 27\n",
      "4^3 = 64\n",
      "5^3 = 125\n"
     ]
    }
   ],
   "source": [
    "for i in range(0,6):\n",
    "    print(str(i) + \"^3 =\",i**3)"
   ]
  },
  {
   "attachments": {},
   "cell_type": "markdown",
   "metadata": {},
   "source": [
    "5) Crear una variable que contenga un número entero y realizar un ciclo for la misma cantidad de ciclos"
   ]
  },
  {
   "cell_type": "code",
   "execution_count": 17,
   "metadata": {},
   "outputs": [
    {
     "name": "stdout",
     "output_type": "stream",
     "text": [
      "ciclo 1\n",
      "ciclo 2\n",
      "ciclo 3\n",
      "ciclo 4\n",
      "ciclo 5\n"
     ]
    }
   ],
   "source": [
    "x = 5\n",
    "i = 1\n",
    "for y in range(x):\n",
    "    print(\"ciclo \" + str(i))\n",
    "    i += 1"
   ]
  },
  {
   "attachments": {},
   "cell_type": "markdown",
   "metadata": {},
   "source": [
    "6) Utilizar un ciclo while para realizar el factorial de un número guardado en una variable, sólo si la variable contiene un número entero mayor a 0"
   ]
  },
  {
   "cell_type": "code",
   "execution_count": 30,
   "metadata": {},
   "outputs": [
    {
     "name": "stdout",
     "output_type": "stream",
     "text": [
      "24\n"
     ]
    }
   ],
   "source": [
    "x = 4\n",
    "fact = 1\n",
    "while x > 0:\n",
    "    fact *= x\n",
    "    x -= 1\n",
    "print(fact)"
   ]
  },
  {
   "attachments": {},
   "cell_type": "markdown",
   "metadata": {},
   "source": [
    "7) Crear un ciclo for dentro de un ciclo while"
   ]
  },
  {
   "cell_type": "code",
   "execution_count": 34,
   "metadata": {},
   "outputs": [
    {
     "name": "stdout",
     "output_type": "stream",
     "text": [
      "0\n",
      "1\n",
      "2\n",
      "3\n",
      "4\n",
      "5\n",
      "6\n",
      "7\n",
      "8\n",
      "9\n",
      "10\n",
      "11\n",
      "12\n",
      "13\n",
      "14\n",
      "15\n",
      "16\n",
      "17\n",
      "18\n",
      "19\n"
     ]
    }
   ],
   "source": [
    "while True:\n",
    "    \n",
    "    for x in range(20):\n",
    "        print(x)\n",
    "    break\n",
    "        "
   ]
  },
  {
   "attachments": {},
   "cell_type": "markdown",
   "metadata": {},
   "source": [
    "8) Crear un ciclo while dentro de un ciclo for"
   ]
  },
  {
   "cell_type": "code",
   "execution_count": 43,
   "metadata": {},
   "outputs": [
    {
     "name": "stdout",
     "output_type": "stream",
     "text": [
      " \n",
      "\n",
      "1\n",
      " \n",
      "\n",
      "2\n",
      "1\n",
      " \n",
      "\n",
      "3\n",
      "2\n",
      "1\n",
      " \n",
      "\n",
      "4\n",
      "3\n",
      "2\n",
      "1\n",
      " \n",
      "\n"
     ]
    }
   ],
   "source": [
    "for x in range(5):\n",
    "    i = x\n",
    "    while i > 0:\n",
    "        print(i)\n",
    "        i -= 1\n",
    "    print(\" \\n\")\n"
   ]
  },
  {
   "attachments": {},
   "cell_type": "markdown",
   "metadata": {},
   "source": [
    "9) Imprimir los números primos existentes entre 0 y 30"
   ]
  },
  {
   "cell_type": "code",
   "execution_count": 56,
   "metadata": {},
   "outputs": [
    {
     "name": "stdout",
     "output_type": "stream",
     "text": [
      "3 es un número primo\n",
      "5 es un número primo\n",
      "7 es un número primo\n",
      "11 es un número primo\n",
      "13 es un número primo\n",
      "17 es un número primo\n",
      "19 es un número primo\n",
      "23 es un número primo\n",
      "29 es un número primo\n"
     ]
    }
   ],
   "source": [
    "for x in range(31):\n",
    "    i = 2\n",
    "    while x > i:\n",
    "        if (x % i) == 0:\n",
    "            #print(str(x)+\" NO es un número primo\")\n",
    "            break\n",
    "        elif x-1 == i:\n",
    "            print(str(x)+\" es un número primo\")\n",
    "        i += 1\n",
    "            \n"
   ]
  },
  {
   "attachments": {},
   "cell_type": "markdown",
   "metadata": {},
   "source": [
    "10) ¿Se puede mejorar el proceso del punto 9? Utilizar las sentencias break y/ó continue para tal fin"
   ]
  },
  {
   "cell_type": "code",
   "execution_count": 57,
   "metadata": {},
   "outputs": [
    {
     "name": "stdout",
     "output_type": "stream",
     "text": [
      "3 es un número primo\n",
      "5 es un número primo\n",
      "7 es un número primo\n",
      "11 es un número primo\n",
      "13 es un número primo\n",
      "17 es un número primo\n",
      "19 es un número primo\n",
      "23 es un número primo\n",
      "29 es un número primo\n"
     ]
    }
   ],
   "source": [
    "for x in range(31):\n",
    "    i = 2\n",
    "    while x > i:\n",
    "        if (x % i) == 0:\n",
    "            #print(str(x)+\" NO es un número primo\")\n",
    "            break\n",
    "        elif x-1 == i:\n",
    "            print(str(x)+\" es un número primo\")\n",
    "        i += 1"
   ]
  },
  {
   "attachments": {},
   "cell_type": "markdown",
   "metadata": {},
   "source": [
    "11) En los puntos 9 y 10, se diseño un código que encuentra números primos y además se lo optimizó. ¿Es posible saber en qué medida se optimizó?"
   ]
  },
  {
   "cell_type": "code",
   "execution_count": null,
   "metadata": {},
   "outputs": [],
   "source": [
    "# Ni idea :("
   ]
  },
  {
   "attachments": {},
   "cell_type": "markdown",
   "metadata": {},
   "source": [
    "12) Aplicando continue, armar un ciclo while que solo imprima los valores divisibles por 12, dentro del rango de números de 100 a 300"
   ]
  },
  {
   "cell_type": "code",
   "execution_count": 66,
   "metadata": {},
   "outputs": [
    {
     "name": "stdout",
     "output_type": "stream",
     "text": [
      "108\n",
      "120\n",
      "132\n",
      "144\n",
      "156\n",
      "168\n",
      "180\n",
      "192\n",
      "204\n",
      "216\n",
      "228\n",
      "240\n",
      "252\n",
      "264\n",
      "276\n",
      "288\n"
     ]
    }
   ],
   "source": [
    "x = 100\n",
    "while True:\n",
    "    if x < 300:\n",
    "        if x % 12 == 0:\n",
    "            print(x)\n",
    "            x += 1\n",
    "            continue\n",
    "    else:\n",
    "        break\n",
    "    x += 1\n",
    "    \n",
    "        "
   ]
  },
  {
   "attachments": {},
   "cell_type": "markdown",
   "metadata": {},
   "source": [
    "13) Utilizar la función **input()** que permite hacer ingresos por teclado, para encontrar números primos y dar la opción al usario de buscar el siguiente"
   ]
  },
  {
   "cell_type": "code",
   "execution_count": 8,
   "metadata": {},
   "outputs": [
    {
     "name": "stdout",
     "output_type": "stream",
     "text": [
      "3 es primo\n",
      "5 es el siguiente número primo\n"
     ]
    }
   ],
   "source": [
    "num = int(input(\"Ingrese un número para ver si es primo: \"))\n",
    "for i in range(2,num):\n",
    "    if num % i == 0:\n",
    "        print(str(num) + \" no es primo\")\n",
    "        break\n",
    "    elif num-1 == i:\n",
    "        print(str(num) + \" es primo\")\n",
    "next = input(\"Quiere saber cual es el número primo que le sigue? (Y/N)\")\n",
    "if next == \"Y\" or next == \"y\":\n",
    "    cerrar = True\n",
    "    while cerrar:\n",
    "        num += 1\n",
    "        i = 2\n",
    "        while i < num:\n",
    "            if (num % i) == 0:\n",
    "                #print(str(x)+\" NO es un número primo\")\n",
    "                break\n",
    "            elif num-1 == i:\n",
    "                print(str(num)+\" es el siguiente número primo\")\n",
    "                cerrar = False\n",
    "            i += 1\n",
    "        "
   ]
  },
  {
   "attachments": {},
   "cell_type": "markdown",
   "metadata": {},
   "source": [
    "14) Crear un ciclo while que encuentre dentro del rango de 100 a 300 el primer número divisible por 3 y además múltiplo de 6"
   ]
  },
  {
   "cell_type": "code",
   "execution_count": 10,
   "metadata": {},
   "outputs": [
    {
     "name": "stdout",
     "output_type": "stream",
     "text": [
      "102 es divisible por 3 y múltiplo de 6\n"
     ]
    }
   ],
   "source": [
    "x = 100\n",
    "while x < 300:\n",
    "    x +=1\n",
    "    if x % 3 == 0 and x % 6 == 0:\n",
    "        print(str(x) + \" es divisible por 3 y múltiplo de 6\")\n",
    "        break"
   ]
  }
 ],
 "metadata": {
  "interpreter": {
   "hash": "c85384e4cb51c8b72350f3a8712cc8351fdc3955e32a27f9b60c6242ab125f01"
  },
  "kernelspec": {
   "display_name": "Python 3 (ipykernel)",
   "language": "python",
   "name": "python3"
  },
  "language_info": {
   "codemirror_mode": {
    "name": "ipython",
    "version": 3
   },
   "file_extension": ".py",
   "mimetype": "text/x-python",
   "name": "python",
   "nbconvert_exporter": "python",
   "pygments_lexer": "ipython3",
   "version": "3.10.12"
  }
 },
 "nbformat": 4,
 "nbformat_minor": 4
}
