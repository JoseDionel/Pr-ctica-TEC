{
 "cells": [
  {
   "attachments": {},
   "cell_type": "markdown",
   "metadata": {},
   "source": [
    "## Flujos de Control"
   ]
  },
  {
   "attachments": {},
   "cell_type": "markdown",
   "metadata": {},
   "source": [
    "1) Crear una variable que contenga un elemento del conjunto de números enteros y luego imprimir por pantalla si es mayor o menor a cero"
   ]
  },
  {
   "cell_type": "code",
   "execution_count": 8,
   "metadata": {},
   "outputs": [
    {
     "name": "stdout",
     "output_type": "stream",
     "text": [
      " El numero 0 es igual a cero\n"
     ]
    }
   ],
   "source": [
    "x = 0\n",
    "\n",
    "if x < 0:\n",
    "    print(f\" El numero {x} es menor que cero\")\n",
    "elif x > 0:\n",
    "    print(f\" El nuemro {x} es mayor que cero\")\n",
    "else:\n",
    "    print(f\" El numero {x} es igual a cero\")\n"
   ]
  },
  {
   "attachments": {},
   "cell_type": "markdown",
   "metadata": {},
   "source": [
    "2) Crear dos variables y un condicional que informe si son del mismo tipo de dato"
   ]
  },
  {
   "cell_type": "code",
   "execution_count": 11,
   "metadata": {},
   "outputs": [
    {
     "name": "stdout",
     "output_type": "stream",
     "text": [
      " Las variabes no son del mismo tipo de dato\n"
     ]
    }
   ],
   "source": [
    "x = 1\n",
    "y = \"Henry\"\n",
    "\n",
    "if type(x)== type(y):\n",
    "    print(\" Las variables son del mismo tipo de dato\")\n",
    "else:\n",
    "    print(\" Las variabes no son del mismo tipo de dato\")"
   ]
  },
  {
   "attachments": {},
   "cell_type": "markdown",
   "metadata": {},
   "source": [
    "3) Para los valores enteros del 1 al 20, imprimir por pantalla si es par o impar"
   ]
  },
  {
   "cell_type": "code",
   "execution_count": 3,
   "metadata": {},
   "outputs": [
    {
     "name": "stdout",
     "output_type": "stream",
     "text": [
      " 1 es impar\n",
      " 2 es par\n",
      " 3 es impar\n",
      " 4 es par\n",
      " 5 es impar\n",
      " 6 es par\n",
      " 7 es impar\n",
      " 8 es par\n",
      " 9 es impar\n",
      " 10 es par\n",
      " 11 es impar\n",
      " 12 es par\n",
      " 13 es impar\n",
      " 14 es par\n",
      " 15 es impar\n",
      " 16 es par\n",
      " 17 es impar\n",
      " 18 es par\n",
      " 19 es impar\n",
      " 20 es par\n"
     ]
    }
   ],
   "source": [
    "for enteros in range (1,21):\n",
    "    if enteros %2 == 0:\n",
    "        print(f\" {enteros} es par\")\n",
    "    elif enteros %2 != 0:\n",
    "        print(f\" {enteros} es impar\")"
   ]
  },
  {
   "cell_type": "code",
   "execution_count": 5,
   "metadata": {},
   "outputs": [
    {
     "name": "stdout",
     "output_type": "stream",
     "text": [
      " 1 es impar\n",
      " 2 es par\n",
      " 3 es impar\n",
      " 4 es par\n",
      " 5 es impar\n",
      " 6 es par\n",
      " 7 es impar\n",
      " 8 es par\n",
      " 9 es impar\n",
      " 10 es par\n",
      " 11 es impar\n",
      " 12 es par\n",
      " 13 es impar\n",
      " 14 es par\n",
      " 15 es impar\n",
      " 16 es par\n",
      " 17 es impar\n",
      " 18 es par\n",
      " 19 es impar\n",
      " 20 es par\n"
     ]
    }
   ],
   "source": [
    "for enteros in range (1,21):\n",
    "    if enteros %2 == 0:\n",
    "        print(f\" {enteros} es par\")\n",
    "    else:\n",
    "        print(f\" {enteros} es impar\")"
   ]
  },
  {
   "attachments": {},
   "cell_type": "markdown",
   "metadata": {},
   "source": [
    "4) En un ciclo for mostrar para los valores entre 0 y 5 el resultado de elevarlo a la potencia igual a 3"
   ]
  },
  {
   "cell_type": "code",
   "execution_count": 18,
   "metadata": {},
   "outputs": [
    {
     "name": "stdout",
     "output_type": "stream",
     "text": [
      " El valor  0  elevado a la 3ra potencia es 0\n",
      " El valor  1  elevado a la 3ra potencia es 1\n",
      " El valor  2  elevado a la 3ra potencia es 8\n",
      " El valor  3  elevado a la 3ra potencia es 27\n",
      " El valor  4  elevado a la 3ra potencia es 64\n",
      " El valor  5  elevado a la 3ra potencia es 125\n"
     ]
    }
   ],
   "source": [
    "for i in range (0, 6):\n",
    "    print(\" El valor \",str(i),\" elevado a la 3ra potencia es\",str(i**3) )"
   ]
  },
  {
   "cell_type": "code",
   "execution_count": null,
   "metadata": {},
   "outputs": [],
   "source": [
    "for i in range(6):    #variante de clase\n",
    "    print(f\"el valor {i} elevado a la 3era potencia es es igual a )\n"
   ]
  },
  {
   "attachments": {},
   "cell_type": "markdown",
   "metadata": {},
   "source": [
    "5) Crear una variable que contenga un número entero y realizar un ciclo for la misma cantidad de ciclos"
   ]
  },
  {
   "cell_type": "code",
   "execution_count": 21,
   "metadata": {},
   "outputs": [
    {
     "name": "stdout",
     "output_type": "stream",
     "text": [
      "15\n"
     ]
    }
   ],
   "source": [
    "n = 15\n",
    "for i in range(0, n+1):\n",
    "    pass\n",
    "print(i)"
   ]
  },
  {
   "cell_type": "code",
   "execution_count": 6,
   "metadata": {},
   "outputs": [
    {
     "name": "stdout",
     "output_type": "stream",
     "text": [
      "0\n",
      "1\n",
      "2\n",
      "3\n",
      "4\n",
      "5\n"
     ]
    }
   ],
   "source": [
    "n = 6\n",
    "for numero in range(n):\n",
    "    print(numero)"
   ]
  },
  {
   "attachments": {},
   "cell_type": "markdown",
   "metadata": {},
   "source": [
    "6) Utilizar un ciclo while para realizar el factorial de un número guardado en una variable, sólo si la variable contiene un número entero mayor a 0"
   ]
  },
  {
   "cell_type": "code",
   "execution_count": 9,
   "metadata": {},
   "outputs": [
    {
     "name": "stdout",
     "output_type": "stream",
     "text": [
      "el factorial es 120\n"
     ]
    }
   ],
   "source": [
    "# pedir explicación\n",
    "n = 5\n",
    "if type(n) == int:\n",
    "    if n > 0:\n",
    "        factorial = n\n",
    "        while n >= 2:\n",
    "            n = n - 1\n",
    "            factorial = factorial * n       # empieza multiplicando 5.4\n",
    "        print(f\"el factorial es {factorial}\")\n",
    "    else:\n",
    "        print(\"la variable no es mayot a cero\")\n",
    "else:\n",
    "    print(\"La variable no es un entero\")"
   ]
  },
  {
   "cell_type": "code",
   "execution_count": 11,
   "metadata": {},
   "outputs": [
    {
     "name": "stdout",
     "output_type": "stream",
     "text": [
      "El valor de n es igual a 4\n",
      "el valor de fatorial es 20\n",
      "El valor de n es igual a 3\n",
      "el valor de fatorial es 60\n",
      "El valor de n es igual a 2\n",
      "el valor de fatorial es 120\n",
      "El valor de n es igual a 1\n",
      "el valor de fatorial es 120\n",
      "el factorial es 120\n"
     ]
    }
   ],
   "source": [
    "n = 5\n",
    "if type(n) == int:\n",
    "    if n > 0:\n",
    "        factorial = n\n",
    "        while n >= 2:\n",
    "            n = n - 1       #resta 1 a n\n",
    "            print(f\"El valor de n es igual a {n}\")\n",
    "            factorial = factorial * n       # empieza multiplicando 5.4\n",
    "            print(f\"el valor de fatorial es {factorial}\")\n",
    "        print(f\"el factorial es {factorial}\")\n",
    "    else:\n",
    "        print(\"la variable no es mayot a cero\")\n",
    "else:\n",
    "    print(\"La variable no es un entero\")"
   ]
  },
  {
   "cell_type": "code",
   "execution_count": 12,
   "metadata": {},
   "outputs": [
    {
     "name": "stdout",
     "output_type": "stream",
     "text": [
      "El valor de n es igual a 4\n",
      "el valor de fatorial es 20\n",
      "El valor de n es igual a 3\n",
      "el valor de fatorial es 60\n",
      "El valor de n es igual a 2\n",
      "el valor de fatorial es 120\n",
      "el factorial es 120\n"
     ]
    }
   ],
   "source": [
    "n = 5       #variante sin >=\n",
    "if type(n) == int:\n",
    "    if n > 0:\n",
    "        factorial = n\n",
    "        while n > 2:\n",
    "            n = n - 1       #resta 1 a n\n",
    "            print(f\"El valor de n es igual a {n}\")\n",
    "            factorial = factorial * n       # empieza multiplicando 5.4\n",
    "            print(f\"el valor de fatorial es {factorial}\")\n",
    "        print(f\"el factorial es {factorial}\")\n",
    "    else:\n",
    "        print(\"la variable no es mayot a cero\")\n",
    "else:\n",
    "    print(\"La variable no es un entero\")"
   ]
  },
  {
   "attachments": {},
   "cell_type": "markdown",
   "metadata": {},
   "source": [
    "7) Crear un ciclo for dentro de un ciclo while"
   ]
  },
  {
   "cell_type": "code",
   "execution_count": 29,
   "metadata": {},
   "outputs": [
    {
     "name": "stdout",
     "output_type": "stream",
     "text": [
      "Ciclo while nro 1\n",
      "Ciclo for nro 1\n",
      "Ciclo while nro 2\n",
      "Ciclo for nro 1\n",
      "Ciclo for nro 2\n",
      "Ciclo while nro 3\n",
      "Ciclo for nro 1\n",
      "Ciclo for nro 2\n",
      "Ciclo for nro 3\n",
      "Ciclo while nro 4\n",
      "Ciclo for nro 1\n",
      "Ciclo for nro 2\n",
      "Ciclo for nro 3\n",
      "Ciclo for nro 4\n"
     ]
    }
   ],
   "source": [
    "#pedir explicación\n",
    "\n",
    "n = 1\n",
    "while n < 5:\n",
    "    print('Ciclo while nro ' + str(n))  # Imprime el número del ciclo while\n",
    "    for i in range(1, n+1): # como la función range(a, b) genera una secuencia de números desde a hasta b-1. Para que el bucle for incluya el número n, usamos range(1, n+1) en lugar de range(1, n).\n",
    "        print('Ciclo for nro ' + str(i))  # Imprime el número del ciclo for\n",
    "    n += 1"
   ]
  },
  {
   "cell_type": "code",
   "execution_count": 14,
   "metadata": {},
   "outputs": [
    {
     "name": "stdout",
     "output_type": "stream",
     "text": [
      "Ciclo while numero {n}\n",
      "ciclo for numero 1\n",
      "Ciclo while numero {n}\n",
      "ciclo for numero 1\n",
      "ciclo for numero 2\n",
      "Ciclo while numero {n}\n",
      "ciclo for numero 1\n",
      "ciclo for numero 2\n",
      "ciclo for numero 3\n",
      "Ciclo while numero {n}\n",
      "ciclo for numero 1\n",
      "ciclo for numero 2\n",
      "ciclo for numero 3\n",
      "ciclo for numero 4\n"
     ]
    }
   ],
   "source": [
    "n = 1\n",
    "while n < 5:\n",
    "    print(\"Ciclo while numero {n}\")\n",
    "    for i in range(1 , n + 1):\n",
    "        print(f\"ciclo for numero {i}\")\n",
    "    n += 1"
   ]
  },
  {
   "attachments": {},
   "cell_type": "markdown",
   "metadata": {},
   "source": [
    "8) Crear un ciclo while dentro de un ciclo for"
   ]
  },
  {
   "cell_type": "code",
   "execution_count": 17,
   "metadata": {},
   "outputs": [
    {
     "name": "stdout",
     "output_type": "stream",
     "text": [
      "Ciclo while numero 2\n",
      "ciclo for nuemro 1\n",
      "Ciclo while numero 3\n",
      "ciclo for nuemro 1\n",
      "Ciclo while numero 4\n",
      "ciclo for nuemro 1\n",
      "Ciclo while numero 5\n",
      "ciclo for nuemro 1\n"
     ]
    }
   ],
   "source": [
    "n = 1\n",
    "for i in range(1, n + 1):\n",
    "    while n < 5:\n",
    "        n += 1\n",
    "        print(f\"Ciclo while numero {n}\")\n",
    "        print(f\"ciclo for nuemro {i}\")"
   ]
  },
  {
   "attachments": {},
   "cell_type": "markdown",
   "metadata": {},
   "source": [
    "9) Imprimir los números primos existentes entre 0 y 30"
   ]
  },
  {
   "cell_type": "code",
   "execution_count": 20,
   "metadata": {},
   "outputs": [
    {
     "name": "stdout",
     "output_type": "stream",
     "text": [
      "2\n",
      "3\n",
      "5\n",
      "7\n",
      "11\n",
      "13\n",
      "17\n",
      "19\n",
      "23\n",
      "29\n"
     ]
    }
   ],
   "source": [
    "n = 2\n",
    "primo = True\n",
    "while n <= 30:\n",
    "    for divisor in range(2, n):\n",
    "        if n % divisor == 0:\n",
    "            primo = False\n",
    "    if primo == True:\n",
    "        print(n)\n",
    "    else:\n",
    "        primo = True"
   ]
  },
  {
   "attachments": {},
   "cell_type": "markdown",
   "metadata": {},
   "source": [
    "10) ¿Se puede mejorar el proceso del punto 9? Utilizar las sentencias break y/ó continue para tal fin"
   ]
  },
  {
   "cell_type": "code",
   "execution_count": 25,
   "metadata": {},
   "outputs": [
    {
     "name": "stdout",
     "output_type": "stream",
     "text": [
      "el numero es 4 y el divisor es 2\n",
      " El valor de primo es False\n",
      "el numero es 6 y el divisor es 2\n",
      " El valor de primo es False\n",
      "el numero es 8 y el divisor es 2\n",
      " El valor de primo es False\n",
      "el numero es 9 y el divisor es 3\n",
      " El valor de primo es False\n",
      "el numero es 10 y el divisor es 2\n",
      " El valor de primo es False\n",
      "el numero es 12 y el divisor es 2\n",
      " El valor de primo es False\n",
      "el numero es 14 y el divisor es 2\n",
      " El valor de primo es False\n",
      "el numero es 15 y el divisor es 3\n",
      " El valor de primo es False\n",
      "el numero es 16 y el divisor es 2\n",
      " El valor de primo es False\n",
      "el numero es 18 y el divisor es 2\n",
      " El valor de primo es False\n",
      "el numero es 20 y el divisor es 2\n",
      " El valor de primo es False\n",
      "el numero es 21 y el divisor es 3\n",
      " El valor de primo es False\n",
      "el numero es 22 y el divisor es 2\n",
      " El valor de primo es False\n",
      "el numero es 24 y el divisor es 2\n",
      " El valor de primo es False\n",
      "el numero es 25 y el divisor es 5\n",
      " El valor de primo es False\n",
      "el numero es 26 y el divisor es 2\n",
      " El valor de primo es False\n",
      "el numero es 27 y el divisor es 3\n",
      " El valor de primo es False\n",
      "el numero es 28 y el divisor es 2\n",
      " El valor de primo es False\n",
      "el numero es 30 y el divisor es 2\n",
      " El valor de primo es False\n"
     ]
    }
   ],
   "source": [
    "n = 2\n",
    "while n <= 30:\n",
    "    for divisor in range(2, n):\n",
    "        if n % divisor == 0:\n",
    "            print(f\"el numero es {n} y el divisor es {divisor}\")\n",
    "            primo = False\n",
    "            print(f\" El valor de primo es {primo}\")\n",
    "            break  # reduce las iteraciones \n",
    "    if primo:\n",
    "        print(n)\n",
    "    n += 1"
   ]
  },
  {
   "attachments": {},
   "cell_type": "markdown",
   "metadata": {},
   "source": [
    "11) En los puntos 9 y 10, se diseño un código que encuentra números primos y además se lo optimizó. ¿Es posible saber en qué medida se optimizó?"
   ]
  },
  {
   "cell_type": "code",
   "execution_count": null,
   "metadata": {},
   "outputs": [],
   "source": []
  },
  {
   "attachments": {},
   "cell_type": "markdown",
   "metadata": {},
   "source": [
    "12) Aplicando continue, armar un ciclo while que solo imprima los valores divisibles por 12, dentro del rango de números de 100 a 300"
   ]
  },
  {
   "cell_type": "code",
   "execution_count": null,
   "metadata": {},
   "outputs": [],
   "source": []
  },
  {
   "attachments": {},
   "cell_type": "markdown",
   "metadata": {},
   "source": [
    "13) Utilizar la función **input()** que permite hacer ingresos por teclado, para encontrar números primos y dar la opción al usario de buscar el siguiente"
   ]
  },
  {
   "cell_type": "code",
   "execution_count": null,
   "metadata": {},
   "outputs": [],
   "source": []
  },
  {
   "attachments": {},
   "cell_type": "markdown",
   "metadata": {},
   "source": [
    "14) Crear un ciclo while que encuentre dentro del rango de 100 a 300 el primer número divisible por 3 y además múltiplo de 6"
   ]
  },
  {
   "cell_type": "code",
   "execution_count": null,
   "metadata": {},
   "outputs": [],
   "source": []
  }
 ],
 "metadata": {
  "interpreter": {
   "hash": "c85384e4cb51c8b72350f3a8712cc8351fdc3955e32a27f9b60c6242ab125f01"
  },
  "kernelspec": {
   "display_name": "Python 3 (ipykernel)",
   "language": "python",
   "name": "python3"
  },
  "language_info": {
   "codemirror_mode": {
    "name": "ipython",
    "version": 3
   },
   "file_extension": ".py",
   "mimetype": "text/x-python",
   "name": "python",
   "nbconvert_exporter": "python",
   "pygments_lexer": "ipython3",
   "version": "3.12.0"
  }
 },
 "nbformat": 4,
 "nbformat_minor": 4
}
