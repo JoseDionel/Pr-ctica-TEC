{
 "cells": [
  {
   "attachments": {},
   "cell_type": "markdown",
   "metadata": {},
   "source": [
    "## Flujos de Control"
   ]
  },
  {
   "attachments": {},
   "cell_type": "markdown",
   "metadata": {},
   "source": [
    "1) Crear una variable que contenga un elemento del conjunto de números enteros y luego imprimir por pantalla si es mayor o menor a cero"
   ]
  },
  {
   "cell_type": "code",
   "execution_count": 32,
   "metadata": {},
   "outputs": [
    {
     "name": "stdout",
     "output_type": "stream",
     "text": [
      "La variable 8 es mayor a 0\n"
     ]
    }
   ],
   "source": [
    "a = 8\n",
    "if (a > 0):\n",
    "    print (f\"La variable {a} es mayor a 0\")\n",
    "elif (a < 0):\n",
    "    print (f\"La variable {a} es menor a 0\")\n",
    "else:\n",
    "    print (f\"La variable {a} es igual a 0\")"
   ]
  },
  {
   "attachments": {},
   "cell_type": "markdown",
   "metadata": {},
   "source": [
    "2) Crear dos variables y un condicional que informe si son del mismo tipo de dato"
   ]
  },
  {
   "cell_type": "code",
   "execution_count": 22,
   "metadata": {},
   "outputs": [
    {
     "name": "stdout",
     "output_type": "stream",
     "text": [
      "La variables 'arriba' y '8' son de diferente tipo de dato\n"
     ]
    }
   ],
   "source": [
    "a = 'arriba'\n",
    "b = 8\n",
    "if (type(a) == type(b)):\n",
    "    print (f\"La variables '{a}' y '{b}' son del mismo tipo de dato\")\n",
    "else:\n",
    "    print (f\"La variables '{a}' y '{b}' son de diferente tipo de dato\")"
   ]
  },
  {
   "attachments": {},
   "cell_type": "markdown",
   "metadata": {},
   "source": [
    "3) Para los valores enteros del 1 al 20, imprimir por pantalla si es par o impar"
   ]
  },
  {
   "cell_type": "code",
   "execution_count": 24,
   "metadata": {},
   "outputs": [
    {
     "name": "stdout",
     "output_type": "stream",
     "text": [
      "El número  1  es impar\n",
      "El número  2  es par\n",
      "El número  3  es impar\n",
      "El número  4  es par\n",
      "El número  5  es impar\n",
      "El número  6  es par\n",
      "El número  7  es impar\n",
      "El número  8  es par\n",
      "El número  9  es impar\n",
      "El número  10  es par\n",
      "El número  11  es impar\n",
      "El número  12  es par\n",
      "El número  13  es impar\n",
      "El número  14  es par\n",
      "El número  15  es impar\n",
      "El número  16  es par\n",
      "El número  17  es impar\n",
      "El número  18  es par\n",
      "El número  19  es impar\n",
      "El número  20  es par\n"
     ]
    }
   ],
   "source": [
    "for c in range(1, 21):\n",
    "    if c % 2 == 0:\n",
    "        print ('El número ', str(c), ' es par')\n",
    "    else:\n",
    "        print ('El número ', str(c), ' es impar')"
   ]
  },
  {
   "attachments": {},
   "cell_type": "markdown",
   "metadata": {},
   "source": [
    "4) En un ciclo for mostrar para los valores entre 0 y 5 el resultado de elevarlo a la potencia igual a 3"
   ]
  },
  {
   "cell_type": "code",
   "execution_count": 6,
   "metadata": {},
   "outputs": [
    {
     "name": "stdout",
     "output_type": "stream",
     "text": [
      "0 elevado a la potencia 3 es = 0\n",
      "1 elevado a la potencia 3 es = 1\n",
      "2 elevado a la potencia 3 es = 8\n",
      "3 elevado a la potencia 3 es = 27\n",
      "4 elevado a la potencia 3 es = 64\n"
     ]
    }
   ],
   "source": [
    "for d in range(0,5):\n",
    "    print(str(d), \"elevado a la potencia 3 es =\", str(d**3))"
   ]
  },
  {
   "attachments": {},
   "cell_type": "markdown",
   "metadata": {},
   "source": [
    "5) Crear una variable que contenga un número entero y realizar un ciclo for la misma cantidad de ciclos"
   ]
  },
  {
   "cell_type": "code",
   "execution_count": 2,
   "metadata": {},
   "outputs": [
    {
     "name": "stdout",
     "output_type": "stream",
     "text": [
      "4\n"
     ]
    }
   ],
   "source": [
    "d = 5\n",
    "for e in range(0, d):\n",
    "    pass\n",
    "print (e)"
   ]
  },
  {
   "attachments": {},
   "cell_type": "markdown",
   "metadata": {},
   "source": [
    "6) Utilizar un ciclo while para realizar el factorial de un número guardado en una variable, sólo si la variable contiene un número entero mayor a 0"
   ]
  },
  {
   "cell_type": "code",
   "execution_count": 10,
   "metadata": {},
   "outputs": [
    {
     "name": "stdout",
     "output_type": "stream",
     "text": [
      "el factorial es 120\n"
     ]
    }
   ],
   "source": [
    "f = 5\n",
    "if (type(f) == int):\n",
    "    if (f > 0):\n",
    "        factorial = f\n",
    "        while (f > 2):\n",
    "            f = f - 1\n",
    "            factorial = factorial * f\n",
    "        print (\"el factorial es\", factorial)\n",
    "    else:\n",
    "        print('La variable no es mayor a cero')\n",
    "else:\n",
    "    print('La variable no es número entero')"
   ]
  },
  {
   "attachments": {},
   "cell_type": "markdown",
   "metadata": {},
   "source": [
    "7) Crear un ciclo for dentro de un ciclo while"
   ]
  },
  {
   "cell_type": "code",
   "execution_count": 17,
   "metadata": {},
   "outputs": [
    {
     "name": "stdout",
     "output_type": "stream",
     "text": [
      "Iteración del ciclo while: 0\n",
      "Iteración del ciclo for: 0\n",
      "Iteración del ciclo for: 1\n",
      "Iteración del ciclo for: 2\n",
      "Iteración del ciclo while: 1\n",
      "Iteración del ciclo for: 0\n",
      "Iteración del ciclo for: 1\n",
      "Iteración del ciclo for: 2\n",
      "Iteración del ciclo while: 2\n",
      "Iteración del ciclo for: 0\n",
      "Iteración del ciclo for: 1\n",
      "Iteración del ciclo for: 2\n"
     ]
    }
   ],
   "source": [
    "contador_while = 0\n",
    "while contador_while < 3: # Ciclo while para contar hasta 3\n",
    "    print(\"Iteración del ciclo while:\", contador_while)\n",
    "    \n",
    "    for g in range(3): # Ciclo for para contar hasta 3 en cada iteración del ciclo while\n",
    "        print(\"Iteración del ciclo for:\", g)\n",
    "    \n",
    "    contador_while += 1"
   ]
  },
  {
   "attachments": {},
   "cell_type": "markdown",
   "metadata": {},
   "source": [
    "8) Crear un ciclo while dentro de un ciclo for"
   ]
  },
  {
   "cell_type": "code",
   "execution_count": 18,
   "metadata": {},
   "outputs": [
    {
     "name": "stdout",
     "output_type": "stream",
     "text": [
      "Iteración del ciclo for: 1\n",
      "Iteración del ciclo while dentro del ciclo for: 1\n",
      "Iteración del ciclo for: 2\n",
      "Iteración del ciclo while dentro del ciclo for: 1\n",
      "Iteración del ciclo while dentro del ciclo for: 2\n",
      "Iteración del ciclo for: 3\n",
      "Iteración del ciclo while dentro del ciclo for: 1\n",
      "Iteración del ciclo while dentro del ciclo for: 2\n",
      "Iteración del ciclo while dentro del ciclo for: 3\n",
      "Iteración del ciclo for: 4\n",
      "Iteración del ciclo while dentro del ciclo for: 1\n",
      "Iteración del ciclo while dentro del ciclo for: 2\n",
      "Iteración del ciclo while dentro del ciclo for: 3\n",
      "Iteración del ciclo while dentro del ciclo for: 4\n",
      "Iteración del ciclo for: 5\n",
      "Iteración del ciclo while dentro del ciclo for: 1\n",
      "Iteración del ciclo while dentro del ciclo for: 2\n",
      "Iteración del ciclo while dentro del ciclo for: 3\n",
      "Iteración del ciclo while dentro del ciclo for: 4\n",
      "Iteración del ciclo while dentro del ciclo for: 5\n"
     ]
    }
   ],
   "source": [
    "for i in range(1, 6): # Ciclo for para iterar sobre una lista de números del 1 al 5\n",
    "    print(\"Iteración del ciclo for:\", i)\n",
    "    \n",
    "    contador_while = 1\n",
    "    while contador_while <= i: # Ciclo while para contar desde 1 hasta el número actual del ciclo for\n",
    "        print(\"Iteración del ciclo while dentro del ciclo for:\", contador_while)\n",
    "        contador_while += 1\n"
   ]
  },
  {
   "attachments": {},
   "cell_type": "markdown",
   "metadata": {},
   "source": [
    "9) Imprimir los números primos existentes entre 0 y 30"
   ]
  },
  {
   "cell_type": "code",
   "execution_count": 27,
   "metadata": {},
   "outputs": [
    {
     "name": "stdout",
     "output_type": "stream",
     "text": [
      "0\n",
      "1\n",
      "2\n",
      "3\n",
      "5\n",
      "7\n",
      "11\n",
      "13\n",
      "17\n",
      "19\n",
      "23\n",
      "29\n"
     ]
    }
   ],
   "source": [
    "tope = 30\n",
    "n = 0\n",
    "primo = True\n",
    "while (n < tope):\n",
    "    for dividir in range(2, n):\n",
    "        if (n % dividir == 0):\n",
    "            primo = False\n",
    "    if (primo):\n",
    "        print(n)\n",
    "    else:\n",
    "        primo = True\n",
    "    n += 1\n"
   ]
  },
  {
   "attachments": {},
   "cell_type": "markdown",
   "metadata": {},
   "source": [
    "10) ¿Se puede mejorar el proceso del punto 9? Utilizar las sentencias break y/ó continue para tal fin"
   ]
  },
  {
   "cell_type": "code",
   "execution_count": 28,
   "metadata": {},
   "outputs": [
    {
     "name": "stdout",
     "output_type": "stream",
     "text": [
      "0\n",
      "1\n",
      "2\n",
      "3\n",
      "5\n",
      "7\n",
      "11\n",
      "13\n",
      "17\n",
      "19\n",
      "23\n",
      "29\n"
     ]
    }
   ],
   "source": [
    "tope = 30\n",
    "n = 0\n",
    "primo = True\n",
    "while (n < tope):\n",
    "    for dividir in range(2, n):\n",
    "        if (n % dividir == 0):\n",
    "            primo = False\n",
    "            break\n",
    "    if (primo):\n",
    "        print(n)\n",
    "    else:\n",
    "        primo = True\n",
    "    n += 1"
   ]
  },
  {
   "attachments": {},
   "cell_type": "markdown",
   "metadata": {},
   "source": [
    "11) En los puntos 9 y 10, se diseño un código que encuentra números primos y además se lo optimizó. ¿Es posible saber en qué medida se optimizó?"
   ]
  },
  {
   "cell_type": "code",
   "execution_count": null,
   "metadata": {},
   "outputs": [],
   "source": []
  },
  {
   "attachments": {},
   "cell_type": "markdown",
   "metadata": {},
   "source": [
    "12) Aplicando continue, armar un ciclo while que solo imprima los valores divisibles por 12, dentro del rango de números de 100 a 300"
   ]
  },
  {
   "cell_type": "code",
   "execution_count": null,
   "metadata": {},
   "outputs": [],
   "source": []
  },
  {
   "attachments": {},
   "cell_type": "markdown",
   "metadata": {},
   "source": [
    "13) Utilizar la función **input()** que permite hacer ingresos por teclado, para encontrar números primos y dar la opción al usario de buscar el siguiente"
   ]
  },
  {
   "cell_type": "code",
   "execution_count": null,
   "metadata": {},
   "outputs": [],
   "source": []
  },
  {
   "attachments": {},
   "cell_type": "markdown",
   "metadata": {},
   "source": [
    "14) Crear un ciclo while que encuentre dentro del rango de 100 a 300 el primer número divisible por 3 y además múltiplo de 6"
   ]
  },
  {
   "cell_type": "code",
   "execution_count": null,
   "metadata": {},
   "outputs": [],
   "source": []
  }
 ],
 "metadata": {
  "interpreter": {
   "hash": "c85384e4cb51c8b72350f3a8712cc8351fdc3955e32a27f9b60c6242ab125f01"
  },
  "kernelspec": {
   "display_name": "Python 3 (ipykernel)",
   "language": "python",
   "name": "python3"
  },
  "language_info": {
   "codemirror_mode": {
    "name": "ipython",
    "version": 3
   },
   "file_extension": ".py",
   "mimetype": "text/x-python",
   "name": "python",
   "nbconvert_exporter": "python",
   "pygments_lexer": "ipython3",
   "version": "3.12.1"
  }
 },
 "nbformat": 4,
 "nbformat_minor": 4
}
