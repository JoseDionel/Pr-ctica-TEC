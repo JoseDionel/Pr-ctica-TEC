{
 "cells": [
  {
   "cell_type": "markdown",
   "metadata": {},
   "source": [
    "Sentecias if, elif y else"
   ]
  },
  {
   "cell_type": "code",
   "execution_count": 2,
   "metadata": {},
   "outputs": [
    {
     "name": "stdout",
     "output_type": "stream",
     "text": [
      "El numero es positivo\n"
     ]
    }
   ],
   "source": [
    "numero=6\n",
    "if numero > 0:\n",
    "    print( 'El numero es positivo')\n",
    "elif numero < 0:\n",
    "    print( 'El número es negativo')\n",
    "else:\n",
    "    print('El numeor es igual a cero')"
   ]
  },
  {
   "cell_type": "code",
   "execution_count": 3,
   "metadata": {},
   "outputs": [
    {
     "name": "stdout",
     "output_type": "stream",
     "text": [
      "El numeor es positivo\n",
      "El tipo de dato es float\n"
     ]
    }
   ],
   "source": [
    "flotante = 4.6      #al usar dos if puedo evaluar mas de una condición\n",
    "if flotante > 0:\n",
    "    print('El numeor es positivo')\n",
    "if type(flotante)== float:\n",
    "    print('El tipo de dato es float')"
   ]
  },
  {
   "cell_type": "code",
   "execution_count": 4,
   "metadata": {},
   "outputs": [
    {
     "name": "stdout",
     "output_type": "stream",
     "text": [
      "El numeor es positivo\n"
     ]
    }
   ],
   "source": [
    "flotante = 4.6         #si uso un solo if no evalua la segunda condición\n",
    "if flotante > 0:\n",
    "    print('El numeor es positivo')\n",
    "elif type(flotante)== float:\n",
    "    print('El tipo de dato es float')"
   ]
  },
  {
   "cell_type": "code",
   "execution_count": 7,
   "metadata": {},
   "outputs": [
    {
     "name": "stdout",
     "output_type": "stream",
     "text": [
      "Su calificación es D\n"
     ]
    }
   ],
   "source": [
    "puntuacion = 65\n",
    "if puntuacion >= 90:\n",
    "    calificacion = 'A'\n",
    "elif puntuacion >= 80:\n",
    "    calificacion = 'B'\n",
    "elif puntuacion >= 70:\n",
    "    calificacion = 'C'\n",
    "elif puntuacion >= 60:\n",
    "    calificacion = 'D'\n",
    "else:\n",
    "    calificacion = 'F'\n",
    "print('Su calificación es', calificacion)"
   ]
  },
  {
   "cell_type": "markdown",
   "metadata": {},
   "source": [
    "Ciclo for"
   ]
  },
  {
   "cell_type": "code",
   "execution_count": 11,
   "metadata": {},
   "outputs": [
    {
     "name": "stdout",
     "output_type": "stream",
     "text": [
      "0\n",
      "1\n",
      "2\n",
      "3\n",
      "4\n",
      "5\n"
     ]
    }
   ],
   "source": [
    "for i in range(0, 6):\n",
    "    print(i)"
   ]
  },
  {
   "cell_type": "code",
   "execution_count": 12,
   "metadata": {},
   "outputs": [
    {
     "name": "stdout",
     "output_type": "stream",
     "text": [
      "5\n"
     ]
    }
   ],
   "source": [
    "print(i)    # muestra el valor de la ultima iteración"
   ]
  },
  {
   "cell_type": "code",
   "execution_count": 19,
   "metadata": {},
   "outputs": [
    {
     "name": "stdout",
     "output_type": "stream",
     "text": [
      "H\n",
      "O\n",
      "L\n",
      "A\n",
      ",\n",
      " \n",
      "M\n",
      "U\n",
      "N\n",
      "D\n",
      "O\n"
     ]
    }
   ],
   "source": [
    "texto = \"Hola, mundo\"\n",
    "for letra in texto:\n",
    "    print(letra.upper(), end = \"\\n\")    #back slash es un salto de linea"
   ]
  },
  {
   "cell_type": "code",
   "execution_count": 22,
   "metadata": {},
   "outputs": [
    {
     "name": "stdout",
     "output_type": "stream",
     "text": [
      "El nuero en esta iteración es 1\n",
      "La suma va 1\n",
      "El nuero en esta iteración es 2\n",
      "La suma va 3\n",
      "El nuero en esta iteración es 3\n",
      "La suma va 6\n",
      "El nuero en esta iteración es 4\n",
      "La suma va 10\n",
      "El nuero en esta iteración es 5\n",
      "La suma va 15\n",
      "El nuero en esta iteración es 6\n",
      "La suma va 21\n",
      "El nuero en esta iteración es 7\n",
      "La suma va 28\n",
      "El nuero en esta iteración es 8\n",
      "La suma va 36\n",
      "El nuero en esta iteración es 9\n",
      "La suma va 45\n",
      "El nuero en esta iteración es 10\n",
      "La suma va 55\n",
      "La suma total es 55\n"
     ]
    }
   ],
   "source": [
    "suma = 0\n",
    "for numero in range(1, 11):\n",
    "    print(f\"El nuero en esta iteración es {numero}\")\n",
    "    suma += numero\n",
    "    print(f\"La suma va {suma}\")\n",
    "print(f\"La suma total es {suma}\")\n"
   ]
  },
  {
   "cell_type": "markdown",
   "metadata": {},
   "source": [
    "Ciclo While"
   ]
  },
  {
   "cell_type": "code",
   "execution_count": 23,
   "metadata": {},
   "outputs": [
    {
     "name": "stdout",
     "output_type": "stream",
     "text": [
      "5\n",
      "4\n",
      "3\n",
      "2\n",
      "1\n"
     ]
    }
   ],
   "source": [
    "numero = 5\n",
    "while numero >=1:\n",
    "    print(numero)\n",
    "    numero -= 1"
   ]
  },
  {
   "cell_type": "code",
   "execution_count": null,
   "metadata": {},
   "outputs": [],
   "source": []
  },
  {
   "cell_type": "markdown",
   "metadata": {},
   "source": [
    "Continue y break"
   ]
  },
  {
   "cell_type": "code",
   "execution_count": 24,
   "metadata": {},
   "outputs": [
    {
     "data": {
      "text/plain": [
       "1"
      ]
     },
     "execution_count": 24,
     "metadata": {},
     "output_type": "execute_result"
    }
   ],
   "source": [
    "13 % 2"
   ]
  },
  {
   "cell_type": "code",
   "execution_count": 25,
   "metadata": {},
   "outputs": [
    {
     "name": "stdout",
     "output_type": "stream",
     "text": [
      "2\n",
      "4\n",
      "6\n",
      "8\n",
      "10\n"
     ]
    }
   ],
   "source": [
    "for numero in range (1, 11):\n",
    "    if numero % 2 == 0:\n",
    "        print(numero)\n",
    "    else:\n",
    "        continue    #continue termina una iteración en particular, brake detiene todo"
   ]
  },
  {
   "cell_type": "code",
   "execution_count": 27,
   "metadata": {},
   "outputs": [
    {
     "name": "stdout",
     "output_type": "stream",
     "text": [
      "Pytn s n lngj d prgrmcón"
     ]
    }
   ],
   "source": [
    "frase = \"Pyton es un lenguaje de programación\"\n",
    "vocales = \"aeiou\"\n",
    "\n",
    "for letra in frase:\n",
    "    if letra in vocales:\n",
    "        continue\n",
    "    print(letra, end = \"\")"
   ]
  },
  {
   "cell_type": "code",
   "execution_count": 1,
   "metadata": {},
   "outputs": [
    {
     "name": "stdout",
     "output_type": "stream",
     "text": [
      "Pyt"
     ]
    }
   ],
   "source": [
    "frase = \"Pyton es un lenguaje de programación\"\n",
    "vocales = \"aeiou\"\n",
    "\n",
    "for letra in frase:\n",
    "    if letra in vocales:\n",
    "        break\n",
    "    print(letra, end = \"\")"
   ]
  },
  {
   "cell_type": "code",
   "execution_count": 2,
   "metadata": {},
   "outputs": [
    {
     "name": "stdout",
     "output_type": "stream",
     "text": [
      "oeueuaeeoaaió"
     ]
    }
   ],
   "source": [
    "frase = \"Python es un lenguaje de programación\"\n",
    "vocales = \"aeiouó\"\n",
    "\n",
    "for letra in frase:\n",
    "    if letra not in vocales:    #imprime las volales\n",
    "        continue\n",
    "    print(letra, end = \"\")"
   ]
  },
  {
   "cell_type": "markdown",
   "metadata": {},
   "source": [
    "Repaso de homework"
   ]
  },
  {
   "cell_type": "code",
   "execution_count": null,
   "metadata": {},
   "outputs": [],
   "source": []
  }
 ],
 "metadata": {
  "kernelspec": {
   "display_name": "Python 3",
   "language": "python",
   "name": "python3"
  },
  "language_info": {
   "codemirror_mode": {
    "name": "ipython",
    "version": 3
   },
   "file_extension": ".py",
   "mimetype": "text/x-python",
   "name": "python",
   "nbconvert_exporter": "python",
   "pygments_lexer": "ipython3",
   "version": "3.12.0"
  }
 },
 "nbformat": 4,
 "nbformat_minor": 2
}
