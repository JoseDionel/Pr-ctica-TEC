{
 "cells": [
  {
   "cell_type": "markdown",
   "metadata": {},
   "source": [
    "# **Sentencia if - elif - else**"
   ]
  },
  {
   "cell_type": "code",
   "execution_count": 7,
   "metadata": {},
   "outputs": [
    {
     "name": "stdout",
     "output_type": "stream",
     "text": [
      "El número es positivo\n"
     ]
    }
   ],
   "source": [
    "# Esto es un comentario\n",
    "numero = 5\n",
    "if numero > 0:\n",
    "    print(\"El número es positivo\")\n",
    "elif numero < 0:\n",
    "    print(\"El número es negativo\")\n",
    "else:\n",
    "    print(\"El número es igual a cero\")"
   ]
  },
  {
   "cell_type": "code",
   "execution_count": 9,
   "metadata": {},
   "outputs": [
    {
     "name": "stdout",
     "output_type": "stream",
     "text": [
      "El número no es positivo\n",
      "El tipo de dato es float\n"
     ]
    }
   ],
   "source": [
    "flotante = -4.6\n",
    "if flotante > 0:\n",
    "    print(\"El número es positivo\")\n",
    "else:\n",
    "    print(\"El número no es positivo\")\n",
    "if type(flotante) == float:\n",
    "    print(\"El tipo de dato es float\")"
   ]
  },
  {
   "cell_type": "code",
   "execution_count": 13,
   "metadata": {},
   "outputs": [
    {
     "name": "stdout",
     "output_type": "stream",
     "text": [
      "Su calificación es: F\n",
      "Su calificación es: F\n"
     ]
    }
   ],
   "source": [
    "puntuacion = 35\n",
    "if puntuacion >= 90:\n",
    "    calificacion = \"A\"\n",
    "elif puntuacion >= 80:\n",
    "    calificacion = \"B\"\n",
    "elif puntuacion >= 70:\n",
    "    calificacion = \"C\"\n",
    "elif puntuacion >= 60:\n",
    "    calificacion = \"D\"\n",
    "else:\n",
    "    calificacion = \"F\"\n",
    "print(\"Su calificación es:\", calificacion)\n",
    "print(f\"Su calificación es: {calificacion}\")"
   ]
  },
  {
   "cell_type": "code",
   "execution_count": 14,
   "metadata": {},
   "outputs": [
    {
     "name": "stdout",
     "output_type": "stream",
     "text": [
      "2\n",
      "4\n",
      "6\n",
      "20\n"
     ]
    }
   ],
   "source": [
    "print( 1 * 2)\n",
    "print( 2 * 2)\n",
    "print( 3 * 2)\n",
    "print( 10 * 2)"
   ]
  },
  {
   "cell_type": "markdown",
   "metadata": {},
   "source": [
    "# Ciclo for"
   ]
  },
  {
   "cell_type": "code",
   "execution_count": 16,
   "metadata": {},
   "outputs": [
    {
     "name": "stdout",
     "output_type": "stream",
     "text": [
      "0\n",
      "1\n",
      "2\n",
      "3\n",
      "4\n",
      "5\n"
     ]
    }
   ],
   "source": [
    "for i in range(0, 6):\n",
    "    print(i)"
   ]
  },
  {
   "cell_type": "code",
   "execution_count": 17,
   "metadata": {},
   "outputs": [
    {
     "name": "stdout",
     "output_type": "stream",
     "text": [
      "5\n"
     ]
    }
   ],
   "source": [
    "print(i)"
   ]
  },
  {
   "cell_type": "code",
   "execution_count": 30,
   "metadata": {},
   "outputs": [
    {
     "name": "stdout",
     "output_type": "stream",
     "text": [
      "HOLA, MUNDO"
     ]
    }
   ],
   "source": [
    "texto = \"hola, mundo\"\n",
    "for letra in texto:\n",
    "    print(letra.upper(), end = \"\")"
   ]
  },
  {
   "cell_type": "code",
   "execution_count": 33,
   "metadata": {},
   "outputs": [
    {
     "name": "stdout",
     "output_type": "stream",
     "text": [
      "0 H\n",
      "1 O\n",
      "2 L\n",
      "3 A\n",
      "4 ,\n",
      "5  \n",
      "6 M\n",
      "7 U\n",
      "8 N\n",
      "9 D\n",
      "10 O\n"
     ]
    }
   ],
   "source": [
    "## enumerate\n",
    "texto = \"hola, mundo\"\n",
    "for indice, letra in enumerate(texto):\n",
    "    print(indice, letra.upper())"
   ]
  },
  {
   "cell_type": "code",
   "execution_count": 32,
   "metadata": {},
   "outputs": [
    {
     "name": "stdout",
     "output_type": "stream",
     "text": [
      "El número en esta iteración es 1\n",
      "La suma va 1\n",
      "El número en esta iteración es 2\n",
      "La suma va 3\n",
      "El número en esta iteración es 3\n",
      "La suma va 6\n",
      "El número en esta iteración es 4\n",
      "La suma va 10\n",
      "El número en esta iteración es 5\n",
      "La suma va 15\n",
      "El número en esta iteración es 6\n",
      "La suma va 21\n",
      "El número en esta iteración es 7\n",
      "La suma va 28\n",
      "El número en esta iteración es 8\n",
      "La suma va 36\n",
      "El número en esta iteración es 9\n",
      "La suma va 45\n",
      "El número en esta iteración es 10\n",
      "La suma va 55\n",
      "La suma total es 55\n"
     ]
    }
   ],
   "source": [
    "suma = 0\n",
    "for numero in range(1, 11):\n",
    "    print(f\"El número en esta iteración es {numero}\")\n",
    "    suma += numero\n",
    "    print(f\"La suma va {suma}\")\n",
    "print(f\"La suma total es {suma}\")"
   ]
  },
  {
   "cell_type": "markdown",
   "metadata": {},
   "source": [
    "# Ciclo while"
   ]
  },
  {
   "cell_type": "code",
   "execution_count": 34,
   "metadata": {},
   "outputs": [
    {
     "name": "stdout",
     "output_type": "stream",
     "text": [
      "5\n",
      "4\n",
      "3\n",
      "2\n",
      "1\n"
     ]
    }
   ],
   "source": [
    "numero = 5\n",
    "\n",
    "while numero >= 1:\n",
    "    print(numero)\n",
    "    numero -= 1"
   ]
  },
  {
   "cell_type": "code",
   "execution_count": 36,
   "metadata": {},
   "outputs": [
    {
     "name": "stdout",
     "output_type": "stream",
     "text": [
      "1 2 3 4 5 "
     ]
    }
   ],
   "source": [
    "contador = 1\n",
    "while contador <= 5:\n",
    "    print(contador, end = \" \")\n",
    "    contador += 1"
   ]
  },
  {
   "cell_type": "markdown",
   "metadata": {},
   "source": [
    "# Continue y break"
   ]
  },
  {
   "cell_type": "code",
   "execution_count": 38,
   "metadata": {},
   "outputs": [
    {
     "data": {
      "text/plain": [
       "1"
      ]
     },
     "execution_count": 38,
     "metadata": {},
     "output_type": "execute_result"
    }
   ],
   "source": [
    "13 % 2"
   ]
  },
  {
   "cell_type": "code",
   "execution_count": 39,
   "metadata": {},
   "outputs": [
    {
     "name": "stdout",
     "output_type": "stream",
     "text": [
      "2\n",
      "4\n",
      "6\n",
      "8\n",
      "10\n"
     ]
    }
   ],
   "source": [
    "for numero in range(1, 11):\n",
    "    if numero % 2 == 0:\n",
    "        print(numero)\n",
    "    else:\n",
    "        continue\n"
   ]
  },
  {
   "cell_type": "code",
   "execution_count": 40,
   "metadata": {},
   "outputs": [],
   "source": [
    "for numero in range(1, 11):\n",
    "    if numero % 2 == 0:\n",
    "        print(numero)\n",
    "    else:\n",
    "        break"
   ]
  },
  {
   "cell_type": "code",
   "execution_count": 48,
   "metadata": {},
   "outputs": [
    {
     "name": "stdout",
     "output_type": "stream",
     "text": [
      "Pythn s n lngj d prgrmcn"
     ]
    }
   ],
   "source": [
    "frase = \"Python es un lenguaje de programación\"\n",
    "vocales = \"aeiouó\"\n",
    "\n",
    "for letra in frase:\n",
    "    if letra in vocales:\n",
    "        continue\n",
    "    print(letra, end = \"\")"
   ]
  },
  {
   "cell_type": "code",
   "execution_count": 49,
   "metadata": {},
   "outputs": [
    {
     "name": "stdout",
     "output_type": "stream",
     "text": [
      "Es l prmr vz q Clmb l gn  Brsl"
     ]
    }
   ],
   "source": [
    "frase = input(\"Escriba la frase que quiere eliminar las vocales\")\n",
    "vocales = \"aeiouó\"\n",
    "\n",
    "for letra in frase:\n",
    "    if letra in vocales:\n",
    "        continue\n",
    "    print(letra, end = \"\")"
   ]
  },
  {
   "cell_type": "code",
   "execution_count": 52,
   "metadata": {},
   "outputs": [
    {
     "name": "stdout",
     "output_type": "stream",
     "text": [
      "Iteración 1\n",
      "Iteración 2\n",
      "Iteración 3\n",
      "Iteración 4\n",
      "Iteración 5\n",
      "Fin del ciclo\n"
     ]
    }
   ],
   "source": [
    "contador = 1\n",
    "while True:\n",
    "    if contador > 5:\n",
    "        break\n",
    "    print(f\"Iteración {contador}\")\n",
    "    contador += 1\n",
    "print(\"Fin del ciclo\")"
   ]
  }
 ],
 "metadata": {
  "kernelspec": {
   "display_name": "sh",
   "language": "python",
   "name": "python3"
  },
  "language_info": {
   "codemirror_mode": {
    "name": "ipython",
    "version": 3
   },
   "file_extension": ".py",
   "mimetype": "text/x-python",
   "name": "python",
   "nbconvert_exporter": "python",
   "pygments_lexer": "ipython3",
   "version": "3.9.18"
  },
  "orig_nbformat": 4
 },
 "nbformat": 4,
 "nbformat_minor": 2
}
