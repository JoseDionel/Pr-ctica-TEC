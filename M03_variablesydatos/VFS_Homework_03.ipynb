{
 "cells": [
  {
   "cell_type": "code",
   "execution_count": 1,
   "metadata": {},
   "outputs": [
    {
     "name": "stdout",
     "output_type": "stream",
     "text": [
      "Ejercicio 1\n",
      "6\n"
     ]
    }
   ],
   "source": [
    "# Ejercicio 1: Crear una variable que contenga un elemento del conjunto de números enteros y luego imprimir por pantalla\n",
    "miVarInt = 6 #int\n",
    "print(\"Ejercicio 1\")\n",
    "print(miVarInt)"
   ]
  },
  {
   "cell_type": "code",
   "execution_count": 2,
   "metadata": {},
   "outputs": [
    {
     "name": "stdout",
     "output_type": "stream",
     "text": [
      "Ejercicio 2\n",
      "<class 'float'>\n"
     ]
    }
   ],
   "source": [
    "# Ejercicio 2: Imprimir el tipo de dato de la constante 8.5\n",
    "print(\"Ejercicio 2\")\n",
    "print(type(8.5))"
   ]
  },
  {
   "cell_type": "code",
   "execution_count": 3,
   "metadata": {},
   "outputs": [
    {
     "name": "stdout",
     "output_type": "stream",
     "text": [
      "Ejercicio 3\n",
      "<class 'int'>\n"
     ]
    }
   ],
   "source": [
    "# Ejercicio 3: Imprimir el tipo de dato de la variable creada en el punto 1\n",
    "print(\"Ejercicio 3\")\n",
    "print(type(miVarInt))"
   ]
  },
  {
   "cell_type": "code",
   "execution_count": 4,
   "metadata": {},
   "outputs": [],
   "source": [
    "# Ejercicio 4: Crear una variable que contenga tu nombre\n",
    "miNombre = \"Vero\" #str"
   ]
  },
  {
   "cell_type": "code",
   "execution_count": 5,
   "metadata": {},
   "outputs": [],
   "source": [
    "# Ejercicio 5: Crear una variable que contenga un número complejo\n",
    "miComplejo = 3+5j #complejo"
   ]
  },
  {
   "cell_type": "code",
   "execution_count": 6,
   "metadata": {},
   "outputs": [
    {
     "name": "stdout",
     "output_type": "stream",
     "text": [
      "Ejercicio 6\n",
      "<class 'complex'>\n"
     ]
    }
   ],
   "source": [
    "# Ejercicio 6: Mostrar el tipo de dato de la variable crada en el punto 5\n",
    "print(\"Ejercicio 6\")\n",
    "print(type(miComplejo))"
   ]
  },
  {
   "cell_type": "code",
   "execution_count": 12,
   "metadata": {},
   "outputs": [],
   "source": [
    "# Ejercicio 7: Crear una variable que contenga el valor del número Pi redondeado a 4 decimales\n",
    "import math\n",
    "miNroPiRedondeado = round(math.pi,4)"
   ]
  },
  {
   "cell_type": "code",
   "execution_count": 13,
   "metadata": {},
   "outputs": [],
   "source": [
    "# Ejercicio 8: Crear una variable que contenga el valor 'True' y otra que contenga el valor True. ¿Se trata de lo mismo?\n",
    "miTrueStr = \"True\" #str\n",
    "miTrueBool = True\n",
    "#no es lo mismo, son distintos tipos de datos"
   ]
  },
  {
   "cell_type": "code",
   "execution_count": 14,
   "metadata": {},
   "outputs": [
    {
     "name": "stdout",
     "output_type": "stream",
     "text": [
      "Ejercicio 9\n",
      "<class 'str'>\n",
      "<class 'bool'>\n"
     ]
    }
   ],
   "source": [
    "# Ejercicio 9: Imprimir el tipo de dato correspondientes a las variables creadas en el punto 8\n",
    "print(\"Ejercicio 9\")\n",
    "print(type(miTrueStr))\n",
    "print(type(miTrueBool))"
   ]
  },
  {
   "cell_type": "code",
   "execution_count": 15,
   "metadata": {},
   "outputs": [],
   "source": [
    "# Ejercicio 10 - Asignar a una variable, la suma de un número entero y otro decimal\n",
    "miVar10 = 7 + 2,4"
   ]
  },
  {
   "cell_type": "code",
   "execution_count": 16,
   "metadata": {},
   "outputs": [],
   "source": [
    "# Ejercicio 11 - Realizar una operación de suma de números complejos\n",
    "miVar11 = (5+3j) + (5-3j)"
   ]
  },
  {
   "cell_type": "code",
   "execution_count": 18,
   "metadata": {},
   "outputs": [],
   "source": [
    "# Ejercicio 12 - Realizar una operación de suma de un número real y otro complejo\n",
    "miVar12 = 4.8 + 2-1j"
   ]
  },
  {
   "cell_type": "code",
   "execution_count": 19,
   "metadata": {},
   "outputs": [],
   "source": [
    "# Ejercicio 13 - Realizar una operación de multiplicación\n",
    "miVar13 = 4*3"
   ]
  },
  {
   "cell_type": "code",
   "execution_count": 20,
   "metadata": {},
   "outputs": [
    {
     "name": "stdout",
     "output_type": "stream",
     "text": [
      "256\n"
     ]
    }
   ],
   "source": [
    "# Ejercicio 14 - Mostrar el resultado de elevar 2 a la octava potencia\n",
    "print(2**8)"
   ]
  },
  {
   "cell_type": "code",
   "execution_count": 21,
   "metadata": {},
   "outputs": [
    {
     "name": "stdout",
     "output_type": "stream",
     "text": [
      "Ejercicio 15\n",
      "6.75\n"
     ]
    }
   ],
   "source": [
    "# Ejercicio 15 - Obtener el cociente de la división de 27 entre 4 en una variable y luego mostrarla\n",
    "print(\"Ejercicio 15\")\n",
    "miCociente = 27/4\n",
    "print(miCociente)"
   ]
  },
  {
   "cell_type": "code",
   "execution_count": 22,
   "metadata": {},
   "outputs": [
    {
     "name": "stdout",
     "output_type": "stream",
     "text": [
      "Ejercicio 16\n",
      "6\n"
     ]
    }
   ],
   "source": [
    "# Ejercicio 16 - De la división anterior solamente mostrar la parte entera\n",
    "print(\"Ejercicio 16\")\n",
    "miDivisionEntera = 27//4\n",
    "print(miDivisionEntera)"
   ]
  },
  {
   "cell_type": "code",
   "execution_count": 23,
   "metadata": {},
   "outputs": [
    {
     "name": "stdout",
     "output_type": "stream",
     "text": [
      "Ejercicio 17\n",
      "3\n"
     ]
    }
   ],
   "source": [
    "# Ejercicio 17 - De la división de 27 entre 4 mostrar solamente el resto\n",
    "print(\"Ejercicio 17\")\n",
    "miResto = 27%4\n",
    "print(miResto)"
   ]
  },
  {
   "cell_type": "code",
   "execution_count": 24,
   "metadata": {},
   "outputs": [
    {
     "name": "stdout",
     "output_type": "stream",
     "text": [
      "Ejercicio 18\n"
     ]
    }
   ],
   "source": [
    "# Ejercicio 18 - Utilizando como operandos el número 4 y los resultados obtenidos en los puntos 16 y 17. Obtener 27 como resultado\n",
    "print(\"Ejercicio 18\")\n",
    "miNuevo27 = 4 * miDivisionEntera + miResto"
   ]
  },
  {
   "cell_type": "code",
   "execution_count": 25,
   "metadata": {},
   "outputs": [
    {
     "name": "stdout",
     "output_type": "stream",
     "text": [
      "Ejercicio 19\n"
     ]
    }
   ],
   "source": [
    "# Ejercicio 19 - Utilizar el operador \"+\" en una operación donde intervengan solo variables alfanuméricas\n",
    "print(\"Ejercicio 19\")\n",
    "miAlfanumerica = \"H0l4\" + \"_Mund0\""
   ]
  },
  {
   "cell_type": "code",
   "execution_count": 26,
   "metadata": {},
   "outputs": [
    {
     "data": {
      "text/plain": [
       "False"
      ]
     },
     "execution_count": 26,
     "metadata": {},
     "output_type": "execute_result"
    }
   ],
   "source": [
    "# Ejercicio 20 - Evaluar si \"2\" es igual a 2. ¿Por qué ocurre eso?\n",
    "\"2\" == 2\n",
    "# Es falso porque son de distinto tipo las variables"
   ]
  },
  {
   "cell_type": "code",
   "execution_count": 27,
   "metadata": {},
   "outputs": [
    {
     "data": {
      "text/plain": [
       "True"
      ]
     },
     "execution_count": 27,
     "metadata": {},
     "output_type": "execute_result"
    }
   ],
   "source": [
    "# Ejercicio 21 - Utilizar las funciones de cambio de tipo de dato, para que la validación del punto 20 resulte verdadera\n",
    "int(\"2\") == 2\n",
    "\"2\" == str(2)"
   ]
  },
  {
   "cell_type": "code",
   "execution_count": 30,
   "metadata": {},
   "outputs": [],
   "source": [
    "# Ejercicio 22 - ¿Por qué arroja error el siguiente cambio de tipo de datos? a = float('3,8')\n",
    "a = float('3.8') # Arrojaba error porque el separador decimal es el punto, no la coma."
   ]
  },
  {
   "cell_type": "code",
   "execution_count": 31,
   "metadata": {},
   "outputs": [],
   "source": [
    "# Ejercicio 23 - Crear una variable con el valor 3, y utilizar el operador '-=' para modificar su contenido\n",
    "miVariable23 = 3\n",
    "miVariable23 -= 2"
   ]
  },
  {
   "cell_type": "code",
   "execution_count": 32,
   "metadata": {},
   "outputs": [
    {
     "data": {
      "text/plain": [
       "4"
      ]
     },
     "execution_count": 32,
     "metadata": {},
     "output_type": "execute_result"
    }
   ],
   "source": [
    "# Ejercicio 24 - Realizar la operacion 1 << 2 ¿Por qué da ese resultado? ¿Qué es el sistema de numeración binario?\n",
    "1<<2 # Desplazamiento a la izquierda dos posiciones 1 se convierte en 100 (porque rellena con ceros el desplazamiento). El 100 en binario es 4."
   ]
  },
  {
   "cell_type": "code",
   "execution_count": 35,
   "metadata": {},
   "outputs": [
    {
     "ename": "TypeError",
     "evalue": "can only concatenate str (not \"int\") to str",
     "output_type": "error",
     "traceback": [
      "\u001b[1;31m---------------------------------------------------------------------------\u001b[0m",
      "\u001b[1;31mTypeError\u001b[0m                                 Traceback (most recent call last)",
      "\u001b[1;32mc:\\Users\\veron\\Python-Prep\\M03_variablesydatos\\VFS_Homework_03.ipynb Cell 25\u001b[0m line \u001b[0;36m5\n\u001b[0;32m      <a href='vscode-notebook-cell:/c%3A/Users/veron/Python-Prep/M03_variablesydatos/VFS_Homework_03.ipynb#X34sZmlsZQ%3D%3D?line=0'>1</a>\u001b[0m \u001b[39m# Ejercicio 25 y 26 - Realizar la operación 2 + '2' ¿Por qué no está permitido? ¿Si los dos operandos serían del mismo tipo, siempre arrojaría el mismo resultado?\u001b[39;00m\n\u001b[0;32m      <a href='vscode-notebook-cell:/c%3A/Users/veron/Python-Prep/M03_variablesydatos/VFS_Homework_03.ipynb#X34sZmlsZQ%3D%3D?line=1'>2</a>\u001b[0m \u001b[39m#2 + '2'\u001b[39;00m\n\u001b[0;32m      <a href='vscode-notebook-cell:/c%3A/Users/veron/Python-Prep/M03_variablesydatos/VFS_Homework_03.ipynb#X34sZmlsZQ%3D%3D?line=3'>4</a>\u001b[0m miVariable25Suma \u001b[39m=\u001b[39m \u001b[39m2\u001b[39m \u001b[39m+\u001b[39m \u001b[39mint\u001b[39m(\u001b[39m'\u001b[39m\u001b[39m2\u001b[39m\u001b[39m'\u001b[39m) \u001b[39m# Así, si funciona como suma de enteros.\u001b[39;00m\n\u001b[1;32m----> <a href='vscode-notebook-cell:/c%3A/Users/veron/Python-Prep/M03_variablesydatos/VFS_Homework_03.ipynb#X34sZmlsZQ%3D%3D?line=4'>5</a>\u001b[0m miVariable25Concantena \u001b[39m=\u001b[39m \u001b[39mstr\u001b[39;49m(\u001b[39m2\u001b[39;49m) \u001b[39m+\u001b[39;49m \u001b[39mint\u001b[39;49m(\u001b[39m'\u001b[39;49m\u001b[39m2\u001b[39;49m\u001b[39m'\u001b[39;49m) \u001b[39m# Así, si funciona como suma de enteros.\u001b[39;00m\n\u001b[0;32m      <a href='vscode-notebook-cell:/c%3A/Users/veron/Python-Prep/M03_variablesydatos/VFS_Homework_03.ipynb#X34sZmlsZQ%3D%3D?line=5'>6</a>\u001b[0m \u001b[39mprint\u001b[39m(miVariable25Suma)\n\u001b[0;32m      <a href='vscode-notebook-cell:/c%3A/Users/veron/Python-Prep/M03_variablesydatos/VFS_Homework_03.ipynb#X34sZmlsZQ%3D%3D?line=6'>7</a>\u001b[0m \u001b[39mprint\u001b[39m(miVariable25Concantena)\n",
      "\u001b[1;31mTypeError\u001b[0m: can only concatenate str (not \"int\") to str"
     ]
    }
   ],
   "source": [
    "# Ejercicio 25 y 26 - Realizar la operación 2 + '2' ¿Por qué no está permitido? ¿Si los dos operandos serían del mismo tipo, siempre arrojaría el mismo resultado?\n",
    "#2 + '2'\n",
    "\n",
    "miVariable25Suma = 2 + int('2') # Así, si funciona como suma de enteros.\n",
    "miVariable25Concantena = str(2) + '2' # Así, si funciona como suma de enteros.\n",
    "print(miVariable25Suma)\n",
    "print(miVariable25Concantena)"
   ]
  }
 ],
 "metadata": {
  "kernelspec": {
   "display_name": "Python 3",
   "language": "python",
   "name": "python3"
  },
  "language_info": {
   "codemirror_mode": {
    "name": "ipython",
    "version": 3
   },
   "file_extension": ".py",
   "mimetype": "text/x-python",
   "name": "python",
   "nbconvert_exporter": "python",
   "pygments_lexer": "ipython3",
   "version": "3.12.0"
  }
 },
 "nbformat": 4,
 "nbformat_minor": 2
}
