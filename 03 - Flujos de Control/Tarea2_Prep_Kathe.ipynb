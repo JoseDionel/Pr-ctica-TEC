{
 "cells": [
  {
   "attachments": {},
   "cell_type": "markdown",
   "metadata": {},
   "source": [
    "## Solución Tarea 2 Flujos de Control"
   ]
  },
  {
   "attachments": {},
   "cell_type": "markdown",
   "metadata": {},
   "source": [
    "1. Crear una variable que contenga un elemento del conjunto de números enteros y luego imprimir por pantalla si es mayor o menor a cero"
   ]
  },
  {
   "cell_type": "code",
   "execution_count": 2,
   "metadata": {},
   "outputs": [
    {
     "name": "stdout",
     "output_type": "stream",
     "text": [
      "La variable 25 es mayor a 0\n"
     ]
    }
   ],
   "source": [
    "x = 25\n",
    "if (x>0):\n",
    "    print(\"La variable\",x, \"es mayor a 0\")\n",
    "elif (x<0):\n",
    "    print(f\"La variable {x} es menor a 0\")"
   ]
  },
  {
   "cell_type": "code",
   "execution_count": 16,
   "metadata": {},
   "outputs": [
    {
     "name": "stdout",
     "output_type": "stream",
     "text": [
      "La variable -50 es menor a 0\n"
     ]
    }
   ],
   "source": [
    "x = -50\n",
    "if (x>0):\n",
    "    print(\"La variable\" + \" x\" + \" es mayor a 0\")\n",
    "elif (x<0):\n",
    "    print(f\"La variable {x} es menor a 0\")"
   ]
  },
  {
   "cell_type": "code",
   "execution_count": 9,
   "metadata": {},
   "outputs": [
    {
     "name": "stdout",
     "output_type": "stream",
     "text": [
      "La variable ingresada no es un número entero\n"
     ]
    }
   ],
   "source": [
    "#Ejemplo de Paula Villar\n",
    "n = \"a\"\n",
    "if (type(n) == int): \n",
    "    if (n<0): #si n es menor a 0\n",
    "        print(\"El valor\", n, \"es negativo\")\n",
    "    elif(n>0):# sino, n es mayor a cero\n",
    "        print(\"El valor\", n, \"es positivo\")\n",
    "    else: #los demás casos\n",
    "        print(\"El valor\", n, \"es igual a 0\")\n",
    "else:\n",
    "    print(\"La variable ingresada no es un número entero\")\n",
    "        "
   ]
  },
  {
   "attachments": {},
   "cell_type": "markdown",
   "metadata": {},
   "source": [
    "2. Crear dos variables y un condicional que informe si son del mismo tipo de dato"
   ]
  },
  {
   "cell_type": "code",
   "execution_count": 18,
   "metadata": {},
   "outputs": [
    {
     "name": "stdout",
     "output_type": "stream",
     "text": [
      "El tipo de variable de 2.5 es diferente al tipo de 3 porque 2.5 es de tipo <class 'float'> y 3 es de tipo <class 'str'>\n"
     ]
    }
   ],
   "source": [
    "a = 2.5\n",
    "b = \"3\"\n",
    "if (type(a)==type(b)):\n",
    "    print(f\"El tipo de variable de {a} es igual al tipo de variable {b}\")\n",
    "elif (type(a)!=type(b)):\n",
    "    print(\"El tipo de variable de\", a, \"es diferente al tipo de\", b,\n",
    "          \"porque\",a, \"es de tipo\", type(a), \"y\", b, \"es de tipo\", type(b))"
   ]
  },
  {
   "cell_type": "code",
   "execution_count": 10,
   "metadata": {},
   "outputs": [
    {
     "name": "stdout",
     "output_type": "stream",
     "text": [
      "El tipo de variable de 2.5 es igual al tipo de variable 3\n"
     ]
    }
   ],
   "source": [
    "a = 2.5\n",
    "b = \"3\"\n",
    "if (type(str(a))==type(b)):\n",
    "    print(f\"El tipo de variable de {a} es igual al tipo de variable {b}\")\n",
    "elif (type(a)!=type(b)):\n",
    "    print(\"El tipo de variable de\", a, \"es diferente al tipo de\", b,\n",
    "          \"porque\",a, \"es de tipo\", type(a), \"y\", b, \"es de tipo\", type(b))"
   ]
  },
  {
   "attachments": {},
   "cell_type": "markdown",
   "metadata": {},
   "source": [
    "3. Para los valores enteros del 1 al 20, imprimir por pantalla si es par o impar"
   ]
  },
  {
   "cell_type": "code",
   "execution_count": 24,
   "metadata": {},
   "outputs": [
    {
     "name": "stdout",
     "output_type": "stream",
     "text": [
      "1 es impar\n",
      "2 es par\n",
      "3 es impar\n",
      "4 es par\n",
      "5 es impar\n",
      "6 es par\n",
      "7 es impar\n",
      "8 es par\n",
      "9 es impar\n",
      "10 es par\n",
      "11 es impar\n",
      "12 es par\n",
      "13 es impar\n",
      "14 es par\n",
      "15 es impar\n",
      "16 es par\n",
      "17 es impar\n",
      "18 es par\n",
      "19 es impar\n",
      "20 es par\n"
     ]
    }
   ],
   "source": [
    "for n in range(1,21):\n",
    "    if (n%2 == 0):\n",
    "        print (f\"{n} es par\")\n",
    "    elif(n%2 != 0):\n",
    "        print (f\"{n} es impar\")"
   ]
  },
  {
   "cell_type": "code",
   "execution_count": 12,
   "metadata": {},
   "outputs": [
    {
     "name": "stdout",
     "output_type": "stream",
     "text": [
      "El número 2 es par\n",
      "El número 4 es par\n",
      "El número 6 es par\n",
      "El número 8 es par\n",
      "El número 10 es par\n",
      "El número 12 es par\n",
      "El número 14 es par\n",
      "El número 16 es par\n",
      "El número 18 es par\n",
      "El número 20 es par\n",
      "El número 1 es impar\n",
      "El número 3 es impar\n",
      "El número 5 es impar\n",
      "El número 7 es impar\n",
      "El número 9 es impar\n",
      "El número 11 es impar\n",
      "El número 13 es impar\n",
      "El número 15 es impar\n",
      "El número 17 es impar\n",
      "El número 19 es impar\n"
     ]
    }
   ],
   "source": [
    "#este ejemplo es para hacer primeros los pares y luego los impares\n",
    "for n in range(1,21):\n",
    "    if (n%2 == 0):\n",
    "        print (f\"El número {n} es par\")\n",
    "for n in range(1,21):\n",
    "    if(n%2 != 0):\n",
    "        print (f\"El número {n} es impar\")"
   ]
  },
  {
   "cell_type": "code",
   "execution_count": 29,
   "metadata": {},
   "outputs": [
    {
     "name": "stdout",
     "output_type": "stream",
     "text": [
      "El numero 1 es impar\n",
      "El numero 2 es par\n",
      "El numero 3 es impar\n",
      "El numero 4 es par\n",
      "El numero 5 es impar\n",
      "El numero 6 es par\n",
      "El numero 7 es impar\n",
      "El numero 8 es par\n",
      "El numero 9 es impar\n",
      "El numero 10 es par\n",
      "El numero 11 es impar\n",
      "El numero 12 es par\n",
      "El numero 13 es impar\n",
      "El numero 14 es par\n",
      "El numero 15 es impar\n",
      "El numero 16 es par\n",
      "El numero 17 es impar\n",
      "El numero 18 es par\n",
      "El numero 19 es impar\n",
      "El numero 20 es par\n"
     ]
    }
   ],
   "source": [
    "i = 1\n",
    "while (i <= 20):\n",
    "    if (i % 2 == 0):\n",
    "        print(f'El numero {i} es par')\n",
    "    elif (i % 2 != 0):\n",
    "        print(f'El numero {i} es impar')\n",
    "    i = i + 1"
   ]
  },
  {
   "cell_type": "code",
   "execution_count": 33,
   "metadata": {},
   "outputs": [
    {
     "name": "stdout",
     "output_type": "stream",
     "text": [
      "1 es impar\n",
      "2 es par\n",
      "3 es impar\n",
      "4 es par\n",
      "5 es impar\n",
      "6 es par\n",
      "7 es impar\n",
      "8 es par\n",
      "9 es impar\n",
      "10 es par\n",
      "11 es impar\n",
      "12 es par\n",
      "13 es impar\n",
      "14 es par\n",
      "15 es impar\n",
      "16 es par\n",
      "17 es impar\n",
      "18 es par\n",
      "19 es impar\n",
      "20 es par\n"
     ]
    }
   ],
   "source": [
    "i = 1\n",
    "while (i <= 20):\n",
    "    if (i % 2 == 0):\n",
    "        print(f'{i} es par')\n",
    "    else:\n",
    "        print(f'{i} es impar')\n",
    "    i = i + 1"
   ]
  },
  {
   "attachments": {},
   "cell_type": "markdown",
   "metadata": {},
   "source": [
    "4. En un ciclo for mostrar para los valores entre 0 y 5 el resultado de elevarlo a la potencia igual a 3"
   ]
  },
  {
   "cell_type": "code",
   "execution_count": 34,
   "metadata": {},
   "outputs": [
    {
     "name": "stdout",
     "output_type": "stream",
     "text": [
      "0\n",
      "1\n",
      "8\n",
      "27\n",
      "64\n",
      "125\n"
     ]
    }
   ],
   "source": [
    "for n in range(0,6):\n",
    "    print(n**3)"
   ]
  },
  {
   "cell_type": "code",
   "execution_count": 1,
   "metadata": {},
   "outputs": [
    {
     "name": "stdout",
     "output_type": "stream",
     "text": [
      "Valor: 0  Elevado a la 3ra potencia: 0\n",
      "Valor: 1  Elevado a la 3ra potencia: 1\n",
      "Valor: 2  Elevado a la 3ra potencia: 8\n",
      "Valor: 3  Elevado a la 3ra potencia: 27\n",
      "Valor: 4  Elevado a la 3ra potencia: 64\n",
      "Valor: 5  Elevado a la 3ra potencia: 125\n"
     ]
    }
   ],
   "source": [
    "for n in range(0, 6):\n",
    "    print('Valor:', str(n), ' Elevado a la 3ra potencia:', str(n**3))"
   ]
  },
  {
   "attachments": {},
   "cell_type": "markdown",
   "metadata": {},
   "source": [
    "5. Crear una variable que contenga un número entero y realizar un ciclo for la misma cantidad de ciclos"
   ]
  },
  {
   "cell_type": "code",
   "execution_count": 32,
   "metadata": {},
   "outputs": [
    {
     "name": "stdout",
     "output_type": "stream",
     "text": [
      "0\n",
      "1\n",
      "2\n",
      "3\n",
      "4\n",
      "5\n",
      "6\n"
     ]
    }
   ],
   "source": [
    "n = 7\n",
    "for i in range(0, n):\n",
    "    print(i)"
   ]
  },
  {
   "cell_type": "code",
   "execution_count": 33,
   "metadata": {},
   "outputs": [
    {
     "name": "stdout",
     "output_type": "stream",
     "text": [
      "11\n"
     ]
    }
   ],
   "source": [
    "n = 12\n",
    "for i in range(0, n):\n",
    "    pass\n",
    "print(i)"
   ]
  },
  {
   "cell_type": "code",
   "execution_count": 34,
   "metadata": {},
   "outputs": [],
   "source": [
    "n = 20\n",
    "j = 1\n",
    "for i in range(j, n):\n",
    "    continue"
   ]
  },
  {
   "cell_type": "code",
   "execution_count": null,
   "metadata": {},
   "outputs": [],
   "source": [
    "n = 2520"
   ]
  }
 ],
 "metadata": {
  "kernelspec": {
   "display_name": "Python 3",
   "language": "python",
   "name": "python3"
  },
  "language_info": {
   "codemirror_mode": {
    "name": "ipython",
    "version": 3
   },
   "file_extension": ".py",
   "mimetype": "text/x-python",
   "name": "python",
   "nbconvert_exporter": "python",
   "pygments_lexer": "ipython3",
   "version": "3.11.2"
  },
  "orig_nbformat": 4
 },
 "nbformat": 4,
 "nbformat_minor": 2
}
