{
 "cells": [
  {
   "cell_type": "markdown",
   "metadata": {},
   "source": [
    "## Solución Flujos de Control Ejercicio 3"
   ]
  },
  {
   "cell_type": "code",
   "execution_count": null,
   "metadata": {},
   "outputs": [],
   "source": []
  },
  {
   "cell_type": "code",
   "execution_count": 5,
   "metadata": {},
   "outputs": [
    {
     "name": "stdout",
     "output_type": "stream",
     "text": [
      "El numero 5 es mayor que cero. \n"
     ]
    }
   ],
   "source": [
    "\"\"\" 1) Crear una variable que contenga un elemento del conjunto de números enteros y\n",
    " luego imprimir por pantalla si es mayor o menor a cero \"\"\"\n",
    "\n",
    "mivariable = 5\n",
    "if (mivariable > 0):\n",
    "    print('El numero '+ str(mivariable) + ' es mayor que cero. ')\n",
    "else:\n",
    "    print('El numero '+ str(mivariable) + ' es menor o igual que cero. ')\n",
    "    "
   ]
  },
  {
   "cell_type": "code",
   "execution_count": 6,
   "metadata": {},
   "outputs": [
    {
     "name": "stdout",
     "output_type": "stream",
     "text": [
      "Las variables 9 y 4 NO son iguales. \n"
     ]
    }
   ],
   "source": [
    "# 2) Crear dos variables y un condicional que informe si son del mismo tipo de dato\n",
    "mivariable1 = 9\n",
    "mivariable2 = '4'\n",
    "\n",
    "if (type(mivariable1) == type(mivariable2)):\n",
    "    print('Las variables ' + str(mivariable1) + ' y ' + str(mivariable2) + ' son del mismo tipo de dato. ')\n",
    "else:\n",
    "    print('Las variables ' + str(mivariable1) + ' y ' + str(mivariable2) + ' NO son del mismo tipo de dato. ')"
   ]
  },
  {
   "cell_type": "code",
   "execution_count": 15,
   "metadata": {},
   "outputs": [
    {
     "name": "stdout",
     "output_type": "stream",
     "text": [
      "1 es impar.\n",
      "2 es par.\n",
      "3 es impar.\n",
      "4 es par.\n",
      "5 es impar.\n",
      "6 es par.\n",
      "7 es impar.\n",
      "8 es par.\n",
      "9 es impar.\n",
      "10 es par.\n",
      "11 es impar.\n",
      "12 es par.\n",
      "13 es impar.\n",
      "14 es par.\n",
      "15 es impar.\n",
      "16 es par.\n",
      "17 es impar.\n",
      "18 es par.\n",
      "19 es impar.\n",
      "20 es par.\n"
     ]
    }
   ],
   "source": [
    "# 3) Para los valores enteros del 1 al 20, imprimir por pantalla si es par o impar\n",
    "for i in range(1,20+1):\n",
    "    if (i % 2 == 0):\n",
    "        print(f'{i} es par.')\n",
    "    else:\n",
    "        print(f'{i} es impar.')"
   ]
  },
  {
   "cell_type": "code",
   "execution_count": 10,
   "metadata": {},
   "outputs": [
    {
     "name": "stdout",
     "output_type": "stream",
     "text": [
      "0\n",
      "1\n",
      "8\n",
      "27\n",
      "64\n"
     ]
    }
   ],
   "source": [
    "# 4) En un ciclo for mostrar para los valores entre 0 y 5 el resultado de elevarlo a la potencia igual a 3\n",
    "for i in range(0,5+1):\n",
    "    print(i**3)"
   ]
  },
  {
   "cell_type": "code",
   "execution_count": 12,
   "metadata": {},
   "outputs": [
    {
     "name": "stdout",
     "output_type": "stream",
     "text": [
      "0\n",
      "1\n",
      "2\n",
      "3\n",
      "4\n",
      "5\n"
     ]
    }
   ],
   "source": [
    "# 5) Crear una variable que contenga un número entero y realizar un ciclo for la misma cantidad de ciclos\n",
    "limite = 6\n",
    "for i in range(limite):\n",
    "    print(i)"
   ]
  },
  {
   "cell_type": "code",
   "execution_count": 21,
   "metadata": {},
   "outputs": [
    {
     "name": "stdout",
     "output_type": "stream",
     "text": [
      " El factorial de 5 es 0\n"
     ]
    }
   ],
   "source": [
    "\"\"\" 6) Utilizar un ciclo while para realizar el factorial de un número guardado en una variable, \n",
    "sólo si la variable contiene un número entero mayor a 0 \"\"\"\n",
    "i = 1\n",
    "nro = 5\n",
    "factorial = nro\n",
    "antecesor = (factorial-1) \n",
    "while (i <= 5):\n",
    "    antecesor -= 1\n",
    "    factorial = factorial * antecesor\n",
    "    i += 1\n",
    "\n",
    "print(f' El factorial de {nro} es {factorial}')\n"
   ]
  },
  {
   "cell_type": "code",
   "execution_count": 3,
   "metadata": {},
   "outputs": [
    {
     "name": "stdout",
     "output_type": "stream",
     "text": [
      "ciclo while 1 , ciclo for 1\n",
      "ciclo while 1 , ciclo for 2\n",
      "ciclo while 2 , ciclo for 1\n",
      "ciclo while 2 , ciclo for 2\n",
      "ciclo while 3 , ciclo for 1\n",
      "ciclo while 3 , ciclo for 2\n",
      "ciclo while 4 , ciclo for 1\n",
      "ciclo while 4 , ciclo for 2\n",
      "ciclo while 5 , ciclo for 1\n",
      "ciclo while 5 , ciclo for 2\n",
      "ciclo while 6 , ciclo for 1\n",
      "ciclo while 6 , ciclo for 2\n",
      "ciclo while 7 , ciclo for 1\n",
      "ciclo while 7 , ciclo for 2\n",
      "ciclo while 8 , ciclo for 1\n",
      "ciclo while 8 , ciclo for 2\n",
      "ciclo while 9 , ciclo for 1\n",
      "ciclo while 9 , ciclo for 2\n"
     ]
    }
   ],
   "source": [
    "# 7) Crear un ciclo for dentro de un ciclo while\n",
    "\n",
    "i = 1\n",
    "while (i < 10):\n",
    "    for j in range(1,3):\n",
    "        print(f'ciclo while {i} , ciclo for {j}')\n",
    "\n",
    "    i +=1\n"
   ]
  },
  {
   "cell_type": "code",
   "execution_count": 1,
   "metadata": {},
   "outputs": [
    {
     "name": "stdout",
     "output_type": "stream",
     "text": [
      "ciclo for 1 , ciclo while 0\n",
      "ciclo for 1 , ciclo while 1\n",
      "ciclo for 1 , ciclo while 2\n",
      "ciclo for 1 , ciclo while 3\n",
      "ciclo for 1 , ciclo while 4\n",
      "ciclo for 2 , ciclo while 0\n",
      "ciclo for 2 , ciclo while 1\n",
      "ciclo for 2 , ciclo while 2\n",
      "ciclo for 2 , ciclo while 3\n",
      "ciclo for 2 , ciclo while 4\n",
      "ciclo for 3 , ciclo while 0\n",
      "ciclo for 3 , ciclo while 1\n",
      "ciclo for 3 , ciclo while 2\n",
      "ciclo for 3 , ciclo while 3\n",
      "ciclo for 3 , ciclo while 4\n",
      "ciclo for 4 , ciclo while 0\n",
      "ciclo for 4 , ciclo while 1\n",
      "ciclo for 4 , ciclo while 2\n",
      "ciclo for 4 , ciclo while 3\n",
      "ciclo for 4 , ciclo while 4\n",
      "ciclo for 5 , ciclo while 0\n",
      "ciclo for 5 , ciclo while 1\n",
      "ciclo for 5 , ciclo while 2\n",
      "ciclo for 5 , ciclo while 3\n",
      "ciclo for 5 , ciclo while 4\n",
      "ciclo for 6 , ciclo while 0\n",
      "ciclo for 6 , ciclo while 1\n",
      "ciclo for 6 , ciclo while 2\n",
      "ciclo for 6 , ciclo while 3\n",
      "ciclo for 6 , ciclo while 4\n",
      "ciclo for 7 , ciclo while 0\n",
      "ciclo for 7 , ciclo while 1\n",
      "ciclo for 7 , ciclo while 2\n",
      "ciclo for 7 , ciclo while 3\n",
      "ciclo for 7 , ciclo while 4\n",
      "ciclo for 8 , ciclo while 0\n",
      "ciclo for 8 , ciclo while 1\n",
      "ciclo for 8 , ciclo while 2\n",
      "ciclo for 8 , ciclo while 3\n",
      "ciclo for 8 , ciclo while 4\n",
      "ciclo for 9 , ciclo while 0\n",
      "ciclo for 9 , ciclo while 1\n",
      "ciclo for 9 , ciclo while 2\n",
      "ciclo for 9 , ciclo while 3\n",
      "ciclo for 9 , ciclo while 4\n"
     ]
    }
   ],
   "source": [
    "# 8) Crear un ciclo while dentro de un ciclo for\n",
    "\n",
    "for i in range(1,10):\n",
    "    j = 0\n",
    "    while (j < 5 ):\n",
    "        print(f'ciclo for {i} , ciclo while {j}')\n",
    "        j += 1\n"
   ]
  },
  {
   "cell_type": "code",
   "execution_count": 27,
   "metadata": {},
   "outputs": [
    {
     "name": "stdout",
     "output_type": "stream",
     "text": [
      "2\n",
      "3\n",
      "5\n",
      "7\n",
      "11\n",
      "13\n",
      "17\n",
      "19\n",
      "23\n",
      "29\n"
     ]
    }
   ],
   "source": [
    "# 9) Imprimir los números primos existentes entre 0 y 30\n",
    "i = 1\n",
    "while (i < 30):\n",
    "    flag = True\n",
    "    i += 1\n",
    "    for j in range(2,i):\n",
    "        if (i % j == 0 and i != j):\n",
    "            flag = False\n",
    "\n",
    "    if (flag == True):\n",
    "        print(i)\n",
    "   \n",
    "  "
   ]
  },
  {
   "cell_type": "code",
   "execution_count": 35,
   "metadata": {},
   "outputs": [
    {
     "name": "stdout",
     "output_type": "stream",
     "text": [
      "2\n",
      "3\n",
      "5\n",
      "7\n",
      "11\n",
      "13\n",
      "17\n",
      "19\n",
      "23\n",
      "29\n"
     ]
    }
   ],
   "source": [
    "# 10) ¿Se puede mejorar el proceso del punto 9? Utilizar las sentencias break y/ó continue para tal fin\n",
    "\n",
    "i = 1\n",
    "while (i < 30):\n",
    "    flag = True\n",
    "    i += 1\n",
    "    for j in range(2,i):\n",
    "        if (i % j == 0 and i != j):\n",
    "            flag = False\n",
    "            break\n",
    "\n",
    "    if (flag == True):\n",
    "        print(i)\n",
    "\n"
   ]
  },
  {
   "cell_type": "code",
   "execution_count": 39,
   "metadata": {},
   "outputs": [
    {
     "name": "stdout",
     "output_type": "stream",
     "text": [
      "2\n",
      "3\n",
      "5\n",
      "7\n",
      "11\n",
      "13\n",
      "17\n",
      "19\n",
      "23\n",
      "29\n",
      "se itero 81 ciclos\n",
      "2\n",
      "3\n",
      "5\n",
      "7\n",
      "11\n",
      "13\n",
      "17\n",
      "19\n",
      "23\n",
      "29\n",
      "se itero 48 ciclos. Un 0.5925925925925926 % se optimizo \n"
     ]
    }
   ],
   "source": [
    "# 11) En los puntos 9 y 10, se diseño un código que encuentra números primos y además se lo optimizó.\n",
    "#  ¿Es posible saber en qué medida se optimizó?\n",
    "i = 1\n",
    "NRO_CICLOS = 0\n",
    "while (i < 30):\n",
    "    flag = True\n",
    "    i += 1\n",
    "    NRO_CICLOS += 1\n",
    "    for j in range(2,i):\n",
    "        if (i % j == 0 and i != j):\n",
    "            flag = False\n",
    "            NRO_CICLOS += 1\n",
    "\n",
    "    if (flag == True):\n",
    "        print(i)\n",
    "\n",
    "print(f'se itero {NRO_CICLOS} ciclos')\n",
    "\n",
    "\n",
    "i = 1\n",
    "NRO_CICLOS_con_break = 0\n",
    "while (i < 30):\n",
    "    flag = True\n",
    "    i += 1\n",
    "    NRO_CICLOS_con_break += 1\n",
    "    for j in range(2,i):\n",
    "        if (i % j == 0 and i != j):\n",
    "            NRO_CICLOS_con_break += 1\n",
    "            flag = False\n",
    "            break\n",
    "        \n",
    "\n",
    "    if (flag == True):\n",
    "        print(i)\n",
    "\n",
    "print(f'se itero {NRO_CICLOS_con_break} ciclos. Un {NRO_CICLOS_con_break/NRO_CICLOS} % se optimizo ')"
   ]
  },
  {
   "cell_type": "code",
   "execution_count": null,
   "metadata": {},
   "outputs": [],
   "source": [
    "# 12) Si la cantidad de números que se evalúa es mayor a treinta, esa optimización crece?\n",
    "#Si, pero obviamente que al crecer el limite de nros manejados, crecen los ciclos optimizados de 30 a trabajar con 100 nros.\n"
   ]
  },
  {
   "cell_type": "code",
   "execution_count": 43,
   "metadata": {},
   "outputs": [
    {
     "name": "stdout",
     "output_type": "stream",
     "text": [
      "el nro 108 es divisible por 12. \n",
      "el nro 120 es divisible por 12. \n",
      "el nro 132 es divisible por 12. \n",
      "el nro 144 es divisible por 12. \n",
      "el nro 156 es divisible por 12. \n",
      "el nro 168 es divisible por 12. \n",
      "el nro 180 es divisible por 12. \n",
      "el nro 192 es divisible por 12. \n",
      "el nro 204 es divisible por 12. \n",
      "el nro 216 es divisible por 12. \n",
      "el nro 228 es divisible por 12. \n",
      "el nro 240 es divisible por 12. \n",
      "el nro 252 es divisible por 12. \n",
      "el nro 264 es divisible por 12. \n",
      "el nro 276 es divisible por 12. \n",
      "el nro 288 es divisible por 12. \n"
     ]
    }
   ],
   "source": [
    "\"\"\"13) Aplicando continue, armar un ciclo while que solo imprima los valores divisibles por 12,\n",
    "  dentro del rango de números de 100 a 300 \"\"\"\n",
    "i = 100\n",
    "while ( i< 300):\n",
    "    if (i % 12 == 0 ):\n",
    "        print('el nro '+ str(i) + ' es divisible por 12. ')\n",
    "    i += 1\n"
   ]
  },
  {
   "cell_type": "code",
   "execution_count": 48,
   "metadata": {},
   "outputs": [
    {
     "name": "stdout",
     "output_type": "stream",
     "text": [
      "Ingreseun nro entero : \n",
      "5 es primo.\n",
      "Ingreseun nro entero : \n",
      "Fin.\n"
     ]
    }
   ],
   "source": [
    "\"\"\" 14) Utilizar la función **input()** que permite hacer ingresos por teclado, \n",
    "para encontrar números primos y dar la opción al usario de buscar el siguiente\n",
    "\"\"\"\n",
    "i = 1\n",
    "while (i != 0 ):\n",
    "   \n",
    "    print(\"Ingreseun nro entero : \")\n",
    "    i = int(input())\n",
    "    if (i == 0):\n",
    "        print('Fin.')\n",
    "        break\n",
    "    esPrimo = True\n",
    "    for j in range(2,i):\n",
    "        if (i % j == 0 and i != j):\n",
    "            esPrimo = False\n",
    "    \n",
    "    if (esPrimo == True):\n",
    "        print(f'{i} es primo.')\n",
    "    else:\n",
    "         print(f'{i} NO es primo.')\n"
   ]
  },
  {
   "cell_type": "code",
   "execution_count": 52,
   "metadata": {},
   "outputs": [
    {
     "name": "stdout",
     "output_type": "stream",
     "text": [
      " Su  primer número divisible por 3 y además múltiplo de 6 es: 102\n"
     ]
    }
   ],
   "source": [
    "\"\"\" 15) Crear un ciclo while que encuentre dentro del rango de 100 a 300 el primer número divisible por 3 \n",
    "y además múltiplo de 6 \"\"\"\n",
    "i = 100\n",
    "while (i <= 300):\n",
    "    if (i % 3 == 0 and type(i * 6) == int):\n",
    "        print(\" Su  primer número divisible por 3 y además múltiplo de 6 es: \"+ str(i))\n",
    "        break\n",
    "    i += 1"
   ]
  }
 ],
 "metadata": {
  "kernelspec": {
   "display_name": "Python 3.10.2 64-bit",
   "language": "python",
   "name": "python3"
  },
  "language_info": {
   "codemirror_mode": {
    "name": "ipython",
    "version": 3
   },
   "file_extension": ".py",
   "mimetype": "text/x-python",
   "name": "python",
   "nbconvert_exporter": "python",
   "pygments_lexer": "ipython3",
   "version": "3.10.2"
  },
  "orig_nbformat": 4,
  "vscode": {
   "interpreter": {
    "hash": "a9cff5a362bc38ef45d817ae74b1af54d6a076e3d773891282bce078b815ba34"
   }
  }
 },
 "nbformat": 4,
 "nbformat_minor": 2
}
