{
 "cells": [
  {
   "cell_type": "markdown",
   "id": "e045ef15",
   "metadata": {},
   "source": [
    "# Flujos de control"
   ]
  },
  {
   "cell_type": "markdown",
   "id": "a345def6",
   "metadata": {},
   "source": [
    "1) Crear una variable que contenga un elemento del conjunto de números enteros y luego imprimir por pantalla si es mayor o menor a cero"
   ]
  },
  {
   "cell_type": "code",
   "execution_count": 1,
   "id": "6f3fb391",
   "metadata": {},
   "outputs": [
    {
     "name": "stdout",
     "output_type": "stream",
     "text": [
      "3  es mayor a 0\n"
     ]
    }
   ],
   "source": [
    "n = 3\n",
    "if (n > 0):\n",
    "    print(n,\" es mayor a 0\")\n",
    "elif(n < 0):\n",
    "    print(n,\" es menor a 0\")"
   ]
  },
  {
   "cell_type": "markdown",
   "id": "80e795e1",
   "metadata": {},
   "source": [
    "2) Crear dos variables y un condicional que informe si son del mismo tipo de dato\n"
   ]
  },
  {
   "cell_type": "code",
   "execution_count": 8,
   "id": "2e6daa9d",
   "metadata": {},
   "outputs": [
    {
     "name": "stdout",
     "output_type": "stream",
     "text": [
      "No son del mismo tipo\n"
     ]
    }
   ],
   "source": [
    "a = 2\n",
    "b = \"b\"\n",
    "if(type(a) == type(b)):\n",
    "    print(\"La variable a y la variable b son del mismo tipo\")\n",
    "else:\n",
    "    print(\"No son del mismo tipo\")"
   ]
  },
  {
   "cell_type": "markdown",
   "id": "e7d31e8f",
   "metadata": {},
   "source": [
    "3) Para los valores enteros del 1 al 20, imprimir por pantalla si es par o impar"
   ]
  },
  {
   "cell_type": "code",
   "execution_count": 3,
   "id": "38a16bcf",
   "metadata": {},
   "outputs": [
    {
     "name": "stdout",
     "output_type": "stream",
     "text": [
      "1  es impar\n",
      "2  es par\n",
      "3  es impar\n",
      "4  es par\n",
      "5  es impar\n",
      "6  es par\n",
      "7  es impar\n",
      "8  es par\n",
      "9  es impar\n",
      "10  es par\n",
      "11  es impar\n",
      "12  es par\n",
      "13  es impar\n",
      "14  es par\n",
      "15  es impar\n",
      "16  es par\n",
      "17  es impar\n",
      "18  es par\n",
      "19  es impar\n",
      "20  es par\n"
     ]
    }
   ],
   "source": [
    "for i in range(1,21):\n",
    "    if((i % 2) == 0):\n",
    "        print(i,\" es par\")\n",
    "    else:\n",
    "        print(i, \" es impar\")"
   ]
  },
  {
   "cell_type": "markdown",
   "id": "77a45829",
   "metadata": {},
   "source": [
    "4) En un ciclo for mostrar para los valores entre 0 y 5 el resultado de elevarlo a la potencia igual a 3"
   ]
  },
  {
   "cell_type": "code",
   "execution_count": 4,
   "id": "1d79fd2c",
   "metadata": {},
   "outputs": [
    {
     "name": "stdout",
     "output_type": "stream",
     "text": [
      "0  elevado a la potencia igual a 3 da como resultado:  0\n",
      "1  elevado a la potencia igual a 3 da como resultado:  1\n",
      "2  elevado a la potencia igual a 3 da como resultado:  8\n",
      "3  elevado a la potencia igual a 3 da como resultado:  27\n",
      "4  elevado a la potencia igual a 3 da como resultado:  64\n",
      "5  elevado a la potencia igual a 3 da como resultado:  125\n"
     ]
    }
   ],
   "source": [
    "for i in range(0,6):\n",
    "    print(i,\" elevado a la potencia igual a 3 da como resultado: \", i**3)"
   ]
  },
  {
   "cell_type": "markdown",
   "id": "4e7d6804",
   "metadata": {},
   "source": [
    "5) Crear una variable que contenga un número entero y realizar un ciclo for la misma cantidad de ciclos"
   ]
  },
  {
   "cell_type": "code",
   "execution_count": 9,
   "id": "ec9f0163",
   "metadata": {},
   "outputs": [
    {
     "name": "stdout",
     "output_type": "stream",
     "text": [
      "ciclo numero:  1\n",
      "ciclo numero:  2\n",
      "ciclo numero:  3\n",
      "ciclo numero:  4\n",
      "ciclo numero:  5\n",
      "ciclo numero:  6\n",
      "ciclo numero:  7\n",
      "ciclo numero:  8\n",
      "ciclo numero:  9\n",
      "ciclo numero:  10\n"
     ]
    }
   ],
   "source": [
    "n = 10\n",
    "for i in range(0,n):\n",
    "    print(\"ciclo numero: \",i+1)"
   ]
  },
  {
   "cell_type": "markdown",
   "id": "47d80559",
   "metadata": {},
   "source": [
    "6) Utilizar un ciclo while para realizar el factorial de un número guardado en una variable, sólo si la variable contiene un número entero mayor a 0"
   ]
  },
  {
   "cell_type": "code",
   "execution_count": 35,
   "id": "7a0a4c95",
   "metadata": {},
   "outputs": [
    {
     "name": "stdout",
     "output_type": "stream",
     "text": [
      "El factorial de 4 es 24\n"
     ]
    }
   ],
   "source": [
    "n = 4\n",
    "num = n\n",
    "if(type(n) == int):\n",
    "    if(n > 0):\n",
    "        factorial = n\n",
    "        while(n > 1):\n",
    "            n -= 1\n",
    "            factorial = factorial * n\n",
    "        print(\"El factorial de\",num, \"es\",factorial)\n",
    "    else:\n",
    "        print(\"Es negativo\")\n",
    "else:\n",
    "    print(\"No es entero\")"
   ]
  },
  {
   "cell_type": "markdown",
   "id": "d7017b82",
   "metadata": {},
   "source": [
    "7) Crear un ciclo for dentro de un ciclo while"
   ]
  },
  {
   "cell_type": "code",
   "execution_count": 12,
   "id": "b21601bd",
   "metadata": {},
   "outputs": [
    {
     "name": "stdout",
     "output_type": "stream",
     "text": [
      "Ciclo for numero 1\n",
      "Ciclo for numero 2\n",
      "Ciclo for numero 3\n",
      "Ciclo for numero 4\n",
      "Ciclo for numero 5\n",
      "Ciclo while numero 1\n",
      "Ciclo for numero 1\n",
      "Ciclo for numero 2\n",
      "Ciclo for numero 3\n",
      "Ciclo for numero 4\n",
      "Ciclo for numero 5\n",
      "Ciclo while numero 2\n",
      "Ciclo for numero 1\n",
      "Ciclo for numero 2\n",
      "Ciclo for numero 3\n",
      "Ciclo for numero 4\n",
      "Ciclo for numero 5\n",
      "Ciclo while numero 3\n",
      "Ciclo for numero 1\n",
      "Ciclo for numero 2\n",
      "Ciclo for numero 3\n",
      "Ciclo for numero 4\n",
      "Ciclo for numero 5\n",
      "Ciclo while numero 4\n",
      "Ciclo for numero 1\n",
      "Ciclo for numero 2\n",
      "Ciclo for numero 3\n",
      "Ciclo for numero 4\n",
      "Ciclo for numero 5\n",
      "Ciclo while numero 5\n"
     ]
    }
   ],
   "source": [
    "n = 1\n",
    "while(n < 6):\n",
    "    for i in range(1,6):\n",
    "        print(\"Ciclo for numero\",i)\n",
    "    print(\"Ciclo while numero\", n)\n",
    "    n +=1\n",
    "    "
   ]
  },
  {
   "cell_type": "markdown",
   "id": "2387f5b2",
   "metadata": {},
   "source": [
    "8) Crear un ciclo while dentro de un ciclo for"
   ]
  },
  {
   "cell_type": "code",
   "execution_count": 13,
   "id": "552085ba",
   "metadata": {},
   "outputs": [
    {
     "name": "stdout",
     "output_type": "stream",
     "text": [
      "Ciclo while numero 1\n",
      "Ciclo while numero 2\n",
      "Ciclo while numero 3\n",
      "Ciclo while numero 4\n",
      "Ciclo while numero 5\n",
      "Ciclo for numero 1\n",
      "Ciclo while numero 1\n",
      "Ciclo while numero 2\n",
      "Ciclo while numero 3\n",
      "Ciclo while numero 4\n",
      "Ciclo while numero 5\n",
      "Ciclo for numero 2\n",
      "Ciclo while numero 1\n",
      "Ciclo while numero 2\n",
      "Ciclo while numero 3\n",
      "Ciclo while numero 4\n",
      "Ciclo while numero 5\n",
      "Ciclo for numero 3\n",
      "Ciclo while numero 1\n",
      "Ciclo while numero 2\n",
      "Ciclo while numero 3\n",
      "Ciclo while numero 4\n",
      "Ciclo while numero 5\n",
      "Ciclo for numero 4\n",
      "Ciclo while numero 1\n",
      "Ciclo while numero 2\n",
      "Ciclo while numero 3\n",
      "Ciclo while numero 4\n",
      "Ciclo while numero 5\n",
      "Ciclo for numero 5\n"
     ]
    }
   ],
   "source": [
    "for i in range(1,6):\n",
    "    n = 1\n",
    "    while(n < 6):\n",
    "        print(\"Ciclo while numero\",n)\n",
    "        n += 1\n",
    "    print(\"Ciclo for numero\",i)"
   ]
  },
  {
   "cell_type": "markdown",
   "id": "5fc5ae51",
   "metadata": {},
   "source": [
    "9) Imprimir los números primos existentes entre 0 y 30"
   ]
  },
  {
   "cell_type": "markdown",
   "id": "48f5744c",
   "metadata": {},
   "source": [
    "el numero debe ser solo divisible por 1 y por si mismo"
   ]
  },
  {
   "cell_type": "code",
   "execution_count": 39,
   "id": "1ce0bbc9",
   "metadata": {},
   "outputs": [
    {
     "name": "stdout",
     "output_type": "stream",
     "text": [
      "1 es primo\n",
      "2 es primo\n",
      "3 es primo\n",
      "5 es primo\n",
      "7 es primo\n",
      "11 es primo\n",
      "13 es primo\n",
      "17 es primo\n",
      "19 es primo\n",
      "23 es primo\n",
      "29 es primo\n"
     ]
    }
   ],
   "source": [
    "for n in range(1,31):\n",
    "    primo = True\n",
    "    for i in range(2,n):\n",
    "        if(n % i == 0):\n",
    "            primo = False\n",
    "    if(primo):\n",
    "        print(n, \"es primo\")"
   ]
  },
  {
   "cell_type": "markdown",
   "id": "dfbd9c04",
   "metadata": {},
   "source": [
    "10) ¿Se puede mejorar el proceso del punto 9? Utilizar las sentencias break y/ó continue para tal fin"
   ]
  },
  {
   "cell_type": "code",
   "execution_count": 3,
   "id": "66f6f8db",
   "metadata": {},
   "outputs": [
    {
     "name": "stdout",
     "output_type": "stream",
     "text": [
      "1 es primo\n",
      "2 es primo\n",
      "3 es primo\n",
      "5 es primo\n",
      "7 es primo\n",
      "11 es primo\n",
      "13 es primo\n",
      "17 es primo\n",
      "19 es primo\n",
      "23 es primo\n",
      "29 es primo\n"
     ]
    }
   ],
   "source": [
    "\n",
    "for n in range(1,31):\n",
    "    primo = True\n",
    "    for i in range(2,n):\n",
    "        \n",
    "        if(n % i == 0):\n",
    "            primo = False\n",
    "            \n",
    "    if(primo):\n",
    "        print(n, \"es primo\")"
   ]
  },
  {
   "cell_type": "markdown",
   "id": "506791bb",
   "metadata": {},
   "source": [
    "11) En los puntos 9 y 10, se diseño un código que encuentra números primos y además se lo optimizó. ¿Es posible saber en qué medida se optimizó?"
   ]
  },
  {
   "cell_type": "code",
   "execution_count": 2,
   "id": "87e021df",
   "metadata": {},
   "outputs": [
    {
     "name": "stdout",
     "output_type": "stream",
     "text": [
      "1 es primo\n",
      "2 es primo\n",
      "3 es primo\n",
      "5 es primo\n",
      "7 es primo\n",
      "11 es primo\n",
      "13 es primo\n",
      "17 es primo\n",
      "19 es primo\n",
      "23 es primo\n",
      "29 es primo\n",
      "406\n"
     ]
    }
   ],
   "source": [
    "cantidad_no_break = 0\n",
    "for n in range(1,31):\n",
    "    primo = True\n",
    "    for i in range(2,n):\n",
    "        cantidad_no_break += 1\n",
    "        if(n % i == 0):\n",
    "            primo = False\n",
    "            \n",
    "    if(primo):\n",
    "        print(n, \"es primo\")\n",
    "print(cantidad_no_break)"
   ]
  },
  {
   "cell_type": "code",
   "execution_count": 11,
   "id": "6b569f42",
   "metadata": {},
   "outputs": [
    {
     "name": "stdout",
     "output_type": "stream",
     "text": [
      "1 es primo\n",
      "2 es primo\n",
      "3 es primo\n",
      "5 es primo\n",
      "7 es primo\n",
      "11 es primo\n",
      "13 es primo\n",
      "17 es primo\n",
      "19 es primo\n",
      "23 es primo\n",
      "29 es primo\n",
      "135\n"
     ]
    }
   ],
   "source": [
    "cantidad_break = 0\n",
    "for n in range(1,31):\n",
    "    primo = True\n",
    "    for i in range(2,n):\n",
    "        cantidad_break += 1\n",
    "        if(n % i == 0):\n",
    "            primo = False\n",
    "            break\n",
    "    if(primo):\n",
    "        print(n, \"es primo\")\n",
    "print(cantidad_break)"
   ]
  },
  {
   "cell_type": "code",
   "execution_count": 10,
   "id": "cf1e6e92",
   "metadata": {},
   "outputs": [
    {
     "name": "stdout",
     "output_type": "stream",
     "text": [
      "Se optimizo de 406 a 135 vueltas. Lo que da un 33.251231527093594 % de mejora\n"
     ]
    }
   ],
   "source": [
    "print(\"Se optimizo de\",cantidad_no_break,\"a\",cantidad_break, \"vueltas. Lo que da un\", (cantidad_break/cantidad_no_break) * 100,\"% de mejora\")"
   ]
  },
  {
   "cell_type": "markdown",
   "id": "69e0c6ba",
   "metadata": {},
   "source": [
    "12) Si la cantidad de números que se evalúa es mayor a treinta, esa optimización crece?"
   ]
  },
  {
   "cell_type": "code",
   "execution_count": 12,
   "id": "f12cc3cc",
   "metadata": {},
   "outputs": [
    {
     "name": "stdout",
     "output_type": "stream",
     "text": [
      "1 es primo\n",
      "2 es primo\n",
      "3 es primo\n",
      "5 es primo\n",
      "7 es primo\n",
      "11 es primo\n",
      "13 es primo\n",
      "17 es primo\n",
      "19 es primo\n",
      "23 es primo\n",
      "29 es primo\n",
      "31 es primo\n",
      "37 es primo\n",
      "41 es primo\n",
      "43 es primo\n",
      "47 es primo\n",
      "53 es primo\n",
      "59 es primo\n",
      "61 es primo\n",
      "67 es primo\n",
      "71 es primo\n",
      "73 es primo\n",
      "79 es primo\n",
      "83 es primo\n",
      "89 es primo\n",
      "97 es primo\n",
      "4753\n"
     ]
    }
   ],
   "source": [
    "cantidad_no_break = 0\n",
    "for n in range(1,100):\n",
    "    primo = True\n",
    "    for i in range(2,n):\n",
    "        cantidad_no_break += 1\n",
    "        if(n % i == 0):\n",
    "            primo = False\n",
    "            \n",
    "    if(primo):\n",
    "        print(n, \"es primo\")\n",
    "print(cantidad_no_break)"
   ]
  },
  {
   "cell_type": "code",
   "execution_count": 14,
   "id": "fb232a7e",
   "metadata": {},
   "outputs": [
    {
     "name": "stdout",
     "output_type": "stream",
     "text": [
      "1 es primo\n",
      "2 es primo\n",
      "3 es primo\n",
      "5 es primo\n",
      "7 es primo\n",
      "11 es primo\n",
      "13 es primo\n",
      "17 es primo\n",
      "19 es primo\n",
      "23 es primo\n",
      "29 es primo\n",
      "31 es primo\n",
      "37 es primo\n",
      "41 es primo\n",
      "43 es primo\n",
      "47 es primo\n",
      "53 es primo\n",
      "59 es primo\n",
      "61 es primo\n",
      "67 es primo\n",
      "71 es primo\n",
      "73 es primo\n",
      "79 es primo\n",
      "83 es primo\n",
      "89 es primo\n",
      "97 es primo\n",
      "1132\n"
     ]
    }
   ],
   "source": [
    "cantidad_break = 0\n",
    "for n in range(1,100):\n",
    "    primo = True\n",
    "    for i in range(2,n):\n",
    "        cantidad_break += 1\n",
    "        if(n % i == 0):\n",
    "            primo = False\n",
    "            break\n",
    "    if(primo):\n",
    "        print(n, \"es primo\")\n",
    "print(cantidad_break)"
   ]
  },
  {
   "cell_type": "code",
   "execution_count": 15,
   "id": "1088feea",
   "metadata": {},
   "outputs": [
    {
     "name": "stdout",
     "output_type": "stream",
     "text": [
      "Con el valor 100 se optimizó de 4753 a 1132 vueltas. Lo que da un 23.81653692404797 % de mejora\n"
     ]
    }
   ],
   "source": [
    "print(\"Con el valor 100 se optimizó de\",cantidad_no_break,\"a\",cantidad_break, \"vueltas. Lo que da un\", (cantidad_break/cantidad_no_break) * 100,\"% de mejora\")"
   ]
  },
  {
   "cell_type": "markdown",
   "id": "34873051",
   "metadata": {},
   "source": [
    "13) Aplicando continue, armar un ciclo while que solo imprima los valores divisibles por 12, dentro del rango de números de 100 a 300"
   ]
  },
  {
   "cell_type": "code",
   "execution_count": 21,
   "id": "47ae034e",
   "metadata": {},
   "outputs": [
    {
     "name": "stdout",
     "output_type": "stream",
     "text": [
      "108\n",
      "120\n",
      "132\n",
      "144\n",
      "156\n",
      "168\n",
      "180\n",
      "192\n",
      "204\n",
      "216\n",
      "228\n",
      "240\n",
      "252\n",
      "264\n",
      "276\n",
      "288\n",
      "300\n"
     ]
    }
   ],
   "source": [
    "n = 99\n",
    "while(n < 300):\n",
    "    n += 1\n",
    "    if(n % 12 != 0):\n",
    "        continue\n",
    "    print(n)"
   ]
  },
  {
   "cell_type": "markdown",
   "id": "731caafe",
   "metadata": {},
   "source": [
    "14) Utilizar la función **input()** que permite hacer ingresos por teclado, para encontrar números primos y dar la opción al usario de buscar el siguiente"
   ]
  },
  {
   "cell_type": "code",
   "execution_count": 12,
   "id": "862f0945",
   "metadata": {},
   "outputs": [
    {
     "name": "stdout",
     "output_type": "stream",
     "text": [
      "El número 1 es primo\n",
      "Siguiente numero? si\n",
      "Eligió continuar...\n",
      "\n",
      "El número 2 es primo\n",
      "Siguiente numero? si\n",
      "Eligió continuar...\n",
      "\n",
      "El número 3 es primo\n",
      "Siguiente numero? no\n",
      "Eligió no continuar\n"
     ]
    }
   ],
   "source": [
    "for n in range(1,31):\n",
    "    primo = True\n",
    "    for i in range(2,n):\n",
    "        if(n % i == 0):\n",
    "            primo = False\n",
    "    if(primo):\n",
    "        print(\"El número\",n, \"es primo\")\n",
    "        a = input(\"Siguiente numero? \")\n",
    "        if(a == \"no\"):\n",
    "            print(\"Eligió no continuar\")\n",
    "            break\n",
    "        elif(a == \"si\"):\n",
    "            print(\"Eligió continuar...\\n\")\n",
    "            continue\n",
    "        elif(a != \"si\" and a != \"no\"):\n",
    "            print(\"error: solo puede seleccionar entre 'si' y 'no'\")\n",
    "            break"
   ]
  },
  {
   "cell_type": "code",
   "execution_count": null,
   "id": "51cb8e23",
   "metadata": {},
   "outputs": [],
   "source": []
  }
 ],
 "metadata": {
  "kernelspec": {
   "display_name": "Python 3",
   "language": "python",
   "name": "python3"
  },
  "language_info": {
   "codemirror_mode": {
    "name": "ipython",
    "version": 3
   },
   "file_extension": ".py",
   "mimetype": "text/x-python",
   "name": "python",
   "nbconvert_exporter": "python",
   "pygments_lexer": "ipython3",
   "version": "3.8.8"
  }
 },
 "nbformat": 4,
 "nbformat_minor": 5
}
