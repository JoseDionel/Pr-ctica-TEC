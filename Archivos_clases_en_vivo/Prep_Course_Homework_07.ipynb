{
 "cells": [
  {
   "attachments": {},
   "cell_type": "markdown",
   "metadata": {},
   "source": [
    "## Funciones"
   ]
  },
  {
   "attachments": {},
   "cell_type": "markdown",
   "metadata": {},
   "source": [
    "1) Crear una función que reciba un número como parámetro y devuelva True si es primo y False si no lo es"
   ]
  },
  {
   "cell_type": "code",
   "execution_count": 1,
   "metadata": {},
   "outputs": [],
   "source": [
    "def verificar_primo(numero):\n",
    "    es_primo = True\n",
    "    for divisor in range(2, numero):\n",
    "        if numero % divisor == 0:\n",
    "            es_primo = False\n",
    "            break\n",
    "    return es_primo"
   ]
  },
  {
   "cell_type": "code",
   "execution_count": 3,
   "metadata": {},
   "outputs": [
    {
     "data": {
      "text/plain": [
       "False"
      ]
     },
     "execution_count": 3,
     "metadata": {},
     "output_type": "execute_result"
    }
   ],
   "source": [
    "verificar_primo(6)"
   ]
  },
  {
   "attachments": {},
   "cell_type": "markdown",
   "metadata": {},
   "source": [
    "2) Utilizando la función del punto 1, realizar otra función que reciba de parámetro una lista de números y devuelva sólo aquellos que son primos en otra lista"
   ]
  },
  {
   "cell_type": "code",
   "execution_count": 4,
   "metadata": {},
   "outputs": [],
   "source": [
    "def extraer_primos(lista):\n",
    "    lista_primos = []\n",
    "    for elemento in lista:\n",
    "        if verificar_primo(elemento):\n",
    "            lista_primos.append(elemento)\n",
    "    return lista_primos"
   ]
  },
  {
   "cell_type": "code",
   "execution_count": 5,
   "metadata": {},
   "outputs": [
    {
     "data": {
      "text/plain": [
       "[3, 4, 5, 6, 7, 8, 9, 10, 11, 12, 13, 14, 15, 16, 17, 18, 19, 20, 21, 22, 23]"
      ]
     },
     "execution_count": 5,
     "metadata": {},
     "output_type": "execute_result"
    }
   ],
   "source": [
    "lista_numeros = list(range(3, 24))\n",
    "lista_numeros"
   ]
  },
  {
   "cell_type": "code",
   "execution_count": 6,
   "metadata": {},
   "outputs": [
    {
     "data": {
      "text/plain": [
       "[3, 5, 7, 11, 13, 17, 19, 23]"
      ]
     },
     "execution_count": 6,
     "metadata": {},
     "output_type": "execute_result"
    }
   ],
   "source": [
    "extraer_primos(lista_numeros)"
   ]
  },
  {
   "attachments": {},
   "cell_type": "markdown",
   "metadata": {},
   "source": [
    "3) Crear una función que al recibir una lista de números, devuelva el que más se repite y cuántas veces lo hace. Si hay más de un \"más repetido\", que devuelva cualquiera"
   ]
  },
  {
   "cell_type": "code",
   "execution_count": 9,
   "metadata": {},
   "outputs": [
    {
     "name": "stdout",
     "output_type": "stream",
     "text": [
      "Collecting pycopy-collections.abcNote: you may need to restart the kernel to use updated packages.\n"
     ]
    },
    {
     "name": "stderr",
     "output_type": "stream",
     "text": [
      "ERROR: pycopy-collections.abc from https://files.pythonhosted.org/packages/9e/b4/c5cc0e52a1af6770004cac86c13d751ddef97e01195873fbeced0cbf46a0/pycopy-collections.abc-0.0.0.tar.gz does not appear to be a Python project: neither 'setup.py' nor 'pyproject.toml' found.\n"
     ]
    },
    {
     "name": "stdout",
     "output_type": "stream",
     "text": [
      "\n",
      "  Downloading pycopy-collections.abc-0.0.0.tar.gz (633 bytes)\n"
     ]
    }
   ],
   "source": [
    "#pip install collection"
   ]
  },
  {
   "cell_type": "code",
   "execution_count": 11,
   "metadata": {},
   "outputs": [
    {
     "data": {
      "text/plain": [
       "Counter({'a': 3, 'b': 1, 'c': 1})"
      ]
     },
     "execution_count": 11,
     "metadata": {},
     "output_type": "execute_result"
    }
   ],
   "source": [
    "from collections import Counter\n",
    "lista_prueba = [\"a\", \"a\", \"a\", \"b\", \"c\"]\n",
    "dicc_prueba = Counter(lista_prueba)\n",
    "dicc_prueba"
   ]
  },
  {
   "cell_type": "code",
   "execution_count": 12,
   "metadata": {},
   "outputs": [
    {
     "data": {
      "text/plain": [
       "3"
      ]
     },
     "execution_count": 12,
     "metadata": {},
     "output_type": "execute_result"
    }
   ],
   "source": [
    "dicc_prueba.get(\"a\")"
   ]
  },
  {
   "cell_type": "code",
   "execution_count": 13,
   "metadata": {},
   "outputs": [],
   "source": [
    "def calcular_moda(lista):\n",
    "    conteo = Counter(lista)\n",
    "    llave = max(conteo, key = conteo.get)\n",
    "    valor = conteo[llave]\n",
    "\n",
    "    return llave, valor"
   ]
  },
  {
   "cell_type": "code",
   "execution_count": 15,
   "metadata": {},
   "outputs": [
    {
     "name": "stdout",
     "output_type": "stream",
     "text": [
      "El número 1 es el que más se repite, 3 veces\n"
     ]
    }
   ],
   "source": [
    "lista_numeros = [1, 1, 1, 4, 7, 4, 9, 10]\n",
    "numero, repeticiones =calcular_moda(lista_numeros)\n",
    "print(f\"El número {numero} es el que más se repite, {repeticiones} veces\")"
   ]
  },
  {
   "attachments": {},
   "cell_type": "markdown",
   "metadata": {},
   "source": [
    "4) Crear una función que convierta entre grados Celsius, Farenheit y Kelvin<br>\n",
    "Fórmula 1\t: (°C × 9/5) + 32 = °F<br>\n",
    "Fórmula 2\t: °C + 273.15 = °K<br>\n",
    "Debe recibir 3 parámetros: el valor, la medida de orígen y la medida de destino\n"
   ]
  },
  {
   "cell_type": "markdown",
   "metadata": {},
   "source": [
    "Despejar c en términos de f\n",
    "(c * 9/5) + 32 = f \n",
    "(c * 9/5) = f - 32\n",
    "c = (f - 32) * 5/9\n",
    "\n",
    "Despejar k en términos de f\n",
    "c = k - 273.15\n",
    "(f - 32) * 5/9 = k - 273.15\n",
    "k = ((f - 32) * 5/9) + 273.15\n",
    "\n",
    "Despejar f en términos de k\n",
    "(f - 32) * 5/9 = k - 273.15\n",
    "(f - 32) = (k - 273.15) * 9/5\n",
    "f = ((k - 273.15) * 9/5) + 32"
   ]
  },
  {
   "cell_type": "code",
   "execution_count": 16,
   "metadata": {},
   "outputs": [],
   "source": [
    "def convertir_grados(valor, origen, destino):\n",
    "    if origen == \"celcius\":\n",
    "        if destino == \"celcius\":\n",
    "            valor_destino = valor\n",
    "        elif destino == \"farenheit\":\n",
    "            valor_destino = (valor * 9/5) + 32\n",
    "        elif destino == \"kelvin\":\n",
    "            valor_destino = valor + 273.15\n",
    "        else:\n",
    "            print(\"debe pasar un destino correcto\")\n",
    "    \n",
    "    elif origen == \"farenheit\":\n",
    "        if destino == \"celcius\":\n",
    "            valor_destino = (valor - 32) * 5/9\n",
    "        elif destino == \"farenheit\":\n",
    "            valor_destino = valor\n",
    "        elif destino == \"kelvin\":\n",
    "            valor_destino = ((valor - 32) * 5/9) + 273.15\n",
    "        else:\n",
    "            print(\"debe pasar un destino correcto\")\n",
    "\n",
    "    elif origen == \"kelvin\":\n",
    "        if destino == \"celcius\":\n",
    "            valor_destino = valor - 273.15\n",
    "        elif destino == \"farenheit\":\n",
    "            valor_destino = ((valor - 273.15) * 9/5) + 32\n",
    "        elif destino == \"kelvin\":\n",
    "            valor_destino = valor\n",
    "        else:\n",
    "            print(\"debe pasar un destino correcto\")\n",
    "\n",
    "    else:\n",
    "         print(\"debe pasar un origen correcto\")   \n",
    "\n",
    "    return valor_destino"
   ]
  },
  {
   "cell_type": "code",
   "execution_count": 17,
   "metadata": {},
   "outputs": [
    {
     "data": {
      "text/plain": [
       "274.15"
      ]
     },
     "execution_count": 17,
     "metadata": {},
     "output_type": "execute_result"
    }
   ],
   "source": [
    "convertir_grados(1, \"celcius\", \"kelvin\")"
   ]
  },
  {
   "cell_type": "code",
   "execution_count": null,
   "metadata": {},
   "outputs": [],
   "source": [
    "## Solución de Lucas\n",
    "def gradosC(c):\n",
    "    formula1 = (c * (9/5)) + 32    \n",
    "    formula2 = c + 273.15\n",
    "    return f\"los grados celcius son {c}, en farenheit son {formula1}, y en kelvin son {formula2}\"\n",
    "\n",
    "def gradosF(f):\n",
    "    formula1 = (f - 32) * (5/9)\n",
    "    formula2 = formula1 + 273.15\n",
    "    return f\"los grados farenheit son {f}, en celcius son {formula1}, y en kelvin son {formula2}\"\n",
    "\n",
    "def gradosK(k):\n",
    "    formula1 = k - 273.15 \n",
    "    formula2 = (formula1 * (9/5)) + 32\n",
    "    return f\"los grados kelvin son {k}, en celcius son {formula1}, y en farenheit son {formula2\n"
   ]
  },
  {
   "attachments": {},
   "cell_type": "markdown",
   "metadata": {},
   "source": [
    "5) Iterando una lista con los tres valores posibles de temperatura que recibe la función del punto 5, hacer un print para cada combinación de los mismos:"
   ]
  },
  {
   "cell_type": "code",
   "execution_count": 18,
   "metadata": {},
   "outputs": [
    {
     "name": "stdout",
     "output_type": "stream",
     "text": [
      "1 grado de celcius a celcius es igual a 1\n",
      "1 grado de celcius a kelvin es igual a 274.15\n",
      "1 grado de celcius a farenheit es igual a 33.8\n",
      "1 grado de kelvin a celcius es igual a -272.15\n",
      "1 grado de kelvin a kelvin es igual a 1\n",
      "1 grado de kelvin a farenheit es igual a -457.87\n",
      "1 grado de farenheit a celcius es igual a -17.22222222222222\n",
      "1 grado de farenheit a kelvin es igual a 255.92777777777775\n",
      "1 grado de farenheit a farenheit es igual a 1\n"
     ]
    }
   ],
   "source": [
    "metricas = [\"celcius\", \"kelvin\", \"farenheit\"]\n",
    "for indice_origen in range(0, 3):\n",
    "    for indice_destino in range(0, 3):\n",
    "        valor_funcion = convertir_grados(1, metricas[indice_origen], metricas[indice_destino])\n",
    "        print(f\"1 grado de {metricas[indice_origen]} a {metricas[indice_destino]} es igual a {valor_funcion}\")"
   ]
  },
  {
   "attachments": {},
   "cell_type": "markdown",
   "metadata": {},
   "source": [
    "6) Armar una función que devuelva el factorial de un número. Tener en cuenta que el usuario puede equivocarse y enviar de parámetro un número no entero o negativo"
   ]
  },
  {
   "cell_type": "code",
   "execution_count": 21,
   "metadata": {},
   "outputs": [],
   "source": [
    "def calcular_factorial(numero):\n",
    "    if type(numero) != int:\n",
    "        return \"La entrada debe ser un entero\"\n",
    "    \n",
    "    if numero <= 0:\n",
    "        return \"La entrada deber ser un positivo\"\n",
    "    \n",
    "    if numero == 1:\n",
    "        return 1\n",
    "    \n",
    "    numero = numero * calcular_factorial(numero - 1)\n",
    "\n",
    "    return numero"
   ]
  },
  {
   "cell_type": "code",
   "execution_count": 22,
   "metadata": {},
   "outputs": [
    {
     "data": {
      "text/plain": [
       "120"
      ]
     },
     "execution_count": 22,
     "metadata": {},
     "output_type": "execute_result"
    }
   ],
   "source": [
    "calcular_factorial(5)"
   ]
  }
 ],
 "metadata": {
  "interpreter": {
   "hash": "c85384e4cb51c8b72350f3a8712cc8351fdc3955e32a27f9b60c6242ab125f01"
  },
  "kernelspec": {
   "display_name": "Python 3 (ipykernel)",
   "language": "python",
   "name": "python3"
  },
  "language_info": {
   "codemirror_mode": {
    "name": "ipython",
    "version": 3
   },
   "file_extension": ".py",
   "mimetype": "text/x-python",
   "name": "python",
   "nbconvert_exporter": "python",
   "pygments_lexer": "ipython3",
   "version": "3.9.18"
  }
 },
 "nbformat": 4,
 "nbformat_minor": 4
}
