{
 "cells": [
  {
   "cell_type": "markdown",
   "metadata": {},
   "source": [
    "# Clases"
   ]
  },
  {
   "cell_type": "markdown",
   "metadata": {},
   "source": [
    "### Abstracción - Atributos - Métodos"
   ]
  },
  {
   "cell_type": "code",
   "execution_count": 1,
   "metadata": {},
   "outputs": [],
   "source": [
    "class Libro:\n",
    "    def __init__(self, titulo, autor):\n",
    "        self.titulo = titulo\n",
    "        self.autor = autor\n",
    "        self.pagina = 1\n",
    "        self.texto_subrayados = []\n",
    "\n",
    "    def pasar_pagina(self):\n",
    "        self.pagina += 1\n",
    "        print(f\"Página {self.pagina}\")\n",
    "\n",
    "    def subrayar_texto(self, texto):\n",
    "        self.texto_subrayados.append(texto)"
   ]
  },
  {
   "cell_type": "code",
   "execution_count": 2,
   "metadata": {},
   "outputs": [],
   "source": [
    "## Crear un objeto\n",
    "libro1 = Libro(\"El lobo estepario\", \"Herman Hesse\")"
   ]
  },
  {
   "cell_type": "code",
   "execution_count": 6,
   "metadata": {},
   "outputs": [
    {
     "name": "stdout",
     "output_type": "stream",
     "text": [
      "El lobo estepario Herman Hesse\n"
     ]
    }
   ],
   "source": [
    "## Atributos\n",
    "print(libro1.titulo, libro1.autor)"
   ]
  },
  {
   "cell_type": "code",
   "execution_count": 8,
   "metadata": {},
   "outputs": [
    {
     "name": "stdout",
     "output_type": "stream",
     "text": [
      "Página 3\n"
     ]
    }
   ],
   "source": [
    "## Métodos\n",
    "libro1.pasar_pagina()"
   ]
  },
  {
   "cell_type": "code",
   "execution_count": 9,
   "metadata": {},
   "outputs": [],
   "source": [
    "libro1.subrayar_texto(\"No tememos a la soledad, sino a lo que encontramos en ella.\")"
   ]
  },
  {
   "cell_type": "code",
   "execution_count": 10,
   "metadata": {},
   "outputs": [
    {
     "name": "stdout",
     "output_type": "stream",
     "text": [
      "['No tememos a la soledad, sino a lo que encontramos en ella.']\n"
     ]
    }
   ],
   "source": [
    "print(libro1.texto_subrayados)"
   ]
  },
  {
   "cell_type": "code",
   "execution_count": 11,
   "metadata": {},
   "outputs": [],
   "source": [
    "libro1.subrayar_texto(\"Cita 2\")"
   ]
  },
  {
   "cell_type": "code",
   "execution_count": 12,
   "metadata": {},
   "outputs": [
    {
     "name": "stdout",
     "output_type": "stream",
     "text": [
      "['No tememos a la soledad, sino a lo que encontramos en ella.', 'Cita 2']\n"
     ]
    }
   ],
   "source": [
    "print(libro1.texto_subrayados)"
   ]
  },
  {
   "cell_type": "markdown",
   "metadata": {},
   "source": [
    "### Herencia"
   ]
  },
  {
   "cell_type": "code",
   "execution_count": 13,
   "metadata": {},
   "outputs": [],
   "source": [
    "class LibroLiteratura(Libro):\n",
    "    def __init__(self, titulo, autor, año):\n",
    "        super().__init__(titulo, autor)\n",
    "        self.año = año\n",
    "        self.listado_palabras = []\n",
    "\n",
    "    def agregar_palabra(self, palabra):\n",
    "        self.listado_palabras.append(palabra)\n",
    "        print(f\"Se agregó al listado la palabra {palabra}\")"
   ]
  },
  {
   "cell_type": "code",
   "execution_count": 14,
   "metadata": {},
   "outputs": [],
   "source": [
    "libro_literatura1 = LibroLiteratura(\"El Aleph\", \"Jorge Luis Borges\", 1949)"
   ]
  },
  {
   "cell_type": "code",
   "execution_count": 15,
   "metadata": {},
   "outputs": [
    {
     "name": "stdout",
     "output_type": "stream",
     "text": [
      "Página 2\n"
     ]
    }
   ],
   "source": [
    "libro_literatura1.pasar_pagina()"
   ]
  },
  {
   "cell_type": "code",
   "execution_count": 16,
   "metadata": {},
   "outputs": [
    {
     "name": "stdout",
     "output_type": "stream",
     "text": [
      "Se agregó al listado la palabra Zahir\n"
     ]
    }
   ],
   "source": [
    "libro_literatura1.agregar_palabra(\"Zahir\")"
   ]
  },
  {
   "cell_type": "code",
   "execution_count": 17,
   "metadata": {},
   "outputs": [
    {
     "data": {
      "text/plain": [
       "['Zahir']"
      ]
     },
     "execution_count": 17,
     "metadata": {},
     "output_type": "execute_result"
    }
   ],
   "source": [
    "libro_literatura1.listado_palabras"
   ]
  },
  {
   "cell_type": "markdown",
   "metadata": {},
   "source": [
    "### Poliformismo"
   ]
  },
  {
   "cell_type": "code",
   "execution_count": 18,
   "metadata": {},
   "outputs": [],
   "source": [
    "class LibroProgramacion(Libro):\n",
    "    def __init__(self, titulo, autor, idioma):\n",
    "        super().__init__(titulo, autor)\n",
    "        self.idioma =  idioma\n",
    "        self.codigos_guardados = []\n",
    "\n",
    "    def subrayar_texto(self, codigo):\n",
    "        self.codigos_guardados.append(codigo)\n",
    "        print(f\"Se guardó el código {codigo} en la lista {self.codigos_guardados}\")"
   ]
  },
  {
   "cell_type": "code",
   "execution_count": 19,
   "metadata": {},
   "outputs": [],
   "source": [
    "libro_programacion1 = LibroProgramacion(\"Python Programming\", \"Jogn Zelle\", \"Inglés\")"
   ]
  },
  {
   "cell_type": "code",
   "execution_count": 20,
   "metadata": {},
   "outputs": [
    {
     "name": "stdout",
     "output_type": "stream",
     "text": [
      "Se guardó el código print('Hello, world!') en la lista [\"print('Hello, world!')\"]\n"
     ]
    }
   ],
   "source": [
    "libro_programacion1.subrayar_texto(\"print('Hello, world!')\")"
   ]
  },
  {
   "cell_type": "code",
   "execution_count": 21,
   "metadata": {},
   "outputs": [],
   "source": [
    "libro_literatura1.subrayar_texto(\"He cometido el peor pecado que uno puede cometer. No he sido feliz.\")"
   ]
  },
  {
   "cell_type": "markdown",
   "metadata": {},
   "source": [
    "### Encapsulamiento"
   ]
  },
  {
   "cell_type": "code",
   "execution_count": 25,
   "metadata": {},
   "outputs": [],
   "source": [
    "class Paciente:\n",
    "    def __init__(self, nombre, edad):\n",
    "        self._nombre = nombre\n",
    "        self._edad = edad\n",
    "\n",
    "    def mostrar_nombre_paciente(self):\n",
    "        print(self._nombre)"
   ]
  },
  {
   "cell_type": "code",
   "execution_count": 26,
   "metadata": {},
   "outputs": [],
   "source": [
    "Paciente1 = Paciente(\"Ana\", 6)"
   ]
  },
  {
   "cell_type": "code",
   "execution_count": 27,
   "metadata": {},
   "outputs": [
    {
     "name": "stdout",
     "output_type": "stream",
     "text": [
      "Ana\n"
     ]
    }
   ],
   "source": [
    "Paciente1.mostrar_nombre_paciente()"
   ]
  },
  {
   "cell_type": "markdown",
   "metadata": {},
   "source": [
    "# Módulos"
   ]
  },
  {
   "cell_type": "code",
   "execution_count": 28,
   "metadata": {},
   "outputs": [],
   "source": [
    "from operaciones_matematicas import sumar"
   ]
  },
  {
   "cell_type": "code",
   "execution_count": 29,
   "metadata": {},
   "outputs": [
    {
     "data": {
      "text/plain": [
       "11"
      ]
     },
     "execution_count": 29,
     "metadata": {},
     "output_type": "execute_result"
    }
   ],
   "source": [
    "sumar(5, 6)"
   ]
  },
  {
   "cell_type": "code",
   "execution_count": 30,
   "metadata": {},
   "outputs": [],
   "source": [
    "from operaciones_matematicas import *"
   ]
  },
  {
   "cell_type": "code",
   "execution_count": 31,
   "metadata": {},
   "outputs": [
    {
     "data": {
      "text/plain": [
       "6"
      ]
     },
     "execution_count": 31,
     "metadata": {},
     "output_type": "execute_result"
    }
   ],
   "source": [
    "multiplicar(3, 2)"
   ]
  },
  {
   "cell_type": "code",
   "execution_count": 32,
   "metadata": {},
   "outputs": [
    {
     "data": {
      "text/plain": [
       "15"
      ]
     },
     "execution_count": 32,
     "metadata": {},
     "output_type": "execute_result"
    }
   ],
   "source": [
    "import operaciones_matematicas as om\n",
    "om.sumar(7, 8)"
   ]
  }
 ],
 "metadata": {
  "kernelspec": {
   "display_name": "sh",
   "language": "python",
   "name": "python3"
  },
  "language_info": {
   "codemirror_mode": {
    "name": "ipython",
    "version": 3
   },
   "file_extension": ".py",
   "mimetype": "text/x-python",
   "name": "python",
   "nbconvert_exporter": "python",
   "pygments_lexer": "ipython3",
   "version": "3.9.18"
  },
  "orig_nbformat": 4
 },
 "nbformat": 4,
 "nbformat_minor": 2
}
