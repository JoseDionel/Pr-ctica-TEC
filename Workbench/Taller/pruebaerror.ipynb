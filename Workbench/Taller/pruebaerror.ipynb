{
 "cells": [
  {
   "cell_type": "code",
   "execution_count": null,
   "metadata": {},
   "outputs": [],
   "source": [
    "class Clase:\n",
    "    atributo_clase = \"Hola\"   # Accesible desde el exterior\n",
    "    __atributo_clase = \"Hola\" # No accesible\n",
    "\n",
    "    # No accesible desde el exterior usando guión bajo\n",
    "    def __mi_metodo(self):\n",
    "        print(\"Haz algo\")\n",
    "        self.__variable = 0\n",
    "\n",
    "    # Este código es accesible desde el exterior\n",
    "    def metodo_normal(self):\n",
    "        # El método si es accesible desde el interior\n",
    "        self.__mi_metodo()\n",
    "\n",
    "mi_clase = Clase()\n",
    "#mi_clase.__atributo_clase  # Error! El atributo no es accesible\n",
    "#mi_clase.__mi_metodo()     # Error! El método no es accesible\n",
    "mi_clase.atributo_clase     # Ok!\n",
    "mi_clase.metodo_normal()    # Ok!\n",
    "print (mi_clase._Clase__atributo_clase)\n",
    "# 'Hola'\n",
    "mi_clase._Clase__mi_metodo()\n",
    "# 'Haz algo'"
   ]
  },
  {
   "cell_type": "code",
   "execution_count": 6,
   "metadata": {},
   "outputs": [],
   "source": [
    "class Vehiculo:\n",
    "    def __init__(self, color, tipo, cilindrada):\n",
    "        self.color = color\n",
    "        self.tipo = tipo\n",
    "        self.cilindrada = cilindrada\n",
    "        self.velocidad = 0  # Aquí creamos el atributo velocidad, no se requieren 2\n",
    "        self.direccion = 0  # Aquí creamos el atributo velocidad\n",
    "\n",
    "    def Acelerar(self, vel):  # Recibe un parámetro velocidad\n",
    "        self.velocidad += vel # Este es método que modifica el atributo velocidad\n",
    "\n",
    "    def Frenar(self, vel):    # Recibe un parámetro velocidad, es sólo un valor\n",
    "        self.velocidad -= vel # Calcula la nueva velocidad\n",
    "    \n",
    "    def Doblar(self, grados):    # Recibe la cantidad de grados de l giro (0-360)\n",
    "        self.direccion += grados # Calcula la nueva dirección\n",
    "    \n",
    "    def Estado(self):\n",
    "        print('La velocidad actual es :', self.velocidad, '- y su rumbo es:', self.direccion, 'grados')\n",
    "\n",
    "    def Detalle(self):\n",
    "        print('Soy del tipo ', self.tipo, 'de color', self.color, 'y mi cilindrada es de', self.cilindrada, 'litros')\n",
    "\n",
    "# 3) Instanciar 3 objetos de la clase vehículo y ejecutar sus métodos, probar luego\n",
    "# el resultado\n",
    "\n",
    "a1 = Vehiculo ('rojo', 'auto', 2)\n",
    "a2 = Vehiculo ('blanco', 'camioneta', 3.6)\n",
    "a3 = Vehiculo ('negro', 'moto', 1)\n",
    "\n",
    "#a1.Acelerar(40)\n",
    "a2.Acelerar(60)\n",
    "a3.Acelerar(30)\n",
    "#a1.Doblar(30)\n",
    "a3.Doblar(30)\n",
    "a2.Frenar(50)\n",
    "a1.Doblar(100)"
   ]
  },
  {
   "cell_type": "code",
   "execution_count": 8,
   "metadata": {},
   "outputs": [
    {
     "name": "stdout",
     "output_type": "stream",
     "text": [
      "blanco 10 3.6\n",
      "Soy del tipo  auto de color rojo y mi cilindrada es de 2 litros\n",
      "La velocidad actual es : 0 - y su rumbo es: 0 grados\n"
     ]
    }
   ],
   "source": [
    "print (a2. color, a2.velocidad, a2.cilindrada)\n",
    "a1 = Vehiculo('rojo', 'auto', 2)\n",
    "a1.Detalle()\n",
    "a1.Estado()\n"
   ]
  },
  {
   "cell_type": "code",
   "execution_count": null,
   "metadata": {},
   "outputs": [],
   "source": [
    "print (a1.velocidad) # Tenía 0, le sume 40, queda en 40\n",
    "print (a2.velocidad) # Tenía 0, le sume 40, queda en 60\n",
    "print (a3.velocidad) # Tenía 0, le sume 40, queda en 30\n",
    "print (a1.direccion) # Tenía 0 grados, queda en 30\n",
    "print (a3.direccion) # Tenía 0 grados, queda en -30\n",
    "print (a2.velocidad) # Frena y DISMINUYE (resta -50), debe quedar en 10"
   ]
  },
  {
   "cell_type": "code",
   "execution_count": 21,
   "metadata": {},
   "outputs": [],
   "source": [
    "class Operacion:\n",
    "\n",
    "    def __init__(self):\n",
    "        self.valor1=int(input(\"Ingrese primer valor:\"))\n",
    "        self.valor2=int(input(\"Ingrese segundo valor:\"))\n",
    "        self.sumar()\n",
    "        self.restar()\n",
    "        self.multiplicar()\n",
    "        self.dividir()\n",
    "\n",
    "    def sumar(self):\n",
    "        suma=self.valor1+self.valor2\n",
    "        print(\"La suma es\",suma)\n",
    "\n",
    "    def restar(self):\n",
    "        resta=self.valor1-self.valor2\n",
    "        print(\"La rersta es\",resta)\n",
    "\n",
    "    def multiplicar(self):\n",
    "        multi=self.valor1*self.valor2\n",
    "        print(\"El producto es\",multi)\n",
    "\n",
    "    def dividir(self):\n",
    "        divi=self.valor1/self.valor2\n",
    "        print(\"La division es\",divi)\n",
    "\n",
    "\n",
    "# bloque principal\n",
    "\n",
    "#operacion1=Operacion5\n"
   ]
  },
  {
   "cell_type": "code",
   "execution_count": null,
   "metadata": {},
   "outputs": [],
   "source": [
    "\n",
    "for n in range(1,11): #Incluye el primero y excluye el último\n",
    "    print(n,(')'))"
   ]
  },
  {
   "cell_type": "code",
   "execution_count": null,
   "metadata": {},
   "outputs": [],
   "source": [
    "n = 1\n",
    "while (n < 11):\n",
    "    print(n)\n",
    "    n = n + 1"
   ]
  },
  {
   "cell_type": "code",
   "execution_count": 25,
   "metadata": {},
   "outputs": [
    {
     "name": "stdout",
     "output_type": "stream",
     "text": [
      "['Azul', 'Amarillo', 'Naranja', 'Violeta', 'Verde']\n"
     ]
    }
   ],
   "source": [
    "mi_lista = ['Rojo','Azul','Amarillo','Naranja','Violeta','Verde'] # Lista de 6 elementos\n",
    "\n",
    "print(mi_lista[1:]) # Imprime la lista desde la posición 1, hasta el final, \n",
    "#"
   ]
  },
  {
   "cell_type": "code",
   "execution_count": 49,
   "metadata": {},
   "outputs": [
    {
     "name": "stdout",
     "output_type": "stream",
     "text": [
      "['Rojo', 'Azul', 'Amarillo', 'Negro', 'Naranja', 'Violeta', 'Verde']\n"
     ]
    }
   ],
   "source": [
    "#mi_lista.insert(3,'Negro')\n",
    "print(mi_lista)\n",
    "#print(type(mi_lista.index('Azul')))\n",
    "#print(mi_lista[1])\n",
    "#mi_lista.insert(3,'Negro')\n",
    "\n",
    "#n = 1\n",
    "#while (n < 11):\n",
    "#    mi_lista.remove('Negro')\n",
    "#    n = n + 1\n",
    "#mi_lista.remove('Blanco')\n",
    "    \n",
    "    "
   ]
  },
  {
   "cell_type": "code",
   "execution_count": null,
   "metadata": {},
   "outputs": [],
   "source": [
    "# ultimo = mi_lista.pop()     # Remueve el último elemento de la lista,\n",
    "# print (mi_lista)            # Falta el 'Verde'\n",
    "#ultimo = mi_lista.pop()\n",
    "#print(ultimo)                 #Conserva el último elemento eliminado con POP, si ejecuto otra vez, elimina violeta."
   ]
  },
  {
   "cell_type": "code",
   "execution_count": null,
   "metadata": {},
   "outputs": [],
   "source": [
    "mi_tupla = ('Rojo','Azul','Amarillo','Naranja','Rojo','Violeta','Rojo','Verde')\n",
    "mi_tupla.count('Rojo')"
   ]
  },
  {
   "cell_type": "code",
   "execution_count": null,
   "metadata": {},
   "outputs": [],
   "source": [
    "mi_tupla='Gaspar', 5, 8, 1999\n",
    "#print (type(mi_tupla[3]))\n",
    "nombre, dia, mes, año = mi_tupla\n",
    "print (mi_tupla)"
   ]
  },
  {
   "cell_type": "code",
   "execution_count": null,
   "metadata": {},
   "outputs": [],
   "source": [
    "nombre = 'Darío'        # Inicializo var nombre con el str 'Darío'\n",
    "edad = 39               # Inicilizo var edad con el int 39\n",
    "print(nombre, edad)     # Imprimo el contenido de las variables.\n",
    "print(\"Mi nombre es\", nombre, \". Mi edad es\", edad, \"años\")\n",
    "print(\"Mi nombre es {}. Mi edad es {} años\". format(nombre, edad))"
   ]
  },
  {
   "cell_type": "code",
   "execution_count": null,
   "metadata": {},
   "outputs": [],
   "source": [
    "mi_diccionario = {  'Colores Primarios': ['Rojo','Azul','Amarillo'],        # Crear con {key:Elm, key:Elm...}\n",
    "                    'Colores secundarios': ['Naranja','Violeta','Verde'],   # Elm= Cualquier cosa, mutable\n",
    "                    'Clave3': 10,                                           # Key= Hasheable, inmutable\n",
    "                    'Clave4': False}\n",
    "#print (mi_diccionario['Colores secundarios'])   # Lo puedo acceder por sus claves o índices y retorna los VALORES\n",
    "# R=> ['Naranja', 'Violeta', 'Verde']           # Para la clave dad, retorno los elementos respectivos\n",
    "\n",
    "mi_diccionario2 = {'Clave1':'Valor1', 'Clave2':{'numeros':[1,2,3,4,5]}} # Dic key1=str y val1=str, key2=str, val2=lista\n",
    "print (mi_diccionario2.keys())  # Retorna R=> dict_keys(['Clave1', 'Clave2'])\n",
    "print(mi_diccionario2.values()) # Retorna R=> dict_values(['Valor1', {'numeros': [1, 2, 3, 4, 5]}])\n",
    "len (mi_diccionario) # Retorna el número de pares R=>2\n",
    "print(mi_diccionario2)\n",
    "print(type(mi_diccionario2.keys[1]))\n"
   ]
  },
  {
   "cell_type": "code",
   "execution_count": null,
   "metadata": {},
   "outputs": [],
   "source": [
    "edad = 60\n",
    "edad_compa = 50\n",
    "if (edad < edad_compa):\n",
    "    print(edad)\n",
    "    if (edad < 100):\n",
    "        print(edad + 100)\n",
    "    else:\n",
    "        print(edad - 100)\n",
    "else:\n",
    "    print(edad_compa)\n",
    "# 50\n"
   ]
  },
  {
   "cell_type": "code",
   "execution_count": null,
   "metadata": {},
   "outputs": [],
   "source": [
    "primeros_10 = [0,1,2,3,4,5,6,7,8,9]\n",
    "# print(primeros_10) # R=> [0, 1, 2, 3, 4, 5, 6, 7, 8, 9]\n",
    "outlist = []\n",
    "for n in primeros_10:               # For 'var' in 'lista/tupla/dict'\n",
    "    if (n%2 == 0):                  # Uso la función resto para reconocer los PARES  \n",
    "        outlist.append(n)\n",
    "        #primeros_10[n]=0\n",
    "print ('Los pares son', outlist)\n",
    "#print(\"\\va de nuevo....\\n\")\n"
   ]
  },
  {
   "cell_type": "code",
   "execution_count": null,
   "metadata": {},
   "outputs": [],
   "source": [
    "outlist = []\n",
    "for n in primeros_10:                       # For 'var' in 'lista/tupla/dict'\n",
    "    if (n%2 == 0):                          # Uso la función resto para reconocer los PARES  \n",
    "        outlist.append(n)                   # Los guardo en una lista para poder mostrarlos horizontalmente \n",
    "print ('Los pares son', outlist) "
   ]
  },
  {
   "cell_type": "code",
   "execution_count": null,
   "metadata": {},
   "outputs": [],
   "source": [
    "n = 40\n",
    "sequence = [0,1]\n",
    "for i in range(2,n):\n",
    "    sequence.append(sequence[i-1]+sequence[i-2])\n",
    "print (sequence)"
   ]
  },
  {
   "cell_type": "code",
   "execution_count": null,
   "metadata": {},
   "outputs": [],
   "source": [
    "a = [1, 2]\n",
    "b = [\"Uno\", \"Dos\"]\n",
    "c = zip(a, b)\n",
    "for numero, texto in zip(a, b):\n",
    "    print(\"Número\", numero, \"Letra\", texto)\n",
    "    print(type(numero), type(texto))"
   ]
  },
  {
   "cell_type": "code",
   "execution_count": null,
   "metadata": {},
   "outputs": [],
   "source": [
    "colores  = ['yellow', 'wine', 'blue', 'green', 'red', 'brown', 'red']\n",
    "sec_colr = ['blue', 'green', 'red']\n",
    "\n",
    "\n",
    "strColores  = str(colores).strip(\"[]\")\n",
    "strSec_colr = str(sec_colr).strip(\"[]\")\n",
    "\n",
    "if strSec_colr in strColores:\n",
    "    print(\"Si\")\n",
    "else:\n",
    "    print(\"No\")"
   ]
  },
  {
   "cell_type": "code",
   "execution_count": null,
   "metadata": {},
   "outputs": [],
   "source": [
    "hola = ' \\t\\t\\n\\tHola \\n '\n",
    "print(hola)"
   ]
  },
  {
   "cell_type": "code",
   "execution_count": null,
   "metadata": {},
   "outputs": [],
   "source": [
    "hola_limpio = hola.strip()\n",
    "print(type(hola_limpio))"
   ]
  },
  {
   "cell_type": "code",
   "execution_count": null,
   "metadata": {},
   "outputs": [],
   "source": [
    "texto = ' hola mundo hola \\ni'\n",
    "print(texto.strip(' oahl'))"
   ]
  },
  {
   "cell_type": "code",
   "execution_count": null,
   "metadata": {},
   "outputs": [],
   "source": [
    "colores  = ['yellow', 'wine', 'blue', 'green', 'red', 'brown', 'red']\n",
    "sec_colr = ['blue', 'green', 'red']\n",
    "\n",
    "strColores  = str(colores).strip(\"[]\")\n",
    "strSec_colr = str(sec_colr).strip(\"[]\")\n",
    "\n",
    "if strSec_colr in strColores:\n",
    "    print(\"Si\")\n",
    "else:\n",
    "    print(\"No\")"
   ]
  },
  {
   "cell_type": "code",
   "execution_count": null,
   "metadata": {},
   "outputs": [],
   "source": [
    "from collections import deque\n",
    "\n",
    "mi_Cola = deque([\"Pedro\", \"Juan\", \"Diego\"]) # Están Pedro, Juan y Diego en la cola\n",
    "mi_Cola.append(\"Luis\")                      # Llega Luis\n",
    "print (mi_Cola)                             # R=> (['Pedro', 'Juan', 'Diego', 'Luis'])\n",
    "mi_Cola.append(\"Jorge\")                     # Llega Jorge\n",
    "print (mi_Cola)                             # R=> (['Pedro', 'Juan', 'Diego', 'Luis', 'Jorge'])\n",
    "print(mi_Cola.popleft())                    # El primero en llegar se va => Pedro\n",
    "print(mi_Cola)                              # R=> ('Juan', 'Diego', 'Luis', 'Jorge'])\n",
    "print(mi_Cola.popleft())                    # Ahora se va el segundo en llegar R=> Juan\n",
    "print(mi_Cola)                              # R=> ('Diego', 'Luis', 'Jorge'])\n",
    "                                            # La lista restante en orden de llegada"
   ]
  },
  {
   "cell_type": "code",
   "execution_count": null,
   "metadata": {},
   "outputs": [],
   "source": [
    "from collections import deque\n",
    "\n",
    "queue = deque([\"Eric\", \"John\", \"Michael\"])\n",
    "queue.append(\"Terry\")           # Terry arrives\n",
    "print (queue)                   # (['Eric', 'John', 'Michael', 'Terry'])\n",
    "queue.append(\"Graham\")          # Graham arrives\n",
    "print (queue)                   # (['Eric', 'John', 'Michael', 'Terry', 'Graham'])\n",
    "print(queue.popleft())          # The first to arrive now leaves\n",
    "#print(queue.popleft())         # 'Eric'\n",
    "print (queue)                   # (['John', 'Michael', 'Terry', 'Graham'])\n",
    "print(queue.popleft())          # The second to arrive now leaves\n",
    "print(queue.popleft())          #'John'\n",
    "queue                           # Remaining queue in order of arrival\n",
    "deque(['Michael', 'Terry', 'Graham'])"
   ]
  },
  {
   "cell_type": "code",
   "execution_count": null,
   "metadata": {},
   "outputs": [],
   "source": [
    "n = 40\n",
    "sequence = [0,1]\n",
    "for i in range(2,n):\n",
    "    sequence.append(sequence[i-1]+sequence[i-2])\n",
    "print (sequence)"
   ]
  },
  {
   "cell_type": "code",
   "execution_count": null,
   "metadata": {},
   "outputs": [],
   "source": [
    "cuadrados1 = []\n",
    "for x in range(10):\n",
    "    cuadrados1.append(x**2) # Agrega los cuadrados en el rango 0-10, a lista cuadrados\n",
    "print (cuadrados1)          # => [0, 1, 4, 9, 16, 25, 36, 49, 64, 81] \n",
    "\n",
    "# Nótese que esto crea (o sobreescribe) una variable llamada x que sigue existiendo \n",
    "# luego de que el bucle haya terminado. sin embargo, podemos aplicar listas por \n",
    "# COMPRENSIÓN, poblando la lista de cuadrados sin efecto secundario haciendo:\n",
    "\n",
    "cuadrados2 = list(map(lambda x: x**2, range(10))) # Usamos una función lambda y map\n",
    "print (cuadrados1)\n",
    "cuadrados3 = [x**2 for x in range(10)]            # otra equivalente sería:\n",
    "print (cuadrados1)"
   ]
  },
  {
   "cell_type": "code",
   "execution_count": null,
   "metadata": {},
   "outputs": [],
   "source": [
    "\n",
    "lista_cuad = [(x, x**2) for x in range(6)]\n",
    "print ('La lista de pares (x, x^2), es  ', lista_cuad)\n",
    "#[(0, 0), (1, 1), (2, 4), (3, 9), (4, 16), (5, 25)]"
   ]
  },
  {
   "cell_type": "code",
   "execution_count": null,
   "metadata": {},
   "outputs": [],
   "source": [
    "# Ejemplo - aplanar una lista usando un listas compuestas (listcomp) con dos 'FOR'\n",
    "\n",
    "vec = [[1,2,3], [4,5,6], [7,8,9]]     # vec es un arreglo de listas\n",
    "flat_vec= [num for elem in vec for num in elem] # Nótese que en este caso no uso paréntesis, no es comparación o formula\n",
    "\n",
    "print (\"La lista 'aplanada' es \", flat_vec) # La lista esperada R=>[1, 2, 3, 4, 5, 6, 7, 8, 9]"
   ]
  },
  {
   "cell_type": "code",
   "execution_count": null,
   "metadata": {},
   "outputs": [],
   "source": [
    "from math import pi # Importamos una librería \"MATH\" que nos permite hacer cálculos científicos y usar constantes  \n",
    "pi_evol= [str(round(pi, i)) for i in range(1, 6)] # Creamos una lista con incrementales de pi\n",
    "print ('Los valores incrementales de pi, son ', pi_evol)\n",
    "# R=> Los valores incrementales de pi, son ['3.1', '3.14', '3.142', '3.1416', '3.14159']"
   ]
  },
  {
   "cell_type": "code",
   "execution_count": 149,
   "metadata": {},
   "outputs": [],
   "source": [
    "class Persona():\n",
    "\n",
    "    def __init__(self,nombre=\"\",edad=0,dni=\"\"):\n",
    "        self.nombre=nombre\n",
    "        self.edad=edad\n",
    "        self.dni=dni\n",
    "    \n",
    "    @property\n",
    "    def nombre(self):\n",
    "        return self.__nombre\n",
    "\n",
    "    @property\n",
    "    def edad(self):\n",
    "        return self.__edad\n",
    "\n",
    "    @property\n",
    "    def dni(self):\n",
    "        return self.__dni\n",
    "    \n",
    "    @nombre.setter\n",
    "    def nombre(self,nombre):\n",
    "        self.__nombre=nombre\n",
    "\n",
    "    def validar_dni(self):\n",
    "        letras = \"TRWAGMYFPDXBNJZSQVHLCKE\"\n",
    "        if len(self.__dni)!=9:\n",
    "            print(\"DNI incorrecto\")\n",
    "            self.__dni = \"\"\n",
    "        else:\n",
    "            letra = self.__dni[8]\n",
    "            num = int(self.__dni[:8])\n",
    "            if letra.upper() != letras[num % 23]:\n",
    "                print(\"DNI incorrecto\")\n",
    "                self.__dni = \"\"\n",
    "\n",
    "    @dni.setter\n",
    "    def dni(self,dni):\n",
    "        self.__dni=dni\n",
    "        self.validar_dni()\n",
    "      \n",
    "    @edad.setter\n",
    "    def edad(self,edad):\n",
    "        if edad < 0:\n",
    "            print(\"Edad incorrecta\")\n",
    "            self.__edad=0\n",
    "        else:\n",
    "            self.__edad=edad\n",
    "    \n",
    "    \n",
    "    def mostrar(self):\n",
    "        return \"Nombre:\"+self.nombre+\" - Edad:\"+str(self.edad)+\" - DNI:\"+self.dni\n",
    "\n",
    "    def esMayorDeEdad(self):\n",
    "        return self.edad>=18\n"
   ]
  },
  {
   "cell_type": "code",
   "execution_count": null,
   "metadata": {},
   "outputs": [],
   "source": [
    "def swap(a,b):\n",
    "    c=a\n",
    "    a=b\n",
    "    b=c\n",
    "    return (a,b)\n",
    "\n",
    "x = ['ab', 'cd','ef',5]\n",
    "y = 4\n",
    "print (x,y)\n",
    "x,y= swap(x,y)\n",
    "print (x,y)\n",
    "print ()\n",
    "\n",
    "# caso 2) Directo y,x = x,y, propiedades de Python\n",
    "#  \n",
    "x= 'diez'\n",
    "y= True\n",
    "print (x,y)\n",
    "x,y=y,x\n",
    "print (x,y)"
   ]
  },
  {
   "cell_type": "code",
   "execution_count": null,
   "metadata": {},
   "outputs": [],
   "source": [
    "class Complex:\n",
    "    def __init__(self, realpart, imagpart):\n",
    "        self.r = realpart\n",
    "        self.i = imagpart\n",
    "\n",
    "x = Complex(3.0, -4.5)\n",
    "x.r, x.i\n",
    "print (type (x.r))\n",
    "3.0, -4.5"
   ]
  },
  {
   "cell_type": "code",
   "execution_count": 171,
   "metadata": {},
   "outputs": [],
   "source": [
    "class Emprendedor:\n",
    "    \"\"\"En esta clase se crean emprendedores\n",
    "       Recibe: str (nombre), str (apellido), list (libros), list (mascotas) \n",
    "    \"\"\"\n",
    "    mascotas = [] # Lista que acumulará las mascotas del Emprendedor\n",
    "    libros   = [] # Lista que colectará los libros del Emprendedor\n",
    "    \n",
    "    def __init__(self, nombre, apellido, libros, mascotas):\n",
    "        self.nombre   = nombre\n",
    "        self.apellido = apellido\n",
    "        self.libros   = libros\n",
    "        self.mascotas = mascotas\n",
    "\n",
    "# b) Crear un Método que agregue una mascota (mascota) a la lista, no debe \n",
    "#    retornar nada. Mascotas es una lista\n",
    "# \n",
    "\n",
    "    def addMascotas (self, newPet):     # Si el Empredendor tiene perro y gato, agregué una tortuga\n",
    "        self.mascotas.append(newPet)    #\n",
    "\n",
    "    def getmascotas (self): #\n",
    "            pass            #\n",
    "\n",
    "    def addBook (self, book, newautor): # El método addBook, recibe un str (book) y un str (autor)\n",
    "        self.libros.append(book)        # Debe agregar un objeto DICT que recibe y guarda los parámetros\n",
    "        pass                            # dic = {nombre:book, autor:autor}   \n",
    "                                        # No retorna nada\n",
    "\n",
    "    def getCase (self): # Retorna qtty de mascotas que tiene el emprendedor\n",
    "        pass            # Ej. Si tiene 2 mascotas, debe retornar 2\n",
    "                        # Como es una lista, puedo hacer list.len(self.mascotas)\n",
    "\n",
    "    def getBooks (self):    # Debe retornar sólo los nombres de los libros\n",
    "        pass                # Debería devolver ['El Señor de las Moscas', 'Fundación']\n",
    "\n",
    "    \n"
   ]
  },
  {
   "cell_type": "code",
   "execution_count": 401,
   "metadata": {},
   "outputs": [
    {
     "name": "stdout",
     "output_type": "stream",
     "text": [
      "la lista de primos es [5, 7, 11, 13]\n"
     ]
    }
   ],
   "source": [
    "# LISTA PRIMOS\n",
    "\n",
    "def ListaPrimos(desde, hasta):\n",
    "    List_pri=[]\n",
    "    tope=hasta\n",
    "    n=desde\n",
    "    primo = True\n",
    "    if(type(n) != int):\n",
    "            return None\n",
    "    if(type(tope)!= int):\n",
    "            return None\n",
    "    while (n<=tope):\n",
    "        for div in range(2,n):\n",
    "            if(n%div==0):\n",
    "                primo=False\n",
    "        if (primo):\n",
    "            List_pri.insert(n-1,n)\n",
    "        else:\n",
    "            primo = True\n",
    "        n +=1\n",
    "    return List_pri\n",
    "\n",
    "imprime=ListaPrimos (5, 15)\n",
    "print ('la lista de primos es',imprime)\n"
   ]
  },
  {
   "cell_type": "code",
   "execution_count": 252,
   "metadata": {},
   "outputs": [
    {
     "data": {
      "text/plain": [
       "{'clave1': ['c', 'b', 'a'],\n",
       " 'clave2': ['casa', 'barco', 'auto'],\n",
       " 'clave3': [3, 2, 1]}"
      ]
     },
     "execution_count": 252,
     "metadata": {},
     "output_type": "execute_result"
    }
   ],
   "source": [
    "\n",
    "# Esta función recibe como parámetro un diccionario, cuyas listas de valores tienen el mismo\n",
    "# tamaño y sus elementos enésimos están asociados. Y otros dos parámetros que indican\n",
    "# la clave por la cual debe ordenarse y si es descendente o ascendente.\n",
    "# La función debe devolver el diccionario ordenado, teniendo en cuenta de no perder la\n",
    "# relación entre los elementos enésimos.\n",
    "# Recibe tres argumentos:\n",
    "#\n",
    "#        diccionario:    Diccionario a ordenar.\n",
    "#        clave:          Clave del diccionario recibido, por la cual ordenar.\n",
    "#        descendente:    Un valor booleano, que al ser verdadero indica ordenamiento ascendente y \n",
    "#                        descendente si es falso. \n",
    "#                        Debe tratarse de un parámetro por defecto en True.\n",
    "#    Si el parámetro diccionario no es un tipo de dato diccionario ó el parámetro clave no \n",
    "#    se encuentra dentro de las claves del diccionario, debe devolver nulo.\n",
    "#    Ej:\n",
    "#        dicc = {'clave1':['c','a','b'],\n",
    "#                'clave2':['casa','auto','barco'],\n",
    "#                'clave3':[1,2,3]}\n",
    "#\n",
    "#        OrdenarDiccionario(dicc, 'clave1')          debe retornar {'clave1':['a','b','c'],\n",
    "#                                                                'clave2':['auto','barco','casa'],\n",
    "#                                                                'clave3':[2,3,1]}\n",
    "#        OrdenarDiccionario(dicc, 'clave3', False)   debe retornar {'clave1':['b','a','c'],\n",
    "#                                                                'clave2':['barco','auto','casa'],\n",
    "#                                                                'clave3':[3,2,1]}\n",
    "#debe retornar\n",
    "\n",
    "# {'clave1':['b','a','c'], 'clave2':['barco','auto','casa'],'clave3':[3,2,1]}\n",
    "#                                                                \n",
    "dicc = {'clave1':['c','a','b'],\n",
    "        'clave2':['casa','auto','barco'],\n",
    "        'clave3':[1,2,3]}\n",
    "\n",
    "def OrdenarDiccionario(diccionario_par, clave, descendente=True):\n",
    "    listet = list(diccionario_par.keys())\n",
    "    #print = (listet)\n",
    "    for i in diccionario_par:\n",
    "        if i == clave:\n",
    "            for j in diccionario_par:\n",
    "                diccionario_par[j].sort()\n",
    "                if descendente == True:\n",
    "                    diccionario_par[j].reverse()\n",
    "    \n",
    "    return diccionario_par\n",
    "    #return(print (listet))\n",
    "\n",
    "# print (dicc)\n",
    "OrdenarDiccionario(dicc, 'clave1') \n",
    "\n",
    "#OrdenarDiccionario(dicc, 'clave3', False)\n",
    "\n",
    "\n"
   ]
  },
  {
   "cell_type": "code",
   "execution_count": null,
   "metadata": {},
   "outputs": [],
   "source": [
    "# Sin embargo, si usamos la función items del tipo DICT, podemos acceder\n",
    "# al key y al value de cada elemento.\n",
    "# Se puede facilitar para modificar valores usando, e.g casteo de dict a list y viceversa\n",
    "#esp = {'1': 'Uno', '2': 'Dos', '3': 'Tres'}\n",
    "#eng = {'1': 'One', '2': 'Two', '3': 'Three'}\n",
    "\n",
    "#for (k1, v1), (k2, v2) in zip(esp.items(), eng.items()):\n",
    "#    print(k1, v1, v2)\n",
    "# Nótese que en este caso ambas key k1 y k2 son iguales.\n",
    "# 1 Uno One\n",
    "# 2 Dos Two\n",
    "# 3 Tres Three\n",
    "dicc = {'clave1':['c','a','b'],\n",
    "        'clave2':['casa','auto','barco'],\n",
    "        'clave3':[1,2,3]}\n",
    "dicc_list = dicc.items()\n",
    "dicc_list = list (dicc_list)\n",
    "#print (dicc_items[1:3])        \n",
    "k0 = ['clave1', 'clave2', 'clave3']\n",
    "v1 = ['c', 'b', 'a']\n",
    "v2 = ['casa', 'barco', 'auto']\n",
    "v3 = [3, 2, 1]\n",
    "i=1\n",
    "#print(k0[0], v1[0], v2[0], v3[0])\n",
    "#keyword=\n",
    "#for i (k[i], v1), (k[i], v2), (k[i],v3) in dicc.items():\n",
    "for i in dicc_list:\n",
    "    print(dicc_list(i), dicc_items.values(i), dicc_items.values(i), dicc_items.values(3))\n"
   ]
  },
  {
   "cell_type": "code",
   "execution_count": null,
   "metadata": {},
   "outputs": [],
   "source": [
    "valor=777\n",
    "print (valor)\n",
    "print ()\n",
    "cadena=str(valor)\n",
    "indice=-1\n",
    "iguales=0\n",
    "for x in range(0,len(cadena)/2):\n",
    "    if cadena[x]==cadena[indice]:\n",
    "        iguales=iguales+1\n",
    "    indice=indice-1\n",
    "if iguales==(len(cadena)/2):\n",
    "    print ('Es capicua')\n",
    "else:\n",
    "    print ('No es capicua')"
   ]
  },
  {
   "cell_type": "code",
   "execution_count": null,
   "metadata": {},
   "outputs": [],
   "source": [
    "'''\n",
    "    En matemáticas, la palabra capicúa (del catalán cap i cua, 'cabeza y cola')​ \n",
    "    se refiere a cualquier número que se lee igual de izquierda a derecha que \n",
    "    de derecha a izquierda. Se denominan también números palíndromos.\n",
    "    Esta función devuelve el valor booleano True si el número es capicúa, de lo contrario\n",
    "    devuelve el valor booleano False \n",
    "    En caso de que el parámetro no sea de tipo entero, debe retornar nulo.\n",
    "    Recibe un argumento:\n",
    "        numero: Será el número sobre el que se evaluará si es capicúa o no lo es.\n",
    "    Ej:\n",
    "        NumeroCapicua(787) debe retornar True\n",
    "        NumeroCapicua(108) debe retornar False\n",
    "'''\n",
    "def NumeroCapicua(numero):\n",
    "    cadena3 = str(numero)\n",
    "    pali    = []\n",
    "    pali2   = []\n",
    "    if type(numero) == int:\n",
    "        for i in range(len(cadena3) -1, -1, -1):\n",
    "            pali.append(cadena3[i])\n",
    "        for j in range(len(pali)-1, -1, -1):\n",
    "            pali2.append(pali[j])\n",
    "        if (pali == pali2):\n",
    "            return True\n",
    "        else:\n",
    "            return False\n",
    "    else:\n",
    "        return None\n",
    "        \n",
    "    \n",
    "print (NumeroCapicua(92529))"
   ]
  },
  {
   "cell_type": "code",
   "execution_count": null,
   "metadata": {},
   "outputs": [],
   "source": [
    "#        factorizar_numero(5)\n",
    "#        valor_esperado = [[5],[1]]\n",
    "#        \n",
    "#        factorizar_numero(1428)\n",
    "#        valor_esperado = [[2,3,7,17], [2,1,1,1]]\n",
    "#        \n",
    "#        factorizar_numero('cinco')\n",
    "#        valor_esperado = None\n",
    "#        \n",
    "\n",
    "def factorizar_numero(numero):\n",
    "    '''\n",
    "        Esta función recibe como parámetro un número entero mayor a cero y devuelva dos listas, \n",
    "        una con cada factor común y otra con su exponente, \n",
    "        esas dos listas tienen que estar contenidas en otra lista.\n",
    "        En caso de que el parámetro no sea de tipo entero y/ó mayor a cero debe retornar nulo.\n",
    "        Recibe un argumento:\n",
    "            numero: Será el número sobre el que se hará la factorización.\n",
    "        Ej:\n",
    "\n",
    "            factorizar_numero(12) debe retornar [[2,3],[2,1]]\n",
    "            factorizar_numero(13) debe retornar [[13],[1]]\n",
    "            factorizar_numero(14) debe retornar [[2,7],[1,1]]\n",
    "    '''\n",
    "    lista_factores = []\n",
    "    lista_exponentes = []\n",
    "    if type(numero) == int:\n",
    "    #i=     \n",
    "    while numero%2 != 1:\n",
    "        n=(i%2)\n",
    "        if n==1:\n",
    "            lista_i.append (i)\n",
    "        elif n==0:\n",
    "            lista_p.append (i)\n",
    "    print (\"Los números impares entre 1 y 10 son \", lista_i)\n",
    "    print (\"Los números pares entre 1 y 10 son \", lista_p)\n"
   ]
  },
  {
   "cell_type": "code",
   "execution_count": null,
   "metadata": {},
   "outputs": [],
   "source": [
    "def factoriza(n):\n",
    "    l = []\n",
    "    i = 2\n",
    "    while (i * i) <= n:\n",
    "        while (n % i) == 0:\n",
    "            l.append(i)\n",
    "            n = n / i\n",
    "            i = i + 1\n",
    "    if n != 1:\n",
    "        l.append(n)\n",
    "    return l\n",
    "factoriza (10)"
   ]
  },
  {
   "cell_type": "code",
   "execution_count": 414,
   "metadata": {},
   "outputs": [
    {
     "name": "stdout",
     "output_type": "stream",
     "text": [
      "2\n"
     ]
    }
   ],
   "source": [
    "print (27%5)"
   ]
  },
  {
   "cell_type": "code",
   "execution_count": 406,
   "metadata": {},
   "outputs": [
    {
     "name": "stdout",
     "output_type": "stream",
     "text": [
      "1\n",
      "3\n",
      "17\n",
      "51\n"
     ]
    }
   ],
   "source": [
    "#def divisores ():\n",
    "num = int (input ('Escribe un entero'))\n",
    "listaFC = []\n",
    "i=1\n",
    "while i<=num:\n",
    "    if num%i==0:\n",
    "        listaFC.append(num//i)\n",
    "        listaFC.sort()\n",
    "    i+=1\n",
    "for f in listaFC:\n",
    "    print (f)\n",
    "    #, end=',')\n",
    "\n"
   ]
  },
  {
   "cell_type": "code",
   "execution_count": 376,
   "metadata": {},
   "outputs": [
    {
     "name": "stdout",
     "output_type": "stream",
     "text": [
      "La palabra ' 777 ' no es palíndroma e invertida, es []\n"
     ]
    }
   ],
   "source": [
    "num     = input ('Ingrese número _')\n",
    "cadena3 = str(num)\n",
    "cadena4 = \"reconocer\"  # R=> 'reconocer', es palíndroma\n",
    "pali    = []\n",
    "pali2   = []\n",
    "if (num!=int):\n",
    "    print (\"La palabra\",\"'\", cadena3,\"'\", \"no es palíndroma e invertida, es\", pali, end=\"\")   \n",
    "    \n",
    "elif (nun>0):\n",
    "    for i in range(len(cadena3) -1, -1, -1):\n",
    "        pali.append(cadena3[i])\n",
    "    for j in range(len(pali)-1, -1, -1):\n",
    "        pali2.append(pali[j])\n",
    "    if (pali == pali2):\n",
    "        #return True\n",
    "        print(\"es palíndromo\")\n",
    "else:\n",
    "    #return False\n",
    "    print (\"La palabra\",\"'\", cadena3,\"'\", \"no es palíndroma e invertida, es\", pali, end=\"\")\n",
    "print()"
   ]
  },
  {
   "cell_type": "code",
   "execution_count": 353,
   "metadata": {},
   "outputs": [
    {
     "data": {
      "text/plain": [
       "[('Rojo', '4859-A', 'A'), ('Gris', '1892-B', 'M'), ('Azul', '2901-Z', 'M')]"
      ]
     },
     "execution_count": 353,
     "metadata": {},
     "output_type": "execute_result"
    }
   ],
   "source": [
    "tuplas_coches = [\n",
    "    ('Rojo', '4859-A', 'A'),\n",
    "    ('Azul', '2901-Z', 'M'),\n",
    "    ('Gris', '1892-B', 'M')\n",
    "]\n",
    "ordenarpor='0'\n",
    "\n",
    "if ordenarpor == 0:\n",
    "\n",
    "sorted(tuplas_coches, key=itemgetter(2, 1))\n",
    "#[('Rojo', '4859-A', 'A'), ('Gris', '1892-B', 'M'), ('Azul', '2901-Z', 'M')]"
   ]
  },
  {
   "cell_type": "code",
   "execution_count": 335,
   "metadata": {},
   "outputs": [
    {
     "name": "stdout",
     "output_type": "stream",
     "text": [
      "['c', 'a', 'b']\n"
     ]
    }
   ],
   "source": [
    "from operator import itemgetter\n",
    "def OrdenarDiccionario(diccionario_par, clave, descendente=True):\n",
    "    dicc = {'clave1':['c','a','b'], 'clave2':['casa','auto','barco'], 'clave3':[1,2,3]}\n",
    "\n",
    "    for n in sorted(dicc), str(\"clave1\"):\n",
    "        return n\n",
    "\n",
    "def ordenardiccionario2(self):\n",
    "    dicc = ['c','a','b']\n",
    "    for x in sorted(dicc, str(\"clave1\"), True):\n",
    "            return None\n",
    "    \n",
    "def ordenardiccionario3(self):    \n",
    "    dicc = {'clave1':['c','a','b'], 'clave2':['casa','auto','barco'], 'clave3':[3,1,2]}\n",
    "    for j in sorted(dicc, str(\"clave3\"), False):\n",
    "            return j\n",
    "\n",
    "OrdenarDiccionario(dicc, 'clave3') \n",
    "print(dicc.get('clave1')) #Sara"
   ]
  },
  {
   "cell_type": "code",
   "execution_count": null,
   "metadata": {},
   "outputs": [],
   "source": [
    "dicc = {\n",
    "        'clave1':['c','a','b'],\n",
    "        'clave2':['casa','auto','barco'],\n",
    "        'clave3':[1,2,3]\n",
    "        }\n",
    "bykey=dicc.keys ()  # Guardo las llaves en una var\n",
    "keyord='clave1'     # Guardo la la clave por la que quiero ordenar\n",
    "# sorted_bykey={}\n",
    "# print (bykey)\n",
    "# sorted_bykey=sorted(bykey)\n",
    "# print (sorted_bykey)\n",
    "# sorted_bykey={}\n",
    "#for\n",
    "dic_ord_by_key = sorted(dicc, key=keyord)\n",
    "print (\"Ordenada por calificación ascendente: \")\n",
    "for algo in dic_ord_by_key:\n",
    "    print (keyword)"
   ]
  },
  {
   "cell_type": "code",
   "execution_count": 275,
   "metadata": {},
   "outputs": [
    {
     "name": "stdout",
     "output_type": "stream",
     "text": [
      "{'clave1': ['c', 'a', 'b'], 'clave2': ['casa', 'auto', 'barco'], 'clave3': [1, 2, 3]}\n"
     ]
    }
   ],
   "source": [
    "dicc = {\n",
    "        'clave1':['c','a','b'],\n",
    "        'clave2':['casa','auto','barco'],\n",
    "        'clave3':[1,2,3]\n",
    "        }\n",
    "\n",
    "#for x in dicc:\n",
    "#    print(dicc[x])\n",
    "# ['c', 'a', 'b']\n",
    "# ['casa', 'auto', 'barco']\n",
    "# [1, 2, 3]\n",
    "print(dicc)\n"
   ]
  },
  {
   "cell_type": "code",
   "execution_count": 325,
   "metadata": {},
   "outputs": [
    {
     "name": "stdout",
     "output_type": "stream",
     "text": [
      "{'clave1': ['c', 'a', 'b'], 'clave2': ['casa', 'auto', 'barco'], 'clave3': [1, 2, 3]}\n"
     ]
    }
   ],
   "source": [
    "key_list =   ['clave1', 'clave2', 'clave3']\n",
    "value_list1 = [['c', 'a', 'b'], ['casa', 'auto', 'barco'], [1, 2, 3]]\n",
    "\n",
    "# ['c', 'a', 'b']\n",
    "# ['casa', 'auto', 'barco']\n",
    "# [1, 2, 3]\n",
    "dict_from_list = dict(zip(key_list, value_list1))\n",
    "print(dict_from_list)\n",
    "# {'clave1':['b','a','c'], 'clave2':['barco','auto','casa'],'clave3':[3,2,1]}"
   ]
  },
  {
   "cell_type": "code",
   "execution_count": 330,
   "metadata": {},
   "outputs": [
    {
     "name": "stdout",
     "output_type": "stream",
     "text": [
      "{'nombre': 'Juan', 'edad': '27', 'ciudad': 'Nueva York'}\n"
     ]
    }
   ],
   "source": [
    "key_list = ['clave1', 'clave2', 'clave3']\n",
    "value_list = ['Juan', '27', 'Nueva York']\n",
    "\n",
    "dict_from_list = {k: v for k, v in zip(key_list, value_list)}\n",
    "print(dict_from_list)"
   ]
  },
  {
   "cell_type": "code",
   "execution_count": null,
   "metadata": {},
   "outputs": [],
   "source": [
    "def sum (a,b):\n",
    "    return 'Null'\n",
    "    \n",
    "sum (2,3)"
   ]
  },
  {
   "cell_type": "code",
   "execution_count": null,
   "metadata": {},
   "outputs": [],
   "source": [
    "\n",
    "dicc = {\n",
    "        'clave1':['c','a','b'],\n",
    "        'clave2':['casa','auto','barco'],\n",
    "        'clave3':[1,2,3]\n",
    "        }\n",
    "varkeys=len()\n",
    "\n",
    "if len(varkeys[list(dicc.keys()]>0) \n",
    "\tvalores=len(dicc_par[list(dicc_par.keys())[0]])\n",
    "# convertimos el diccionario de listas, a una lista de diccionarios:\t\n",
    "\tfor i in range(0, valores):\n",
    "\t\tnewObj[key] = dicc_par[key][i]\n",
    "\tnewArr.append(newObj)"
   ]
  },
  {
   "cell_type": "code",
   "execution_count": null,
   "metadata": {},
   "outputs": [],
   "source": [
    "dicc ={\n",
    "'clave1':['c', 'a', 'b'],\n",
    "'clave2':['casa', 'auto', 'barco'],\n",
    "'clave3':[3,2,1]}\n",
    "dicc_swp= {} # Recibe dic transitorios no ordenados, ver si es lista o no\n",
    "dicc_ord= {} # Recibe el nuevo dic ordenado \n",
    "listkeys   =list(dicc.keys())\n",
    "listvalues = list(dicc.values())\n",
    "print (listvalues)\n",
    "print (type(listkeys))\n",
    "print (len(listkeys)) # List horz de las keys\n",
    "print (listkeys)      # Ahora sabemos cuantos elementos tiene\n",
    "for k in listkeys:\n",
    "    print (k)\n",
    "for v in listvalues:\n",
    "    print (v)\n",
    "\n"
   ]
  },
  {
   "cell_type": "code",
   "execution_count": 324,
   "metadata": {},
   "outputs": [
    {
     "name": "stdout",
     "output_type": "stream",
     "text": [
      "Ord1= [('Gris', '1892-B', 'M'), ('Azul', '2901-Z', 'M'), ('Rojo', '4859-A', 'A')]\n",
      "Ord2= [{'color': 'Gris', 'matricula': '1892-B', 'cambio': 'M'}, {'color': 'Azul', 'matricula': '2901-Z', 'cambio': 'M'}, {'color': 'Rojo', 'matricula': '4859-A', 'cambio': 'A'}]\n"
     ]
    }
   ],
   "source": [
    "# Ordenar una lista de coches almacenados como tuplas\n",
    "tuplas_coches = [\n",
    "        ('Rojo', '4859-A', 'A'),\n",
    "        ('Azul', '2901-Z', 'M'),\n",
    "        ('Gris', '1892-B', 'M')\n",
    "    ]\n",
    "\n",
    "# Ordenar los coches por matrícula\n",
    "ordenados1 = sorted(tuplas_coches, key=lambda coche : coche[1])\n",
    "print ('Ord1=', ordenados1)\n",
    "# [('Gris', '1892-B', 'M'), ('Azul', '2901-Z', 'M'), ('Rojo', '4859-A', 'A')]\n",
    "\n",
    "# Ordenar una lista de coches almacenados como diccionarios\n",
    "diccionarios_coches = [\n",
    "        {'color': 'Rojo', 'matricula': '4859-A', 'cambio': 'A'},\n",
    "        {'color': 'Azul', 'matricula': '2901-Z', 'cambio': 'M'},\n",
    "        {'color': 'Gris', 'matricula': '1892-B', 'cambio': 'M'}\n",
    "]\n",
    "ordenados2 = sorted (diccionarios_coches, key=lambda coche : coche['matricula'])\n",
    "print ('Ord2=', ordenados2)\n",
    "# [{'color': 'Gris', 'matricula': '1892-B', 'cambio': 'M'}, \n",
    "# {'color': 'Azul', 'matricula': '2901-Z', 'cambio': 'M'}, \n",
    "# {'color': 'Rojo', 'matricula': '4859-A', 'cambio': 'A'}]"
   ]
  },
  {
   "cell_type": "code",
   "execution_count": 281,
   "metadata": {},
   "outputs": [
    {
     "name": "stdout",
     "output_type": "stream",
     "text": [
      "este es el dicc ordenado por la clave X {'clave1': ['b', 'a', 'c'], 'clave2': ['barco', 'auto', 'casa'], 'clave3': [3, 2, 1]}\n"
     ]
    }
   ],
   "source": [
    "dicc={'midic':('a',b'')}\n",
    "if type(diccionario_pa) != dict:\n",
    "    if type(get)\n",
    "        return None\n",
    "dicc2={'clave1':['b','a','c'], 'clave2':['barco','auto','casa'],'clave3':[3,2,1]}\n",
    "print ('este es el dicc ordenado por la clave X', dicc2)"
   ]
  },
  {
   "cell_type": "code",
   "execution_count": null,
   "metadata": {},
   "outputs": [],
   "source": [
    "juegos = [\n",
    "    {\n",
    "        \"nombre\": \"Resident Evil 2\",\n",
    "        \"calificacion\": 99,\n",
    "    },\n",
    "    {\n",
    "        \"nombre\": \"Crash Bandicoot N. Sane Trilogy\",\n",
    "        \"calificacion\": 76,\n",
    "    },\n",
    "\n",
    "    {\n",
    "        \"nombre\": \"Cuphead\",\n",
    "        \"calificacion\": 100,\n",
    "    },\n",
    "    {\n",
    "        \"nombre\": \"Minecraft\",\n",
    "        \"calificacion\": 80,\n",
    "    },\n",
    "    {\n",
    "        \"nombre\": \"Bioshock\",\n",
    "        \"calificacion\": 95,\n",
    "    },\n",
    "]\n",
    "def funcion_que_devuelve_clave(juego):\n",
    "    # Vamos a ordenar basándonos en su calificación, y como se nos\n",
    "    # va a pasar un diccionario, devolvemos el elemento \"calificacion\"\n",
    "    return juego[\"calificacion\"]\n",
    "\n",
    "# La ordenamos\n",
    "juegos_ordenados = sorted(juegos, key=funcion_que_devuelve_clave)\n",
    "print(\"Ordenada por calificación ascendente: \")\n",
    "for juego in juegos_ordenados:\n",
    "    print(juego)\n",
    "# También se puede en orden inverso\n",
    "juegos_ordenados = sorted(juegos, key=funcion_que_devuelve_clave, reverse=True)\n",
    "print(\"Ordenada por calificación descendente: \")\n",
    "\n",
    "for juego in juegos_ordenados:\n",
    "    print(juego)"
   ]
  },
  {
   "cell_type": "code",
   "execution_count": 250,
   "metadata": {},
   "outputs": [
    {
     "name": "stdout",
     "output_type": "stream",
     "text": [
      "nuemero e claves 6\n",
      "{'clave1': 1.97, 'clave2': 8.49, 'clave3': 9.79, 'clave4': 1.2, 'clave5': 0.43, 'clave6': ['a', 'b', 'c']}\n"
     ]
    }
   ],
   "source": [
    "clients = {'clave1': 1.97,\n",
    "           'clave2': 8.49,\n",
    "           'clave3': 9.79,\n",
    "           'clave4': 8.53,\n",
    "           'clave5': 0.43}\n",
    "\n",
    "dicc = {'clave1':['c','a','b'],\n",
    "        'clave2':['casa','auto','barco'],\n",
    "        'clave3':[1,2,3]}\n",
    "\n",
    "clients ['clave1']\n",
    "clients ['clave4'] = 1.20\n",
    "clients ['clave6'] = ['a', 'b', 'c']\n",
    "# print (clients)\n",
    "#for idx in enumerate (clients):                     # Creo una variable cualquiera\n",
    "#    print (idx[0], 'ha gastado', clients[idx[1]])   # \"algo\" para recorrer clients\n",
    "#clients_sort=sorted(clients)\n",
    "orden = len (clients.keys())\n",
    "print ('nuemero e claves', orden)\n",
    "print (clients)                       #\n",
    "                                                          \n",
    "    \n"
   ]
  },
  {
   "cell_type": "code",
   "execution_count": 232,
   "metadata": {},
   "outputs": [
    {
     "name": "stdout",
     "output_type": "stream",
     "text": [
      "{'clave1': 1.97, 'clave2': 8.49, 'clave3': 9.79, 'clave4': 8.53, 'clave5': 0.43}\n",
      "{'clave1': 1.97, 'clave2': 8.49, 'clave3': 9.79, 'clave4': 8.53, 'clave5': 0.43, 'clave6': ['a', 'b', 'c']}\n"
     ]
    }
   ],
   "source": [
    "clients = {'clave1': 1.97,\n",
    "           'clave2': 8.49,\n",
    "           'clave3': 9.79,\n",
    "           'clave4': 8.53,\n",
    "           'clave5': 0.43}\n",
    "print (clients)\n",
    "clients ['clave6']= ['a','b','c']\n",
    "print (clients)\n"
   ]
  }
 ],
 "metadata": {
  "kernelspec": {
   "display_name": "Python 3",
   "language": "python",
   "name": "python3"
  },
  "language_info": {
   "codemirror_mode": {
    "name": "ipython",
    "version": 3
   },
   "file_extension": ".py",
   "mimetype": "text/x-python",
   "name": "python",
   "nbconvert_exporter": "python",
   "pygments_lexer": "ipython3",
   "version": "3.10.6"
  },
  "orig_nbformat": 4,
  "vscode": {
   "interpreter": {
    "hash": "d3777ed8f5fe800f0d3d1926318eb186c93d9a88e13881725c87e5bdd2f1dd1d"
   }
  }
 },
 "nbformat": 4,
 "nbformat_minor": 2
}
