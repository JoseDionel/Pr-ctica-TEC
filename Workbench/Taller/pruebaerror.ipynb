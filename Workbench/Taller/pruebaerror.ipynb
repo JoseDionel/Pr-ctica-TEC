{
 "cells": [
  {
   "cell_type": "code",
   "execution_count": null,
   "metadata": {},
   "outputs": [],
   "source": [
    "class Clase:\n",
    "    atributo_clase = \"Hola\"   # Accesible desde el exterior\n",
    "    __atributo_clase = \"Hola\" # No accesible\n",
    "\n",
    "    # No accesible desde el exterior usando guión bajo\n",
    "    def __mi_metodo(self):\n",
    "        print(\"Haz algo\")\n",
    "        self.__variable = 0\n",
    "\n",
    "    # Este código es accesible desde el exterior\n",
    "    def metodo_normal(self):\n",
    "        # El método si es accesible desde el interior\n",
    "        self.__mi_metodo()\n",
    "\n",
    "mi_clase = Clase()\n",
    "#mi_clase.__atributo_clase  # Error! El atributo no es accesible\n",
    "#mi_clase.__mi_metodo()     # Error! El método no es accesible\n",
    "mi_clase.atributo_clase     # Ok!\n",
    "mi_clase.metodo_normal()    # Ok!\n",
    "print (mi_clase._Clase__atributo_clase)\n",
    "# 'Hola'\n",
    "mi_clase._Clase__mi_metodo()\n",
    "# 'Haz algo'"
   ]
  },
  {
   "cell_type": "code",
   "execution_count": 6,
   "metadata": {},
   "outputs": [],
   "source": [
    "class Vehiculo:\n",
    "    def __init__(self, color, tipo, cilindrada):\n",
    "        self.color = color\n",
    "        self.tipo = tipo\n",
    "        self.cilindrada = cilindrada\n",
    "        self.velocidad = 0  # Aquí creamos el atributo velocidad, no se requieren 2\n",
    "        self.direccion = 0  # Aquí creamos el atributo velocidad\n",
    "\n",
    "    def Acelerar(self, vel):  # Recibe un parámetro velocidad\n",
    "        self.velocidad += vel # Este es método que modifica el atributo velocidad\n",
    "\n",
    "    def Frenar(self, vel):    # Recibe un parámetro velocidad, es sólo un valor\n",
    "        self.velocidad -= vel # Calcula la nueva velocidad\n",
    "    \n",
    "    def Doblar(self, grados):    # Recibe la cantidad de grados de l giro (0-360)\n",
    "        self.direccion += grados # Calcula la nueva dirección\n",
    "    \n",
    "    def Estado(self):\n",
    "        print('La velocidad actual es :', self.velocidad, '- y su rumbo es:', self.direccion, 'grados')\n",
    "\n",
    "    def Detalle(self):\n",
    "        print('Soy del tipo ', self.tipo, 'de color', self.color, 'y mi cilindrada es de', self.cilindrada, 'litros')\n",
    "\n",
    "# 3) Instanciar 3 objetos de la clase vehículo y ejecutar sus métodos, probar luego\n",
    "# el resultado\n",
    "\n",
    "a1 = Vehiculo ('rojo', 'auto', 2)\n",
    "a2 = Vehiculo ('blanco', 'camioneta', 3.6)\n",
    "a3 = Vehiculo ('negro', 'moto', 1)\n",
    "\n",
    "#a1.Acelerar(40)\n",
    "a2.Acelerar(60)\n",
    "a3.Acelerar(30)\n",
    "#a1.Doblar(30)\n",
    "a3.Doblar(30)\n",
    "a2.Frenar(50)\n",
    "a1.Doblar(100)"
   ]
  },
  {
   "cell_type": "code",
   "execution_count": 8,
   "metadata": {},
   "outputs": [
    {
     "name": "stdout",
     "output_type": "stream",
     "text": [
      "blanco 10 3.6\n",
      "Soy del tipo  auto de color rojo y mi cilindrada es de 2 litros\n",
      "La velocidad actual es : 0 - y su rumbo es: 0 grados\n"
     ]
    }
   ],
   "source": [
    "print (a2. color, a2.velocidad, a2.cilindrada)\n",
    "a1 = Vehiculo('rojo', 'auto', 2)\n",
    "a1.Detalle()\n",
    "a1.Estado()\n"
   ]
  },
  {
   "cell_type": "code",
   "execution_count": null,
   "metadata": {},
   "outputs": [],
   "source": [
    "print (a1.velocidad) # Tenía 0, le sume 40, queda en 40\n",
    "print (a2.velocidad) # Tenía 0, le sume 40, queda en 60\n",
    "print (a3.velocidad) # Tenía 0, le sume 40, queda en 30\n",
    "print (a1.direccion) # Tenía 0 grados, queda en 30\n",
    "print (a3.direccion) # Tenía 0 grados, queda en -30\n",
    "print (a2.velocidad) # Frena y DISMINUYE (resta -50), debe quedar en 10"
   ]
  },
  {
   "cell_type": "code",
   "execution_count": 21,
   "metadata": {},
   "outputs": [],
   "source": [
    "class Operacion:\n",
    "\n",
    "    def __init__(self):\n",
    "        self.valor1=int(input(\"Ingrese primer valor:\"))\n",
    "        self.valor2=int(input(\"Ingrese segundo valor:\"))\n",
    "        self.sumar()\n",
    "        self.restar()\n",
    "        self.multiplicar()\n",
    "        self.dividir()\n",
    "\n",
    "    def sumar(self):\n",
    "        suma=self.valor1+self.valor2\n",
    "        print(\"La suma es\",suma)\n",
    "\n",
    "    def restar(self):\n",
    "        resta=self.valor1-self.valor2\n",
    "        print(\"La rersta es\",resta)\n",
    "\n",
    "    def multiplicar(self):\n",
    "        multi=self.valor1*self.valor2\n",
    "        print(\"El producto es\",multi)\n",
    "\n",
    "    def dividir(self):\n",
    "        divi=self.valor1/self.valor2\n",
    "        print(\"La division es\",divi)\n",
    "\n",
    "\n",
    "# bloque principal\n",
    "\n",
    "#operacion1=Operacion5\n"
   ]
  },
  {
   "cell_type": "code",
   "execution_count": null,
   "metadata": {},
   "outputs": [],
   "source": [
    "\n",
    "for n in range(1,11): #Incluye el primero y excluye el último\n",
    "    print(n,(')'))"
   ]
  },
  {
   "cell_type": "code",
   "execution_count": null,
   "metadata": {},
   "outputs": [],
   "source": [
    "n = 1\n",
    "while (n < 11):\n",
    "    print(n)\n",
    "    n = n + 1"
   ]
  },
  {
   "cell_type": "code",
   "execution_count": 25,
   "metadata": {},
   "outputs": [
    {
     "name": "stdout",
     "output_type": "stream",
     "text": [
      "['Azul', 'Amarillo', 'Naranja', 'Violeta', 'Verde']\n"
     ]
    }
   ],
   "source": [
    "mi_lista = ['Rojo','Azul','Amarillo','Naranja','Violeta','Verde'] # Lista de 6 elementos\n",
    "\n",
    "print(mi_lista[1:]) # Imprime la lista desde la posición 1, hasta el final, \n",
    "#"
   ]
  },
  {
   "cell_type": "code",
   "execution_count": 49,
   "metadata": {},
   "outputs": [
    {
     "name": "stdout",
     "output_type": "stream",
     "text": [
      "['Rojo', 'Azul', 'Amarillo', 'Negro', 'Naranja', 'Violeta', 'Verde']\n"
     ]
    }
   ],
   "source": [
    "#mi_lista.insert(3,'Negro')\n",
    "print(mi_lista)\n",
    "#print(type(mi_lista.index('Azul')))\n",
    "#print(mi_lista[1])\n",
    "#mi_lista.insert(3,'Negro')\n",
    "\n",
    "#n = 1\n",
    "#while (n < 11):\n",
    "#    mi_lista.remove('Negro')\n",
    "#    n = n + 1\n",
    "#mi_lista.remove('Blanco')\n",
    "    \n",
    "    "
   ]
  },
  {
   "cell_type": "code",
   "execution_count": null,
   "metadata": {},
   "outputs": [],
   "source": [
    "# ultimo = mi_lista.pop()     # Remueve el último elemento de la lista,\n",
    "# print (mi_lista)            # Falta el 'Verde'\n",
    "#ultimo = mi_lista.pop()\n",
    "#print(ultimo)                 #Conserva el último elemento eliminado con POP, si ejecuto otra vez, elimina violeta."
   ]
  },
  {
   "cell_type": "code",
   "execution_count": null,
   "metadata": {},
   "outputs": [],
   "source": [
    "mi_tupla = ('Rojo','Azul','Amarillo','Naranja','Rojo','Violeta','Rojo','Verde')\n",
    "mi_tupla.count('Rojo')"
   ]
  },
  {
   "cell_type": "code",
   "execution_count": null,
   "metadata": {},
   "outputs": [],
   "source": [
    "mi_tupla='Gaspar', 5, 8, 1999\n",
    "#print (type(mi_tupla[3]))\n",
    "nombre, dia, mes, año = mi_tupla\n",
    "print (mi_tupla)"
   ]
  },
  {
   "cell_type": "code",
   "execution_count": null,
   "metadata": {},
   "outputs": [],
   "source": [
    "nombre = 'Darío'        # Inicializo var nombre con el str 'Darío'\n",
    "edad = 39               # Inicilizo var edad con el int 39\n",
    "print(nombre, edad)     # Imprimo el contenido de las variables.\n",
    "print(\"Mi nombre es\", nombre, \". Mi edad es\", edad, \"años\")\n",
    "print(\"Mi nombre es {}. Mi edad es {} años\". format(nombre, edad))"
   ]
  },
  {
   "cell_type": "code",
   "execution_count": null,
   "metadata": {},
   "outputs": [],
   "source": [
    "mi_diccionario = {  'Colores Primarios': ['Rojo','Azul','Amarillo'],        # Crear con {key:Elm, key:Elm...}\n",
    "                    'Colores secundarios': ['Naranja','Violeta','Verde'],   # Elm= Cualquier cosa, mutable\n",
    "                    'Clave3': 10,                                           # Key= Hasheable, inmutable\n",
    "                    'Clave4': False}\n",
    "#print (mi_diccionario['Colores secundarios'])   # Lo puedo acceder por sus claves o índices y retorna los VALORES\n",
    "# R=> ['Naranja', 'Violeta', 'Verde']           # Para la clave dad, retorno los elementos respectivos\n",
    "\n",
    "mi_diccionario2 = {'Clave1':'Valor1', 'Clave2':{'numeros':[1,2,3,4,5]}} # Dic key1=str y val1=str, key2=str, val2=lista\n",
    "print (mi_diccionario2.keys())  # Retorna R=> dict_keys(['Clave1', 'Clave2'])\n",
    "print(mi_diccionario2.values()) # Retorna R=> dict_values(['Valor1', {'numeros': [1, 2, 3, 4, 5]}])\n",
    "len (mi_diccionario) # Retorna el número de pares R=>2\n",
    "print(mi_diccionario2)\n",
    "print(type(mi_diccionario2.keys[1]))\n"
   ]
  },
  {
   "cell_type": "code",
   "execution_count": null,
   "metadata": {},
   "outputs": [],
   "source": [
    "edad = 60\n",
    "edad_compa = 50\n",
    "if (edad < edad_compa):\n",
    "    print(edad)\n",
    "    if (edad < 100):\n",
    "        print(edad + 100)\n",
    "    else:\n",
    "        print(edad - 100)\n",
    "else:\n",
    "    print(edad_compa)\n",
    "# 50\n"
   ]
  },
  {
   "cell_type": "code",
   "execution_count": null,
   "metadata": {},
   "outputs": [],
   "source": [
    "primeros_10 = [0,1,2,3,4,5,6,7,8,9]\n",
    "# print(primeros_10) # R=> [0, 1, 2, 3, 4, 5, 6, 7, 8, 9]\n",
    "outlist = []\n",
    "for n in primeros_10:               # For 'var' in 'lista/tupla/dict'\n",
    "    if (n%2 == 0):                  # Uso la función resto para reconocer los PARES  \n",
    "        outlist.append(n)\n",
    "        #primeros_10[n]=0\n",
    "print ('Los pares son', outlist)\n",
    "#print(\"\\va de nuevo....\\n\")\n"
   ]
  },
  {
   "cell_type": "code",
   "execution_count": null,
   "metadata": {},
   "outputs": [],
   "source": [
    "outlist = []\n",
    "for n in primeros_10:                       # For 'var' in 'lista/tupla/dict'\n",
    "    if (n%2 == 0):                          # Uso la función resto para reconocer los PARES  \n",
    "        outlist.append(n)                   # Los guardo en una lista para poder mostrarlos horizontalmente \n",
    "print ('Los pares son', outlist) "
   ]
  },
  {
   "cell_type": "code",
   "execution_count": null,
   "metadata": {},
   "outputs": [],
   "source": [
    "n = 40\n",
    "sequence = [0,1]\n",
    "for i in range(2,n):\n",
    "    sequence.append(sequence[i-1]+sequence[i-2])\n",
    "print (sequence)"
   ]
  },
  {
   "cell_type": "code",
   "execution_count": null,
   "metadata": {},
   "outputs": [],
   "source": [
    "a = [1, 2]\n",
    "b = [\"Uno\", \"Dos\"]\n",
    "c = zip(a, b)\n",
    "for numero, texto in zip(a, b):\n",
    "    print(\"Número\", numero, \"Letra\", texto)\n",
    "    print(type(numero), type(texto))"
   ]
  },
  {
   "cell_type": "code",
   "execution_count": null,
   "metadata": {},
   "outputs": [],
   "source": [
    "colores  = ['yellow', 'wine', 'blue', 'green', 'red', 'brown', 'red']\n",
    "sec_colr = ['blue', 'green', 'red']\n",
    "\n",
    "\n",
    "strColores  = str(colores).strip(\"[]\")\n",
    "strSec_colr = str(sec_colr).strip(\"[]\")\n",
    "\n",
    "if strSec_colr in strColores:\n",
    "    print(\"Si\")\n",
    "else:\n",
    "    print(\"No\")"
   ]
  },
  {
   "cell_type": "code",
   "execution_count": null,
   "metadata": {},
   "outputs": [],
   "source": [
    "hola = ' \\t\\t\\n\\tHola \\n '\n",
    "print(hola)"
   ]
  },
  {
   "cell_type": "code",
   "execution_count": null,
   "metadata": {},
   "outputs": [],
   "source": [
    "hola_limpio = hola.strip()\n",
    "print(type(hola_limpio))"
   ]
  },
  {
   "cell_type": "code",
   "execution_count": null,
   "metadata": {},
   "outputs": [],
   "source": [
    "texto = ' hola mundo hola \\ni'\n",
    "print(texto.strip(' oahl'))"
   ]
  },
  {
   "cell_type": "code",
   "execution_count": null,
   "metadata": {},
   "outputs": [],
   "source": [
    "colores  = ['yellow', 'wine', 'blue', 'green', 'red', 'brown', 'red']\n",
    "sec_colr = ['blue', 'green', 'red']\n",
    "\n",
    "strColores  = str(colores).strip(\"[]\")\n",
    "strSec_colr = str(sec_colr).strip(\"[]\")\n",
    "\n",
    "if strSec_colr in strColores:\n",
    "    print(\"Si\")\n",
    "else:\n",
    "    print(\"No\")"
   ]
  },
  {
   "cell_type": "code",
   "execution_count": null,
   "metadata": {},
   "outputs": [],
   "source": [
    "from collections import deque\n",
    "\n",
    "mi_Cola = deque([\"Pedro\", \"Juan\", \"Diego\"]) # Están Pedro, Juan y Diego en la cola\n",
    "mi_Cola.append(\"Luis\")                      # Llega Luis\n",
    "print (mi_Cola)                             # R=> (['Pedro', 'Juan', 'Diego', 'Luis'])\n",
    "mi_Cola.append(\"Jorge\")                     # Llega Jorge\n",
    "print (mi_Cola)                             # R=> (['Pedro', 'Juan', 'Diego', 'Luis', 'Jorge'])\n",
    "print(mi_Cola.popleft())                    # El primero en llegar se va => Pedro\n",
    "print(mi_Cola)                              # R=> ('Juan', 'Diego', 'Luis', 'Jorge'])\n",
    "print(mi_Cola.popleft())                    # Ahora se va el segundo en llegar R=> Juan\n",
    "print(mi_Cola)                              # R=> ('Diego', 'Luis', 'Jorge'])\n",
    "                                            # La lista restante en orden de llegada"
   ]
  },
  {
   "cell_type": "code",
   "execution_count": null,
   "metadata": {},
   "outputs": [],
   "source": [
    "from collections import deque\n",
    "\n",
    "queue = deque([\"Eric\", \"John\", \"Michael\"])\n",
    "queue.append(\"Terry\")           # Terry arrives\n",
    "print (queue)                   # (['Eric', 'John', 'Michael', 'Terry'])\n",
    "queue.append(\"Graham\")          # Graham arrives\n",
    "print (queue)                   # (['Eric', 'John', 'Michael', 'Terry', 'Graham'])\n",
    "print(queue.popleft())          # The first to arrive now leaves\n",
    "#print(queue.popleft())         # 'Eric'\n",
    "print (queue)                   # (['John', 'Michael', 'Terry', 'Graham'])\n",
    "print(queue.popleft())          # The second to arrive now leaves\n",
    "print(queue.popleft())          #'John'\n",
    "queue                           # Remaining queue in order of arrival\n",
    "deque(['Michael', 'Terry', 'Graham'])"
   ]
  },
  {
   "cell_type": "code",
   "execution_count": null,
   "metadata": {},
   "outputs": [],
   "source": [
    "n = 40\n",
    "sequence = [0,1]\n",
    "for i in range(2,n):\n",
    "    sequence.append(sequence[i-1]+sequence[i-2])\n",
    "print (sequence)"
   ]
  },
  {
   "cell_type": "code",
   "execution_count": null,
   "metadata": {},
   "outputs": [],
   "source": [
    "cuadrados1 = []\n",
    "for x in range(10):\n",
    "    cuadrados1.append(x**2) # Agrega los cuadrados en el rango 0-10, a lista cuadrados\n",
    "print (cuadrados1)          # => [0, 1, 4, 9, 16, 25, 36, 49, 64, 81] \n",
    "\n",
    "# Nótese que esto crea (o sobreescribe) una variable llamada x que sigue existiendo \n",
    "# luego de que el bucle haya terminado. sin embargo, podemos aplicar listas por \n",
    "# COMPRENSIÓN, poblando la lista de cuadrados sin efecto secundario haciendo:\n",
    "\n",
    "cuadrados2 = list(map(lambda x: x**2, range(10))) # Usamos una función lambda y map\n",
    "print (cuadrados1)\n",
    "cuadrados3 = [x**2 for x in range(10)]            # otra equivalente sería:\n",
    "print (cuadrados1)"
   ]
  },
  {
   "cell_type": "code",
   "execution_count": null,
   "metadata": {},
   "outputs": [],
   "source": [
    "\n",
    "lista_cuad = [(x, x**2) for x in range(6)]\n",
    "print ('La lista de pares (x, x^2), es  ', lista_cuad)\n",
    "#[(0, 0), (1, 1), (2, 4), (3, 9), (4, 16), (5, 25)]"
   ]
  },
  {
   "cell_type": "code",
   "execution_count": null,
   "metadata": {},
   "outputs": [],
   "source": [
    "# Ejemplo - aplanar una lista usando un listas compuestas (listcomp) con dos 'FOR'\n",
    "\n",
    "vec = [[1,2,3], [4,5,6], [7,8,9]]     # vec es un arreglo de listas\n",
    "flat_vec= [num for elem in vec for num in elem] # Nótese que en este caso no uso paréntesis, no es comparación o formula\n",
    "\n",
    "print (\"La lista 'aplanada' es \", flat_vec) # La lista esperada R=>[1, 2, 3, 4, 5, 6, 7, 8, 9]"
   ]
  },
  {
   "cell_type": "code",
   "execution_count": 148,
   "metadata": {},
   "outputs": [
    {
     "name": "stdout",
     "output_type": "stream",
     "text": [
      "Los valores incrementales de pi, son  ['3.1', '3.14', '3.142', '3.1416', '3.14159']\n"
     ]
    }
   ],
   "source": [
    "from math import pi # Importamos una librería \"MATH\" que nos permite hacer cálculos científicos y usar constantes  \n",
    "pi_evol= [str(round(pi, i)) for i in range(1, 6)] # Creamos una lista con incrementales de pi\n",
    "print ('Los valores incrementales de pi, son ', pi_evol)\n",
    "# R=> Los valores incrementales de pi, son ['3.1', '3.14', '3.142', '3.1416', '3.14159']"
   ]
  }
 ],
 "metadata": {
  "kernelspec": {
   "display_name": "Python 3",
   "language": "python",
   "name": "python3"
  },
  "language_info": {
   "codemirror_mode": {
    "name": "ipython",
    "version": 3
   },
   "file_extension": ".py",
   "mimetype": "text/x-python",
   "name": "python",
   "nbconvert_exporter": "python",
   "pygments_lexer": "ipython3",
   "version": "3.10.6"
  },
  "orig_nbformat": 4,
  "vscode": {
   "interpreter": {
    "hash": "d3777ed8f5fe800f0d3d1926318eb186c93d9a88e13881725c87e5bdd2f1dd1d"
   }
  }
 },
 "nbformat": 4,
 "nbformat_minor": 2
}
