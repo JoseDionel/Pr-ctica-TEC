{
 "cells": [
  {
   "cell_type": "code",
   "execution_count": 1,
   "metadata": {},
   "outputs": [
    {
     "name": "stdout",
     "output_type": "stream",
     "text": [
      "[3, 6, 9]\n"
     ]
    }
   ],
   "source": [
    "# LISTA DIVISIBLES\n",
    "\n",
    "# ListaDivisibles(12, 10)\n",
    "# lista_esperada = []\n",
    "\n",
    "# ListaDivisibles(12, 100)\n",
    "# lista_esperada = [12,24,36,48,60,72,84,96]\n",
    "\n",
    "# ListaDivisibles(3, 9)\n",
    "# lista_esperada = [3,6,9]\n",
    "\n",
    "def ListaDivisibles(numero, tope):\n",
    "    '''\n",
    "    Esta función devuelve una lista ordenada de menor a mayor con los números divisibles \n",
    "    por el parámetro número entre uno (1) y el valor del parámetro \"tope\"\n",
    "    Recibe dos argumentos:\n",
    "        numero: Numero entero divisor\n",
    "        tope: Máximo valor a evaluar a partir de uno (1)\n",
    "    Ej:\n",
    "        ListaDivisibles(6,30) debe retornar [6,12,18,24,30]\n",
    "        ListaDivisibles(10,5) debe retornar []\n",
    "        ListaDivisibles(7,50) debe retornar [7,14,21,28,35,42,49]\n",
    "    '''\n",
    "    #Tu código aca:\n",
    "    lint = list(range(numero,tope+1))\n",
    "    ldiv = []\n",
    "    \n",
    "    if numero > tope:\n",
    "        print(ldiv)\n",
    "        return ldiv\n",
    "    if numero <= 0:\n",
    "        print(str(numero) + ', que corresponde a ser el divisor, NO puede ser = 0.')\n",
    "        return None\n",
    "    for i in lint:\n",
    "        if (i % numero) == 0:\n",
    "            ldiv.append(i)\n",
    "            ldiv.sort(reverse=False)\n",
    "    print(ldiv)        \n",
    "    return ldiv\n",
    "   \n",
    "lista_divisible=ListaDivisibles(3, 9)\n",
    " # 12, 10  []\n",
    " # 12. 100 [12,24,36,48,60,72,84,96]\n",
    " # 3, 9    [3,6,9]\n",
    "\n",
    "# Test OK!"
   ]
  },
  {
   "cell_type": "code",
   "execution_count": 9,
   "metadata": {},
   "outputs": [
    {
     "data": {
      "text/plain": [
       "1000"
      ]
     },
     "execution_count": 9,
     "metadata": {},
     "output_type": "execute_result"
    }
   ],
   "source": [
    "# Exponente(10, 2)\n",
    "# valor_esperado = 100\n",
    "# Exponente(49, 0.5)\n",
    "# valor_esperado = 7\n",
    "# Exponente(3, 0)\n",
    "# valor_esperado = 1\n",
    "  \n",
    "def Exponente(numero, exponente):\n",
    "    '''\n",
    "    Esta función devuelve el resultado de elevar el parámetro \"numero\" al parámetro \"exponente\"\n",
    "    Recibe dos argumentos:\n",
    "        numero: El número base en la operación exponencial\n",
    "        exponente: El número exponente en la operación exponencial\n",
    "    Ej:\n",
    "        Exponente(10,3) debe retornar 1000\n",
    "    '''\n",
    "    #Tu código aca:\n",
    "    res=numero**exponente\n",
    "    return res\n",
    "Exponente(10,3)\n",
    "\n",
    "# Test OK!"
   ]
  },
  {
   "cell_type": "code",
   "execution_count": 30,
   "metadata": {},
   "outputs": [
    {
     "data": {
      "text/plain": [
       "[1, 2, 3]"
      ]
     },
     "execution_count": 30,
     "metadata": {},
     "output_type": "execute_result"
    }
   ],
   "source": [
    "#\n",
    "def ListaDeListas(lista):\n",
    "    '''\n",
    "    Esta función recibe una lista, que puede contener elementos que a su vez sean listas y\n",
    "    devuelve esos elementos por separado en una lista única. \n",
    "    En caso de que el parámetro no sea de tipo lista, debe retornar nulo.\n",
    "    Recibe un argumento:\n",
    "        lista: La lista que puede contener otras listas y se convierte a una \n",
    "        lista de elementos únicos o no iterables.\n",
    "    Ej:\n",
    "        ListaDeListas([1,2,['a','b'],[10]]) debe retornar [1,2,'a','b',10]\n",
    "        ListaDeListas(108) debe retornar el valor nulo.\n",
    "        ListaDeListas([[1,2,[3]],[4]]) debe retornar [1,2,3,4]\n",
    "    '''\n",
    "    #Tu código aca:\n",
    "    if type(lista) != list:\n",
    "        return None\n",
    "    else:\n",
    "        guardaLdeL=[]\n",
    "        for elem in lista:\n",
    "            if isinstance(elem, list):\n",
    "                guardaLdeL.extend(ListaDeListas(elem))\n",
    "            else:\n",
    "                guardaLdeL.append(elem)\n",
    "        return guardaLdeL\n",
    "ListaDeListas ([[[1]],2,[[[[3]]]]])\n",
    "# ListaDeListas(100)\n",
    "# lista_esperada = None\n",
    "# # ListaDeListas([1,[2,3],[[4,5],6],[[7]]])\n",
    "# lista_esperada = [1,2,3,4,5,6,7]\n",
    "# # ListaDeListas(['a','b',1,2,['a1','b3'],[['a'],2]])\n",
    "# lista_esperada = ['a','b',1,2,'a1','b3','a',2]\n",
    "# # ListaDeListas([[[1]],2,[[[[3]]]]])\n",
    "# lista_esperada = [1,2,3] \n",
    "# Test OK!"
   ]
  },
  {
   "cell_type": "code",
   "execution_count": 56,
   "metadata": {},
   "outputs": [
    {
     "data": {
      "text/plain": [
       "1"
      ]
     },
     "execution_count": 56,
     "metadata": {},
     "output_type": "execute_result"
    }
   ],
   "source": [
    "def Factorial(numero):\n",
    "    '''\n",
    "    Esta función devuelve el factorial del número pasado como parámetro.\n",
    "    En caso de que no sea de tipo entero y/o sea menor que 0, debe retornar nulo.\n",
    "    Recibe un argumento:\n",
    "        numero: Será el número con el que se calcule el factorial\n",
    "    Ej:\n",
    "        Factorial(4) debe retornar 24\n",
    "        Factorial(-2) debe retornar nulo\n",
    "        Factorial(0) debe retornar 1\n",
    "    '''\n",
    "    #Tu código aca:\n",
    "    if (type(numero) != int):\n",
    "        return None\n",
    "    if (numero < 0):\n",
    "        return None\n",
    "    factorial = 1\n",
    "    for n in range(1, (numero)+1):\n",
    "        factorial = factorial * n\n",
    "    return factorial\n",
    "    \n",
    "Factorial(1)\n",
    "\n",
    "# Test 1 Factorial(5) OK\n",
    "# valor_esperado = 120\n",
    "# Test 2 Factorial(1) OK\n",
    "# valor_esperado = 1 \n",
    "# Test 3 Factorial(0) OK\n",
    "# valor_esperado = 1\n",
    "# Test 4 Factorial(9) OK\n",
    "# valor_esperado = 362880"
   ]
  },
  {
   "cell_type": "code",
   "execution_count": 60,
   "metadata": {},
   "outputs": [
    {
     "data": {
      "text/plain": [
       "120"
      ]
     },
     "execution_count": 60,
     "metadata": {},
     "output_type": "execute_result"
    }
   ],
   "source": [
    "def Factorial(numero):\n",
    "    if (type(numero) != int):\n",
    "        return None\n",
    "    if (numero < 0):\n",
    "        return None\n",
    "    f = 1\n",
    "    for n in range(1, (numero)+1):\n",
    "        f = f * n\n",
    "    return f\n",
    "\n",
    "Factorial(5)"
   ]
  },
  {
   "cell_type": "code",
   "execution_count": 29,
   "metadata": {},
   "outputs": [
    {
     "data": {
      "text/plain": [
       "[67, 71, 73]"
      ]
     },
     "execution_count": 29,
     "metadata": {},
     "output_type": "execute_result"
    }
   ],
   "source": [
    "def ListaPrimos(desde, hasta):\n",
    "    '''\n",
    "        Esta función devuelve una lista con los números primos entre los valores \"desde\" y \"hasta\"\n",
    "        pasados como parámetro, siendo ambos inclusivos.\n",
    "        En caso de que alguno de los parámetros no sea de tipo entero y/o no sea mayor a cero, debe retornar nulo.\n",
    "        En caso de que el segundo parámetro sea menor al primero, pero ambos mayores que cero,\n",
    "        debe retornar una lista vacía.\n",
    "        Recibe un argumento:\n",
    "            desde: Será el número a partir del cual se toma el rango\n",
    "            hasta: Será el número hasta el cual se tome el rango\n",
    "        Ej:\n",
    "            ListaPrimos(7,15) debe retornar [7,11,13]\n",
    "            ListaPrimos(100,99) debe retornar []\n",
    "            ListaPrimos(1,7) debe retonan [1,2,3,5,7]\n",
    "        '''\n",
    "    #Tu código aca:\n",
    "    lp=[]\n",
    "    # Ciclos 'if' Validar las variables de entrada\n",
    "    if (type(desde) != int or type(hasta) != int):\n",
    "        return None\n",
    "    if (desde < 0 or hasta < 0):\n",
    "        return None\n",
    "    if (desde > hasta):\n",
    "        return lp    \n",
    "    def calculaPrimo(num):\n",
    "        if num==2:\n",
    "            return True\n",
    "        for n in range (2,num):\n",
    "            if(num%n!=0):\n",
    "                continue\n",
    "            else:\n",
    "                return False\n",
    "        return True\n",
    "    for i in range(desde,(hasta+1)):\n",
    "        if calculaPrimo(i):\n",
    "            lp.append(i)\n",
    "    return lp\n",
    "\n",
    "ListaPrimos(66,77)\n",
    "# Test_01 ListaPrimos(1,11)\n",
    "# Lista_esperada = [1,2,3,5,7,11] OK!\n",
    "# Test_02 ListaPrimos('0',0)\n",
    "# Lista_esperada = None           OK!\n",
    "# Test_03 ListaPrimos(66,77)\n",
    "# Lista_esperada = [67, 71, 73]   OK!\n",
    "# Test__04 ListaPrimos(0,'66')\n",
    "# Lista_esperada = None\n"
   ]
  },
  {
   "cell_type": "code",
   "execution_count": 40,
   "metadata": {},
   "outputs": [
    {
     "data": {
      "text/plain": [
       "[(1, 1), (2, 2), (4, 1)]"
      ]
     },
     "execution_count": 40,
     "metadata": {},
     "output_type": "execute_result"
    }
   ],
   "source": [
    "def ListaRepetidos(lista):\n",
    "    '''\n",
    "    Esta función recibe como parámetro una lista y devuelve una lista de tuplas donde cada \n",
    "    tupla contiene un valor de la lista original y las veces que se repite. Los valores \n",
    "    de la lista original no deben estar repetidos. \n",
    "    Debe respetarse el orden original en el que aparecen los elementos.\n",
    "    En caso de que el parámetro no sea de tipo lista debe retornar nulo.\n",
    "    Recibe un argumento:\n",
    "        lista: Será la lista que se va a evaluar.\n",
    "    Ej:\n",
    "        ListaRepetidos([]) debe retornar []\n",
    "        ListaRepetidos(['hola', 'mundo', 'hola', 13, 14]) \n",
    "            debe retornar [('hola',2),('mundo',1),(13,1),(14,1)]\n",
    "        ListaRepetidos([1,2,2,4]) debe retornar [(1,1),(2,1),(4,1)]\n",
    "    '''\n",
    "    #Tu código aca:\n",
    "    swap=[]\n",
    "    if type(lista) != list:\n",
    "        return None\n",
    "    while len(lista)>0:\n",
    "        eleTup=lista[0]\n",
    "        contador=lista.count(lista[0])\n",
    "        swap.append((eleTup,contador))\n",
    "        for i in range(lista.count(lista[0])):\n",
    "            lista.remove(eleTup)\n",
    "            continue\n",
    "    return swap\n",
    "\n",
    "ListaRepetidos([1,2,2,4])\n",
    "# Test_01 ListaRepetidos (['hola', 'mundo', 'hola'])\n",
    "# Lista_esperada = [('hola',2),('mundo',1)]\n",
    "# Test_02 ListaRepetidos ([10,11,11,12,15,17,20,20])\n",
    "# Lista_esperada = [(10,1),(11,2),(12,1),(15,1),(17,1),(20,2)]\n",
    "# Test_03 ListaRepetidos ((1,2,3,3))\n",
    "# Lista_esperada = None"
   ]
  },
  {
   "cell_type": "code",
   "execution_count": 71,
   "metadata": {},
   "outputs": [
    {
     "data": {
      "text/plain": [
       "15"
      ]
     },
     "execution_count": 71,
     "metadata": {},
     "output_type": "execute_result"
    }
   ],
   "source": [
    "def ClaseVehiculo(tipo, color):\n",
    "    '''\n",
    "    Esta función devuelve un objeto instanciado de la clase Vehiculo, \n",
    "    la cual debe tener los siguientes atributos:\n",
    "        Tipo:       Un valor dentro de los valores posibles: ['auto','camioneta','moto']\n",
    "        Color:      Un valor de tipo de dato string.\n",
    "        Velocidad:  Un valor de tipo de dato float, que debe inicializarse en cero.\n",
    "    y debe tener el siguiente método:\n",
    "        Acelerar(): Este método recibe un parámetro con el valor que debe incrementar a la\n",
    "                    propiedad Velocidad y luego retornarla.\n",
    "                    Si la propiedad Velocidad cobra un valor menor a cero, debe quedar en cero.\n",
    "                    Si la propiedad Velocidad cobra un valor mayor a cien, debe quedar en cien.\n",
    "    Recibe dos argumento:\n",
    "        tipo: Dato que se asignará al atributo Tipo del objeto de la clase Vehiculo\n",
    "        color: Dato que se asignará al atributo Color del objeto de la clase Vehiculo\n",
    "    Ej:\n",
    "        a = ClaseVehículo('auto','gris')\n",
    "        a.Acelerar(10) -> debe devolver 10\n",
    "        a.Acelerar(15) -> debe devolver 25\n",
    "        a.Acelerar(-10) -> debe devolver 15\n",
    "    '''\n",
    "    #Tu código aca:\n",
    "    class Vehiculo:\n",
    "        def __init__(self, tipo, color):\n",
    "            if (tipo=='auto' or tipo =='camioneta' or tipo=='moto'):\n",
    "                self.Tipo = tipo\n",
    "            else:\n",
    "                raise TypeError ('el tipo de vehículo tiene que ser auto, camioneta o moto')\n",
    "            self.Color = color\n",
    "            self.Velocidad = 0\n",
    "\n",
    "        def Acelerar(self, acel):\n",
    "            self.Velocidad += acel\n",
    "            if self.Velocidad < 0:\n",
    "                self.Velocidad=0\n",
    "            if self.Velocidad>100:\n",
    "                self.Velocidad=100\n",
    "            return self.Velocidad\n",
    "    \n",
    "    a = Vehiculo(tipo, color)    \n",
    "    return a\n",
    "\n",
    "# Test_01 ClaseVehiculo('auto','verde')\n",
    "#      valor_test = a.Acelerar(10)\n",
    "#      valor_test = a.Acelerar(100)\n",
    "#      valor_test = a.Acelerar(-20)\n",
    "#      valor_esperado = 80\n",
    "#      self.assertEqual(valor_test, valor_esperado)\n",
    "# Test_02 ClaseVehiculo('camioneta','azul')\n",
    "# valor_test = a.Acelerar(20)\n",
    "# valor_test = a.Acelerar(-30)\n",
    "# valor_esperado = 0\n",
    "# Test_03 ClaseVehiculo('moto','negra')\n",
    "# valor_test = a.Acelerar(10)\n",
    "# valor_test = a.Acelerar(100)\n",
    "# valor_esperado = 100\n",
    "\n",
    "a= ClaseVehiculo ('auto','verde')\n",
    "\n",
    "a.Acelerar(10) #debe devolver 10\n",
    "a.Acelerar(15) #debe devolver 25\n",
    "a.Acelerar(-10) "
   ]
  },
  {
   "cell_type": "code",
   "execution_count": null,
   "metadata": {},
   "outputs": [],
   "source": [
    "dicc = {\n",
    "        'clave1':['c','a','b'],\n",
    "        'clave2':['casa','auto','barco'],\n",
    "        'clave3':[1,2,3]\n",
    "        }\n",
    "def OrdenarDiccionario(diccionario_par, clave, descendente=True):\n",
    "    '''\n",
    "    Esta función recibe como parámetro un diccionario, cuyas listas de valores tienen el mismo\n",
    "    tamaño y sus elementos enésimos están asociados. Y otros dos parámetros que indican\n",
    "    la clave por la cual debe ordenarse y si es descendente o ascendente.\n",
    "    La función debe devolver el diccionario ordenado, teniendo en cuenta de no perder la\n",
    "    relación entre los elementos enésimos.\n",
    "    Recibe tres argumentos:\n",
    "        diccionario:    Diccionario a ordenar.\n",
    "        clave:          Clave del diccionario recibido, por la cual ordenar.\n",
    "        descendente:    Un valor booleano, que al ser verdadero indica ordenamiento ascendente y \n",
    "                        descendente si es falso. \n",
    "                        Debe tratarse de un parámetro por defecto en True.\n",
    "    Si el parámetro diccionario no es un tipo de dato diccionario ó el parámetro clave no \n",
    "    se encuentra dentro de las claves del diccionario, debe devolver nulo.\n",
    "    Ej:\n",
    "        dicc = {'clave1':['c','a','b'],\n",
    "                'clave2':['casa','auto','barco'],\n",
    "                'clave3':[1,2,3]}\n",
    "        OrdenarDiccionario(dicc, 'clave1')          debe retornar {'clave1':['a','b','c'],\n",
    "                                                                'clave2':['auto','barco','casa'],\n",
    "                                                                'clave3':[2,3,1]}\n",
    "        OrdenarDiccionario(dicc, 'clave3', False)   debe retornar {'clave1':['b','a','c'],\n",
    "                                                                'clave2':['barco','auto','casa'],\n",
    "                                                                'clave3':[3,2,1]}\n",
    "    '''\n",
    "    #Tu código aca:\n",
    "    # Variables a usar, incluye nuevas listas auxiliares para hacer los arreglos de swap, sin perder la hilación.\n",
    "    cantidadValores=0 # Recibe valores del diccionario en el proceso de pasarlo a Lista de diccs\n",
    "    numKeys=0         # Recibe n elementos del tipo llave que tiene el diccionario DICC, para ejecutar los ciclos. \n",
    "    newArr=[] \t\t  # Va a recibir mi lista de diccionarios originales convertidos a listas\n",
    "    newArrSorted=[]   # Va a recibir los diccionarios ordenados por la clave ingresada\n",
    "    res =[]\n",
    "    if not (type(diccionario_par) is dict): # diccionario_par= Parámetro que recibe un DICT\n",
    "\t    return 'Null'                       # Si el parámetro, no es de tipo diccionario, retorna 'null'\n",
    "    if not (clave in diccionario_par.keys()):      # Si la clave recibiba como parámetro no existe, retorna null\n",
    "\t    return 'Null'                       # descendente=True ==> Orden ASCENDENTE, es al revés, FALSE==> DESCENDENTE    \n",
    "    \n",
    "    # Este es un problema de Un diccionario de listas que debe ser transformado en una lista de diccionarios para poder\n",
    "    # ser maniplado con los métodos de 'list'. Al final, se debe convertir a DICT nuevamente.\n",
    "    # Convertimos el dicc de list a list de dict\n",
    "\n",
    "    #print (len(diccionario_par[list(diccionario_par.keys())[0]]))\n",
    "    # chequeamos qué valor estamos reciendo\n",
    "    print()\n",
    "    if len(diccionario_par[list(diccionario_par.keys())[0]])>0: \n",
    "        cantidadValores=len(diccionario_par[list(diccionario_par.keys())[0]])\n",
    "        # convertimos el diccionario de listas, a una lista de diccionarios:\t\n",
    "        for i in range(0, cantidadValores):\n",
    "            newObj={}\n",
    "            for key in diccionario_par:\n",
    "                newObj[key]=diccionario_par[key][i]\n",
    "            newArr.append(newObj)\n",
    "    #print(newArr) Aquí se generó una lista de diccionarios\n",
    "    # Ahora ordenemos\n",
    "    newArrSorted = sorted(newArr, key=lambda d: d[clave], reverse=not (descendente))\n",
    "    print (newArrSorted) #verificar contenido del nuevo arreglo\n",
    "    # Convertimos la lista de diccionarios, en un diccionario de listas:\n",
    "    for key in diccionario_par:\n",
    "        newArr2 = []\n",
    "        for i in range(0, cantidadValores):\n",
    "            newArr2.append(newArrSorted[i][key])\n",
    "        res[key] = newArr2\n",
    "            #Si no tienen valores devolvemos el mismo diccionario:\n",
    "    else:\n",
    "        return diccionario_par\n",
    "    return res\n",
    "\n",
    "OrdenarDiccionario(dicc, 'clave1') "
   ]
  }
 ],
 "metadata": {
  "kernelspec": {
   "display_name": "Python 3",
   "language": "python",
   "name": "python3"
  },
  "language_info": {
   "codemirror_mode": {
    "name": "ipython",
    "version": 3
   },
   "file_extension": ".py",
   "mimetype": "text/x-python",
   "name": "python",
   "nbconvert_exporter": "python",
   "pygments_lexer": "ipython3",
   "version": "3.10.6"
  },
  "orig_nbformat": 4,
  "vscode": {
   "interpreter": {
    "hash": "d3777ed8f5fe800f0d3d1926318eb186c93d9a88e13881725c87e5bdd2f1dd1d"
   }
  }
 },
 "nbformat": 4,
 "nbformat_minor": 2
}
