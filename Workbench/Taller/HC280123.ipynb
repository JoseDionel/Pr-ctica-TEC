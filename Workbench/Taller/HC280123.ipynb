{
 "cells": [
  {
   "cell_type": "code",
   "execution_count": 1,
   "metadata": {},
   "outputs": [
    {
     "name": "stdout",
     "output_type": "stream",
     "text": [
      "[3, 6, 9]\n"
     ]
    }
   ],
   "source": [
    "# LISTA DIVISIBLES\n",
    "\n",
    "# ListaDivisibles(12, 10)\n",
    "# lista_esperada = []\n",
    "\n",
    "# ListaDivisibles(12, 100)\n",
    "# lista_esperada = [12,24,36,48,60,72,84,96]\n",
    "\n",
    "# ListaDivisibles(3, 9)\n",
    "# lista_esperada = [3,6,9]\n",
    "\n",
    "def ListaDivisibles(numero, tope):\n",
    "    '''\n",
    "    Esta función devuelve una lista ordenada de menor a mayor con los números divisibles \n",
    "    por el parámetro número entre uno (1) y el valor del parámetro \"tope\"\n",
    "    Recibe dos argumentos:\n",
    "        numero: Numero entero divisor\n",
    "        tope: Máximo valor a evaluar a partir de uno (1)\n",
    "    Ej:\n",
    "        ListaDivisibles(6,30) debe retornar [6,12,18,24,30]\n",
    "        ListaDivisibles(10,5) debe retornar []\n",
    "        ListaDivisibles(7,50) debe retornar [7,14,21,28,35,42,49]\n",
    "    '''\n",
    "    #Tu código aca:\n",
    "    lint = list(range(numero,tope+1))\n",
    "    ldiv = []\n",
    "    \n",
    "    if numero > tope:\n",
    "        print(ldiv)\n",
    "        return ldiv\n",
    "    if numero <= 0:\n",
    "        print(str(numero) + ', que corresponde a ser el divisor, NO puede ser = 0.')\n",
    "        return None\n",
    "    for i in lint:\n",
    "        if (i % numero) == 0:\n",
    "            ldiv.append(i)\n",
    "            ldiv.sort(reverse=False)\n",
    "    print(ldiv)        \n",
    "    return ldiv\n",
    "   \n",
    "lista_divisible=ListaDivisibles(3, 9)\n",
    " # 12, 10  []\n",
    " # 12. 100 [12,24,36,48,60,72,84,96]\n",
    " # 3, 9    [3,6,9]\n",
    "\n",
    "# Test OK!"
   ]
  },
  {
   "cell_type": "code",
   "execution_count": 9,
   "metadata": {},
   "outputs": [
    {
     "data": {
      "text/plain": [
       "1000"
      ]
     },
     "execution_count": 9,
     "metadata": {},
     "output_type": "execute_result"
    }
   ],
   "source": [
    "# Exponente(10, 2)\n",
    "# valor_esperado = 100\n",
    "# Exponente(49, 0.5)\n",
    "# valor_esperado = 7\n",
    "# Exponente(3, 0)\n",
    "# valor_esperado = 1\n",
    "  \n",
    "def Exponente(numero, exponente):\n",
    "    '''\n",
    "    Esta función devuelve el resultado de elevar el parámetro \"numero\" al parámetro \"exponente\"\n",
    "    Recibe dos argumentos:\n",
    "        numero: El número base en la operación exponencial\n",
    "        exponente: El número exponente en la operación exponencial\n",
    "    Ej:\n",
    "        Exponente(10,3) debe retornar 1000\n",
    "    '''\n",
    "    #Tu código aca:\n",
    "    res=numero**exponente\n",
    "    return res\n",
    "Exponente(10,3)\n",
    "\n",
    "# Test OK!"
   ]
  },
  {
   "cell_type": "code",
   "execution_count": 15,
   "metadata": {},
   "outputs": [
    {
     "data": {
      "text/plain": [
       "[1, 2, 3]"
      ]
     },
     "execution_count": 15,
     "metadata": {},
     "output_type": "execute_result"
    }
   ],
   "source": [
    "#\n",
    "def ListaDeListas(lista):\n",
    "    '''\n",
    "    Esta función recibe una lista, que puede contener elementos que a su vez sean listas y\n",
    "    devuelve esos elementos por separado en una lista única. \n",
    "    En caso de que el parámetro no sea de tipo lista, debe retornar nulo.\n",
    "    Recibe un argumento:\n",
    "        lista: La lista que puede contener otras listas y se convierte a una \n",
    "        lista de elementos únicos o no iterables.\n",
    "    Ej:\n",
    "        ListaDeListas([1,2,['a','b'],[10]]) debe retornar [1,2,'a','b',10]\n",
    "        ListaDeListas(108) debe retornar el valor nulo.\n",
    "        ListaDeListas([[1,2,[3]],[4]]) debe retornar [1,2,3,4]\n",
    "    '''\n",
    "    #Tu código aca:\n",
    "    if type(lista) != list:\n",
    "        return None\n",
    "    else:\n",
    "        lista_final=[]\n",
    "        for elem in lista:\n",
    "            if isinstance(elem, list):\n",
    "                lista_final.extend(ListaDeListas(elem))\n",
    "            else:\n",
    "                lista_final.append(elem)\n",
    "        return lista_final\n",
    "ListaDeListas ([[[1]],2,[[[[3]]]]])\n",
    "# ListaDeListas(100)\n",
    "# lista_esperada = None\n",
    "# # ListaDeListas([1,[2,3],[[4,5],6],[[7]]])\n",
    "# lista_esperada = [1,2,3,4,5,6,7]\n",
    "# # ListaDeListas(['a','b',1,2,['a1','b3'],[['a'],2]])\n",
    "# lista_esperada = ['a','b',1,2,'a1','b3','a',2]\n",
    "# # ListaDeListas([[[1]],2,[[[[3]]]]])\n",
    "# lista_esperada = [1,2,3] \n",
    "# Test OK!"
   ]
  },
  {
   "cell_type": "code",
   "execution_count": 22,
   "metadata": {},
   "outputs": [
    {
     "data": {
      "text/plain": [
       "362880"
      ]
     },
     "execution_count": 22,
     "metadata": {},
     "output_type": "execute_result"
    }
   ],
   "source": [
    "def Factorial(numero):\n",
    "    '''\n",
    "    Esta función devuelve el factorial del número pasado como parámetro.\n",
    "    En caso de que no sea de tipo entero y/o sea menor que 0, debe retornar nulo.\n",
    "    Recibe un argumento:\n",
    "        numero: Será el número con el que se calcule el factorial\n",
    "    Ej:\n",
    "        Factorial(4) debe retornar 24\n",
    "        Factorial(-2) debe retornar nulo\n",
    "        Factorial(0) debe retornar 1\n",
    "    '''\n",
    "    #Tu código aca:\n",
    "    if (numero <1):\n",
    "        return None\n",
    "    if numero==0 or numero==1:\n",
    "        resultado=1\n",
    "    elif numero>1:\n",
    "        resultado=numero*Factorial(numero-1)\n",
    "    return resultado\n",
    "\n",
    "Factorial(9)\n",
    "# Test 1 Factorial(5) OK\n",
    "# valor_esperado = 120\n",
    "# Test 2 Factorial(1) OK\n",
    "# valor_esperado = 1 \n",
    "# Test 3 Factorial(0) OK\n",
    "# valor_esperado = 1\n",
    "# Test 4 Factorial(9) OK\n",
    "# valor_esperado = 362880"
   ]
  },
  {
   "cell_type": "code",
   "execution_count": 29,
   "metadata": {},
   "outputs": [
    {
     "data": {
      "text/plain": [
       "[67, 71, 73]"
      ]
     },
     "execution_count": 29,
     "metadata": {},
     "output_type": "execute_result"
    }
   ],
   "source": [
    "def ListaPrimos(desde, hasta):\n",
    "    '''\n",
    "        Esta función devuelve una lista con los números primos entre los valores \"desde\" y \"hasta\"\n",
    "        pasados como parámetro, siendo ambos inclusivos.\n",
    "        En caso de que alguno de los parámetros no sea de tipo entero y/o no sea mayor a cero, debe retornar nulo.\n",
    "        En caso de que el segundo parámetro sea menor al primero, pero ambos mayores que cero,\n",
    "        debe retornar una lista vacía.\n",
    "        Recibe un argumento:\n",
    "            desde: Será el número a partir del cual se toma el rango\n",
    "            hasta: Será el número hasta el cual se tome el rango\n",
    "        Ej:\n",
    "            ListaPrimos(7,15) debe retornar [7,11,13]\n",
    "            ListaPrimos(100,99) debe retornar []\n",
    "            ListaPrimos(1,7) debe retonan [1,2,3,5,7]\n",
    "        '''\n",
    "    #Tu código aca:\n",
    "    lp=[]\n",
    "    # Ciclos 'if' Validar las variables de entrada\n",
    "    if (type(desde) != int or type(hasta) != int):\n",
    "        return None\n",
    "    if (desde < 0 or hasta < 0):\n",
    "        return None\n",
    "    if (desde > hasta):\n",
    "        return lp    \n",
    "    def calculaPrimo(num):\n",
    "        if num==2:\n",
    "            return True\n",
    "        for n in range (2,num):\n",
    "            if(num%n!=0):\n",
    "                continue\n",
    "            else:\n",
    "                return False\n",
    "        return True\n",
    "    for i in range(desde,(hasta+1)):\n",
    "        if calculaPrimo(i):\n",
    "            lp.append(i)\n",
    "    return lp\n",
    "\n",
    "ListaPrimos(66,77)\n",
    "# Test_01 ListaPrimos(1,11)\n",
    "# Lista_esperada = [1,2,3,5,7,11] OK!\n",
    "# Test_02 ListaPrimos('0',0)\n",
    "# Lista_esperada = None           OK!\n",
    "# Test_03 ListaPrimos(66,77)\n",
    "# Lista_esperada = [67, 71, 73]   OK!\n",
    "# Test__04 ListaPrimos(0,'66')\n",
    "# Lista_esperada = None\n"
   ]
  }
 ],
 "metadata": {
  "kernelspec": {
   "display_name": "Python 3",
   "language": "python",
   "name": "python3"
  },
  "language_info": {
   "codemirror_mode": {
    "name": "ipython",
    "version": 3
   },
   "file_extension": ".py",
   "mimetype": "text/x-python",
   "name": "python",
   "nbconvert_exporter": "python",
   "pygments_lexer": "ipython3",
   "version": "3.10.6"
  },
  "orig_nbformat": 4,
  "vscode": {
   "interpreter": {
    "hash": "d3777ed8f5fe800f0d3d1926318eb186c93d9a88e13881725c87e5bdd2f1dd1d"
   }
  }
 },
 "nbformat": 4,
 "nbformat_minor": 2
}
